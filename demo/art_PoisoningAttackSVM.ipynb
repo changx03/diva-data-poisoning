{
 "cells": [
  {
   "cell_type": "code",
   "execution_count": 1,
   "metadata": {},
   "outputs": [],
   "source": [
    "import os\n",
    "import time\n",
    "from pathlib import Path\n",
    "\n",
    "import art.attacks.poisoning as poison\n",
    "from art.estimators.classification import PyTorchClassifier, SklearnClassifier\n",
    "import numpy as np\n",
    "import pandas as pd\n",
    "from sklearn.metrics import accuracy_score\n",
    "from sklearn.preprocessing import OneHotEncoder, StandardScaler\n",
    "from sklearn.svm import SVC\n",
    "from tqdm import tqdm\n",
    "\n",
    "from label_flip_revised.utils import (flip_binary_label, open_csv, open_json,\n",
    "                                      time2str)\n"
   ]
  },
  {
   "cell_type": "code",
   "execution_count": 2,
   "metadata": {},
   "outputs": [
    {
     "name": "stdout",
     "output_type": "stream",
     "text": [
      "/home/xcha011/workspace/label_flip_revised\n"
     ]
    }
   ],
   "source": [
    "PATH_ROOT = Path(os.getcwd()).absolute().parent\n",
    "print(PATH_ROOT)"
   ]
  },
  {
   "cell_type": "code",
   "execution_count": 3,
   "metadata": {},
   "outputs": [
    {
     "name": "stdout",
     "output_type": "stream",
     "text": [
      "(1097, 4) (1097,)\n",
      "(275, 4) (275,)\n"
     ]
    }
   ],
   "source": [
    "# Load data\n",
    "# Use \"Banknote\" dataset\n",
    "path_train = os.path.join(PATH_ROOT, 'data', 'output', 'train', 'banknote_std_clean_train.csv')\n",
    "X_train, y_train, _ = open_csv(path_train)\n",
    "print(X_train.shape, y_train.shape)\n",
    "\n",
    "path_test = os.path.join(PATH_ROOT, 'data', 'output', 'test', 'banknote_std_clean_test.csv')\n",
    "X_test, y_test, _ = open_csv(path_test)\n",
    "print(X_test.shape, y_test.shape)\n",
    "\n",
    "scaler = StandardScaler()\n",
    "X_train = scaler.fit_transform(X_train)\n",
    "X_test = scaler.transform(X_test)"
   ]
  },
  {
   "cell_type": "code",
   "execution_count": 4,
   "metadata": {},
   "outputs": [
    {
     "name": "stdout",
     "output_type": "stream",
     "text": [
      "{'C': 656.8890043866899, 'gamma': 0.012976745522971619, 'kernel': 'rbf'}\n",
      "Accuracy on train: 100.00 test: 100.00\n"
     ]
    }
   ],
   "source": [
    "# Load SVM model\n",
    "path_svm_param = os.path.join(PATH_ROOT, 'data', 'output', 'alfa', 'banknote_std_svm.json')\n",
    "svm_param = open_json(path_svm_param)\n",
    "print(svm_param)\n",
    "\n",
    "svm = SVC(**svm_param)\n",
    "svm.fit(X_train, y_train)\n",
    "acc_train = svm.score(X_train, y_train)\n",
    "acc_test = svm.score(X_test, y_test)\n",
    "print('Accuracy on train: {:.2f} test: {:.2f}'.format(acc_train*100, acc_test*100))"
   ]
  },
  {
   "cell_type": "code",
   "execution_count": 5,
   "metadata": {},
   "outputs": [],
   "source": [
    "# # Load Neural Network model\n",
    "# import torch\n",
    "# import torch.nn as nn\n",
    "# from torch.utils.data import DataLoader, TensorDataset\n",
    "# from label_flip_revised.simple_nn_model import SimpleModel\n",
    "# from label_flip_revised.torch_utils import evaluate, train_model\n",
    "\n",
    "# BATCH_SIZE = 128  # Size of mini-batch.\n",
    "# HIDDEN_LAYER = 128  # Number of hidden neurons in a hidden layer.\n",
    "# LR = 0.001  # Learning rate.\n",
    "# MAX_EPOCHS = 400  # Number of iteration for training.\n",
    "\n",
    "# if torch.cuda.is_available():\n",
    "#     device = torch.device('cuda')\n",
    "# else:\n",
    "#     device = torch.device('cpu')\n",
    "#     print('Running on CPU!')\n",
    "\n",
    "# n_features = X_train.shape[1]\n",
    "# dataset_train = TensorDataset(torch.from_numpy(X_train).type(torch.float32), torch.from_numpy(y_train).type(torch.int64))\n",
    "# dataloader_train = DataLoader(dataset_train, batch_size=BATCH_SIZE, shuffle=True)\n",
    "# dataset_test = TensorDataset(torch.from_numpy(X_test).type(torch.float32), torch.from_numpy(y_test).type(torch.int64))\n",
    "# dataloader_test = DataLoader(dataset_test, batch_size=BATCH_SIZE, shuffle=False)\n",
    "\n",
    "# net = SimpleModel(n_features, hidden_dim=HIDDEN_LAYER, output_dim=2)\n",
    "# net = net.to(device)\n",
    "# optimizer = torch.optim.SGD(net.parameters(), lr=LR, momentum=0.8)\n",
    "# loss_fn = nn.CrossEntropyLoss()\n",
    "# path_model = os.path.join(PATH_ROOT, 'results', 'real', 'torch', 'banknote_std_SimpleNN_random_0.00.torch')\n",
    "# net.load_state_dict(torch.load(path_model, map_location=device))\n",
    "\n",
    "# acc_train, _ = evaluate(dataloader_train, net, loss_fn, device)\n",
    "# acc_test, _ = evaluate(dataloader_test, net, loss_fn, device)\n",
    "# print('Accuracy on train: {:.2f} test: {:.2f}'.format(acc_train*100, acc_test*100))"
   ]
  },
  {
   "cell_type": "code",
   "execution_count": 6,
   "metadata": {},
   "outputs": [
    {
     "name": "stdout",
     "output_type": "stream",
     "text": [
      "-3.4870622467910914 3.778653516257267\n"
     ]
    }
   ],
   "source": [
    "min_, max_ = X_train.min(), X_train.max()\n",
    "clip_values = (min_, max_)\n",
    "print(min_, max_)"
   ]
  },
  {
   "cell_type": "code",
   "execution_count": 7,
   "metadata": {},
   "outputs": [],
   "source": [
    "encoder = OneHotEncoder(dtype=int)\n",
    "y_train_oh = encoder.fit_transform(y_train.reshape(-1, 1)).toarray()\n",
    "y_test_oh = encoder.transform(y_test.reshape(-1, 1)).toarray()"
   ]
  },
  {
   "cell_type": "code",
   "execution_count": 8,
   "metadata": {},
   "outputs": [
    {
     "name": "stdout",
     "output_type": "stream",
     "text": [
      "Accuracy on train: 100.00 test: 100.00\n"
     ]
    }
   ],
   "source": [
    "svm_clean = SklearnClassifier(model=SVC(**svm_param), clip_values=clip_values)\n",
    "svm_clean.fit(X_train, y_train_oh)\n",
    "pred_train = svm_clean.predict(X_train)\n",
    "acc_train = accuracy_score(np.argmax(y_train_oh, axis=1), np.argmax(pred_train, axis=1))\n",
    "pred_test = svm_clean.predict(X_test)\n",
    "acc_test = accuracy_score(np.argmax(y_test_oh, axis=1), np.argmax(pred_test, axis=1))\n",
    "print('Accuracy on train: {:.2f} test: {:.2f}'.format(acc_train*100, acc_test*100))\n",
    "\n",
    "svm_poison = SklearnClassifier(model=SVC(**svm_param), clip_values=clip_values)\n",
    "svm_poison.fit(X_train, y_train_oh)"
   ]
  },
  {
   "cell_type": "code",
   "execution_count": 9,
   "metadata": {},
   "outputs": [
    {
     "name": "stdout",
     "output_type": "stream",
     "text": [
      "109\n"
     ]
    }
   ],
   "source": [
    "POISONING_RATE = 0.10\n",
    "N_POISON = int(np.floor(X_train.shape[0] * POISONING_RATE))\n",
    "print(N_POISON)"
   ]
  },
  {
   "cell_type": "code",
   "execution_count": 10,
   "metadata": {},
   "outputs": [],
   "source": [
    "idx_poison = np.random.permutation(y_train.shape[0])[:N_POISON]\n",
    "X_target = X_train[idx_poison]\n",
    "y_target = y_train[idx_poison]\n",
    "y_target = flip_binary_label(y_target, np.arange(y_target.shape[0]))\n",
    "y_target_oh = encoder.transform(y_target.reshape(-1, 1)).toarray()"
   ]
  },
  {
   "cell_type": "code",
   "execution_count": 12,
   "metadata": {},
   "outputs": [
    {
     "name": "stderr",
     "output_type": "stream",
     "text": [
      "SVM poisoning: 109it [02:00,  1.10s/it]\n"
     ]
    }
   ],
   "source": [
    "attack = poison.PoisoningAttackSVM(\n",
    "    svm_poison, \n",
    "    step=0.01, \n",
    "    eps=1.0, \n",
    "    x_train=X_train, \n",
    "    y_train=y_train_oh, \n",
    "    x_val=X_test, \n",
    "    y_val=y_test_oh,\n",
    "    max_iter=200)\n",
    "poison_pts, poison_lbls = attack.poison(X_target, y_target_oh)"
   ]
  },
  {
   "cell_type": "code",
   "execution_count": 13,
   "metadata": {},
   "outputs": [
    {
     "name": "stdout",
     "output_type": "stream",
     "text": [
      "Accuracy on train: 90.71 test: 99.27\n"
     ]
    }
   ],
   "source": [
    "X_poison = np.vstack([X_train, poison_pts])\n",
    "y_poison_oh = np.vstack([y_train_oh, poison_lbls])\n",
    "\n",
    "svm_poison.fit(X_poison, y_poison_oh)\n",
    "\n",
    "pred_train = svm_poison.predict(X_poison)\n",
    "acc_train = accuracy_score(np.argmax(y_poison_oh, axis=1), np.argmax(pred_train, axis=1))\n",
    "pred_test = svm_poison.predict(X_test)\n",
    "acc_test = accuracy_score(np.argmax(y_test_oh, axis=1), np.argmax(pred_test, axis=1))\n",
    "print('Accuracy on train: {:.2f} test: {:.2f}'.format(acc_train*100, acc_test*100))"
   ]
  },
  {
   "cell_type": "code",
   "execution_count": null,
   "metadata": {},
   "outputs": [],
   "source": []
  }
 ],
 "metadata": {
  "interpreter": {
   "hash": "8bcff36e631da1ef6cb25b63542a3f56d2322f7e3d69a7432caaf86f390cdb5a"
  },
  "kernelspec": {
   "display_name": "Python 3.8.10 64-bit ('torch': venv)",
   "language": "python",
   "name": "python3"
  },
  "language_info": {
   "codemirror_mode": {
    "name": "ipython",
    "version": 3
   },
   "file_extension": ".py",
   "mimetype": "text/x-python",
   "name": "python",
   "nbconvert_exporter": "python",
   "pygments_lexer": "ipython3",
   "version": "3.6.9"
  },
  "orig_nbformat": 4
 },
 "nbformat": 4,
 "nbformat_minor": 2
}

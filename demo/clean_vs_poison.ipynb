{
 "cells": [
  {
   "cell_type": "markdown",
   "metadata": {},
   "source": [
    "# Plot accuracy between poison and clean data"
   ]
  },
  {
   "cell_type": "code",
   "execution_count": 1,
   "metadata": {},
   "outputs": [],
   "source": [
    "%load_ext lab_black"
   ]
  },
  {
   "cell_type": "code",
   "execution_count": 2,
   "metadata": {},
   "outputs": [],
   "source": [
    "import os\n",
    "from pathlib import Path\n",
    "\n",
    "import matplotlib.pyplot as plt\n",
    "import numpy as np\n",
    "import pandas as pd\n",
    "import seaborn as sns\n",
    "from sklearn.preprocessing import StandardScaler\n",
    "import torch\n",
    "import torch.nn as nn\n",
    "from torch.utils.data import DataLoader, TensorDataset\n",
    "\n",
    "from label_flip_revised.utils import open_csv\n",
    "from label_flip_revised.simple_nn_model import SimpleModel\n",
    "from label_flip_revised.torch_utils import evaluate, train_model"
   ]
  },
  {
   "cell_type": "code",
   "execution_count": 3,
   "metadata": {},
   "outputs": [
    {
     "name": "stdout",
     "output_type": "stream",
     "text": [
      "/home/lukec/workspace/label_flip_revised/data/output\n"
     ]
    }
   ],
   "source": [
    "PATH_DATA = os.path.join(Path().absolute().parent, \"data\", \"output\")\n",
    "DATA_NAME = \"australian\"\n",
    "\n",
    "print(PATH_DATA)"
   ]
  },
  {
   "cell_type": "code",
   "execution_count": 4,
   "metadata": {},
   "outputs": [],
   "source": [
    "# For poison rates\n",
    "STEP = 0.05\n",
    "MAX_RATE = 0.51\n",
    "\n",
    "# For training the classifier:\n",
    "BATCH_SIZE = 128  # Size of mini-batch.\n",
    "HIDDEN_LAYER = 128  # Number of hidden neurons in a hidden layer.\n",
    "LR = 0.001  # Learning rate.\n",
    "MAX_EPOCHS = 400  # Number of iteration for training."
   ]
  },
  {
   "cell_type": "code",
   "execution_count": 5,
   "metadata": {},
   "outputs": [
    {
     "name": "stdout",
     "output_type": "stream",
     "text": [
      "Traning data shape: (552, 14)\n",
      "Test data shape: (552, 14)\n"
     ]
    }
   ],
   "source": [
    "# Load data\n",
    "path_clean_train = os.path.join(PATH_DATA, \"train\", f\"{DATA_NAME}_clean_train.csv\")\n",
    "X_train, y_train, _ = open_csv(path_clean_train)\n",
    "print(f\"Traning data shape: {X_train.shape}\")\n",
    "\n",
    "path_clean_test = os.path.join(PATH_DATA, \"test\", f\"{DATA_NAME}_clean_test.csv\")\n",
    "X_test, y_test, _ = open_csv(path_clean_train)\n",
    "print(f\"Test data shape: {X_test.shape}\")\n",
    "\n",
    "# Preprocessing\n",
    "scaler = StandardScaler()\n",
    "X_train = scaler.fit_transform(X_train)\n",
    "X_test = scaler.transform(X_test)\n",
    "\n",
    "# Dataloader for PyTorch\n",
    "dataset_train = TensorDataset(\n",
    "    torch.from_numpy(X_train).type(torch.float32),\n",
    "    torch.from_numpy(y_train).type(torch.int64),\n",
    ")\n",
    "dataloader_train = DataLoader(dataset_train, batch_size=BATCH_SIZE, shuffle=True)\n",
    "\n",
    "dataset_test = TensorDataset(\n",
    "    torch.from_numpy(X_test).type(torch.float32),\n",
    "    torch.from_numpy(y_test).type(torch.int64),\n",
    ")\n",
    "dataloader_test = DataLoader(dataset_test, batch_size=BATCH_SIZE, shuffle=True)"
   ]
  },
  {
   "cell_type": "code",
   "execution_count": 6,
   "metadata": {},
   "outputs": [
    {
     "data": {
      "text/plain": [
       "<All keys matched successfully>"
      ]
     },
     "execution_count": 6,
     "metadata": {},
     "output_type": "execute_result"
    }
   ],
   "source": [
    "if torch.cuda.is_available():\n",
    "    device = torch.device(\"cuda\")\n",
    "else:\n",
    "    device = torch.device(\"cpu\")\n",
    "    print(\"Running on CPU!\")\n",
    "\n",
    "n_features = X_train.shape[1]\n",
    "model = SimpleModel(n_features, hidden_dim=HIDDEN_LAYER, output_dim=2).to(device)\n",
    "optimizer = torch.optim.SGD(model.parameters(), lr=LR, momentum=0.8)\n",
    "loss_fn = nn.CrossEntropyLoss()\n",
    "\n",
    "# Load pre-trained model\n",
    "path_clf = os.path.join(PATH_DATA, \"torch\", f\"{DATA_NAME}_SimpleNN.torch\")\n",
    "model.load_state_dict(torch.load(path_clf, map_location=device))"
   ]
  },
  {
   "cell_type": "code",
   "execution_count": 7,
   "metadata": {},
   "outputs": [
    {
     "name": "stdout",
     "output_type": "stream",
     "text": [
      "[Clean] Train acc: 86.78 loss: 0.389. Test acc: 86.78 loss: 0.378\n"
     ]
    }
   ],
   "source": [
    "acc_list_train = []\n",
    "loss_list_train = []\n",
    "acc_list_test = []\n",
    "loss_list_test = []\n",
    "poison_rate = [0.0]\n",
    "\n",
    "acc_train, loss_train = evaluate(dataloader_train, model, loss_fn, device)\n",
    "acc_test, loss_test = evaluate(dataloader_test, model, loss_fn, device)\n",
    "acc_list_train.append(acc_train)\n",
    "loss_list_train.append(loss_train)\n",
    "acc_list_test.append(acc_test)\n",
    "loss_list_test.append(loss_test)\n",
    "\n",
    "print(\n",
    "    f\"[Clean] Train acc: {acc_train*100:.2f} loss: {loss_train:.3f}. Test acc: {acc_test*100:.2f} loss: {loss_test:.3f}\"\n",
    ")"
   ]
  },
  {
   "cell_type": "code",
   "execution_count": 8,
   "metadata": {},
   "outputs": [
    {
     "name": "stdout",
     "output_type": "stream",
     "text": [
      "[0.05 0.1  0.15 0.2  0.25 0.3  0.35 0.4  0.45 0.5 ]\n"
     ]
    }
   ],
   "source": [
    "advx_range = np.arange(0, MAX_RATE, STEP)[1:]  # Remove 0%\n",
    "print(advx_range)"
   ]
  },
  {
   "cell_type": "code",
   "execution_count": 9,
   "metadata": {},
   "outputs": [
    {
     "name": "stdout",
     "output_type": "stream",
     "text": [
      "[0.05] Train acc: 75.36 loss: 0.565. Test acc: 73.19 loss: 0.572\n",
      "[0.10] Train acc: 81.70 loss: 0.458. Test acc: 82.61 loss: 0.465\n",
      "[0.15] Train acc: 70.47 loss: 0.557. Test acc: 55.43 loss: 0.690\n",
      "[0.20] Train acc: 64.49 loss: 0.572. Test acc: 44.57 loss: 0.710\n",
      "[0.25] Train acc: 80.43 loss: 0.469. Test acc: 55.43 loss: 0.827\n",
      "[0.30] Train acc: 74.46 loss: 0.471. Test acc: 44.57 loss: 0.807\n",
      "[0.35] Train acc: 90.58 loss: 0.303. Test acc: 55.43 loss: 1.019\n",
      "[0.40] Train acc: 84.42 loss: 0.408. Test acc: 44.57 loss: 0.966\n",
      "[0.45] Train acc: 100.00 loss: 0.006. Test acc: 55.43 loss: 2.423\n",
      "[0.50] Train acc: 94.57 loss: 0.188. Test acc: 44.57 loss: 1.274\n"
     ]
    }
   ],
   "source": [
    "for p in advx_range:\n",
    "    path_poison = os.path.join(PATH_DATA, \"alfa_nn\", f\"{DATA_NAME}_nn_ALFA_{p:.2f}.csv\")\n",
    "    X_train, y_poison, _ = open_csv(path_poison)\n",
    "    dataset_poison = TensorDataset(\n",
    "        torch.from_numpy(X_train).type(torch.float32),\n",
    "        torch.from_numpy(y_poison).type(torch.int64),\n",
    "    )\n",
    "    dataloader_poison = DataLoader(dataset_poison, batch_size=BATCH_SIZE, shuffle=True)\n",
    "\n",
    "    model_poison = SimpleModel(n_features, hidden_dim=HIDDEN_LAYER, output_dim=2)\n",
    "    model_poison = model_poison.to(device)\n",
    "    optimizer_poison = torch.optim.SGD(model_poison.parameters(), lr=LR, momentum=0.8)\n",
    "\n",
    "    train_model(\n",
    "        model_poison, dataloader_poison, optimizer_poison, loss_fn, device, MAX_EPOCHS\n",
    "    )\n",
    "\n",
    "    acc_poison, loss_poison = evaluate(dataloader_poison, model_poison, loss_fn, device)\n",
    "    acc_test, loss_test = evaluate(dataloader_test, model_poison, loss_fn, device)\n",
    "    acc_list_train.append(acc_poison)\n",
    "    loss_list_train.append(loss_poison)\n",
    "    acc_list_test.append(acc_test)\n",
    "    loss_list_test.append(loss_test)\n",
    "    poison_rate.append(p)\n",
    "\n",
    "    print(\n",
    "        f\"[{p:.2f}] Train acc: {acc_poison*100:.2f} loss: {loss_poison:.3f}. Test acc: {acc_test*100:.2f} loss: {loss_test:.3f}\"\n",
    "    )"
   ]
  },
  {
   "cell_type": "code",
   "execution_count": 10,
   "metadata": {},
   "outputs": [
    {
     "data": {
      "text/html": [
       "<div>\n",
       "<style scoped>\n",
       "    .dataframe tbody tr th:only-of-type {\n",
       "        vertical-align: middle;\n",
       "    }\n",
       "\n",
       "    .dataframe tbody tr th {\n",
       "        vertical-align: top;\n",
       "    }\n",
       "\n",
       "    .dataframe thead th {\n",
       "        text-align: right;\n",
       "    }\n",
       "</style>\n",
       "<table border=\"1\" class=\"dataframe\">\n",
       "  <thead>\n",
       "    <tr style=\"text-align: right;\">\n",
       "      <th></th>\n",
       "      <th>rate</th>\n",
       "      <th>acc.train</th>\n",
       "      <th>acc.test</th>\n",
       "      <th>loss.train</th>\n",
       "      <th>loss.test</th>\n",
       "    </tr>\n",
       "  </thead>\n",
       "  <tbody>\n",
       "    <tr>\n",
       "      <th>0</th>\n",
       "      <td>0.00</td>\n",
       "      <td>0.867754</td>\n",
       "      <td>0.867754</td>\n",
       "      <td>0.389231</td>\n",
       "      <td>0.378345</td>\n",
       "    </tr>\n",
       "    <tr>\n",
       "      <th>1</th>\n",
       "      <td>0.05</td>\n",
       "      <td>0.753623</td>\n",
       "      <td>0.731884</td>\n",
       "      <td>0.565064</td>\n",
       "      <td>0.571887</td>\n",
       "    </tr>\n",
       "    <tr>\n",
       "      <th>2</th>\n",
       "      <td>0.10</td>\n",
       "      <td>0.817029</td>\n",
       "      <td>0.826087</td>\n",
       "      <td>0.457932</td>\n",
       "      <td>0.464891</td>\n",
       "    </tr>\n",
       "    <tr>\n",
       "      <th>3</th>\n",
       "      <td>0.15</td>\n",
       "      <td>0.704710</td>\n",
       "      <td>0.554348</td>\n",
       "      <td>0.556584</td>\n",
       "      <td>0.690481</td>\n",
       "    </tr>\n",
       "    <tr>\n",
       "      <th>4</th>\n",
       "      <td>0.20</td>\n",
       "      <td>0.644928</td>\n",
       "      <td>0.445652</td>\n",
       "      <td>0.572275</td>\n",
       "      <td>0.709855</td>\n",
       "    </tr>\n",
       "    <tr>\n",
       "      <th>5</th>\n",
       "      <td>0.25</td>\n",
       "      <td>0.804348</td>\n",
       "      <td>0.554348</td>\n",
       "      <td>0.469318</td>\n",
       "      <td>0.826834</td>\n",
       "    </tr>\n",
       "    <tr>\n",
       "      <th>6</th>\n",
       "      <td>0.30</td>\n",
       "      <td>0.744565</td>\n",
       "      <td>0.445652</td>\n",
       "      <td>0.470755</td>\n",
       "      <td>0.807188</td>\n",
       "    </tr>\n",
       "    <tr>\n",
       "      <th>7</th>\n",
       "      <td>0.35</td>\n",
       "      <td>0.905797</td>\n",
       "      <td>0.554348</td>\n",
       "      <td>0.303445</td>\n",
       "      <td>1.018917</td>\n",
       "    </tr>\n",
       "    <tr>\n",
       "      <th>8</th>\n",
       "      <td>0.40</td>\n",
       "      <td>0.844203</td>\n",
       "      <td>0.445652</td>\n",
       "      <td>0.407506</td>\n",
       "      <td>0.966245</td>\n",
       "    </tr>\n",
       "    <tr>\n",
       "      <th>9</th>\n",
       "      <td>0.45</td>\n",
       "      <td>1.000000</td>\n",
       "      <td>0.554348</td>\n",
       "      <td>0.006184</td>\n",
       "      <td>2.423303</td>\n",
       "    </tr>\n",
       "    <tr>\n",
       "      <th>10</th>\n",
       "      <td>0.50</td>\n",
       "      <td>0.945652</td>\n",
       "      <td>0.445652</td>\n",
       "      <td>0.188461</td>\n",
       "      <td>1.274043</td>\n",
       "    </tr>\n",
       "  </tbody>\n",
       "</table>\n",
       "</div>"
      ],
      "text/plain": [
       "    rate  acc.train  acc.test  loss.train  loss.test\n",
       "0   0.00   0.867754  0.867754    0.389231   0.378345\n",
       "1   0.05   0.753623  0.731884    0.565064   0.571887\n",
       "2   0.10   0.817029  0.826087    0.457932   0.464891\n",
       "3   0.15   0.704710  0.554348    0.556584   0.690481\n",
       "4   0.20   0.644928  0.445652    0.572275   0.709855\n",
       "5   0.25   0.804348  0.554348    0.469318   0.826834\n",
       "6   0.30   0.744565  0.445652    0.470755   0.807188\n",
       "7   0.35   0.905797  0.554348    0.303445   1.018917\n",
       "8   0.40   0.844203  0.445652    0.407506   0.966245\n",
       "9   0.45   1.000000  0.554348    0.006184   2.423303\n",
       "10  0.50   0.945652  0.445652    0.188461   1.274043"
      ]
     },
     "execution_count": 10,
     "metadata": {},
     "output_type": "execute_result"
    }
   ],
   "source": [
    "data = {\n",
    "    \"rate\": poison_rate,\n",
    "    \"acc.train\": acc_list_train,\n",
    "    \"acc.test\": acc_list_test,\n",
    "    \"loss.train\": loss_list_train,\n",
    "    \"loss.test\": loss_list_test,\n",
    "}\n",
    "df = pd.DataFrame(data)\n",
    "df"
   ]
  },
  {
   "cell_type": "code",
   "execution_count": 11,
   "metadata": {},
   "outputs": [
    {
     "name": "stdout",
     "output_type": "stream",
     "text": [
      "/home/lukec/workspace/label_flip_revised/results/australian_acc.png\n"
     ]
    },
    {
     "data": {
      "image/png": "[encoded data removed]",
      "text/plain": [
       "<Figure size 576x432 with 1 Axes>"
      ]
     },
     "metadata": {
      "needs_background": "light"
     },
     "output_type": "display_data"
    }
   ],
   "source": [
    "plt.rcParams[\"font.size\"] = 14\n",
    "fig, ax = plt.subplots(figsize=(8, 6))\n",
    "df.plot(x=\"rate\", y=[\"acc.train\", \"acc.test\"], ax=ax)\n",
    "ax.set_ylim([0, 1.0])\n",
    "ax.legend([\"Train\", \"Test\"])\n",
    "ax.set_xlabel(\"Poison Rate\")\n",
    "ax.set_ylabel(\"Accuracy\")\n",
    "ax.set_title(\"Accuracy on Poisoned Classifiers\")\n",
    "plt.tight_layout()\n",
    "\n",
    "path_fig1 = os.path.join(Path().absolute().parent, \"results\", f\"{DATA_NAME}_acc.png\")\n",
    "print(path_fig1)\n",
    "plt.savefig(path_fig1, dpi=300, bbox_inches=\"tight\")"
   ]
  },
  {
   "cell_type": "code",
   "execution_count": 12,
   "metadata": {},
   "outputs": [
    {
     "name": "stdout",
     "output_type": "stream",
     "text": [
      "/home/lukec/workspace/label_flip_revised/results/australian_loss.png\n"
     ]
    },
    {
     "data": {
      "image/png": "[encoded data removed]",
      "text/plain": [
       "<Figure size 576x432 with 1 Axes>"
      ]
     },
     "metadata": {
      "needs_background": "light"
     },
     "output_type": "display_data"
    }
   ],
   "source": [
    "fig, ax = plt.subplots(figsize=(8, 6))\n",
    "df.plot(x=\"rate\", y=[\"loss.train\", \"loss.test\"], ax=ax)\n",
    "ax.legend([\"Train\", \"Test\"])\n",
    "ax.set_xlabel(\"Poison Rate\")\n",
    "ax.set_ylabel(\"Loss\")\n",
    "ax.set_title(\"Loss on Poisoned Classifiers\")\n",
    "plt.tight_layout()\n",
    "\n",
    "path_fig2 = os.path.join(Path().absolute().parent, \"results\", f\"{DATA_NAME}_loss.png\")\n",
    "print(path_fig2)\n",
    "plt.savefig(path_fig2, dpi=300, bbox_inches=\"tight\")"
   ]
  },
  {
   "cell_type": "code",
   "execution_count": null,
   "metadata": {},
   "outputs": [],
   "source": []
  }
 ],
 "metadata": {
  "interpreter": {
   "hash": "767d51c1340bd893661ea55ea3124f6de3c7a262a8b4abca0554b478b1e2ff90"
  },
  "kernelspec": {
   "display_name": "Python 2.7.17 64-bit",
   "language": "python",
   "name": "python3"
  },
  "language_info": {
   "codemirror_mode": {
    "name": "ipython",
    "version": 3
   },
   "file_extension": ".py",
   "mimetype": "text/x-python",
   "name": "python",
   "nbconvert_exporter": "python",
   "pygments_lexer": "ipython3",
   "version": "3.7.5"
  },
  "orig_nbformat": 4
 },
 "nbformat": 4,
 "nbformat_minor": 2
}

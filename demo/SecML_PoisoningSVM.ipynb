{
 "cells": [
  {
   "cell_type": "code",
   "execution_count": 1,
   "metadata": {},
   "outputs": [],
   "source": [
    "import os\n",
    "from pathlib import Path\n",
    "\n",
    "import pandas as pd\n",
    "import numpy as np\n",
    "from imblearn.under_sampling import RandomUnderSampler \n",
    "from secml.data import CDataset\n",
    "from secml.data.splitter import CTrainTestSplit\n",
    "from secml.ml.features import CNormalizerMinMax\n",
    "from secml.ml.peval.metrics import CMetricAccuracy\n",
    "from secml.ml.classifiers import CClassifierSVM\n",
    "from secml.ml.kernels import CKernelRBF\n",
    "from secml.adv.attacks import CAttackPoisoningSVM\n",
    "\n",
    "from label_flip_revised.utils import open_csv"
   ]
  },
  {
   "cell_type": "code",
   "execution_count": 2,
   "metadata": {},
   "outputs": [
    {
     "name": "stdout",
     "output_type": "stream",
     "text": [
      "/home/lukec/workspace/label_flip_revised_new\n"
     ]
    }
   ],
   "source": [
    "PATH_ROOT = os.path.join(Path().absolute().parent)\n",
    "print(PATH_ROOT)"
   ]
  },
  {
   "cell_type": "code",
   "execution_count": 3,
   "metadata": {},
   "outputs": [],
   "source": [
    "RANDOM_STATE = 999"
   ]
  },
  {
   "cell_type": "code",
   "execution_count": 4,
   "metadata": {},
   "outputs": [
    {
     "name": "stdout",
     "output_type": "stream",
     "text": [
      "(690, 13)\n"
     ]
    }
   ],
   "source": [
    "f = open(os.path.join(PATH_ROOT, 'data', 'raw', 'australian.dat'))\n",
    "data = np.loadtxt(f)\n",
    "y = data[:, 14]\n",
    "X = data[:, 0:13]\n",
    "\n",
    "print(X.shape)"
   ]
  },
  {
   "cell_type": "code",
   "execution_count": 5,
   "metadata": {},
   "outputs": [
    {
     "name": "stdout",
     "output_type": "stream",
     "text": [
      "(614, 13)\n"
     ]
    }
   ],
   "source": [
    "rus = RandomUnderSampler(random_state=RANDOM_STATE)\n",
    "X_res, y_res = rus.fit_resample(X, y)\n",
    "print(X_res.shape)"
   ]
  },
  {
   "cell_type": "code",
   "execution_count": 6,
   "metadata": {},
   "outputs": [
    {
     "name": "stdout",
     "output_type": "stream",
     "text": [
      "n_train: 414\n"
     ]
    }
   ],
   "source": [
    "n_val = 100\n",
    "n_test = 100\n",
    "n_train = X_res.shape[0] - n_val - n_test\n",
    "print(f'n_train: {n_train}')\n",
    "\n",
    "dataset = CDataset(X_res, y_res, header=None)\n",
    "splitter = CTrainTestSplit(train_size=n_train + n_val, test_size=n_test, random_state=RANDOM_STATE)\n",
    "tr_val, ts = splitter.split(dataset)\n",
    "splitter = CTrainTestSplit(train_size=n_train, test_size=n_val, random_state=RANDOM_STATE)\n",
    "tr, val = splitter.split(dataset)"
   ]
  },
  {
   "cell_type": "code",
   "execution_count": 7,
   "metadata": {},
   "outputs": [],
   "source": [
    "nmz = CNormalizerMinMax()\n",
    "tr.X = nmz.fit_transform(tr.X)\n",
    "val.X = nmz.transform(val.X)\n",
    "ts.X = nmz.transform(ts.X)"
   ]
  },
  {
   "cell_type": "code",
   "execution_count": 8,
   "metadata": {},
   "outputs": [
    {
     "name": "stdout",
     "output_type": "stream",
     "text": [
      "Train  0.9685990338164251\n",
      "Test  0.82\n"
     ]
    }
   ],
   "source": [
    "metric = CMetricAccuracy()\n",
    "\n",
    "clf = CClassifierSVM(kernel=CKernelRBF(gamma=10), C=1)\n",
    "clf.fit(tr.X, tr.Y)\n",
    "pred_tr = clf.predict(tr.X)\n",
    "pred_ts = clf.predict(ts.X)\n",
    "print(\"Train  \" + str(metric.performance_score(tr.Y, pred_tr)))\n",
    "print(\"Test  \" + str(metric.performance_score(ts.Y, pred_ts)))"
   ]
  },
  {
   "cell_type": "code",
   "execution_count": 9,
   "metadata": {},
   "outputs": [],
   "source": [
    "lb, ub = val.X.min(), val.X.max()"
   ]
  },
  {
   "cell_type": "code",
   "execution_count": 10,
   "metadata": {},
   "outputs": [],
   "source": [
    "solver_params = {\n",
    "    'eta': 0.05,\n",
    "    'eta_min': 0.05,\n",
    "    'eta_max': None,\n",
    "    'max_iter': 100,\n",
    "    'eps': 1e-6\n",
    "}"
   ]
  },
  {
   "cell_type": "code",
   "execution_count": 11,
   "metadata": {},
   "outputs": [],
   "source": [
    "pois_attack = CAttackPoisoningSVM(\n",
    "    classifier=clf,\n",
    "    training_data=tr,\n",
    "    val=val,\n",
    "    lb=lb, ub=ub,\n",
    "    solver_params=solver_params,\n",
    "    random_seed=RANDOM_STATE,\n",
    ")\n",
    "xc = tr[0, :].X\n",
    "yc = tr[0, :].Y\n",
    "pois_attack.x0 = xc\n",
    "pois_attack.xc = xc\n",
    "pois_attack.yc = yc\n"
   ]
  },
  {
   "cell_type": "code",
   "execution_count": 12,
   "metadata": {},
   "outputs": [
    {
     "name": "stdout",
     "output_type": "stream",
     "text": [
      "N Poisoned Points: 41\n"
     ]
    }
   ],
   "source": [
    "n_points = int(n_train * 0.1)\n",
    "print(f'N Poisoned Points: {n_points}')\n",
    "\n",
    "pois_attack.n_points = n_points\n",
    "pois_y_pred, pois_scores, pois_ds, f_opt = pois_attack.run(ts.X, ts.Y)"
   ]
  },
  {
   "cell_type": "code",
   "execution_count": 13,
   "metadata": {},
   "outputs": [],
   "source": [
    "acc_train = metric.performance_score(tr.Y, pred_tr)\n",
    "acc_test = metric.performance_score(ts.Y, pred_ts)"
   ]
  },
  {
   "cell_type": "code",
   "execution_count": 14,
   "metadata": {},
   "outputs": [
    {
     "name": "stdout",
     "output_type": "stream",
     "text": [
      "(455, 13) (455,)\n"
     ]
    }
   ],
   "source": [
    "# Train poisoned classifier\n",
    "X_pois = np.vstack([tr.X.get_data(), pois_ds.X.get_data()])\n",
    "y_pois = np.concatenate([tr.Y.get_data(), pois_ds.Y.get_data()])\n",
    "print(X_pois.shape, y_pois.shape)\n",
    "\n",
    "tr_pois = CDataset(X_pois, y_pois, header=None)"
   ]
  },
  {
   "cell_type": "code",
   "execution_count": 15,
   "metadata": {},
   "outputs": [
    {
     "name": "stdout",
     "output_type": "stream",
     "text": [
      "Before poisoning: Acc on Clean Train: 96.86 Clean Test: 82.00\n",
      "Poisoned clf:  Acc on Poisoned Train: 96.26 Clean Test: 65.00\n"
     ]
    }
   ],
   "source": [
    "clf_pois = CClassifierSVM(kernel=CKernelRBF(gamma=10), C=1)\n",
    "clf_pois.fit(tr_pois.X, tr_pois.Y)\n",
    "pred_pois_train = clf_pois.predict(tr_pois.X)\n",
    "pred_pois_test = clf_pois.predict(ts.X)\n",
    "\n",
    "acc_pois_train = metric.performance_score(tr_pois.Y, pred_pois_train)\n",
    "acc_pois_test = metric.performance_score(ts.Y, pred_pois_test)\n",
    "\n",
    "print(f'Before poisoning: Acc on Clean Train: {acc_train*100:.2f} Clean Test: {acc_test*100:.2f}')\n",
    "print(f'Poisoned clf:  Acc on Poisoned Train: {acc_pois_train*100:.2f} Clean Test: {acc_pois_test*100:.2f}')"
   ]
  },
  {
   "cell_type": "code",
   "execution_count": null,
   "metadata": {},
   "outputs": [],
   "source": []
  }
 ],
 "metadata": {
  "interpreter": {
   "hash": "8bcff36e631da1ef6cb25b63542a3f56d2322f7e3d69a7432caaf86f390cdb5a"
  },
  "kernelspec": {
   "display_name": "Python 3.8.10 64-bit ('torch': venv)",
   "language": "python",
   "name": "python3"
  },
  "language_info": {
   "codemirror_mode": {
    "name": "ipython",
    "version": 3
   },
   "file_extension": ".py",
   "mimetype": "text/x-python",
   "name": "python",
   "nbconvert_exporter": "python",
   "pygments_lexer": "ipython3",
   "version": "3.8.10"
  },
  "orig_nbformat": 4
 },
 "nbformat": 4,
 "nbformat_minor": 2
}

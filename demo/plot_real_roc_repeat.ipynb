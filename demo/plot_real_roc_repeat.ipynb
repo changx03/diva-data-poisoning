{
 "cells": [
  {
   "cell_type": "code",
   "execution_count": 1,
   "metadata": {},
   "outputs": [],
   "source": [
    "import os\n",
    "from glob import glob\n",
    "from pathlib import Path\n",
    "\n",
    "import matplotlib.pyplot as plt\n",
    "import numpy as np\n",
    "import pandas as pd\n",
    "import seaborn as sns\n",
    "from sklearn import linear_model\n",
    "from sklearn.metrics import RocCurveDisplay, auc, mean_squared_error, roc_curve\n",
    "from sklearn.model_selection import RandomizedSearchCV\n",
    "from sklearn.utils.fixes import loguniform\n",
    "from scipy.interpolate import interp1d\n",
    "\n",
    "from label_flip_revised.utils import create_dir"
   ]
  },
  {
   "cell_type": "code",
   "execution_count": 2,
   "metadata": {},
   "outputs": [
    {
     "name": "stdout",
     "output_type": "stream",
     "text": [
      "/home/lukec/workspace/diva_01\n"
     ]
    }
   ],
   "source": [
    "PATH_ROOT = Path(os.getcwd()).absolute().parent\n",
    "print(PATH_ROOT)"
   ]
  },
  {
   "cell_type": "code",
   "execution_count": 3,
   "metadata": {},
   "outputs": [
    {
     "name": "stdout",
     "output_type": "stream",
     "text": [
      "/home/lukec/workspace/diva_01/results_plot\n"
     ]
    }
   ],
   "source": [
    "path_output = os.path.join(PATH_ROOT, 'results_plot')\n",
    "print(path_output)\n",
    "create_dir(path_output)"
   ]
  },
  {
   "cell_type": "code",
   "execution_count": 4,
   "metadata": {},
   "outputs": [
    {
     "name": "stdout",
     "output_type": "stream",
     "text": [
      "(90, 38)\n"
     ]
    }
   ],
   "source": [
    "df_falfa = pd.read_csv(os.path.join(PATH_ROOT, 'results', 'real', 'real_falfa_nn_db.csv'))\n",
    "print(df_falfa.shape)"
   ]
  },
  {
   "cell_type": "code",
   "execution_count": 5,
   "metadata": {},
   "outputs": [
    {
     "name": "stdout",
     "output_type": "stream",
     "text": [
      "['breastcancer_std' 'texture_subset_std' 'ringnorm_subset_std'\n",
      " 'australian_std' 'cmc_std' 'yeast_subset_std' 'abalone_subset_std'\n",
      " 'phoneme_subset_std' 'banknote_std' 'htru2_subset_std']\n"
     ]
    }
   ],
   "source": [
    "datanames = df_falfa['Data.Base'].unique()\n",
    "print(datanames)"
   ]
  },
  {
   "cell_type": "code",
   "execution_count": 6,
   "metadata": {},
   "outputs": [
    {
     "name": "stdout",
     "output_type": "stream",
     "text": [
      "Index(['Data', 'F1', 'F1 SD', 'F1v', 'F2', 'F3', 'F4', 'N1', 'N2', 'N2 SD',\n",
      "       'N3', 'N3 SD', 'N4', 'N4 SD', 'T1', 'T1 SD', 'LSC', 'L1', 'L2', 'L3',\n",
      "       'T2', 'T3', 'T4', 'C1', 'C2', 'Density', 'ClsCoef', 'Hubs', 'Hubs SD',\n",
      "       'Path.Train', 'Path.Poison', 'Path.Test', 'Rate', 'Train.Clean',\n",
      "       'Test.Clean', 'Train.Poison', 'Test.Poison', 'Data.Base'],\n",
      "      dtype='object')\n"
     ]
    }
   ],
   "source": [
    "print(df_falfa.columns)"
   ]
  },
  {
   "cell_type": "code",
   "execution_count": 7,
   "metadata": {},
   "outputs": [
    {
     "name": "stdout",
     "output_type": "stream",
     "text": [
      "28\n"
     ]
    }
   ],
   "source": [
    "cols_cm = [\n",
    "    'F1', 'F1 SD', 'F1v', 'F2', 'F3', 'F4', 'N1', 'N2', 'N2 SD',\n",
    "    'N3', 'N3 SD', 'N4', 'N4 SD', 'T1', 'T1 SD', 'LSC', 'L1', 'L2', 'L3',\n",
    "    'T2', 'T3', 'T4', 'C1', 'C2', 'Density', 'ClsCoef', 'Hubs', 'Hubs SD',\n",
    "]\n",
    "col_y = 'Test.Poison'\n",
    "\n",
    "print(len(cols_cm))"
   ]
  },
  {
   "cell_type": "code",
   "execution_count": 8,
   "metadata": {},
   "outputs": [],
   "source": [
    "attacks = ['falfa_nn', 'alfa_svm', 'rand_svm', 'poison_svm']"
   ]
  },
  {
   "cell_type": "code",
   "execution_count": 9,
   "metadata": {},
   "outputs": [
    {
     "data": {
      "text/plain": [
       "['diva_01', 'diva_02', 'diva_03', 'diva_04', 'diva_05']"
      ]
     },
     "execution_count": 9,
     "metadata": {},
     "output_type": "execute_result"
    }
   ],
   "source": [
    "workspace_names = [f'diva_{i:02d}' for i in range(1,6)]\n",
    "workspace_names"
   ]
  },
  {
   "cell_type": "code",
   "execution_count": 10,
   "metadata": {},
   "outputs": [],
   "source": [
    "def load_dataframes(workspace):\n",
    "    dfs = []\n",
    "    for att in attacks:\n",
    "        df_ = pd.read_csv(os.path.join(PATH_ROOT.parent, workspace, 'results', 'real', f'real_{att}_db.csv'))\n",
    "        df_['Attack'] = att\n",
    "        dfs.append(df_)\n",
    "    df = pd.concat(dfs, ignore_index=True)\n",
    "    df['Prediction'] = 0.\n",
    "    return df"
   ]
  },
  {
   "cell_type": "code",
   "execution_count": 11,
   "metadata": {},
   "outputs": [],
   "source": [
    "df_dict = {}\n",
    "for wname in workspace_names:\n",
    "    df = load_dataframes(wname)\n",
    "    df_dict[wname] = df"
   ]
  },
  {
   "cell_type": "code",
   "execution_count": 12,
   "metadata": {},
   "outputs": [],
   "source": [
    "N_ITER_SEARCH = 100"
   ]
  },
  {
   "cell_type": "code",
   "execution_count": 13,
   "metadata": {},
   "outputs": [
    {
     "name": "stdout",
     "output_type": "stream",
     "text": [
      "{'diva_01': 0.0038, 'diva_02': 0.0364, 'diva_03': 0.0251, 'diva_04': 0.0106, 'diva_05': 0.0116}\n"
     ]
    }
   ],
   "source": [
    "alphas = {}\n",
    "\n",
    "param = {'alpha': loguniform(1e-4, 10),}\n",
    "for wname in workspace_names:\n",
    "    X = df_dict[wname][cols_cm]\n",
    "    y = df_dict[wname][col_y]\n",
    "    regressor = linear_model.Ridge()\n",
    "    param_search = RandomizedSearchCV(regressor, param_distributions=param, n_iter=N_ITER_SEARCH, n_jobs=-1)\n",
    "    param_search.fit(X, y)\n",
    "\n",
    "    best_estimator_ = param_search.best_estimator_.get_params()\n",
    "    alphas[wname] = np.round(best_estimator_['alpha'], 4)\n",
    "\n",
    "print(alphas)"
   ]
  },
  {
   "cell_type": "code",
   "execution_count": 14,
   "metadata": {},
   "outputs": [
    {
     "name": "stdout",
     "output_type": "stream",
     "text": [
      "[39]\n"
     ]
    }
   ],
   "source": [
    "IDX_PRED = df_dict[workspace_names[0]].columns.get_indexer(['Prediction'])\n",
    "print(IDX_PRED)"
   ]
  },
  {
   "cell_type": "code",
   "execution_count": 15,
   "metadata": {},
   "outputs": [],
   "source": [
    "for wname in workspace_names:\n",
    "    df_ = df_dict[wname]\n",
    "    alpha_ = alphas[wname]\n",
    "    for dname in datanames:\n",
    "        # Anything other than test set\n",
    "        # Only train with 1 attack and 1 noise\n",
    "        df_train_1 = df_[(df_['Data.Base'] != dname) & (df_['Attack'] == 'falfa_nn')]\n",
    "        df_train_2 = df_[(df_['Data.Base'] != dname) & (df_['Attack'] == 'rand_svm')]\n",
    "        df_train = pd.concat([df_train_1, df_train_2], ignore_index=True)\n",
    "        X_train = df_train[cols_cm]\n",
    "        y_train = df_train[col_y]\n",
    "\n",
    "        regressor = linear_model.Ridge(alpha=alpha_)\n",
    "        regressor.fit(X_train, y_train)\n",
    "\n",
    "        for att in attacks:\n",
    "            df_test = df_[(df_['Data.Base'] == dname) & (df_['Attack'] == att)]\n",
    "            X_test = df_test[cols_cm]\n",
    "            \n",
    "            pred = regressor.predict(X_test)\n",
    "            # Apply clipping\n",
    "            pred = np.amin([pred, np.ones_like(pred)], axis=0)\n",
    "\n",
    "            idx = df_[(df_['Data.Base'] == dname) & (df_['Attack'] == att)].index\n",
    "            df_.iloc[idx, IDX_PRED] = pred"
   ]
  },
  {
   "cell_type": "code",
   "execution_count": 16,
   "metadata": {},
   "outputs": [
    {
     "name": "stdout",
     "output_type": "stream",
     "text": [
      "[falfa_nn] 0.126\n",
      "[alfa_svm] 0.143\n",
      "[rand_svm] 0.106\n",
      "[poison_svm] 0.128\n"
     ]
    }
   ],
   "source": [
    "for att in attacks:\n",
    "    RMSEs = []\n",
    "    for wname in workspace_names:\n",
    "        df_ = df_dict[wname]\n",
    "        y_true = df_[df_['Attack'] == att]['Test.Poison']\n",
    "        pred = df_[df_['Attack'] == att]['Prediction']\n",
    "        rmse = np.sqrt(mean_squared_error(y_true, pred))\n",
    "        RMSEs.append(rmse)\n",
    "    rmse = np.mean(RMSEs)\n",
    "    print(f'[{att}] {rmse:.3f}')"
   ]
  },
  {
   "cell_type": "code",
   "execution_count": 17,
   "metadata": {},
   "outputs": [],
   "source": [
    "FONTSIZE = 14\n",
    "FIGSIZE = (4, 4)\n",
    "NAMES = {\n",
    "    'falfa_nn': 'FALFA',\n",
    "    'alfa_svm': 'ALFA',\n",
    "    'poison_svm': 'PoisSVM',\n",
    "}\n",
    "COLORS = {\n",
    "    'falfa_nn': '#d32f2f',\n",
    "    'alfa_svm': '#1976d2',\n",
    "    'poison_svm': '#388e3c',\n",
    "}\n",
    "THRESHOLD = 0.05"
   ]
  },
  {
   "cell_type": "code",
   "execution_count": 18,
   "metadata": {},
   "outputs": [
    {
     "data": {
      "image/png": "[encoded data removed]",
      "text/plain": [
       "<Figure size 288x288 with 1 Axes>"
      ]
     },
     "metadata": {
      "needs_background": "light"
     },
     "output_type": "display_data"
    }
   ],
   "source": [
    "plt.rcParams[\"font.size\"] = FONTSIZE\n",
    "fig, ax = plt.subplots(figsize=FIGSIZE)\n",
    "plt.gca().set_aspect('equal')  # Fix to square\n",
    "\n",
    "mean_fpr = np.linspace(0, 1, 20, endpoint=True)\n",
    "for att in ['falfa_nn', 'alfa_svm', 'poison_svm']:\n",
    "    tprs = []\n",
    "    for wname in workspace_names:\n",
    "        df_ = df_dict[wname]\n",
    "        y_true = (df_[df_['Attack'] == att]['Rate'].to_numpy() > THRESHOLD).astype(int)\n",
    "        y_score = (df_[df_['Attack'] == att]['Train.Clean'] - df_[df_['Attack'] == att]['Prediction']).to_numpy()\n",
    "        y_score = np.abs(y_score)\n",
    "        fpr_, tpr_, thresholds = roc_curve(y_true, y_score)\n",
    "\n",
    "        interp_tpr = np.interp(mean_fpr, fpr_, tpr_, left=0, right=1)\n",
    "        interp_tpr[0] = 0\n",
    "        tprs.append(interp_tpr)\n",
    "\n",
    "    mean_tpr = np.mean(tprs, axis=0)\n",
    "    mean_auc = auc(mean_fpr, mean_tpr)\n",
    "    data_ = {\n",
    "        'fpr': mean_fpr,\n",
    "        'tpr': mean_tpr,\n",
    "    }\n",
    "    df_ = pd.DataFrame(data_)\n",
    "    df_.to_csv(os.path.join(path_output, f'real_roc_mean_{att}.csv'), index=False)\n",
    "\n",
    "    func = interp1d(mean_fpr, mean_tpr, kind='slinear')\n",
    "    fpr_smooth = np.linspace(0, 1, 100, endpoint=True)\n",
    "    tpr_smooth = func(fpr_smooth)\n",
    "\n",
    "    roc_display = RocCurveDisplay(fpr=fpr_smooth, tpr=tpr_smooth, roc_auc=mean_auc).plot(ax=ax, name=NAMES[att], c=COLORS[att])\n",
    "\n",
    "plt.legend(fontsize=FONTSIZE-3, loc='lower right')\n",
    "plt.xticks(np.linspace(0, 1, num=5), fontsize=FONTSIZE-1)\n",
    "plt.yticks(np.linspace(0, 1, num=5), fontsize=FONTSIZE-1)\n",
    "plt.xlabel('False Positive Rate (FPR)', fontsize=FONTSIZE)\n",
    "plt.ylabel('True Positive Rate (TPR)', fontsize=FONTSIZE)\n",
    "plt.xlim(-0.03, 1.03)\n",
    "plt.ylim(-0.03, 1.03)\n",
    "plt.tight_layout()\n",
    "path_output = os.path.join(path_output, 'roc_real_repeated.pdf')\n",
    "plt.savefig(path_output, dpi=300)"
   ]
  },
  {
   "cell_type": "code",
   "execution_count": null,
   "metadata": {},
   "outputs": [],
   "source": []
  }
 ],
 "metadata": {
  "kernelspec": {
   "display_name": "Python 3.8.10 64-bit ('torch': venv)",
   "language": "python",
   "name": "python3"
  },
  "language_info": {
   "codemirror_mode": {
    "name": "ipython",
    "version": 3
   },
   "file_extension": ".py",
   "mimetype": "text/x-python",
   "name": "python",
   "nbconvert_exporter": "python",
   "pygments_lexer": "ipython3",
   "version": "3.8.10"
  },
  "orig_nbformat": 4,
  "vscode": {
   "interpreter": {
    "hash": "8bcff36e631da1ef6cb25b63542a3f56d2322f7e3d69a7432caaf86f390cdb5a"
   }
  }
 },
 "nbformat": 4,
 "nbformat_minor": 2
}

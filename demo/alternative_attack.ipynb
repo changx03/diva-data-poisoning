{
 "cells": [
  {
   "cell_type": "code",
   "execution_count": 16,
   "metadata": {},
   "outputs": [],
   "source": [
    "import os\n",
    "import time\n",
    "from pathlib import Path\n",
    "\n",
    "import numpy as np\n",
    "import pandas as pd\n",
    "from sklearn.preprocessing import StandardScaler\n",
    "from tqdm import tqdm\n",
    "\n",
    "from label_flip_revised.utils import open_csv, open_json, time2str"
   ]
  },
  {
   "cell_type": "code",
   "execution_count": 17,
   "metadata": {},
   "outputs": [
    {
     "name": "stdout",
     "output_type": "stream",
     "text": [
      "/home/lukec/workspace/label_flip_revised\n"
     ]
    }
   ],
   "source": [
    "PATH_ROOT = Path(os.getcwd()).absolute().parent\n",
    "print(PATH_ROOT)"
   ]
  },
  {
   "cell_type": "code",
   "execution_count": 18,
   "metadata": {},
   "outputs": [
    {
     "name": "stdout",
     "output_type": "stream",
     "text": [
      "(1097, 4) (1097,)\n",
      "(275, 4) (275,)\n"
     ]
    }
   ],
   "source": [
    "# Load data\n",
    "# Use \"Banknote\" dataset\n",
    "path_train = os.path.join(PATH_ROOT, 'data', 'output', 'train', 'banknote_std_clean_train.csv')\n",
    "X_train, y_train, _ = open_csv(path_train)\n",
    "print(X_train.shape, y_train.shape)\n",
    "\n",
    "path_test = os.path.join(PATH_ROOT, 'data', 'output', 'test', 'banknote_std_clean_test.csv')\n",
    "X_test, y_test, _ = open_csv(path_test)\n",
    "print(X_test.shape, y_test.shape)\n",
    "\n",
    "scaler = StandardScaler()\n",
    "X_train = scaler.fit_transform(X_train)\n",
    "X_test = scaler.transform(X_test)"
   ]
  },
  {
   "cell_type": "code",
   "execution_count": 19,
   "metadata": {},
   "outputs": [
    {
     "name": "stdout",
     "output_type": "stream",
     "text": [
      "{'C': 656.8890043866899, 'gamma': 0.012976745522971619, 'kernel': 'rbf'}\n",
      "Accuracy on train: 100.00 test: 100.00\n"
     ]
    }
   ],
   "source": [
    "# Load SVM model\n",
    "from sklearn.svm import SVC\n",
    "\n",
    "path_svm_param = os.path.join(PATH_ROOT, 'data', 'output', 'alfa', 'banknote_std_svm.json')\n",
    "svm_param = open_json(path_svm_param)\n",
    "print(svm_param)\n",
    "\n",
    "svm = SVC(**svm_param)\n",
    "svm.fit(X_train, y_train)\n",
    "acc_train = svm.score(X_train, y_train)\n",
    "acc_test = svm.score(X_test, y_test)\n",
    "print('Accuracy on train: {:.2f} test: {:.2f}'.format(acc_train*100, acc_test*100))"
   ]
  },
  {
   "cell_type": "code",
   "execution_count": 20,
   "metadata": {},
   "outputs": [
    {
     "name": "stdout",
     "output_type": "stream",
     "text": [
      "Accuracy on train: 98.45 test: 98.55\n"
     ]
    }
   ],
   "source": [
    "# Load Neural Network model\n",
    "import torch\n",
    "import torch.nn as nn\n",
    "from torch.utils.data import DataLoader, TensorDataset\n",
    "from label_flip_revised.simple_nn_model import SimpleModel\n",
    "from label_flip_revised.torch_utils import evaluate, train_model\n",
    "\n",
    "BATCH_SIZE = 128  # Size of mini-batch.\n",
    "HIDDEN_LAYER = 128  # Number of hidden neurons in a hidden layer.\n",
    "LR = 0.001  # Learning rate.\n",
    "MAX_EPOCHS = 400  # Number of iteration for training.\n",
    "\n",
    "if torch.cuda.is_available():\n",
    "    device = torch.device('cuda')\n",
    "else:\n",
    "    device = torch.device('cpu')\n",
    "    print('Running on CPU!')\n",
    "\n",
    "n_features = X_train.shape[1]\n",
    "dataset_train = TensorDataset(torch.from_numpy(X_train).type(torch.float32), torch.from_numpy(y_train).type(torch.int64))\n",
    "dataloader_train = DataLoader(dataset_train, batch_size=BATCH_SIZE, shuffle=True)\n",
    "dataset_test = TensorDataset(torch.from_numpy(X_test).type(torch.float32), torch.from_numpy(y_test).type(torch.int64))\n",
    "dataloader_test = DataLoader(dataset_test, batch_size=BATCH_SIZE, shuffle=False)\n",
    "\n",
    "net = SimpleModel(n_features, hidden_dim=HIDDEN_LAYER, output_dim=2)\n",
    "net = net.to(device)\n",
    "optimizer = torch.optim.SGD(net.parameters(), lr=LR, momentum=0.8)\n",
    "loss_fn = nn.CrossEntropyLoss()\n",
    "path_model = os.path.join(PATH_ROOT, 'results', 'real', 'torch', 'banknote_std_SimpleNN_random_0.00.torch')\n",
    "net.load_state_dict(torch.load(path_model, map_location=device))\n",
    "\n",
    "acc_train, _ = evaluate(dataloader_train, net, loss_fn, device)\n",
    "acc_test, _ = evaluate(dataloader_test, net, loss_fn, device)\n",
    "print('Accuracy on train: {:.2f} test: {:.2f}'.format(acc_train*100, acc_test*100))"
   ]
  },
  {
   "cell_type": "code",
   "execution_count": 11,
   "metadata": {},
   "outputs": [],
   "source": [
    "# Apply poisoning attacks\n",
    "import art.attacks.poisoning as poison\n",
    "from art.estimators.classification import PyTorchClassifier, SklearnClassifier"
   ]
  },
  {
   "cell_type": "code",
   "execution_count": 22,
   "metadata": {},
   "outputs": [
    {
     "name": "stdout",
     "output_type": "stream",
     "text": [
      "-3.4870622467910914 3.778653516257267\n"
     ]
    }
   ],
   "source": [
    "min_, max_ = X_train.min(), X_train.max()\n",
    "clip_values = (min_, max_)\n",
    "print(min_, max_)"
   ]
  },
  {
   "cell_type": "code",
   "execution_count": 23,
   "metadata": {},
   "outputs": [],
   "source": [
    "clf_torch = PyTorchClassifier(\n",
    "    model=net,\n",
    "    loss=loss_fn,\n",
    "    optimizer=optimizer,\n",
    "    input_shape=(n_features,),\n",
    "    nb_classes=2,\n",
    "    clip_values=clip_values,\n",
    "    device_type=device,\n",
    ")"
   ]
  },
  {
   "cell_type": "code",
   "execution_count": null,
   "metadata": {},
   "outputs": [],
   "source": [
    "clf_svm = SklearnClassifier(\n",
    "    model=svm,\n",
    "    clip_values=clip_values,\n",
    ")"
   ]
  },
  {
   "cell_type": "code",
   "execution_count": null,
   "metadata": {},
   "outputs": [],
   "source": []
  }
 ],
 "metadata": {
  "interpreter": {
   "hash": "8bcff36e631da1ef6cb25b63542a3f56d2322f7e3d69a7432caaf86f390cdb5a"
  },
  "kernelspec": {
   "display_name": "Python 3.8.10 64-bit ('torch': venv)",
   "language": "python",
   "name": "python3"
  },
  "language_info": {
   "codemirror_mode": {
    "name": "ipython",
    "version": 3
   },
   "file_extension": ".py",
   "mimetype": "text/x-python",
   "name": "python",
   "nbconvert_exporter": "python",
   "pygments_lexer": "ipython3",
   "version": "3.8.10"
  },
  "orig_nbformat": 4
 },
 "nbformat": 4,
 "nbformat_minor": 2
}

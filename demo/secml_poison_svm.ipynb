{
 "cells": [
  {
   "cell_type": "markdown",
   "metadata": {},
   "source": [
    "# Testing CAttackPoisoningSVM from SecML\n",
    "\n",
    "[Documentation](https://secml.readthedocs.io/en/v0.15/tutorials/05-Poisoning.html)\n",
    "\n",
    "[Github](https://github.com/pralab/secml)"
   ]
  },
  {
   "cell_type": "code",
   "execution_count": 12,
   "metadata": {},
   "outputs": [],
   "source": [
    "import os\n",
    "from pathlib import Path\n",
    "\n",
    "import numpy as np\n",
    "from sklearn.datasets import make_classification\n",
    "from sklearn.model_selection import train_test_split\n",
    "from sklearn.preprocessing import StandardScaler, MinMaxScaler\n",
    "\n",
    "from label_flip_revised.utils import (flip_binary_label, open_csv, open_json)"
   ]
  },
  {
   "cell_type": "code",
   "execution_count": 13,
   "metadata": {},
   "outputs": [
    {
     "name": "stdout",
     "output_type": "stream",
     "text": [
      "/home/lukec/workspace/label_flip_revised\n"
     ]
    }
   ],
   "source": [
    "PATH_ROOT = Path(os.getcwd()).absolute().parent\n",
    "print(PATH_ROOT)"
   ]
  },
  {
   "cell_type": "code",
   "execution_count": 14,
   "metadata": {},
   "outputs": [
    {
     "name": "stdout",
     "output_type": "stream",
     "text": [
      "(552, 14) (552,)\n",
      "(138, 14) (138,)\n"
     ]
    }
   ],
   "source": [
    "# Load data\n",
    "# Use \"Banknote\" dataset\n",
    "path_train = os.path.join(PATH_ROOT, 'data', 'output', 'train', 'australian_std_clean_train.csv')\n",
    "X_train, y_train, _ = open_csv(path_train)\n",
    "print(X_train.shape, y_train.shape)\n",
    "\n",
    "path_test = os.path.join(PATH_ROOT, 'data', 'output', 'test', 'australian_std_clean_test.csv')\n",
    "X_test, y_test, _ = open_csv(path_test)\n",
    "print(X_test.shape, y_test.shape)\n",
    "\n",
    "scaler = MinMaxScaler()\n",
    "X_train = scaler.fit_transform(X_train)\n",
    "X_test = scaler.transform(X_test)"
   ]
  },
  {
   "cell_type": "code",
   "execution_count": 15,
   "metadata": {},
   "outputs": [
    {
     "name": "stdout",
     "output_type": "stream",
     "text": [
      "(0.0, 1.0)\n"
     ]
    }
   ],
   "source": [
    "clip_values = (X_train.min(), X_train.max())\n",
    "print(clip_values)"
   ]
  },
  {
   "cell_type": "code",
   "execution_count": 16,
   "metadata": {},
   "outputs": [
    {
     "name": "stdout",
     "output_type": "stream",
     "text": [
      "# of train: 441\n",
      "# of val: 111\n",
      "# of test: 138\n"
     ]
    }
   ],
   "source": [
    "X_train, X_val, y_train, y_val = train_test_split(X_train, y_train, test_size=0.2)\n",
    "print(f'# of train: {X_train.shape[0]}')\n",
    "print(f'# of val: {X_val.shape[0]}')\n",
    "print(f'# of test: {X_test.shape[0]}')"
   ]
  },
  {
   "cell_type": "code",
   "execution_count": 22,
   "metadata": {},
   "outputs": [],
   "source": [
    "from secml.array import CArray\n",
    "from secml.data import CDataset\n",
    "\n",
    "X_train = CArray(X_train)\n",
    "y_train = CArray(y_train)\n",
    "X_val = CArray(X_val)\n",
    "y_val = CArray(y_val)\n",
    "X_test = CArray(X_test)\n",
    "y_test = CArray(y_test)\n",
    "\n",
    "train_set = CDataset(X_train, y_train)\n",
    "val_set = CDataset(X_val, y_val)\n",
    "test_set = CDataset(X_test, y_test)"
   ]
  },
  {
   "cell_type": "code",
   "execution_count": 23,
   "metadata": {},
   "outputs": [
    {
     "name": "stdout",
     "output_type": "stream",
     "text": [
      "Accuracy Train: 0.96, Test: 0.82.\n"
     ]
    }
   ],
   "source": [
    "from secml.ml.classifiers import CClassifierSVM\n",
    "from secml.ml.kernels import CKernelRBF\n",
    "\n",
    "# Train classifier\n",
    "clf = CClassifierSVM(C=1, kernel=CKernelRBF(gamma=10))\n",
    "clf.fit(X_train, y_train)\n",
    "\n",
    "pred_train = clf.predict(X_train, y_train)\n",
    "pred_test = clf.predict(X_test, y_test)\n",
    "acc_train = np.mean(pred_train.get_data() == y_train.get_data())\n",
    "acc_test = np.mean(pred_test.get_data() == y_test.get_data())\n",
    "\n",
    "print(f'Accuracy Train: {acc_train:.2f}, Test: {acc_test:.2f}.')"
   ]
  },
  {
   "cell_type": "code",
   "execution_count": 24,
   "metadata": {},
   "outputs": [
    {
     "name": "stdout",
     "output_type": "stream",
     "text": [
      "Initial poisoning sample features: CArray([0.       0.167937 0.089286 0.       0.153846 0.5      0.157895 0.\n",
      " 0.       0.       0.       0.5      0.1      0.00456 ])\n",
      "Initial poisoning sample label: 0\n"
     ]
    }
   ],
   "source": [
    "from secml.adv.attacks import CAttackPoisoningSVM\n",
    "\n",
    "# Generate poisoning examples\n",
    "\n",
    "solver_params = {\n",
    "    'eta': 0.05,\n",
    "    'eta_min': 0.05,\n",
    "    'eta_max': None,\n",
    "    'max_iter': 100,\n",
    "    'eps': 1e-6\n",
    "}\n",
    "\n",
    "attack = CAttackPoisoningSVM(\n",
    "    classifier=clf,\n",
    "    training_data=train_set,\n",
    "    val=val_set,\n",
    "    lb=clip_values[0],\n",
    "    ub=clip_values[1],\n",
    "    solver_params=solver_params,\n",
    ")\n",
    "\n",
    "# Initial poisoning sample\n",
    "xc = train_set[0, :].X\n",
    "yc = train_set[0, :].Y\n",
    "\n",
    "attack.x0 = xc\n",
    "attack.xc = xc\n",
    "attack.yc = yc\n",
    "\n",
    "print(\"Initial poisoning sample features: {:}\".format(xc.ravel()))\n",
    "print(\"Initial poisoning sample label: {:}\".format(yc.item()))"
   ]
  },
  {
   "cell_type": "code",
   "execution_count": 25,
   "metadata": {},
   "outputs": [
    {
     "name": "stdout",
     "output_type": "stream",
     "text": [
      "# of poisoned examples: 88\n"
     ]
    }
   ],
   "source": [
    "from secml.ml.peval import metrics\n",
    "\n",
    "POISONING_RATE = 0.20\n",
    "N_POISON = int(np.floor(X_train.shape[0] * POISONING_RATE))\n",
    "print(f'# of poisoned examples: {N_POISON}')\n",
    "attack.n_points = N_POISON\n",
    "\n",
    "_, _, pois_examples, _ = attack.run(X_val, y_val)"
   ]
  },
  {
   "cell_type": "code",
   "execution_count": 26,
   "metadata": {},
   "outputs": [
    {
     "name": "stdout",
     "output_type": "stream",
     "text": [
      "Before poisoning: Accuracy Train: 0.96, Test: 0.82.\n",
      "After poisoning: Accuracy Train: 0.94, Test: 0.79.\n"
     ]
    }
   ],
   "source": [
    "clf = CClassifierSVM(C=1, kernel=CKernelRBF(gamma=10))\n",
    "clf.fit(X_train, y_train)\n",
    "\n",
    "pred_train = clf.predict(X_train, y_train)\n",
    "pred_test = clf.predict(X_test, y_test)\n",
    "acc_train = np.mean(pred_train.get_data() == y_train.get_data())\n",
    "acc_test = np.mean(pred_test.get_data() == y_test.get_data())\n",
    "print(f'Before poisoning: Accuracy Train: {acc_train:.2f}, Test: {acc_test:.2f}.')\n",
    "\n",
    "\n",
    "X_poisoned = np.vstack([X_train.get_data(), pois_examples.X.get_data()])\n",
    "y_poisoned = np.concatenate([y_train.get_data(), pois_examples.Y.get_data()])\n",
    "\n",
    "clf_pois = CClassifierSVM(C=1, kernel=CKernelRBF(gamma=10))\n",
    "clf_pois.fit(X_poisoned, y_poisoned)\n",
    "\n",
    "pred_pois = clf_pois.predict(X_poisoned, y_poisoned)\n",
    "pred_test = clf_pois.predict(X_test, y_test)\n",
    "acc_train = np.mean(pred_pois.get_data() == y_poisoned)\n",
    "acc_test = np.mean(pred_test.get_data() == y_test.get_data())\n",
    "\n",
    "print(f'After poisoning: Accuracy Train: {acc_train:.2f}, Test: {acc_test:.2f}.')"
   ]
  },
  {
   "cell_type": "code",
   "execution_count": null,
   "metadata": {},
   "outputs": [],
   "source": []
  }
 ],
 "metadata": {
  "interpreter": {
   "hash": "8bcff36e631da1ef6cb25b63542a3f56d2322f7e3d69a7432caaf86f390cdb5a"
  },
  "kernelspec": {
   "display_name": "Python 3.8.10 64-bit ('torch': venv)",
   "language": "python",
   "name": "python3"
  },
  "language_info": {
   "codemirror_mode": {
    "name": "ipython",
    "version": 3
   },
   "file_extension": ".py",
   "mimetype": "text/x-python",
   "name": "python",
   "nbconvert_exporter": "python",
   "pygments_lexer": "ipython3",
   "version": "3.8.10"
  },
  "orig_nbformat": 4
 },
 "nbformat": 4,
 "nbformat_minor": 2
}

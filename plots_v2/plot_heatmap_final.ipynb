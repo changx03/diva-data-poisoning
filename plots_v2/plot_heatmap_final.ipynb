{
 "cells": [
  {
   "cell_type": "code",
   "execution_count": 1,
   "metadata": {},
   "outputs": [],
   "source": [
    "import os\n",
    "from glob import glob\n",
    "from pathlib import Path\n",
    "\n",
    "import matplotlib.pyplot as plt\n",
    "import numpy as np\n",
    "import pandas as pd\n",
    "import seaborn as sns\n",
    "from pandas.api.types import CategoricalDtype\n",
    "from sklearn import linear_model\n",
    "from sklearn.metrics import RocCurveDisplay, auc, mean_squared_error, roc_curve\n",
    "from sklearn.model_selection import KFold, RandomizedSearchCV\n",
    "from sklearn.utils.fixes import loguniform\n",
    "\n",
    "from label_flip_revised.utils import create_dir"
   ]
  },
  {
   "cell_type": "code",
   "execution_count": 2,
   "metadata": {},
   "outputs": [
    {
     "name": "stdout",
     "output_type": "stream",
     "text": [
      "/home/lukec/workspace/diva_01\n"
     ]
    }
   ],
   "source": [
    "PATH_ROOT = Path(os.getcwd()).absolute().parent\n",
    "print(PATH_ROOT)"
   ]
  },
  {
   "cell_type": "code",
   "execution_count": 3,
   "metadata": {},
   "outputs": [
    {
     "name": "stdout",
     "output_type": "stream",
     "text": [
      "/home/lukec/workspace/diva_01/results_plot\n"
     ]
    }
   ],
   "source": [
    "path_output = os.path.join(PATH_ROOT, 'results_plot')\n",
    "print(path_output)\n",
    "create_dir(path_output)"
   ]
  },
  {
   "cell_type": "code",
   "execution_count": 4,
   "metadata": {},
   "outputs": [
    {
     "name": "stdout",
     "output_type": "stream",
     "text": [
      "(1350, 38)\n",
      "Index(['Data', 'F1', 'F1 SD', 'F1v', 'F2', 'F3', 'F4', 'N1', 'N2', 'N2 SD',\n",
      "       'N3', 'N3 SD', 'N4', 'N4 SD', 'T1', 'T1 SD', 'LSC', 'L1', 'L2', 'L3',\n",
      "       'T2', 'T3', 'T4', 'C1', 'C2', 'Density', 'ClsCoef', 'Hubs', 'Hubs SD',\n",
      "       'Path.Train', 'Path.Poison', 'Path.Test', 'Rate', 'Train.Clean',\n",
      "       'Test.Clean', 'Train.Poison', 'Test.Poison', 'Data.Base'],\n",
      "      dtype='object')\n"
     ]
    }
   ],
   "source": [
    "df = pd.read_csv(os.path.join(PATH_ROOT, 'results', 'synth', 'synth_alfa_svm_db.csv'))\n",
    "print(df.shape)\n",
    "print(df.columns)"
   ]
  },
  {
   "cell_type": "code",
   "execution_count": 5,
   "metadata": {},
   "outputs": [
    {
     "name": "stdout",
     "output_type": "stream",
     "text": [
      "28\n"
     ]
    }
   ],
   "source": [
    "COLS_CM = [\n",
    "    'F1', 'F1 SD', 'F1v', 'F2', 'F3', 'F4', 'N1', 'N2', 'N2 SD',\n",
    "    'N3', 'N3 SD', 'N4', 'N4 SD', 'T1', 'T1 SD', 'LSC', 'L1', 'L2', 'L3',\n",
    "    'T2', 'T3', 'T4', 'C1', 'C2', 'Density', 'ClsCoef', 'Hubs', 'Hubs SD',\n",
    "]\n",
    "print(len(COLS_CM))\n",
    "\n",
    "COL_Y = 'Test.Poison'\n",
    "DIF_LEVELS = ['Hard', 'Normal', 'Easy']"
   ]
  },
  {
   "cell_type": "code",
   "execution_count": 6,
   "metadata": {},
   "outputs": [],
   "source": [
    "N_ITER_SEARCH = 200\n",
    "N_FOLD = 5"
   ]
  },
  {
   "cell_type": "code",
   "execution_count": 7,
   "metadata": {},
   "outputs": [],
   "source": [
    "def get_pivot_table(df, q=0.95):\n",
    "    # Step 0: Add difficulty levels\n",
    "    df = df.copy()\n",
    "    df['Difficulty'] = df['Data.Base'].apply(lambda x: x.split('_')[0])\n",
    "    cat_type = CategoricalDtype(categories=DIF_LEVELS, ordered=True)\n",
    "    df['Difficulty'] = df['Difficulty'].astype(cat_type)\n",
    "\n",
    "    # Step 1: Find parameter\n",
    "    param = {'alpha': loguniform(1e-4, 10),}\n",
    "    X = df[COLS_CM]\n",
    "    y = df[COL_Y]\n",
    "    regressor = linear_model.Ridge()\n",
    "    param_search = RandomizedSearchCV(regressor, param_distributions=param, n_iter=N_ITER_SEARCH, n_jobs=-1)\n",
    "    param_search.fit(X, y)\n",
    "\n",
    "    best_estimator_ = param_search.best_estimator_.get_params()\n",
    "    alpha = np.round(best_estimator_['alpha'], 4)\n",
    "    print(f'alpha={alpha:.6f}')\n",
    "\n",
    "    # Step 2: Estimate\n",
    "    df['Prediction'] = 0.\n",
    "\n",
    "    # Split by clean data\n",
    "    idx_clean = df[df['Rate'] == 0].index\n",
    "    kf = KFold(n_splits=N_FOLD, shuffle=True)\n",
    "    for i_train, i_test in kf.split(idx_clean):\n",
    "        idx_train_clean = idx_clean[i_train]\n",
    "        idx_test_clean = idx_clean[i_test]\n",
    "\n",
    "        data_train = df.loc[idx_train_clean, 'Data.Base']\n",
    "        data_test = df.loc[idx_test_clean, 'Data.Base']\n",
    "\n",
    "        idx_train = df[df['Data.Base'].isin(data_train)].index\n",
    "        idx_test = df[df['Data.Base'].isin(data_test)].index\n",
    "        assert len(idx_train) + len(idx_test) == df.shape[0], f'{len(idx_train)} + {len(idx_test)} != {df.shape[0]}'\n",
    "\n",
    "        X_train = df.loc[idx_train, COLS_CM]\n",
    "        y_train = df.loc[idx_train, COL_Y]\n",
    "        X_test = df.loc[idx_test, COLS_CM]\n",
    "\n",
    "        regressor = linear_model.Ridge(alpha=alpha)\n",
    "        regressor.fit(X_train, y_train)\n",
    "\n",
    "        df.loc[idx_test, 'Prediction'] = regressor.predict(X_test)\n",
    "\n",
    "    # Apply clipping\n",
    "    df['Prediction'] = np.amin([df['Prediction'].to_numpy(), np.ones(df.shape[0])], axis=0)\n",
    "\n",
    "    # Step 3: Find threshold\n",
    "    # y_true_ = (df['Rate'] > positive_threshold).astype(int)\n",
    "    # y_score_ = df['Train.Poison'] - df['Prediction']\n",
    "    # fpr, tpr, thresholds = roc_curve(y_true_, y_score_)\n",
    "    # idx_t = np.argmax(np.sqrt((1 - fpr)**2 + tpr**2))\n",
    "    # threshold = thresholds[idx_t]\n",
    "\n",
    "    # df_ = df[(df['Difficulty'] != 'Hard') & (df['Rate'] == 0)]\n",
    "    df_ = df[(df['Difficulty'] == 'Normal') & (df['Rate'] == 0)]\n",
    "    # df_ = df[df['Rate'] == 0]\n",
    "    dif_00 = (df_['Train.Poison'] - df_['Prediction'])\n",
    "    threshold = np.quantile(dif_00, q)\n",
    "\n",
    "    print(f'threshold: {threshold}')\n",
    "\n",
    "    # Step 4: Populate pivot table\n",
    "    results = (df['Train.Poison'] - df['Prediction']) >= threshold\n",
    "    df_ = df[['Difficulty', 'Rate']].copy()\n",
    "    df_['Prediction'] = results.astype(int)\n",
    "    df_ = df_.rename(columns = {'Difficulty':'Dataset Difficulty', 'Rate':'Poisoning Rate', 'Prediction': 'FPR'})\n",
    "    df_grouped = df_.groupby(['Dataset Difficulty', 'Poisoning Rate']).sum()\n",
    "    df_grouped = df_grouped.reset_index()\n",
    "    df_pivot = df_grouped.pivot('Poisoning Rate', 'Dataset Difficulty', 'FPR')\n",
    "    df_pivot = df_pivot[['Easy', 'Normal', 'Hard']]\n",
    "    df_pivot\n",
    "    return df_pivot, threshold"
   ]
  },
  {
   "cell_type": "code",
   "execution_count": 8,
   "metadata": {},
   "outputs": [],
   "source": [
    "def get_pivot_noise(df, train_noise_lvl=0, q=0.95):\n",
    "    # Read noise rate from data's name\n",
    "    noise_rate = df['Data'].apply(lambda x: float(x.split('_')[6][2:]))\n",
    "    df['Noise.Rate'] = noise_rate\n",
    "\n",
    "    # Remove noise rate from data's name\n",
    "    df['Data.Base'] = df['Data.Base'].apply(lambda x: '_'.join(list(np.delete(x.split('_'), -2))))\n",
    "\n",
    "    # Step 1: Find parameter\n",
    "    param = {'alpha': loguniform(1e-4, 10),}\n",
    "    X = df[COLS_CM]\n",
    "    y = df[COL_Y]\n",
    "    regressor = linear_model.Ridge()\n",
    "    param_search = RandomizedSearchCV(regressor, param_distributions=param, n_iter=N_ITER_SEARCH, n_jobs=-1)\n",
    "    param_search.fit(X, y)\n",
    "\n",
    "    best_estimator_ = param_search.best_estimator_.get_params()\n",
    "    alpha = np.round(best_estimator_['alpha'], 4)\n",
    "    print(f'alpha={alpha:.6f}')\n",
    "\n",
    "    # Step 2: Estimate\n",
    "    df['Prediction'] = 0.\n",
    "\n",
    "    # Split by clean data\n",
    "    idx_clean = df[(df['Rate'] == 0) & (df['Noise.Rate'] == 0)].index\n",
    "    kf = KFold(n_splits=N_FOLD, shuffle=True)\n",
    "    counter = 0\n",
    "    for i_train, i_test in kf.split(idx_clean):\n",
    "        idx_train_clean = idx_clean[i_train]\n",
    "        idx_test_clean = idx_clean[i_test]\n",
    "\n",
    "        data_train = df.loc[idx_train_clean, 'Data.Base']\n",
    "        data_test = df.loc[idx_test_clean, 'Data.Base']\n",
    "\n",
    "        df_noise_threshold = df[df['Noise.Rate'] <= train_noise_lvl]\n",
    "        idx_train = df_noise_threshold[df_noise_threshold['Data.Base'].isin(data_train)].index\n",
    "\n",
    "        idx_test = df[df['Data.Base'].isin(data_test)].index\n",
    "        counter += len(idx_test)\n",
    "\n",
    "        X_train = df.loc[idx_train, COLS_CM]\n",
    "        y_train = df.loc[idx_train, COL_Y]\n",
    "        X_test = df.loc[idx_test, COLS_CM]\n",
    "\n",
    "        regressor = linear_model.Ridge(alpha=alpha)\n",
    "        regressor.fit(X_train, y_train)\n",
    "\n",
    "        df.loc[idx_test, 'Prediction'] = regressor.predict(X_test)\n",
    "    assert counter == df.shape[0], f'{counter} != {df.shape[0]}'\n",
    "\n",
    "    # Apply clipping\n",
    "    df['Prediction'] = np.amin([df['Prediction'].to_numpy(), np.ones(df.shape[0])], axis=0)\n",
    "\n",
    "    # Set Threshold\n",
    "    df_ = df[(df['Rate'] == 0) & (df['Noise.Rate'] <=train_noise_lvl)]\n",
    "    dif_00 = (df_['Train.Poison'] - df_['Prediction'])\n",
    "    threshold = np.quantile(dif_00, q=q)\n",
    "    print(f'threshold: {threshold}')\n",
    "\n",
    "    results = (df['Train.Poison'] - df['Prediction']) > threshold\n",
    "    df_ = df[['Noise.Rate', 'Rate']].copy()\n",
    "    df_['Prediction'] = results.astype(int)\n",
    "    df_ = df_.rename(columns = {'Noise.Rate':'Noise Label Rate', 'Rate':'Poisoning Rate', 'Prediction': 'FPR'})\n",
    "    df_grouped = df_.groupby(['Noise Label Rate', 'Poisoning Rate']).sum()\n",
    "    df_grouped = df_grouped.reset_index()\n",
    "    df_pivot = df_grouped.pivot('Poisoning Rate', 'Noise Label Rate', 'FPR')\n",
    "    return df_pivot"
   ]
  },
  {
   "cell_type": "code",
   "execution_count": 9,
   "metadata": {},
   "outputs": [
    {
     "name": "stdout",
     "output_type": "stream",
     "text": [
      "diva_01\n",
      "alpha=0.000100\n",
      "threshold: 0.3515298968049253\n",
      "alpha=0.015500\n",
      "threshold: 0.31567431830450476\n",
      "diva_02\n",
      "alpha=0.053100\n",
      "threshold: 0.36830630829335465\n",
      "alpha=0.000400\n",
      "threshold: 0.32424108290685305\n",
      "diva_03\n",
      "alpha=0.071100\n",
      "threshold: 0.3443302356502309\n",
      "alpha=0.011900\n",
      "threshold: 0.31563702607711086\n"
     ]
    }
   ],
   "source": [
    "pivot_tables = []\n",
    "\n",
    "for workspace in [f'diva_{i:02d}' for i in range(1, 4)]:\n",
    "    print(workspace)\n",
    "\n",
    "    for att in ['falfa_nn', 'alfa_svm']:\n",
    "        df_ = pd.read_csv(os.path.join(PATH_ROOT.parent, workspace, 'results', 'synth', f'synth_{att}_db.csv'))\n",
    "\n",
    "        tab, _ = get_pivot_table(df_,  q=0.98)\n",
    "        tab.to_csv(os.path.join(path_output, f'synth_pivot_{workspace}_{att}.csv'))\n",
    "\n",
    "        tab = tab.reset_index()\n",
    "        pivot_tables.append(tab)\n",
    "        \n",
    "pivot_1 = pd.concat(pivot_tables, ignore_index=True).groupby('Poisoning Rate').mean().round()\n",
    "pivot_1 = pivot_1 * 2"
   ]
  },
  {
   "cell_type": "code",
   "execution_count": 10,
   "metadata": {},
   "outputs": [
    {
     "name": "stdout",
     "output_type": "stream",
     "text": [
      "/home/lukec/workspace/diva_01/results/synth_noisy/synth_falfa_nn_db.csv\n",
      "alpha=0.007600\n",
      "threshold: 0.36044152188881967\n",
      "Save to: /home/lukec/workspace/diva_01/results_plot/synth_noise_pivot_diva_01_falfa_nn.csv\n",
      "/home/lukec/workspace/diva_01/results/synth_noisy/synth_alfa_svm_db.csv\n",
      "alpha=0.083300\n",
      "threshold: 0.3361830573624677\n",
      "Save to: /home/lukec/workspace/diva_01/results_plot/synth_noise_pivot_diva_01_alfa_svm.csv\n",
      "/home/lukec/workspace/diva_02/results/synth_noisy/synth_falfa_nn_db.csv\n",
      "alpha=0.003500\n",
      "threshold: 0.31278833577215553\n",
      "Save to: /home/lukec/workspace/diva_01/results_plot/synth_noise_pivot_diva_02_falfa_nn.csv\n",
      "/home/lukec/workspace/diva_03/results/synth_noisy/synth_falfa_nn_db.csv\n",
      "alpha=0.002000\n",
      "threshold: 0.33378807016253054\n",
      "Save to: /home/lukec/workspace/diva_01/results_plot/synth_noise_pivot_diva_03_falfa_nn.csv\n"
     ]
    }
   ],
   "source": [
    "attacks = [['falfa_nn', 'alfa_svm'], ['falfa_nn'], ['falfa_nn']]\n",
    "\n",
    "pivot_tables_noise = []\n",
    "for i, workspace in enumerate([f'diva_{i:02d}' for i in range(1, 4)]):\n",
    "    for att in attacks[i]:\n",
    "        path_data = os.path.join(PATH_ROOT.parent, workspace, 'results', 'synth_noisy', f'synth_{att}_db.csv')\n",
    "        print(path_data)\n",
    "\n",
    "        df_ = pd.read_csv(path_data)\n",
    "        tab = get_pivot_noise(df_, q=0.98)\n",
    "        path_pivot_table = os.path.join(path_output, f'synth_noise_pivot_{workspace}_{att}.csv')\n",
    "        print(f'Save to: {path_pivot_table}')\n",
    "        tab.to_csv(path_pivot_table)\n",
    "\n",
    "        tab = tab.reset_index()\n",
    "        pivot_tables_noise.append(tab)\n",
    "\n",
    "pivot_2 = pd.concat(pivot_tables_noise, ignore_index=True).groupby('Poisoning Rate').mean().round()\n",
    "pivot_2 = pivot_2 * 2"
   ]
  },
  {
   "cell_type": "code",
   "execution_count": 11,
   "metadata": {},
   "outputs": [
    {
     "name": "stdout",
     "output_type": "stream",
     "text": [
      "Save to: /home/lukec/workspace/diva_01/results_plot/synth_heatmap.svg\n"
     ]
    },
    {
     "data": {
      "image/png": "[encoded data removed]",
      "text/plain": [
       "<Figure size 576x288 with 3 Axes>"
      ]
     },
     "metadata": {
      "needs_background": "light"
     },
     "output_type": "display_data"
    }
   ],
   "source": [
    "FONTSIZE = 13\n",
    "FIGSIZE = (8, 4)\n",
    "X_LABELS = ['Dataset Difficulty', 'Label Noise Rate']\n",
    "TITLES = ['(a) By Difficulties', '(b) By Label Noise Rates']\n",
    "\n",
    "plt.rcParams[\"font.size\"] = FONTSIZE\n",
    "fig, axes = plt.subplots(1, 2, sharey=True, figsize=FIGSIZE)\n",
    "\n",
    "sns.heatmap(pivot_1, ax=axes[0], annot=True, fmt='.0f', cmap=\"Greens\", vmin=0, vmax=100, cbar=False)\n",
    "axes[0].set_ylabel('Poisoning Rate', fontsize=FONTSIZE+1)\n",
    "\n",
    "sns.heatmap(pivot_2, ax=axes[1], annot=True, fmt='.0f', cmap=\"Greens\", vmin=0, vmax=100)\n",
    "axes[1].set_ylabel('')\n",
    "\n",
    "for i, ax in enumerate(axes):\n",
    "    ax.set_xlabel(X_LABELS[i], fontsize=FONTSIZE+1)\n",
    "    ax.set_title(TITLES[i], fontsize=FONTSIZE+2)\n",
    "\n",
    "plt.tight_layout(pad=0.6)\n",
    "plot_heatmap = os.path.join(path_output, 'synth_heatmap.svg')\n",
    "plt.savefig(plot_heatmap, dpi=300)\n",
    "print(f'Save to: {plot_heatmap}')"
   ]
  },
  {
   "cell_type": "code",
   "execution_count": null,
   "metadata": {},
   "outputs": [],
   "source": []
  }
 ],
 "metadata": {
  "interpreter": {
   "hash": "8bcff36e631da1ef6cb25b63542a3f56d2322f7e3d69a7432caaf86f390cdb5a"
  },
  "kernelspec": {
   "display_name": "Python 3.8.10 64-bit ('torch': venv)",
   "language": "python",
   "name": "python3"
  },
  "language_info": {
   "codemirror_mode": {
    "name": "ipython",
    "version": 3
   },
   "file_extension": ".py",
   "mimetype": "text/x-python",
   "name": "python",
   "nbconvert_exporter": "python",
   "pygments_lexer": "ipython3",
   "version": "3.8.10"
  },
  "orig_nbformat": 4
 },
 "nbformat": 4,
 "nbformat_minor": 2
}

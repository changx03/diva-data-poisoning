{
 "cells": [
  {
   "cell_type": "code",
   "execution_count": 1,
   "metadata": {},
   "outputs": [],
   "source": [
    "import os\n",
    "from glob import glob\n",
    "from pathlib import Path\n",
    "\n",
    "import matplotlib.pyplot as plt\n",
    "import numpy as np\n",
    "import pandas as pd\n",
    "import seaborn as sns\n",
    "from sklearn import linear_model\n",
    "from sklearn.metrics import RocCurveDisplay, auc, mean_squared_error, roc_curve\n",
    "from sklearn.model_selection import RandomizedSearchCV\n",
    "from sklearn.utils.fixes import loguniform\n",
    "from scipy.interpolate import interp1d\n",
    "\n",
    "from label_flip_revised.utils import create_dir"
   ]
  },
  {
   "cell_type": "code",
   "execution_count": 2,
   "metadata": {},
   "outputs": [
    {
     "name": "stdout",
     "output_type": "stream",
     "text": [
      "/home/lukec/workspace/diva_01\n"
     ]
    }
   ],
   "source": [
    "PATH_ROOT = Path(os.getcwd()).absolute().parent\n",
    "print(PATH_ROOT)"
   ]
  },
  {
   "cell_type": "code",
   "execution_count": 3,
   "metadata": {},
   "outputs": [
    {
     "name": "stdout",
     "output_type": "stream",
     "text": [
      "/home/lukec/workspace/diva_01/results_plot\n"
     ]
    }
   ],
   "source": [
    "path_output = os.path.join(PATH_ROOT, 'results_plot')\n",
    "print(path_output)\n",
    "create_dir(path_output)"
   ]
  },
  {
   "cell_type": "code",
   "execution_count": 4,
   "metadata": {},
   "outputs": [
    {
     "name": "stdout",
     "output_type": "stream",
     "text": [
      "(90, 38)\n"
     ]
    }
   ],
   "source": [
    "df = pd.read_csv(os.path.join(PATH_ROOT, 'results', 'real', 'real_falfa_nn_db.csv'))\n",
    "\n",
    "print(df.shape)"
   ]
  },
  {
   "cell_type": "code",
   "execution_count": 5,
   "metadata": {},
   "outputs": [
    {
     "name": "stdout",
     "output_type": "stream",
     "text": [
      "['breastcancer_std' 'texture_subset_std' 'ringnorm_subset_std'\n",
      " 'australian_std' 'cmc_std' 'yeast_subset_std' 'abalone_subset_std'\n",
      " 'phoneme_subset_std' 'banknote_std' 'htru2_subset_std']\n"
     ]
    }
   ],
   "source": [
    "datanames = df['Data.Base'].unique()\n",
    "print(datanames)"
   ]
  },
  {
   "cell_type": "code",
   "execution_count": 6,
   "metadata": {},
   "outputs": [
    {
     "name": "stdout",
     "output_type": "stream",
     "text": [
      "Index(['Data', 'F1', 'F1 SD', 'F1v', 'F2', 'F3', 'F4', 'N1', 'N2', 'N2 SD',\n",
      "       'N3', 'N3 SD', 'N4', 'N4 SD', 'T1', 'T1 SD', 'LSC', 'L1', 'L2', 'L3',\n",
      "       'T2', 'T3', 'T4', 'C1', 'C2', 'Density', 'ClsCoef', 'Hubs', 'Hubs SD',\n",
      "       'Path.Train', 'Path.Poison', 'Path.Test', 'Rate', 'Train.Clean',\n",
      "       'Test.Clean', 'Train.Poison', 'Test.Poison', 'Data.Base'],\n",
      "      dtype='object')\n"
     ]
    }
   ],
   "source": [
    "print(df.columns)"
   ]
  },
  {
   "cell_type": "code",
   "execution_count": 7,
   "metadata": {},
   "outputs": [
    {
     "data": {
      "text/plain": [
       "['diva_01', 'diva_02', 'diva_03', 'diva_04', 'diva_05']"
      ]
     },
     "execution_count": 7,
     "metadata": {},
     "output_type": "execute_result"
    }
   ],
   "source": [
    "workspace_names = [f'diva_{i:02d}' for i in range(1,6)]\n",
    "workspace_names"
   ]
  },
  {
   "cell_type": "code",
   "execution_count": 8,
   "metadata": {},
   "outputs": [],
   "source": [
    "attacks = ['falfa_nn', 'alfa_svm', 'rand_svm', 'poison_svm']"
   ]
  },
  {
   "cell_type": "code",
   "execution_count": 9,
   "metadata": {},
   "outputs": [],
   "source": [
    "NAME_MAP = {\n",
    "    'abalone_subset_std': 'Abalone',\n",
    "    'australian_std': 'Australian',\n",
    "    'banknote_std': 'Banknote',\n",
    "    'breastcancer_std': 'Breastcancer',\n",
    "    'cmc_std': 'CMC',\n",
    "    'htru2_subset_std': 'HTRU2',\n",
    "    'phoneme_subset_std': 'Phoneme',\n",
    "    'ringnorm_subset_std': 'Ringnorm',\n",
    "    'texture_subset_std': 'Texture',\n",
    "    'yeast_subset_std': 'Yeast'\n",
    "}"
   ]
  },
  {
   "cell_type": "code",
   "execution_count": 10,
   "metadata": {},
   "outputs": [],
   "source": [
    "for workspace in workspace_names:\n",
    "    tables = []\n",
    "    for att in attacks:\n",
    "        df_ = pd.read_csv(os.path.join(PATH_ROOT.parent, workspace, 'results', 'real', f'real_{att}_db.csv'))\n",
    "        tables.append(df_[['Data.Base', 'Train.Clean', 'Test.Clean']].groupby('Data.Base').mean().reset_index())\n",
    "results = pd.concat(tables, ignore_index=True).groupby('Data.Base').mean().reset_index()\n",
    "SDs = pd.concat(tables, ignore_index=True).groupby('Data.Base').std().reset_index()"
   ]
  },
  {
   "cell_type": "code",
   "execution_count": 11,
   "metadata": {},
   "outputs": [],
   "source": [
    "results.to_csv(os.path.join(path_output, 'table_real_acc.csv'))\n",
    "SDs.to_csv(os.path.join(path_output, 'table_real_acc_sd.csv'))"
   ]
  },
  {
   "cell_type": "code",
   "execution_count": 12,
   "metadata": {},
   "outputs": [
    {
     "data": {
      "text/html": [
       "<div>\n",
       "<style scoped>\n",
       "    .dataframe tbody tr th:only-of-type {\n",
       "        vertical-align: middle;\n",
       "    }\n",
       "\n",
       "    .dataframe tbody tr th {\n",
       "        vertical-align: top;\n",
       "    }\n",
       "\n",
       "    .dataframe thead th {\n",
       "        text-align: right;\n",
       "    }\n",
       "</style>\n",
       "<table border=\"1\" class=\"dataframe\">\n",
       "  <thead>\n",
       "    <tr style=\"text-align: right;\">\n",
       "      <th></th>\n",
       "      <th>Data.Base</th>\n",
       "      <th>Train.Clean</th>\n",
       "      <th>Test.Clean</th>\n",
       "    </tr>\n",
       "  </thead>\n",
       "  <tbody>\n",
       "    <tr>\n",
       "      <th>0</th>\n",
       "      <td>Abalone</td>\n",
       "      <td>79.9</td>\n",
       "      <td>76.5</td>\n",
       "    </tr>\n",
       "    <tr>\n",
       "      <th>1</th>\n",
       "      <td>Australian</td>\n",
       "      <td>91.5</td>\n",
       "      <td>81.9</td>\n",
       "    </tr>\n",
       "    <tr>\n",
       "      <th>2</th>\n",
       "      <td>Banknote</td>\n",
       "      <td>100.0</td>\n",
       "      <td>100.0</td>\n",
       "    </tr>\n",
       "    <tr>\n",
       "      <th>3</th>\n",
       "      <td>Breastcancer</td>\n",
       "      <td>99.3</td>\n",
       "      <td>95.0</td>\n",
       "    </tr>\n",
       "    <tr>\n",
       "      <th>4</th>\n",
       "      <td>CMC</td>\n",
       "      <td>79.9</td>\n",
       "      <td>77.5</td>\n",
       "    </tr>\n",
       "    <tr>\n",
       "      <th>5</th>\n",
       "      <td>HTRU2</td>\n",
       "      <td>94.8</td>\n",
       "      <td>92.6</td>\n",
       "    </tr>\n",
       "    <tr>\n",
       "      <th>6</th>\n",
       "      <td>Phoneme</td>\n",
       "      <td>89.7</td>\n",
       "      <td>85.6</td>\n",
       "    </tr>\n",
       "    <tr>\n",
       "      <th>7</th>\n",
       "      <td>Ringnorm</td>\n",
       "      <td>99.4</td>\n",
       "      <td>97.8</td>\n",
       "    </tr>\n",
       "    <tr>\n",
       "      <th>8</th>\n",
       "      <td>Texture</td>\n",
       "      <td>100.0</td>\n",
       "      <td>99.8</td>\n",
       "    </tr>\n",
       "    <tr>\n",
       "      <th>9</th>\n",
       "      <td>Yeast</td>\n",
       "      <td>73.5</td>\n",
       "      <td>65.8</td>\n",
       "    </tr>\n",
       "  </tbody>\n",
       "</table>\n",
       "</div>"
      ],
      "text/plain": [
       "      Data.Base  Train.Clean  Test.Clean\n",
       "0       Abalone         79.9        76.5\n",
       "1    Australian         91.5        81.9\n",
       "2      Banknote        100.0       100.0\n",
       "3  Breastcancer         99.3        95.0\n",
       "4           CMC         79.9        77.5\n",
       "5         HTRU2         94.8        92.6\n",
       "6       Phoneme         89.7        85.6\n",
       "7      Ringnorm         99.4        97.8\n",
       "8       Texture        100.0        99.8\n",
       "9         Yeast         73.5        65.8"
      ]
     },
     "execution_count": 12,
     "metadata": {},
     "output_type": "execute_result"
    }
   ],
   "source": [
    "results[['Train.Clean', 'Test.Clean']] = (results[['Train.Clean', 'Test.Clean']] * 100).round(1)\n",
    "results['Data.Base'] = results['Data.Base'].map(NAME_MAP)\n",
    "results\n"
   ]
  },
  {
   "cell_type": "code",
   "execution_count": 13,
   "metadata": {},
   "outputs": [
    {
     "data": {
      "text/html": [
       "<div>\n",
       "<style scoped>\n",
       "    .dataframe tbody tr th:only-of-type {\n",
       "        vertical-align: middle;\n",
       "    }\n",
       "\n",
       "    .dataframe tbody tr th {\n",
       "        vertical-align: top;\n",
       "    }\n",
       "\n",
       "    .dataframe thead th {\n",
       "        text-align: right;\n",
       "    }\n",
       "</style>\n",
       "<table border=\"1\" class=\"dataframe\">\n",
       "  <thead>\n",
       "    <tr style=\"text-align: right;\">\n",
       "      <th></th>\n",
       "      <th>Data.Base</th>\n",
       "      <th>Train.Clean</th>\n",
       "      <th>Test.Clean</th>\n",
       "    </tr>\n",
       "  </thead>\n",
       "  <tbody>\n",
       "    <tr>\n",
       "      <th>0</th>\n",
       "      <td>Abalone</td>\n",
       "      <td>0.7</td>\n",
       "      <td>0.5</td>\n",
       "    </tr>\n",
       "    <tr>\n",
       "      <th>1</th>\n",
       "      <td>Australian</td>\n",
       "      <td>3.1</td>\n",
       "      <td>2.1</td>\n",
       "    </tr>\n",
       "    <tr>\n",
       "      <th>2</th>\n",
       "      <td>Banknote</td>\n",
       "      <td>0.0</td>\n",
       "      <td>0.0</td>\n",
       "    </tr>\n",
       "    <tr>\n",
       "      <th>3</th>\n",
       "      <td>Breastcancer</td>\n",
       "      <td>0.2</td>\n",
       "      <td>2.5</td>\n",
       "    </tr>\n",
       "    <tr>\n",
       "      <th>4</th>\n",
       "      <td>CMC</td>\n",
       "      <td>2.8</td>\n",
       "      <td>0.6</td>\n",
       "    </tr>\n",
       "    <tr>\n",
       "      <th>5</th>\n",
       "      <td>HTRU2</td>\n",
       "      <td>0.5</td>\n",
       "      <td>0.9</td>\n",
       "    </tr>\n",
       "    <tr>\n",
       "      <th>6</th>\n",
       "      <td>Phoneme</td>\n",
       "      <td>6.3</td>\n",
       "      <td>1.3</td>\n",
       "    </tr>\n",
       "    <tr>\n",
       "      <th>7</th>\n",
       "      <td>Ringnorm</td>\n",
       "      <td>0.4</td>\n",
       "      <td>1.1</td>\n",
       "    </tr>\n",
       "    <tr>\n",
       "      <th>8</th>\n",
       "      <td>Texture</td>\n",
       "      <td>0.0</td>\n",
       "      <td>0.5</td>\n",
       "    </tr>\n",
       "    <tr>\n",
       "      <th>9</th>\n",
       "      <td>Yeast</td>\n",
       "      <td>4.7</td>\n",
       "      <td>1.6</td>\n",
       "    </tr>\n",
       "  </tbody>\n",
       "</table>\n",
       "</div>"
      ],
      "text/plain": [
       "      Data.Base  Train.Clean  Test.Clean\n",
       "0       Abalone          0.7         0.5\n",
       "1    Australian          3.1         2.1\n",
       "2      Banknote          0.0         0.0\n",
       "3  Breastcancer          0.2         2.5\n",
       "4           CMC          2.8         0.6\n",
       "5         HTRU2          0.5         0.9\n",
       "6       Phoneme          6.3         1.3\n",
       "7      Ringnorm          0.4         1.1\n",
       "8       Texture          0.0         0.5\n",
       "9         Yeast          4.7         1.6"
      ]
     },
     "execution_count": 13,
     "metadata": {},
     "output_type": "execute_result"
    }
   ],
   "source": [
    "SDs[['Train.Clean', 'Test.Clean']] = (SDs[['Train.Clean', 'Test.Clean']] * 100).round(1)\n",
    "SDs['Data.Base'] = SDs['Data.Base'].map(NAME_MAP)\n",
    "SDs\n"
   ]
  },
  {
   "cell_type": "code",
   "execution_count": 15,
   "metadata": {},
   "outputs": [
    {
     "data": {
      "text/html": [
       "<div>\n",
       "<style scoped>\n",
       "    .dataframe tbody tr th:only-of-type {\n",
       "        vertical-align: middle;\n",
       "    }\n",
       "\n",
       "    .dataframe tbody tr th {\n",
       "        vertical-align: top;\n",
       "    }\n",
       "\n",
       "    .dataframe thead th {\n",
       "        text-align: right;\n",
       "    }\n",
       "</style>\n",
       "<table border=\"1\" class=\"dataframe\">\n",
       "  <thead>\n",
       "    <tr style=\"text-align: right;\">\n",
       "      <th></th>\n",
       "      <th>Data</th>\n",
       "      <th>Train</th>\n",
       "      <th>Test</th>\n",
       "    </tr>\n",
       "  </thead>\n",
       "  <tbody>\n",
       "    <tr>\n",
       "      <th>0</th>\n",
       "      <td>Abalone</td>\n",
       "      <td>$79.9\\pm0.7$</td>\n",
       "      <td>$76.5\\pm0.5$</td>\n",
       "    </tr>\n",
       "    <tr>\n",
       "      <th>1</th>\n",
       "      <td>Australian</td>\n",
       "      <td>$91.5\\pm3.1$</td>\n",
       "      <td>$81.9\\pm2.1$</td>\n",
       "    </tr>\n",
       "    <tr>\n",
       "      <th>2</th>\n",
       "      <td>Banknote</td>\n",
       "      <td>$100.0\\pm0.0$</td>\n",
       "      <td>$100.0\\pm0.0$</td>\n",
       "    </tr>\n",
       "    <tr>\n",
       "      <th>3</th>\n",
       "      <td>Breastcancer</td>\n",
       "      <td>$99.3\\pm0.2$</td>\n",
       "      <td>$95.0\\pm2.5$</td>\n",
       "    </tr>\n",
       "    <tr>\n",
       "      <th>4</th>\n",
       "      <td>CMC</td>\n",
       "      <td>$79.9\\pm2.8$</td>\n",
       "      <td>$77.5\\pm0.6$</td>\n",
       "    </tr>\n",
       "    <tr>\n",
       "      <th>5</th>\n",
       "      <td>HTRU2</td>\n",
       "      <td>$94.8\\pm0.5$</td>\n",
       "      <td>$92.6\\pm0.9$</td>\n",
       "    </tr>\n",
       "    <tr>\n",
       "      <th>6</th>\n",
       "      <td>Phoneme</td>\n",
       "      <td>$89.7\\pm6.3$</td>\n",
       "      <td>$85.6\\pm1.3$</td>\n",
       "    </tr>\n",
       "    <tr>\n",
       "      <th>7</th>\n",
       "      <td>Ringnorm</td>\n",
       "      <td>$99.4\\pm0.4$</td>\n",
       "      <td>$97.8\\pm1.1$</td>\n",
       "    </tr>\n",
       "    <tr>\n",
       "      <th>8</th>\n",
       "      <td>Texture</td>\n",
       "      <td>$100.0\\pm0.0$</td>\n",
       "      <td>$99.8\\pm0.5$</td>\n",
       "    </tr>\n",
       "    <tr>\n",
       "      <th>9</th>\n",
       "      <td>Yeast</td>\n",
       "      <td>$73.5\\pm4.7$</td>\n",
       "      <td>$65.8\\pm1.6$</td>\n",
       "    </tr>\n",
       "  </tbody>\n",
       "</table>\n",
       "</div>"
      ],
      "text/plain": [
       "           Data          Train           Test\n",
       "0       Abalone   $79.9\\pm0.7$   $76.5\\pm0.5$\n",
       "1    Australian   $91.5\\pm3.1$   $81.9\\pm2.1$\n",
       "2      Banknote  $100.0\\pm0.0$  $100.0\\pm0.0$\n",
       "3  Breastcancer   $99.3\\pm0.2$   $95.0\\pm2.5$\n",
       "4           CMC   $79.9\\pm2.8$   $77.5\\pm0.6$\n",
       "5         HTRU2   $94.8\\pm0.5$   $92.6\\pm0.9$\n",
       "6       Phoneme   $89.7\\pm6.3$   $85.6\\pm1.3$\n",
       "7      Ringnorm   $99.4\\pm0.4$   $97.8\\pm1.1$\n",
       "8       Texture  $100.0\\pm0.0$   $99.8\\pm0.5$\n",
       "9         Yeast   $73.5\\pm4.7$   $65.8\\pm1.6$"
      ]
     },
     "execution_count": 15,
     "metadata": {},
     "output_type": "execute_result"
    }
   ],
   "source": [
    "output_acc = pd.DataFrame()\n",
    "output_acc['Data'] = results['Data.Base']\n",
    "output_acc[['Train', 'Test']] = '$' + results[['Train.Clean', 'Test.Clean']].astype(str) + '\\pm' + SDs[['Train.Clean', 'Test.Clean']].astype(str) + '$'\n",
    "output_acc"
   ]
  },
  {
   "cell_type": "code",
   "execution_count": 17,
   "metadata": {},
   "outputs": [
    {
     "name": "stdout",
     "output_type": "stream",
     "text": [
      "\\begin{tabular}{lcc}\n",
      "\\toprule\n",
      "        Data &         Train &          Test \\\\\n",
      "\\midrule\n",
      "     Abalone &  $79.9\\pm0.7$ &  $76.5\\pm0.5$ \\\\\n",
      "  Australian &  $91.5\\pm3.1$ &  $81.9\\pm2.1$ \\\\\n",
      "    Banknote & $100.0\\pm0.0$ & $100.0\\pm0.0$ \\\\\n",
      "Breastcancer &  $99.3\\pm0.2$ &  $95.0\\pm2.5$ \\\\\n",
      "         CMC &  $79.9\\pm2.8$ &  $77.5\\pm0.6$ \\\\\n",
      "       HTRU2 &  $94.8\\pm0.5$ &  $92.6\\pm0.9$ \\\\\n",
      "     Phoneme &  $89.7\\pm6.3$ &  $85.6\\pm1.3$ \\\\\n",
      "    Ringnorm &  $99.4\\pm0.4$ &  $97.8\\pm1.1$ \\\\\n",
      "     Texture & $100.0\\pm0.0$ &  $99.8\\pm0.5$ \\\\\n",
      "       Yeast &  $73.5\\pm4.7$ &  $65.8\\pm1.6$ \\\\\n",
      "\\bottomrule\n",
      "\\end{tabular}\n",
      "\n"
     ]
    }
   ],
   "source": [
    "print(output_acc.to_latex(index=False, float_format='%.1f', column_format='lcc', escape=False))"
   ]
  },
  {
   "cell_type": "code",
   "execution_count": null,
   "metadata": {},
   "outputs": [],
   "source": [
    "RATES = [0.1, 0.2, 0.3]\n",
    "\n",
    "tables = []\n",
    "for workspace in workspace_names:\n",
    "    for att in attacks:\n",
    "        df_ = pd.read_csv(os.path.join(PATH_ROOT.parent, workspace, 'results', 'real', f'real_{att}_db.csv'))\n",
    "        for rate in RATES:\n",
    "            subset_ =  df_[df_['Rate'] == rate][['Data.Base', 'Train.Clean', 'Test.Clean', 'Train.Poison', 'Test.Poison']]\n",
    "            n_ = subset_.shape[0]\n",
    "\n",
    "            data = {\n",
    "                'Dataset': subset_['Data.Base'],\n",
    "                'Poisoning Rate': np.array([rate] * n_),\n",
    "                'Attack': np.array([att] * n_),\n",
    "                'Train': (subset_['Train.Clean'] - subset_['Train.Poison']) * 100,\n",
    "                'Test': (subset_['Test.Clean'] - subset_['Test.Poison']) * 100,\n",
    "            }\n",
    "            tables.append(pd.DataFrame(data))\n",
    "results = pd.concat(tables, ignore_index=True)\n"
   ]
  },
  {
   "cell_type": "code",
   "execution_count": null,
   "metadata": {},
   "outputs": [],
   "source": [
    "table = results.groupby(['Dataset', 'Poisoning Rate', 'Attack']).mean().reset_index()\n",
    "table.to_csv(os.path.join(path_output, 'table_real_dif.csv'), index=False)\n",
    "\n",
    "tab_SD = results.groupby(['Dataset', 'Poisoning Rate', 'Attack']).std().reset_index()\n",
    "tab_SD.to_csv(os.path.join(path_output, 'table_real_dif_sd.csv'), index=False)"
   ]
  },
  {
   "cell_type": "code",
   "execution_count": null,
   "metadata": {},
   "outputs": [],
   "source": [
    "RATE = 0.3\n",
    "\n",
    "def toPivot(table):\n",
    "    tab_pivot = table[table['Poisoning Rate'] == RATE].pivot(index='Dataset', columns=['Attack'], values=['Test']).round(1)\n",
    "    tab_pivot.columns = [c[-1] for c in tab_pivot.columns.to_flat_index()]\n",
    "    tab_pivot = tab_pivot.reset_index()\n",
    "    tab_pivot = tab_pivot[['Dataset', 'rand_svm', 'poison_svm', 'alfa_svm', 'falfa_nn']]\n",
    "    tab_pivot.columns = ['Dataset', 'Rand', 'PoisSVM', 'ALFA', 'FALFA']\n",
    "    tab_pivot['Dataset'] = tab_pivot['Dataset'].map(NAME_MAP)\n",
    "    return tab_pivot\n"
   ]
  },
  {
   "cell_type": "code",
   "execution_count": null,
   "metadata": {},
   "outputs": [],
   "source": [
    "tab_pivot = toPivot(table)\n",
    "tab_pivot"
   ]
  },
  {
   "cell_type": "code",
   "execution_count": null,
   "metadata": {},
   "outputs": [],
   "source": [
    "sd_pivot = toPivot(tab_SD)\n",
    "sd_pivot"
   ]
  },
  {
   "cell_type": "code",
   "execution_count": null,
   "metadata": {},
   "outputs": [],
   "source": [
    "output_pivot = pd.DataFrame()\n",
    "output_pivot['Dataset'] = tab_pivot['Dataset']\n",
    "output_pivot[['Rand', 'PoisSVM', 'ALFA', 'FALFA']] = '$' + tab_pivot[['Rand', 'PoisSVM', 'ALFA', 'FALFA']].astype(str) + '\\pm' + sd_pivot[['Rand', 'PoisSVM', 'ALFA', 'FALFA']].astype(str) + '$'\n",
    "print(output_pivot.to_latex(index=False, float_format='%.1f', multicolumn=True, escape=False))"
   ]
  },
  {
   "cell_type": "code",
   "execution_count": null,
   "metadata": {},
   "outputs": [],
   "source": []
  }
 ],
 "metadata": {
  "interpreter": {
   "hash": "8bcff36e631da1ef6cb25b63542a3f56d2322f7e3d69a7432caaf86f390cdb5a"
  },
  "kernelspec": {
   "display_name": "Python 3.8.10 64-bit ('torch': venv)",
   "language": "python",
   "name": "python3"
  },
  "language_info": {
   "codemirror_mode": {
    "name": "ipython",
    "version": 3
   },
   "file_extension": ".py",
   "mimetype": "text/x-python",
   "name": "python",
   "nbconvert_exporter": "python",
   "pygments_lexer": "ipython3",
   "version": "3.8.10"
  },
  "orig_nbformat": 4
 },
 "nbformat": 4,
 "nbformat_minor": 2
}

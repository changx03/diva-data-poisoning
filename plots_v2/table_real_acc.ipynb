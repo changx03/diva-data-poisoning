{
 "cells": [
  {
   "cell_type": "code",
   "execution_count": 1,
   "metadata": {},
   "outputs": [],
   "source": [
    "import os\n",
    "from glob import glob\n",
    "from pathlib import Path\n",
    "\n",
    "import matplotlib.pyplot as plt\n",
    "import numpy as np\n",
    "import pandas as pd\n",
    "import seaborn as sns\n",
    "from sklearn import linear_model\n",
    "from sklearn.metrics import RocCurveDisplay, auc, mean_squared_error, roc_curve\n",
    "from sklearn.model_selection import RandomizedSearchCV\n",
    "from sklearn.utils.fixes import loguniform\n",
    "from scipy.interpolate import interp1d\n",
    "\n",
    "from label_flip_revised.utils import create_dir"
   ]
  },
  {
   "cell_type": "code",
   "execution_count": 2,
   "metadata": {},
   "outputs": [
    {
     "name": "stdout",
     "output_type": "stream",
     "text": [
      "/home/lukec/workspace/diva_01\n"
     ]
    }
   ],
   "source": [
    "PATH_ROOT = Path(os.getcwd()).absolute().parent\n",
    "print(PATH_ROOT)"
   ]
  },
  {
   "cell_type": "code",
   "execution_count": 3,
   "metadata": {},
   "outputs": [
    {
     "name": "stdout",
     "output_type": "stream",
     "text": [
      "/home/lukec/workspace/diva_01/results_plot\n"
     ]
    }
   ],
   "source": [
    "path_output = os.path.join(PATH_ROOT, 'results_plot')\n",
    "print(path_output)\n",
    "create_dir(path_output)"
   ]
  },
  {
   "cell_type": "code",
   "execution_count": 4,
   "metadata": {},
   "outputs": [
    {
     "name": "stdout",
     "output_type": "stream",
     "text": [
      "(90, 38)\n"
     ]
    }
   ],
   "source": [
    "df = pd.read_csv(os.path.join(PATH_ROOT, 'results', 'real', 'real_falfa_nn_db.csv'))\n",
    "\n",
    "print(df.shape)"
   ]
  },
  {
   "cell_type": "code",
   "execution_count": 5,
   "metadata": {},
   "outputs": [
    {
     "name": "stdout",
     "output_type": "stream",
     "text": [
      "['breastcancer_std' 'texture_subset_std' 'ringnorm_subset_std'\n",
      " 'australian_std' 'cmc_std' 'yeast_subset_std' 'abalone_subset_std'\n",
      " 'phoneme_subset_std' 'banknote_std' 'htru2_subset_std']\n"
     ]
    }
   ],
   "source": [
    "datanames = df['Data.Base'].unique()\n",
    "print(datanames)"
   ]
  },
  {
   "cell_type": "code",
   "execution_count": 6,
   "metadata": {},
   "outputs": [
    {
     "name": "stdout",
     "output_type": "stream",
     "text": [
      "Index(['Data', 'F1', 'F1 SD', 'F1v', 'F2', 'F3', 'F4', 'N1', 'N2', 'N2 SD',\n",
      "       'N3', 'N3 SD', 'N4', 'N4 SD', 'T1', 'T1 SD', 'LSC', 'L1', 'L2', 'L3',\n",
      "       'T2', 'T3', 'T4', 'C1', 'C2', 'Density', 'ClsCoef', 'Hubs', 'Hubs SD',\n",
      "       'Path.Train', 'Path.Poison', 'Path.Test', 'Rate', 'Train.Clean',\n",
      "       'Test.Clean', 'Train.Poison', 'Test.Poison', 'Data.Base'],\n",
      "      dtype='object')\n"
     ]
    }
   ],
   "source": [
    "print(df.columns)"
   ]
  },
  {
   "cell_type": "code",
   "execution_count": 7,
   "metadata": {},
   "outputs": [
    {
     "data": {
      "text/plain": [
       "['diva_01', 'diva_02', 'diva_03', 'diva_04', 'diva_05']"
      ]
     },
     "execution_count": 7,
     "metadata": {},
     "output_type": "execute_result"
    }
   ],
   "source": [
    "workspace_names = [f'diva_{i:02d}' for i in range(1,6)]\n",
    "workspace_names"
   ]
  },
  {
   "cell_type": "code",
   "execution_count": 8,
   "metadata": {},
   "outputs": [],
   "source": [
    "attacks = ['falfa_nn', 'alfa_svm', 'rand_svm', 'poison_svm']"
   ]
  },
  {
   "cell_type": "code",
   "execution_count": 9,
   "metadata": {},
   "outputs": [],
   "source": [
    "for workspace in workspace_names:\n",
    "    tables = []\n",
    "    for att in attacks:\n",
    "        df_ = pd.read_csv(os.path.join(PATH_ROOT.parent, workspace, 'results', 'real', f'real_{att}_db.csv'))\n",
    "        tables.append(df_[['Data.Base', 'Train.Clean', 'Test.Clean']].groupby('Data.Base').mean().reset_index())\n",
    "results = pd.concat(tables, ignore_index=True).groupby('Data.Base').mean().reset_index()"
   ]
  },
  {
   "cell_type": "code",
   "execution_count": 10,
   "metadata": {},
   "outputs": [],
   "source": [
    "results.to_csv(os.path.join(path_output, 'table_real_acc.csv'))"
   ]
  },
  {
   "cell_type": "code",
   "execution_count": 11,
   "metadata": {},
   "outputs": [
    {
     "data": {
      "text/html": [
       "<div>\n",
       "<style scoped>\n",
       "    .dataframe tbody tr th:only-of-type {\n",
       "        vertical-align: middle;\n",
       "    }\n",
       "\n",
       "    .dataframe tbody tr th {\n",
       "        vertical-align: top;\n",
       "    }\n",
       "\n",
       "    .dataframe thead th {\n",
       "        text-align: right;\n",
       "    }\n",
       "</style>\n",
       "<table border=\"1\" class=\"dataframe\">\n",
       "  <thead>\n",
       "    <tr style=\"text-align: right;\">\n",
       "      <th></th>\n",
       "      <th>Data.Base</th>\n",
       "      <th>Train.Clean</th>\n",
       "      <th>Test.Clean</th>\n",
       "    </tr>\n",
       "  </thead>\n",
       "  <tbody>\n",
       "    <tr>\n",
       "      <th>0</th>\n",
       "      <td>abalone_subset_std</td>\n",
       "      <td>79.921875</td>\n",
       "      <td>76.500000</td>\n",
       "    </tr>\n",
       "    <tr>\n",
       "      <th>1</th>\n",
       "      <td>australian_std</td>\n",
       "      <td>91.485507</td>\n",
       "      <td>81.884058</td>\n",
       "    </tr>\n",
       "    <tr>\n",
       "      <th>2</th>\n",
       "      <td>banknote_std</td>\n",
       "      <td>100.000000</td>\n",
       "      <td>100.000000</td>\n",
       "    </tr>\n",
       "    <tr>\n",
       "      <th>3</th>\n",
       "      <td>breastcancer_std</td>\n",
       "      <td>99.340659</td>\n",
       "      <td>94.956140</td>\n",
       "    </tr>\n",
       "    <tr>\n",
       "      <th>4</th>\n",
       "      <td>cmc_std</td>\n",
       "      <td>79.902377</td>\n",
       "      <td>77.542373</td>\n",
       "    </tr>\n",
       "    <tr>\n",
       "      <th>5</th>\n",
       "      <td>htru2_subset_std</td>\n",
       "      <td>94.796875</td>\n",
       "      <td>92.625000</td>\n",
       "    </tr>\n",
       "    <tr>\n",
       "      <th>6</th>\n",
       "      <td>phoneme_subset_std</td>\n",
       "      <td>89.687500</td>\n",
       "      <td>85.562500</td>\n",
       "    </tr>\n",
       "    <tr>\n",
       "      <th>7</th>\n",
       "      <td>ringnorm_subset_std</td>\n",
       "      <td>99.437500</td>\n",
       "      <td>97.812500</td>\n",
       "    </tr>\n",
       "    <tr>\n",
       "      <th>8</th>\n",
       "      <td>texture_subset_std</td>\n",
       "      <td>100.000000</td>\n",
       "      <td>99.750000</td>\n",
       "    </tr>\n",
       "    <tr>\n",
       "      <th>9</th>\n",
       "      <td>yeast_subset_std</td>\n",
       "      <td>73.527349</td>\n",
       "      <td>65.782123</td>\n",
       "    </tr>\n",
       "  </tbody>\n",
       "</table>\n",
       "</div>"
      ],
      "text/plain": [
       "             Data.Base  Train.Clean  Test.Clean\n",
       "0   abalone_subset_std    79.921875   76.500000\n",
       "1       australian_std    91.485507   81.884058\n",
       "2         banknote_std   100.000000  100.000000\n",
       "3     breastcancer_std    99.340659   94.956140\n",
       "4              cmc_std    79.902377   77.542373\n",
       "5     htru2_subset_std    94.796875   92.625000\n",
       "6   phoneme_subset_std    89.687500   85.562500\n",
       "7  ringnorm_subset_std    99.437500   97.812500\n",
       "8   texture_subset_std   100.000000   99.750000\n",
       "9     yeast_subset_std    73.527349   65.782123"
      ]
     },
     "execution_count": 11,
     "metadata": {},
     "output_type": "execute_result"
    }
   ],
   "source": [
    "results[['Train.Clean', 'Test.Clean']] = results[['Train.Clean', 'Test.Clean']] * 100\n",
    "results"
   ]
  },
  {
   "cell_type": "code",
   "execution_count": 12,
   "metadata": {},
   "outputs": [
    {
     "name": "stdout",
     "output_type": "stream",
     "text": [
      "\\begin{tabular}{lcc}\n",
      "\\toprule\n",
      "          Data.Base &  Train.Clean &  Test.Clean \\\\\n",
      "\\midrule\n",
      " abalone\\_subset\\_std &         79.9 &        76.5 \\\\\n",
      "     australian\\_std &         91.5 &        81.9 \\\\\n",
      "       banknote\\_std &        100.0 &       100.0 \\\\\n",
      "   breastcancer\\_std &         99.3 &        95.0 \\\\\n",
      "            cmc\\_std &         79.9 &        77.5 \\\\\n",
      "   htru2\\_subset\\_std &         94.8 &        92.6 \\\\\n",
      " phoneme\\_subset\\_std &         89.7 &        85.6 \\\\\n",
      "ringnorm\\_subset\\_std &         99.4 &        97.8 \\\\\n",
      " texture\\_subset\\_std &        100.0 &        99.8 \\\\\n",
      "   yeast\\_subset\\_std &         73.5 &        65.8 \\\\\n",
      "\\bottomrule\n",
      "\\end{tabular}\n",
      "\n"
     ]
    }
   ],
   "source": [
    "print(results.to_latex(index=False, float_format='%.1f', column_format='lcc'))"
   ]
  },
  {
   "cell_type": "code",
   "execution_count": 13,
   "metadata": {},
   "outputs": [],
   "source": [
    "RATES = [0.1, 0.2, 0.3]\n",
    "\n",
    "tables = []\n",
    "for workspace in workspace_names:\n",
    "    for att in attacks:\n",
    "        df_ = pd.read_csv(os.path.join(PATH_ROOT.parent, workspace, 'results', 'real', f'real_{att}_db.csv'))\n",
    "        for rate in RATES:\n",
    "            subset_ =  df_[df_['Rate'] == rate][['Data.Base', 'Train.Clean', 'Test.Clean', 'Train.Poison', 'Test.Poison']]\n",
    "            n_ = subset_.shape[0]\n",
    "\n",
    "            data = {\n",
    "                'Dataset': subset_['Data.Base'],\n",
    "                'Poisoning Rate': np.array([rate] * n_),\n",
    "                'Attack': np.array([att] * n_),\n",
    "                'Train': (subset_['Train.Clean'] - subset_['Train.Poison']) * 100,\n",
    "                'Test': (subset_['Test.Clean'] - subset_['Test.Poison']) * 100,\n",
    "            }\n",
    "            tables.append(pd.DataFrame(data))\n",
    "results = pd.concat(tables, ignore_index=True)\n"
   ]
  },
  {
   "cell_type": "code",
   "execution_count": 14,
   "metadata": {},
   "outputs": [],
   "source": [
    "table = results.groupby(['Dataset', 'Poisoning Rate', 'Attack']).mean().reset_index()\n",
    "table.to_csv(os.path.join(path_output, 'table_real_dif.csv'), index=False)"
   ]
  },
  {
   "cell_type": "code",
   "execution_count": 15,
   "metadata": {},
   "outputs": [],
   "source": [
    "tab_pivot = table[table['Poisoning Rate'] == 0.2].pivot(index='Dataset', columns=['Attack'], values=['Test']).round(1)\n",
    "tab_pivot.columns = [c[-1] for c in tab_pivot.columns.to_flat_index()]\n",
    "tab_pivot = tab_pivot.reset_index()\n",
    "tab_pivot = tab_pivot[['Dataset', 'rand_svm', 'poison_svm', 'alfa_svm', 'falfa_nn']]\n",
    "tab_pivot.columns = ['Dataset', 'Rand', 'PoisSVM', 'ALFA', 'FALFA']\n",
    "tab_pivot['Dataset'] = tab_pivot['Dataset'].map({\n",
    "    'abalone_subset_std': 'Abalone',\n",
    "    'australian_std': 'Australian',\n",
    "    'banknote_std': 'Banknote',\n",
    "    'breastcancer_std': 'Breastcancer',\n",
    "    'cmc_std': 'CMC',\n",
    "    'htru2_subset_std': 'HTRU2',\n",
    "    'phoneme_subset_std': 'Phoneme',\n",
    "    'ringnorm_subset_std': 'Ringnorm',\n",
    "    'texture_subset_std': 'Texture',\n",
    "    'yeast_subset_std': 'Yeast'\n",
    "})\n"
   ]
  },
  {
   "cell_type": "code",
   "execution_count": 16,
   "metadata": {},
   "outputs": [
    {
     "data": {
      "text/html": [
       "<div>\n",
       "<style scoped>\n",
       "    .dataframe tbody tr th:only-of-type {\n",
       "        vertical-align: middle;\n",
       "    }\n",
       "\n",
       "    .dataframe tbody tr th {\n",
       "        vertical-align: top;\n",
       "    }\n",
       "\n",
       "    .dataframe thead th {\n",
       "        text-align: right;\n",
       "    }\n",
       "</style>\n",
       "<table border=\"1\" class=\"dataframe\">\n",
       "  <thead>\n",
       "    <tr style=\"text-align: right;\">\n",
       "      <th></th>\n",
       "      <th>Dataset</th>\n",
       "      <th>Rand</th>\n",
       "      <th>PoisSVM</th>\n",
       "      <th>ALFA</th>\n",
       "      <th>FALFA</th>\n",
       "    </tr>\n",
       "  </thead>\n",
       "  <tbody>\n",
       "    <tr>\n",
       "      <th>0</th>\n",
       "      <td>Abalone</td>\n",
       "      <td>1.7</td>\n",
       "      <td>1.8</td>\n",
       "      <td>20.5</td>\n",
       "      <td>17.0</td>\n",
       "    </tr>\n",
       "    <tr>\n",
       "      <th>1</th>\n",
       "      <td>Australian</td>\n",
       "      <td>-0.0</td>\n",
       "      <td>7.4</td>\n",
       "      <td>28.4</td>\n",
       "      <td>20.0</td>\n",
       "    </tr>\n",
       "    <tr>\n",
       "      <th>2</th>\n",
       "      <td>Banknote</td>\n",
       "      <td>2.4</td>\n",
       "      <td>2.0</td>\n",
       "      <td>21.7</td>\n",
       "      <td>21.8</td>\n",
       "    </tr>\n",
       "    <tr>\n",
       "      <th>3</th>\n",
       "      <td>Breastcancer</td>\n",
       "      <td>3.3</td>\n",
       "      <td>7.0</td>\n",
       "      <td>19.5</td>\n",
       "      <td>20.0</td>\n",
       "    </tr>\n",
       "    <tr>\n",
       "      <th>4</th>\n",
       "      <td>CMC</td>\n",
       "      <td>0.5</td>\n",
       "      <td>15.3</td>\n",
       "      <td>11.1</td>\n",
       "      <td>16.3</td>\n",
       "    </tr>\n",
       "    <tr>\n",
       "      <th>5</th>\n",
       "      <td>HTRU2</td>\n",
       "      <td>1.6</td>\n",
       "      <td>1.6</td>\n",
       "      <td>19.7</td>\n",
       "      <td>21.9</td>\n",
       "    </tr>\n",
       "    <tr>\n",
       "      <th>6</th>\n",
       "      <td>Phoneme</td>\n",
       "      <td>7.8</td>\n",
       "      <td>2.5</td>\n",
       "      <td>14.1</td>\n",
       "      <td>20.4</td>\n",
       "    </tr>\n",
       "    <tr>\n",
       "      <th>7</th>\n",
       "      <td>Ringnorm</td>\n",
       "      <td>0.8</td>\n",
       "      <td>3.4</td>\n",
       "      <td>26.2</td>\n",
       "      <td>20.1</td>\n",
       "    </tr>\n",
       "    <tr>\n",
       "      <th>8</th>\n",
       "      <td>Texture</td>\n",
       "      <td>2.1</td>\n",
       "      <td>1.8</td>\n",
       "      <td>22.3</td>\n",
       "      <td>24.5</td>\n",
       "    </tr>\n",
       "    <tr>\n",
       "      <th>9</th>\n",
       "      <td>Yeast</td>\n",
       "      <td>1.9</td>\n",
       "      <td>4.1</td>\n",
       "      <td>17.1</td>\n",
       "      <td>12.2</td>\n",
       "    </tr>\n",
       "  </tbody>\n",
       "</table>\n",
       "</div>"
      ],
      "text/plain": [
       "        Dataset  Rand  PoisSVM  ALFA  FALFA\n",
       "0       Abalone   1.7      1.8  20.5   17.0\n",
       "1    Australian  -0.0      7.4  28.4   20.0\n",
       "2      Banknote   2.4      2.0  21.7   21.8\n",
       "3  Breastcancer   3.3      7.0  19.5   20.0\n",
       "4           CMC   0.5     15.3  11.1   16.3\n",
       "5         HTRU2   1.6      1.6  19.7   21.9\n",
       "6       Phoneme   7.8      2.5  14.1   20.4\n",
       "7      Ringnorm   0.8      3.4  26.2   20.1\n",
       "8       Texture   2.1      1.8  22.3   24.5\n",
       "9         Yeast   1.9      4.1  17.1   12.2"
      ]
     },
     "execution_count": 16,
     "metadata": {},
     "output_type": "execute_result"
    }
   ],
   "source": [
    "tab_pivot"
   ]
  },
  {
   "cell_type": "code",
   "execution_count": 17,
   "metadata": {},
   "outputs": [
    {
     "name": "stdout",
     "output_type": "stream",
     "text": [
      "\\begin{tabular}{lrrrr}\n",
      "\\toprule\n",
      "     Dataset &  Rand &  PoisSVM &  ALFA &  FALFA \\\\\n",
      "\\midrule\n",
      "     Abalone &   1.7 &      1.8 &  20.5 &   17.0 \\\\\n",
      "  Australian &  -0.0 &      7.4 &  28.4 &   20.0 \\\\\n",
      "    Banknote &   2.4 &      2.0 &  21.7 &   21.8 \\\\\n",
      "Breastcancer &   3.3 &      7.0 &  19.5 &   20.0 \\\\\n",
      "         CMC &   0.5 &     15.3 &  11.1 &   16.3 \\\\\n",
      "       HTRU2 &   1.6 &      1.6 &  19.7 &   21.9 \\\\\n",
      "     Phoneme &   7.8 &      2.5 &  14.1 &   20.4 \\\\\n",
      "    Ringnorm &   0.8 &      3.4 &  26.2 &   20.1 \\\\\n",
      "     Texture &   2.1 &      1.8 &  22.3 &   24.5 \\\\\n",
      "       Yeast &   1.9 &      4.1 &  17.1 &   12.2 \\\\\n",
      "\\bottomrule\n",
      "\\end{tabular}\n",
      "\n"
     ]
    }
   ],
   "source": [
    "print(tab_pivot.to_latex(index=False, float_format='%.1f', multicolumn=True))"
   ]
  },
  {
   "cell_type": "code",
   "execution_count": null,
   "metadata": {},
   "outputs": [],
   "source": []
  }
 ],
 "metadata": {
  "interpreter": {
   "hash": "8bcff36e631da1ef6cb25b63542a3f56d2322f7e3d69a7432caaf86f390cdb5a"
  },
  "kernelspec": {
   "display_name": "Python 3.8.10 64-bit ('torch': venv)",
   "language": "python",
   "name": "python3"
  },
  "language_info": {
   "codemirror_mode": {
    "name": "ipython",
    "version": 3
   },
   "file_extension": ".py",
   "mimetype": "text/x-python",
   "name": "python",
   "nbconvert_exporter": "python",
   "pygments_lexer": "ipython3",
   "version": "3.8.10"
  },
  "orig_nbformat": 4
 },
 "nbformat": 4,
 "nbformat_minor": 2
}

{
 "cells": [
  {
   "cell_type": "code",
   "execution_count": null,
   "metadata": {},
   "outputs": [],
   "source": [
    "import os\n",
    "from pathlib import Path\n",
    "from glob import glob\n",
    "\n",
    "import numpy as np\n",
    "import pandas as pd\n",
    "import matplotlib.pyplot as plt\n",
    "import seaborn as sns\n",
    "\n",
    "from label_flip_revised.utils import create_dir"
   ]
  },
  {
   "cell_type": "code",
   "execution_count": null,
   "metadata": {},
   "outputs": [],
   "source": [
    "PATH_ROOT = Path(os.getcwd()).absolute().parent\n",
    "print(PATH_ROOT)"
   ]
  },
  {
   "cell_type": "code",
   "execution_count": null,
   "metadata": {},
   "outputs": [],
   "source": [
    "path_output = os.path.join(PATH_ROOT, 'results_plot')\n",
    "print(path_output)\n",
    "create_dir(path_output)"
   ]
  },
  {
   "cell_type": "code",
   "execution_count": null,
   "metadata": {},
   "outputs": [],
   "source": [
    "df_falfa_01 = pd.read_csv(os.path.join(PATH_ROOT, 'results', 'real', 'real_falfa_nn_db.csv'))\n",
    "print(df_falfa_01.shape)\n",
    "df_falfa_01.head()"
   ]
  },
  {
   "cell_type": "code",
   "execution_count": null,
   "metadata": {},
   "outputs": [],
   "source": [
    "df_falfa_01.columns"
   ]
  },
  {
   "cell_type": "code",
   "execution_count": null,
   "metadata": {},
   "outputs": [],
   "source": [
    "datanames = np.sort(df_falfa_01['Data.Base'].unique())\n",
    "print(datanames)"
   ]
  },
  {
   "cell_type": "code",
   "execution_count": null,
   "metadata": {},
   "outputs": [],
   "source": [
    "workspace_names = [f'diva_{i:02d}' for i in range(1,6)]\n",
    "workspace_names"
   ]
  },
  {
   "cell_type": "code",
   "execution_count": null,
   "metadata": {},
   "outputs": [],
   "source": [
    "dbnames = ['falfa_nn', 'alfa_svm', 'poison_svm', 'rand_svm']\n",
    "dbnames\n"
   ]
  },
  {
   "cell_type": "code",
   "execution_count": null,
   "metadata": {},
   "outputs": [],
   "source": [
    "score_dict = {}\n",
    "for dname in dbnames:\n",
    "    dfs = []\n",
    "    for wname in workspace_names:\n",
    "        df_ = pd.read_csv(os.path.join(PATH_ROOT.parent, wname, 'results', 'real', f'real_{dname}_db.csv'))\n",
    "        df_ = df_[['Data.Base', 'Rate', 'Train.Clean', 'Test.Clean', 'Train.Poison', 'Test.Poison']]\n",
    "        dfs.append(df_)\n",
    "    df = pd.concat(dfs, ignore_index=True).groupby(['Data.Base','Rate']).mean()\n",
    "    df.to_csv(os.path.join(path_output, f'real_score_mean_{dname}.csv'))"
   ]
  },
  {
   "cell_type": "code",
   "execution_count": null,
   "metadata": {},
   "outputs": [],
   "source": [
    "colors = {\n",
    "    'falfa_nn': '#d32f2f',\n",
    "    'rand_svm': '#1976d2',\n",
    "    'poison_svm': '#388e3c',\n",
    "}\n",
    "titlenames = [\n",
    "    'Abalone',\n",
    "    'Australian',\n",
    "    'Banknote',\n",
    "    'Breastcancer',\n",
    "    'CMC',\n",
    "    'HTRU2',\n",
    "    'Phoneme',\n",
    "    'Ringnorm',\n",
    "    'Texture',\n",
    "    'Yeast'\n",
    "]"
   ]
  },
  {
   "cell_type": "code",
   "execution_count": null,
   "metadata": {},
   "outputs": [],
   "source": [
    "def draw_subplot(dfs, dataname, ax, colors=colors):\n",
    "    for df, color_code in zip(dfs, colors):\n",
    "        df = df * 100\n",
    "        df.plot(x='Rate', y='Train.Poison', ax=ax, style='--', marker='.', color=colors[color_code], alpha=0.9)\n",
    "        df.plot(x='Rate', y='Test.Poison', ax=ax, marker='.', color=colors[color_code], alpha=0.9)\n",
    "\n",
    "    ax.set(xlim=[-1, 41], ylim=[45, 105])\n",
    "    ax.set_title(dataname, fontsize=FONTSIZE+1)\n",
    "    ax.set_xlabel('Poisoning Rate (%)', fontsize=FONTSIZE+1)\n",
    "    ax.set_ylabel('Accuracy (%)', fontsize=FONTSIZE+1)\n",
    "    ax.set_xticks(np.linspace(0, 40, num=5, endpoint=True), fontsize=FONTSIZE-1)\n",
    "    ax.set_yticks(np.linspace(50, 100, num=6, endpoint=True), fontsize=FONTSIZE-1)\n",
    "    ax.get_legend().remove()"
   ]
  },
  {
   "cell_type": "code",
   "execution_count": null,
   "metadata": {},
   "outputs": [],
   "source": [
    "# Save results\n",
    "df_01 = pd.read_csv(os.path.join(path_output, f'real_score_mean_falfa_nn.csv'))\n",
    "df_02 = pd.read_csv(os.path.join(path_output, f'real_score_mean_rand_svm.csv'))\n",
    "df_03 = pd.read_csv(os.path.join(path_output, f'real_score_mean_poison_svm.csv'))\n",
    "\n",
    "df_01"
   ]
  },
  {
   "cell_type": "code",
   "execution_count": null,
   "metadata": {},
   "outputs": [],
   "source": [
    "FONTSIZE = 13\n",
    "FIGSIZE = (16, 5)\n",
    "\n",
    "plt.rcParams[\"font.size\"] = FONTSIZE\n",
    "fig, axs = plt.subplots(2, 5, sharey=True, sharex=True, figsize=FIGSIZE)\n",
    "_axs = []\n",
    "for i in range(2):\n",
    "    for j in range(5):\n",
    "        _axs.append(axs[i, j])\n",
    "for dataname, title, ax in zip(datanames, titlenames, _axs):\n",
    "    dfs = [\n",
    "        df_01[df_01['Data.Base'] == dataname],\n",
    "        df_02[df_02['Data.Base'] == dataname],\n",
    "        df_03[df_03['Data.Base'] == dataname],\n",
    "    ]\n",
    "    draw_subplot(dfs, title, ax)\n",
    "\n",
    "plt.yticks(np.arange(50, 101, 10))\n",
    "lines_labels = [ax.get_legend_handles_labels() for ax in fig.axes]\n",
    "lines, labels = [sum(lol, []) for lol in zip(*lines_labels)]\n",
    "labels = [\n",
    "    'FALFA-Train',\n",
    "    'FALFA-Test',\n",
    "    'SLN-Train',\n",
    "    'SLN-Test',\n",
    "    'PoisSVM-Train',\n",
    "    'PoisSVM-Test',\n",
    "]\n",
    "fig.legend(lines, labels, bbox_to_anchor=(0, 1, 1, 0), loc=\"lower left\", mode=\"expand\", ncol=6)\n",
    "plt.tight_layout(pad=0.8)\n",
    "path_fig_out = os.path.join(path_output, 'flfa_acc.pdf', )\n",
    "plt.savefig(path_fig_out, dpi=300, bbox_inches='tight')\n",
    "print(f'Save plot to {path_fig_out}')"
   ]
  },
  {
   "cell_type": "code",
   "execution_count": null,
   "metadata": {},
   "outputs": [],
   "source": []
  }
 ],
 "metadata": {
  "interpreter": {
   "hash": "8bcff36e631da1ef6cb25b63542a3f56d2322f7e3d69a7432caaf86f390cdb5a"
  },
  "kernelspec": {
   "display_name": "Python 3.8.10 64-bit ('torch': venv)",
   "language": "python",
   "name": "python3"
  },
  "language_info": {
   "codemirror_mode": {
    "name": "ipython",
    "version": 3
   },
   "file_extension": ".py",
   "mimetype": "text/x-python",
   "name": "python",
   "nbconvert_exporter": "python",
   "pygments_lexer": "ipython3",
   "version": "3.8.10"
  },
  "orig_nbformat": 4
 },
 "nbformat": 4,
 "nbformat_minor": 2
}

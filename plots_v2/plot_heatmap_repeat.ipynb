{
 "cells": [
  {
   "cell_type": "code",
   "execution_count": 1,
   "metadata": {},
   "outputs": [],
   "source": [
    "import os\n",
    "from glob import glob\n",
    "from pathlib import Path\n",
    "\n",
    "import matplotlib.pyplot as plt\n",
    "import numpy as np\n",
    "import pandas as pd\n",
    "import seaborn as sns\n",
    "from pandas.api.types import CategoricalDtype\n",
    "from sklearn import linear_model\n",
    "from sklearn.metrics import RocCurveDisplay, auc, mean_squared_error, roc_curve\n",
    "from sklearn.model_selection import KFold, RandomizedSearchCV\n",
    "from sklearn.utils.fixes import loguniform\n",
    "\n",
    "from label_flip_revised.utils import create_dir"
   ]
  },
  {
   "cell_type": "code",
   "execution_count": 2,
   "metadata": {},
   "outputs": [
    {
     "name": "stdout",
     "output_type": "stream",
     "text": [
      "/home/lukec/workspace/diva_01\n"
     ]
    }
   ],
   "source": [
    "PATH_ROOT = Path(os.getcwd()).absolute().parent\n",
    "print(PATH_ROOT)"
   ]
  },
  {
   "cell_type": "code",
   "execution_count": 3,
   "metadata": {},
   "outputs": [
    {
     "name": "stdout",
     "output_type": "stream",
     "text": [
      "/home/lukec/workspace/diva_01/results_plot\n"
     ]
    }
   ],
   "source": [
    "path_output = os.path.join(PATH_ROOT, 'results_plot')\n",
    "print(path_output)\n",
    "create_dir(path_output)"
   ]
  },
  {
   "cell_type": "code",
   "execution_count": 4,
   "metadata": {},
   "outputs": [],
   "source": [
    "DIF_LEVELS = ['Hard', 'Normal', 'Easy']"
   ]
  },
  {
   "cell_type": "code",
   "execution_count": 5,
   "metadata": {},
   "outputs": [
    {
     "name": "stdout",
     "output_type": "stream",
     "text": [
      "(1350, 38)\n",
      "Index(['Data', 'F1', 'F1 SD', 'F1v', 'F2', 'F3', 'F4', 'N1', 'N2', 'N2 SD',\n",
      "       'N3', 'N3 SD', 'N4', 'N4 SD', 'T1', 'T1 SD', 'LSC', 'L1', 'L2', 'L3',\n",
      "       'T2', 'T3', 'T4', 'C1', 'C2', 'Density', 'ClsCoef', 'Hubs', 'Hubs SD',\n",
      "       'Path.Train', 'Path.Poison', 'Path.Test', 'Rate', 'Train.Clean',\n",
      "       'Test.Clean', 'Train.Poison', 'Test.Poison', 'Data.Base'],\n",
      "      dtype='object')\n"
     ]
    }
   ],
   "source": [
    "df = pd.read_csv(os.path.join(PATH_ROOT, 'results', 'synth', 'synth_alfa_svm_db.csv'))\n",
    "print(df.shape)\n",
    "print(df.columns)"
   ]
  },
  {
   "cell_type": "code",
   "execution_count": 6,
   "metadata": {},
   "outputs": [
    {
     "name": "stdout",
     "output_type": "stream",
     "text": [
      "28\n"
     ]
    }
   ],
   "source": [
    "COLS_CM = [\n",
    "    'F1', 'F1 SD', 'F1v', 'F2', 'F3', 'F4', 'N1', 'N2', 'N2 SD',\n",
    "    'N3', 'N3 SD', 'N4', 'N4 SD', 'T1', 'T1 SD', 'LSC', 'L1', 'L2', 'L3',\n",
    "    'T2', 'T3', 'T4', 'C1', 'C2', 'Density', 'ClsCoef', 'Hubs', 'Hubs SD',\n",
    "]\n",
    "print(len(COLS_CM))\n",
    "\n",
    "COL_Y = 'Test.Poison'"
   ]
  },
  {
   "cell_type": "code",
   "execution_count": 7,
   "metadata": {},
   "outputs": [],
   "source": [
    "N_ITER_SEARCH = 100\n",
    "N_FOLD = 5\n",
    "THRESHOLD = 0.00"
   ]
  },
  {
   "cell_type": "code",
   "execution_count": 8,
   "metadata": {},
   "outputs": [],
   "source": [
    "def get_pivot_table(df, positive_threshold=THRESHOLD):\n",
    "    # Step 0: Add difficulty levels\n",
    "    df = df.copy()\n",
    "    df['Difficulty'] = df['Data.Base'].apply(lambda x: x.split('_')[0])\n",
    "    cat_type = CategoricalDtype(categories=DIF_LEVELS, ordered=True)\n",
    "    df['Difficulty'] = df['Difficulty'].astype(cat_type)\n",
    "\n",
    "    # Step 1: Find parameter\n",
    "    param = {'alpha': loguniform(1e-4, 10),}\n",
    "    X = df[COLS_CM]\n",
    "    y = df[COL_Y]\n",
    "    regressor = linear_model.Ridge()\n",
    "    param_search = RandomizedSearchCV(regressor, param_distributions=param, n_iter=N_ITER_SEARCH, n_jobs=-1)\n",
    "    param_search.fit(X, y)\n",
    "\n",
    "    best_estimator_ = param_search.best_estimator_.get_params()\n",
    "    alpha = np.round(best_estimator_['alpha'], 4)\n",
    "    print(f'alpha={alpha:.6f}')\n",
    "\n",
    "    # Step 2: Estimate\n",
    "    df['Prediction'] = 0.\n",
    "\n",
    "    # Split by clean data\n",
    "    idx_clean = df[df['Rate'] == 0].index\n",
    "    kf = KFold(n_splits=N_FOLD, shuffle=True)\n",
    "    for i_train, i_test in kf.split(idx_clean):\n",
    "        idx_train_clean = idx_clean[i_train]\n",
    "        idx_test_clean = idx_clean[i_test]\n",
    "\n",
    "        data_train = df.loc[idx_train_clean, 'Data.Base']\n",
    "        data_test = df.loc[idx_test_clean, 'Data.Base']\n",
    "\n",
    "        idx_train = df[df['Data.Base'].isin(data_train)].index\n",
    "        idx_test = df[df['Data.Base'].isin(data_test)].index\n",
    "        assert len(idx_train) + len(idx_test) == df.shape[0], f'{len(idx_train)} + {len(idx_test)} != {df.shape[0]}'\n",
    "\n",
    "        X_train = df.loc[idx_train, COLS_CM]\n",
    "        y_train = df.loc[idx_train, COL_Y]\n",
    "        X_test = df.loc[idx_test, COLS_CM]\n",
    "\n",
    "        regressor = linear_model.Ridge(alpha=alpha)\n",
    "        regressor.fit(X_train, y_train)\n",
    "\n",
    "        df.loc[idx_test, 'Prediction'] = regressor.predict(X_test)\n",
    "\n",
    "    # Apply clipping\n",
    "    df['Prediction'] = np.amin([df['Prediction'].to_numpy(), np.ones(df.shape[0])], axis=0)\n",
    "\n",
    "    # Step 3: Find threshold\n",
    "    y_true_ = (df['Rate'] > positive_threshold).astype(int)\n",
    "    y_score_ = df['Train.Poison'] - df['Prediction']\n",
    "    fpr, tpr, thresholds = roc_curve(y_true_, y_score_)\n",
    "    idx_t = np.argmax(np.sqrt((1 - fpr)**2 + tpr**2))\n",
    "    threshold = thresholds[idx_t]\n",
    "    print(f'threshold: {threshold}')\n",
    "\n",
    "    # Step 4: Populate pivot table\n",
    "    results = (df['Train.Poison'] - df['Prediction']) >= threshold\n",
    "    df_ = df[['Difficulty', 'Rate']].copy()\n",
    "    df_['Prediction'] = results.astype(int)\n",
    "    df_ = df_.rename(columns = {'Difficulty':'Dataset Difficulty', 'Rate':'Poisoning Rate', 'Prediction': 'FPR'})\n",
    "    df_grouped = df_.groupby(['Dataset Difficulty', 'Poisoning Rate']).sum()\n",
    "    df_grouped = df_grouped.reset_index()\n",
    "    df_pivot = df_grouped.pivot('Poisoning Rate', 'Dataset Difficulty', 'FPR')\n",
    "    df_pivot = df_pivot[['Easy', 'Normal', 'Hard']]\n",
    "    df_pivot\n",
    "    return df_pivot, threshold"
   ]
  },
  {
   "cell_type": "code",
   "execution_count": 16,
   "metadata": {},
   "outputs": [
    {
     "name": "stdout",
     "output_type": "stream",
     "text": [
      "diva_01\n",
      "alpha=0.000100\n",
      "threshold: 0.3756164750477169\n",
      "alpha=0.015700\n",
      "threshold: 0.33947813614516564\n",
      "diva_02\n",
      "alpha=0.055000\n",
      "threshold: 0.39289697618799035\n",
      "alpha=0.000400\n",
      "threshold: 0.30812404943265215\n",
      "diva_03\n",
      "alpha=0.072000\n",
      "threshold: 0.37914787152885343\n",
      "alpha=0.011800\n",
      "threshold: 0.3283923377094533\n"
     ]
    }
   ],
   "source": [
    "pivot_tables = []\n",
    "\n",
    "for workspace in [f'diva_{i:02d}' for i in range(1, 4)]:\n",
    "    print(workspace)\n",
    "\n",
    "    for att in ['falfa_nn', 'alfa_svm']:\n",
    "        df_ = pd.read_csv(os.path.join(PATH_ROOT.parent, workspace, 'results', 'synth', f'synth_{att}_db.csv'))\n",
    "\n",
    "        tab, _ = get_pivot_table(df_, positive_threshold=THRESHOLD)\n",
    "        tab.to_csv(os.path.join(path_output, f'synth_pivot_{workspace}_{att}.csv'))\n",
    "\n",
    "        tab = tab.reset_index()\n",
    "        pivot_tables.append(tab)"
   ]
  },
  {
   "cell_type": "code",
   "execution_count": 23,
   "metadata": {},
   "outputs": [
    {
     "data": {
      "text/html": [
       "<div>\n",
       "<style scoped>\n",
       "    .dataframe tbody tr th:only-of-type {\n",
       "        vertical-align: middle;\n",
       "    }\n",
       "\n",
       "    .dataframe tbody tr th {\n",
       "        vertical-align: top;\n",
       "    }\n",
       "\n",
       "    .dataframe thead th {\n",
       "        text-align: right;\n",
       "    }\n",
       "</style>\n",
       "<table border=\"1\" class=\"dataframe\">\n",
       "  <thead>\n",
       "    <tr style=\"text-align: right;\">\n",
       "      <th>Dataset Difficulty</th>\n",
       "      <th>Easy</th>\n",
       "      <th>Normal</th>\n",
       "      <th>Hard</th>\n",
       "    </tr>\n",
       "    <tr>\n",
       "      <th>Poisoning Rate</th>\n",
       "      <th></th>\n",
       "      <th></th>\n",
       "      <th></th>\n",
       "    </tr>\n",
       "  </thead>\n",
       "  <tbody>\n",
       "    <tr>\n",
       "      <th>0.00</th>\n",
       "      <td>0</td>\n",
       "      <td>0</td>\n",
       "      <td>7</td>\n",
       "    </tr>\n",
       "    <tr>\n",
       "      <th>0.05</th>\n",
       "      <td>0</td>\n",
       "      <td>4</td>\n",
       "      <td>16</td>\n",
       "    </tr>\n",
       "    <tr>\n",
       "      <th>0.10</th>\n",
       "      <td>0</td>\n",
       "      <td>14</td>\n",
       "      <td>32</td>\n",
       "    </tr>\n",
       "    <tr>\n",
       "      <th>0.15</th>\n",
       "      <td>2</td>\n",
       "      <td>19</td>\n",
       "      <td>38</td>\n",
       "    </tr>\n",
       "    <tr>\n",
       "      <th>0.20</th>\n",
       "      <td>7</td>\n",
       "      <td>28</td>\n",
       "      <td>39</td>\n",
       "    </tr>\n",
       "    <tr>\n",
       "      <th>0.25</th>\n",
       "      <td>11</td>\n",
       "      <td>29</td>\n",
       "      <td>40</td>\n",
       "    </tr>\n",
       "    <tr>\n",
       "      <th>0.30</th>\n",
       "      <td>16</td>\n",
       "      <td>33</td>\n",
       "      <td>42</td>\n",
       "    </tr>\n",
       "    <tr>\n",
       "      <th>0.35</th>\n",
       "      <td>17</td>\n",
       "      <td>30</td>\n",
       "      <td>42</td>\n",
       "    </tr>\n",
       "    <tr>\n",
       "      <th>0.40</th>\n",
       "      <td>20</td>\n",
       "      <td>30</td>\n",
       "      <td>42</td>\n",
       "    </tr>\n",
       "  </tbody>\n",
       "</table>\n",
       "</div>"
      ],
      "text/plain": [
       "Dataset Difficulty  Easy  Normal  Hard\n",
       "Poisoning Rate                        \n",
       "0.00                   0       0     7\n",
       "0.05                   0       4    16\n",
       "0.10                   0      14    32\n",
       "0.15                   2      19    38\n",
       "0.20                   7      28    39\n",
       "0.25                  11      29    40\n",
       "0.30                  16      33    42\n",
       "0.35                  17      30    42\n",
       "0.40                  20      30    42"
      ]
     },
     "execution_count": 23,
     "metadata": {},
     "output_type": "execute_result"
    }
   ],
   "source": [
    "pivot_mean = pd.concat(pivot_tables, ignore_index=True).groupby('Poisoning Rate').mean().round()\n",
    "pivot_mean"
   ]
  },
  {
   "cell_type": "code",
   "execution_count": 25,
   "metadata": {},
   "outputs": [
    {
     "data": {
      "image/png": "[encoded data removed]",
      "text/plain": [
       "<Figure size 360x288 with 2 Axes>"
      ]
     },
     "metadata": {
      "needs_background": "light"
     },
     "output_type": "display_data"
    }
   ],
   "source": [
    "FONTSIZE = 15\n",
    "FIGSIZE = (5, 4)\n",
    "\n",
    "plt.rcParams[\"font.size\"] = FONTSIZE\n",
    "fig, ax = plt.subplots(figsize=FIGSIZE)\n",
    "ax = sns.heatmap(pivot_mean, ax=ax, annot=True, fmt='.0f', cmap=\"Greens\", vmin=0, vmax=50)\n",
    "plt.yticks(rotation=0)\n",
    "plt.tight_layout()\n",
    "plot_output = os.path.join(path_output, 'synth_heatmap.pdf')\n",
    "plt.savefig(plot_output, dpi=300)"
   ]
  },
  {
   "cell_type": "code",
   "execution_count": null,
   "metadata": {},
   "outputs": [],
   "source": []
  }
 ],
 "metadata": {
  "interpreter": {
   "hash": "8bcff36e631da1ef6cb25b63542a3f56d2322f7e3d69a7432caaf86f390cdb5a"
  },
  "kernelspec": {
   "display_name": "Python 3.8.10 64-bit ('torch': venv)",
   "language": "python",
   "name": "python3"
  },
  "language_info": {
   "codemirror_mode": {
    "name": "ipython",
    "version": 3
   },
   "file_extension": ".py",
   "mimetype": "text/x-python",
   "name": "python",
   "nbconvert_exporter": "python",
   "pygments_lexer": "ipython3",
   "version": "3.8.10"
  },
  "orig_nbformat": 4
 },
 "nbformat": 4,
 "nbformat_minor": 2
}

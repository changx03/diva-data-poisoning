{
 "cells": [
  {
   "cell_type": "code",
   "execution_count": 1,
   "metadata": {},
   "outputs": [],
   "source": [
    "import os\n",
    "from pathlib import Path\n",
    "from glob import glob\n",
    "\n",
    "import numpy as np\n",
    "import pandas as pd\n",
    "import matplotlib.pyplot as plt\n",
    "import seaborn as sns\n",
    "\n",
    "from label_flip_revised.utils import create_dir"
   ]
  },
  {
   "cell_type": "code",
   "execution_count": 2,
   "metadata": {},
   "outputs": [
    {
     "name": "stdout",
     "output_type": "stream",
     "text": [
      "/home/lukec/workspace/diva_01\n"
     ]
    }
   ],
   "source": [
    "PATH_ROOT = Path(os.getcwd()).absolute().parent\n",
    "print(PATH_ROOT)"
   ]
  },
  {
   "cell_type": "code",
   "execution_count": 3,
   "metadata": {},
   "outputs": [
    {
     "name": "stdout",
     "output_type": "stream",
     "text": [
      "/home/lukec/workspace/diva_01/results_plot\n"
     ]
    }
   ],
   "source": [
    "path_output = os.path.join(PATH_ROOT, 'results_plot')\n",
    "print(path_output)\n",
    "create_dir(path_output)"
   ]
  },
  {
   "cell_type": "code",
   "execution_count": 4,
   "metadata": {},
   "outputs": [
    {
     "name": "stdout",
     "output_type": "stream",
     "text": [
      "(1350, 38)\n"
     ]
    },
    {
     "data": {
      "text/html": [
       "<div>\n",
       "<style scoped>\n",
       "    .dataframe tbody tr th:only-of-type {\n",
       "        vertical-align: middle;\n",
       "    }\n",
       "\n",
       "    .dataframe tbody tr th {\n",
       "        vertical-align: top;\n",
       "    }\n",
       "\n",
       "    .dataframe thead th {\n",
       "        text-align: right;\n",
       "    }\n",
       "</style>\n",
       "<table border=\"1\" class=\"dataframe\">\n",
       "  <thead>\n",
       "    <tr style=\"text-align: right;\">\n",
       "      <th></th>\n",
       "      <th>Data</th>\n",
       "      <th>F1</th>\n",
       "      <th>F1 SD</th>\n",
       "      <th>F1v</th>\n",
       "      <th>F2</th>\n",
       "      <th>F3</th>\n",
       "      <th>F4</th>\n",
       "      <th>N1</th>\n",
       "      <th>N2</th>\n",
       "      <th>N2 SD</th>\n",
       "      <th>...</th>\n",
       "      <th>Hubs SD</th>\n",
       "      <th>Path.Train</th>\n",
       "      <th>Path.Poison</th>\n",
       "      <th>Path.Test</th>\n",
       "      <th>Rate</th>\n",
       "      <th>Train.Clean</th>\n",
       "      <th>Test.Clean</th>\n",
       "      <th>Train.Poison</th>\n",
       "      <th>Test.Poison</th>\n",
       "      <th>Data.Base</th>\n",
       "    </tr>\n",
       "  </thead>\n",
       "  <tbody>\n",
       "    <tr>\n",
       "      <th>0</th>\n",
       "      <td>Easy_f04_i04_r00_c01_w5_n1200_1_falfa_nn_0.00.csv</td>\n",
       "      <td>0.774583</td>\n",
       "      <td>0.263166</td>\n",
       "      <td>0.099270</td>\n",
       "      <td>0.225255</td>\n",
       "      <td>0.948958</td>\n",
       "      <td>0.857292</td>\n",
       "      <td>0.051042</td>\n",
       "      <td>0.235053</td>\n",
       "      <td>0.116335</td>\n",
       "      <td>...</td>\n",
       "      <td>0.219254</td>\n",
       "      <td>/home/lukec/workspace/diva_01/data/synth/train...</td>\n",
       "      <td>/home/lukec/workspace/diva_01/data/synth/falfa...</td>\n",
       "      <td>/home/lukec/workspace/diva_01/data/synth/test/...</td>\n",
       "      <td>0.00</td>\n",
       "      <td>0.967708</td>\n",
       "      <td>0.9875</td>\n",
       "      <td>0.967708</td>\n",
       "      <td>0.987500</td>\n",
       "      <td>Easy_f04_i04_r00_c01_w5_n1200_1</td>\n",
       "    </tr>\n",
       "    <tr>\n",
       "      <th>1</th>\n",
       "      <td>Easy_f04_i04_r00_c01_w5_n1200_1_falfa_nn_0.05.csv</td>\n",
       "      <td>0.835738</td>\n",
       "      <td>0.188710</td>\n",
       "      <td>0.226119</td>\n",
       "      <td>0.424998</td>\n",
       "      <td>0.950000</td>\n",
       "      <td>0.920833</td>\n",
       "      <td>0.100000</td>\n",
       "      <td>0.259626</td>\n",
       "      <td>0.128846</td>\n",
       "      <td>...</td>\n",
       "      <td>0.265631</td>\n",
       "      <td>/home/lukec/workspace/diva_01/data/synth/train...</td>\n",
       "      <td>/home/lukec/workspace/diva_01/data/synth/falfa...</td>\n",
       "      <td>/home/lukec/workspace/diva_01/data/synth/test/...</td>\n",
       "      <td>0.05</td>\n",
       "      <td>0.967708</td>\n",
       "      <td>0.9875</td>\n",
       "      <td>0.967708</td>\n",
       "      <td>0.954167</td>\n",
       "      <td>Easy_f04_i04_r00_c01_w5_n1200_1</td>\n",
       "    </tr>\n",
       "    <tr>\n",
       "      <th>2</th>\n",
       "      <td>Easy_f04_i04_r00_c01_w5_n1200_1_falfa_nn_0.10.csv</td>\n",
       "      <td>0.840295</td>\n",
       "      <td>0.188315</td>\n",
       "      <td>0.200345</td>\n",
       "      <td>0.333421</td>\n",
       "      <td>0.967708</td>\n",
       "      <td>0.917708</td>\n",
       "      <td>0.116667</td>\n",
       "      <td>0.286672</td>\n",
       "      <td>0.123068</td>\n",
       "      <td>...</td>\n",
       "      <td>0.216496</td>\n",
       "      <td>/home/lukec/workspace/diva_01/data/synth/train...</td>\n",
       "      <td>/home/lukec/workspace/diva_01/data/synth/falfa...</td>\n",
       "      <td>/home/lukec/workspace/diva_01/data/synth/test/...</td>\n",
       "      <td>0.10</td>\n",
       "      <td>0.967708</td>\n",
       "      <td>0.9875</td>\n",
       "      <td>0.877083</td>\n",
       "      <td>0.925000</td>\n",
       "      <td>Easy_f04_i04_r00_c01_w5_n1200_1</td>\n",
       "    </tr>\n",
       "    <tr>\n",
       "      <th>3</th>\n",
       "      <td>Easy_f04_i04_r00_c01_w5_n1200_1_falfa_nn_0.15.csv</td>\n",
       "      <td>0.823461</td>\n",
       "      <td>0.130795</td>\n",
       "      <td>0.260538</td>\n",
       "      <td>0.346614</td>\n",
       "      <td>0.953125</td>\n",
       "      <td>0.917708</td>\n",
       "      <td>0.120833</td>\n",
       "      <td>0.285096</td>\n",
       "      <td>0.130675</td>\n",
       "      <td>...</td>\n",
       "      <td>0.227990</td>\n",
       "      <td>/home/lukec/workspace/diva_01/data/synth/train...</td>\n",
       "      <td>/home/lukec/workspace/diva_01/data/synth/falfa...</td>\n",
       "      <td>/home/lukec/workspace/diva_01/data/synth/test/...</td>\n",
       "      <td>0.15</td>\n",
       "      <td>0.967708</td>\n",
       "      <td>0.9875</td>\n",
       "      <td>0.962500</td>\n",
       "      <td>0.837500</td>\n",
       "      <td>Easy_f04_i04_r00_c01_w5_n1200_1</td>\n",
       "    </tr>\n",
       "    <tr>\n",
       "      <th>4</th>\n",
       "      <td>Easy_f04_i04_r00_c01_w5_n1200_1_falfa_nn_0.20.csv</td>\n",
       "      <td>0.888253</td>\n",
       "      <td>0.126696</td>\n",
       "      <td>0.316706</td>\n",
       "      <td>0.256928</td>\n",
       "      <td>0.967708</td>\n",
       "      <td>0.882292</td>\n",
       "      <td>0.126042</td>\n",
       "      <td>0.296853</td>\n",
       "      <td>0.128195</td>\n",
       "      <td>...</td>\n",
       "      <td>0.211042</td>\n",
       "      <td>/home/lukec/workspace/diva_01/data/synth/train...</td>\n",
       "      <td>/home/lukec/workspace/diva_01/data/synth/falfa...</td>\n",
       "      <td>/home/lukec/workspace/diva_01/data/synth/test/...</td>\n",
       "      <td>0.20</td>\n",
       "      <td>0.967708</td>\n",
       "      <td>0.9875</td>\n",
       "      <td>0.939583</td>\n",
       "      <td>0.750000</td>\n",
       "      <td>Easy_f04_i04_r00_c01_w5_n1200_1</td>\n",
       "    </tr>\n",
       "  </tbody>\n",
       "</table>\n",
       "<p>5 rows × 38 columns</p>\n",
       "</div>"
      ],
      "text/plain": [
       "                                                Data        F1     F1 SD  \\\n",
       "0  Easy_f04_i04_r00_c01_w5_n1200_1_falfa_nn_0.00.csv  0.774583  0.263166   \n",
       "1  Easy_f04_i04_r00_c01_w5_n1200_1_falfa_nn_0.05.csv  0.835738  0.188710   \n",
       "2  Easy_f04_i04_r00_c01_w5_n1200_1_falfa_nn_0.10.csv  0.840295  0.188315   \n",
       "3  Easy_f04_i04_r00_c01_w5_n1200_1_falfa_nn_0.15.csv  0.823461  0.130795   \n",
       "4  Easy_f04_i04_r00_c01_w5_n1200_1_falfa_nn_0.20.csv  0.888253  0.126696   \n",
       "\n",
       "        F1v        F2        F3        F4        N1        N2     N2 SD  ...  \\\n",
       "0  0.099270  0.225255  0.948958  0.857292  0.051042  0.235053  0.116335  ...   \n",
       "1  0.226119  0.424998  0.950000  0.920833  0.100000  0.259626  0.128846  ...   \n",
       "2  0.200345  0.333421  0.967708  0.917708  0.116667  0.286672  0.123068  ...   \n",
       "3  0.260538  0.346614  0.953125  0.917708  0.120833  0.285096  0.130675  ...   \n",
       "4  0.316706  0.256928  0.967708  0.882292  0.126042  0.296853  0.128195  ...   \n",
       "\n",
       "    Hubs SD                                         Path.Train  \\\n",
       "0  0.219254  /home/lukec/workspace/diva_01/data/synth/train...   \n",
       "1  0.265631  /home/lukec/workspace/diva_01/data/synth/train...   \n",
       "2  0.216496  /home/lukec/workspace/diva_01/data/synth/train...   \n",
       "3  0.227990  /home/lukec/workspace/diva_01/data/synth/train...   \n",
       "4  0.211042  /home/lukec/workspace/diva_01/data/synth/train...   \n",
       "\n",
       "                                         Path.Poison  \\\n",
       "0  /home/lukec/workspace/diva_01/data/synth/falfa...   \n",
       "1  /home/lukec/workspace/diva_01/data/synth/falfa...   \n",
       "2  /home/lukec/workspace/diva_01/data/synth/falfa...   \n",
       "3  /home/lukec/workspace/diva_01/data/synth/falfa...   \n",
       "4  /home/lukec/workspace/diva_01/data/synth/falfa...   \n",
       "\n",
       "                                           Path.Test  Rate  Train.Clean  \\\n",
       "0  /home/lukec/workspace/diva_01/data/synth/test/...  0.00     0.967708   \n",
       "1  /home/lukec/workspace/diva_01/data/synth/test/...  0.05     0.967708   \n",
       "2  /home/lukec/workspace/diva_01/data/synth/test/...  0.10     0.967708   \n",
       "3  /home/lukec/workspace/diva_01/data/synth/test/...  0.15     0.967708   \n",
       "4  /home/lukec/workspace/diva_01/data/synth/test/...  0.20     0.967708   \n",
       "\n",
       "   Test.Clean  Train.Poison  Test.Poison                        Data.Base  \n",
       "0      0.9875      0.967708     0.987500  Easy_f04_i04_r00_c01_w5_n1200_1  \n",
       "1      0.9875      0.967708     0.954167  Easy_f04_i04_r00_c01_w5_n1200_1  \n",
       "2      0.9875      0.877083     0.925000  Easy_f04_i04_r00_c01_w5_n1200_1  \n",
       "3      0.9875      0.962500     0.837500  Easy_f04_i04_r00_c01_w5_n1200_1  \n",
       "4      0.9875      0.939583     0.750000  Easy_f04_i04_r00_c01_w5_n1200_1  \n",
       "\n",
       "[5 rows x 38 columns]"
      ]
     },
     "execution_count": 4,
     "metadata": {},
     "output_type": "execute_result"
    }
   ],
   "source": [
    "df_falfa = pd.read_csv(os.path.join(PATH_ROOT, 'results', 'synth', 'synth_falfa_nn_db.csv'))\n",
    "print(df_falfa.shape)\n",
    "df_falfa.head()"
   ]
  },
  {
   "cell_type": "code",
   "execution_count": 5,
   "metadata": {},
   "outputs": [
    {
     "data": {
      "text/plain": [
       "Index(['Data', 'F1', 'F1 SD', 'F1v', 'F2', 'F3', 'F4', 'N1', 'N2', 'N2 SD',\n",
       "       'N3', 'N3 SD', 'N4', 'N4 SD', 'T1', 'T1 SD', 'LSC', 'L1', 'L2', 'L3',\n",
       "       'T2', 'T3', 'T4', 'C1', 'C2', 'Density', 'ClsCoef', 'Hubs', 'Hubs SD',\n",
       "       'Path.Train', 'Path.Poison', 'Path.Test', 'Rate', 'Train.Clean',\n",
       "       'Test.Clean', 'Train.Poison', 'Test.Poison', 'Data.Base'],\n",
       "      dtype='object')"
      ]
     },
     "execution_count": 5,
     "metadata": {},
     "output_type": "execute_result"
    }
   ],
   "source": [
    "df_falfa.columns"
   ]
  },
  {
   "cell_type": "code",
   "execution_count": 6,
   "metadata": {},
   "outputs": [
    {
     "name": "stdout",
     "output_type": "stream",
     "text": [
      "28\n"
     ]
    }
   ],
   "source": [
    "cols_cm = [\n",
    "    'F1', 'F1 SD', 'F1v', 'F2', 'F3', 'F4', 'N1', 'N2', 'N2 SD',\n",
    "    'N3', 'N3 SD', 'N4', 'N4 SD', 'T1', 'T1 SD', 'LSC', 'L1', 'L2', 'L3',\n",
    "    'T2', 'T3', 'T4', 'C1', 'C2', 'Density', 'ClsCoef', 'Hubs', 'Hubs SD',\n",
    "]\n",
    "print(len(cols_cm))"
   ]
  },
  {
   "cell_type": "code",
   "execution_count": 7,
   "metadata": {},
   "outputs": [],
   "source": [
    "def cor_at_rate(df, rate, x='Test.Poison', cols=cols_cm, eps=1e-4):\n",
    "    df_ = df[(df['Rate'] >= rate - eps) & (df['Rate'] <= rate + eps)]\n",
    "    print(df_.shape)\n",
    "    df_cm = df_.loc[:, cols]\n",
    "    df_cm['X'] = df_[x]\n",
    "    cor = df_cm.corr()\n",
    "    results = cor['X']\n",
    "    return results"
   ]
  },
  {
   "cell_type": "code",
   "execution_count": 8,
   "metadata": {},
   "outputs": [
    {
     "name": "stdout",
     "output_type": "stream",
     "text": [
      "(150, 38)\n",
      "(150, 38)\n"
     ]
    },
    {
     "data": {
      "text/plain": [
       "N3        -0.963178\n",
       "N1        -0.954069\n",
       "N3 SD     -0.908885\n",
       "F1v       -0.891468\n",
       "L3        -0.882506\n",
       "L2        -0.868164\n",
       "ClsCoef   -0.789663\n",
       "Density   -0.768821\n",
       "L1        -0.746998\n",
       "N2        -0.722053\n",
       "F1 SD      0.700282\n",
       "T3        -0.692897\n",
       "LSC       -0.635341\n",
       "F1        -0.634501\n",
       "Hubs SD    0.634209\n",
       "N2 SD      0.630651\n",
       "T2        -0.590170\n",
       "F3        -0.569391\n",
       "F4        -0.497767\n",
       "T1 SD      0.482276\n",
       "T1         0.411417\n",
       "Hubs      -0.394673\n",
       "F2         0.320219\n",
       "T4        -0.294923\n",
       "N4 SD     -0.205963\n",
       "N4        -0.080602\n",
       "C2         0.052060\n",
       "C1        -0.050701\n",
       "Name: X, dtype: float64"
      ]
     },
     "execution_count": 8,
     "metadata": {},
     "output_type": "execute_result"
    }
   ],
   "source": [
    "RATE0 = 0.\n",
    "cor_0 = cor_at_rate(df_falfa, RATE0)\n",
    "\n",
    "RATE = 0.3\n",
    "cor_1 = cor_at_rate(df_falfa, RATE)\n",
    "\n",
    "idx = cor_0.abs().sort_values(ascending=False).keys()[1:]\n",
    "cor_0[idx]"
   ]
  },
  {
   "cell_type": "code",
   "execution_count": 9,
   "metadata": {},
   "outputs": [],
   "source": [
    "# Save results\n",
    "cor_0.to_csv(os.path.join(path_output, f'synth_corr_{RATE0*100:02.0f}.csv'))\n",
    "cor_1.to_csv(os.path.join(path_output, f'synth_corr_{RATE*100:02.0f}.csv'))"
   ]
  },
  {
   "cell_type": "code",
   "execution_count": 16,
   "metadata": {},
   "outputs": [
    {
     "data": {
      "image/png": "[encoded data removed]",
      "text/plain": [
       "<Figure size 720x432 with 2 Axes>"
      ]
     },
     "metadata": {
      "needs_background": "light"
     },
     "output_type": "display_data"
    }
   ],
   "source": [
    "FIGSIZE = (10, 6)\n",
    "FONTSIZE = 14\n",
    "\n",
    "TITLES = ['(a) On clean data', '(b) On 20% poisoned data']\n",
    "\n",
    "plt.rcParams[\"font.size\"] = FONTSIZE\n",
    "fig, axs = plt.subplots(2, 1, sharex=True, sharey=True, figsize=FIGSIZE)\n",
    "\n",
    "cor_0[idx].plot.bar(ax=axs[0])\n",
    "axs[0].set(ylim=[-1, 1], yticks=np.arange(-1, 1.1, 0.5))\n",
    "\n",
    "cor_1[idx].plot.bar(ax=axs[1])\n",
    "axs[1].set(ylim=[-1, 1], yticks=np.arange(-1, 1.1, 0.5))\n",
    "\n",
    "for yy in [-0.5, 0, 0.5]:\n",
    "    for i in range(2):\n",
    "        axs[i].axhline(y=yy, linewidth=1.2, color='r', alpha=0.6, linestyle='--')\n",
    "        axs[i].set_ylabel('Measure', fontsize=FONTSIZE+2)\n",
    "        axs[i].set_title(TITLES[i], fontsize=FONTSIZE+3)\n",
    "\n",
    "axs[1].tick_params(axis=\"x\", rotation=90)\n",
    "plt.xticks(fontsize=FONTSIZE+2)\n",
    "plt.tight_layout(pad=0.8)\n",
    "\n",
    "path_fig = os.path.join(path_output, 'synth_corr.pdf')\n",
    "plt.savefig(path_fig, dpi=300)"
   ]
  },
  {
   "cell_type": "code",
   "execution_count": null,
   "metadata": {},
   "outputs": [],
   "source": []
  }
 ],
 "metadata": {
  "interpreter": {
   "hash": "8bcff36e631da1ef6cb25b63542a3f56d2322f7e3d69a7432caaf86f390cdb5a"
  },
  "kernelspec": {
   "display_name": "Python 3.8.10 64-bit ('torch': venv)",
   "language": "python",
   "name": "python3"
  },
  "language_info": {
   "codemirror_mode": {
    "name": "ipython",
    "version": 3
   },
   "file_extension": ".py",
   "mimetype": "text/x-python",
   "name": "python",
   "nbconvert_exporter": "python",
   "pygments_lexer": "ipython3",
   "version": "3.8.10"
  },
  "orig_nbformat": 4
 },
 "nbformat": 4,
 "nbformat_minor": 2
}

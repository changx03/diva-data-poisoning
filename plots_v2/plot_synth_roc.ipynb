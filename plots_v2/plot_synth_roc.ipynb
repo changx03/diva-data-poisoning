{
 "cells": [
  {
   "cell_type": "code",
   "execution_count": 1,
   "metadata": {},
   "outputs": [],
   "source": [
    "import os\n",
    "from glob import glob\n",
    "from pathlib import Path\n",
    "\n",
    "import matplotlib.pyplot as plt\n",
    "import numpy as np\n",
    "import pandas as pd\n",
    "from pandas.api.types import CategoricalDtype\n",
    "from sklearn import linear_model\n",
    "from sklearn.metrics import RocCurveDisplay, auc, mean_squared_error, roc_curve\n",
    "from sklearn.model_selection import KFold, RandomizedSearchCV\n",
    "from sklearn.utils.fixes import loguniform\n",
    "\n",
    "from label_flip_revised.utils import create_dir\n"
   ]
  },
  {
   "cell_type": "code",
   "execution_count": 2,
   "metadata": {},
   "outputs": [
    {
     "name": "stdout",
     "output_type": "stream",
     "text": [
      "/home/lukec/workspace/diva_01\n"
     ]
    }
   ],
   "source": [
    "PATH_ROOT = Path(os.getcwd()).absolute().parent\n",
    "print(PATH_ROOT)"
   ]
  },
  {
   "cell_type": "code",
   "execution_count": 3,
   "metadata": {},
   "outputs": [
    {
     "name": "stdout",
     "output_type": "stream",
     "text": [
      "/home/lukec/workspace/diva_01/results_plot\n"
     ]
    }
   ],
   "source": [
    "path_output = os.path.join(PATH_ROOT, 'results_plot')\n",
    "print(path_output)\n",
    "create_dir(path_output)"
   ]
  },
  {
   "cell_type": "code",
   "execution_count": 4,
   "metadata": {},
   "outputs": [
    {
     "name": "stdout",
     "output_type": "stream",
     "text": [
      "(1350, 38)\n"
     ]
    }
   ],
   "source": [
    "df = pd.read_csv(os.path.join(PATH_ROOT, 'results', 'synth', 'synth_falfa_nn_db.csv'))\n",
    "print(df.shape)"
   ]
  },
  {
   "cell_type": "code",
   "execution_count": 5,
   "metadata": {},
   "outputs": [],
   "source": [
    "DIF_LEVELS = ['Hard', 'Normal', 'Easy']\n",
    "\n",
    "df['Difficulty'] = df['Data.Base'].apply(lambda x: x.split('_')[0])\n",
    "cat_type = CategoricalDtype(categories=DIF_LEVELS, ordered=True)\n",
    "df['Difficulty'] = df['Difficulty'].astype(cat_type)"
   ]
  },
  {
   "cell_type": "code",
   "execution_count": 6,
   "metadata": {},
   "outputs": [
    {
     "name": "stdout",
     "output_type": "stream",
     "text": [
      "Index(['Data', 'F1', 'F1 SD', 'F1v', 'F2', 'F3', 'F4', 'N1', 'N2', 'N2 SD',\n",
      "       'N3', 'N3 SD', 'N4', 'N4 SD', 'T1', 'T1 SD', 'LSC', 'L1', 'L2', 'L3',\n",
      "       'T2', 'T3', 'T4', 'C1', 'C2', 'Density', 'ClsCoef', 'Hubs', 'Hubs SD',\n",
      "       'Path.Train', 'Path.Poison', 'Path.Test', 'Rate', 'Train.Clean',\n",
      "       'Test.Clean', 'Train.Poison', 'Test.Poison', 'Data.Base', 'Difficulty'],\n",
      "      dtype='object')\n"
     ]
    }
   ],
   "source": [
    "print(df.columns)"
   ]
  },
  {
   "cell_type": "code",
   "execution_count": 7,
   "metadata": {},
   "outputs": [
    {
     "name": "stdout",
     "output_type": "stream",
     "text": [
      "1350\n"
     ]
    }
   ],
   "source": [
    "COLS_CM = [\n",
    "    'F1', 'F1 SD', 'F1v', 'F2', 'F3', 'F4', 'N1', 'N2', 'N2 SD',\n",
    "    'N3', 'N3 SD', 'N4', 'N4 SD', 'T1', 'T1 SD', 'LSC', 'L1', 'L2', 'L3',\n",
    "    'T2', 'T3', 'T4', 'C1', 'C2', 'Density', 'ClsCoef', 'Hubs', 'Hubs SD',\n",
    "]\n",
    "COL_Y = 'Test.Poison'\n",
    "\n",
    "print(len(df))"
   ]
  },
  {
   "cell_type": "code",
   "execution_count": 8,
   "metadata": {},
   "outputs": [],
   "source": [
    "ATTACKS = ['falfa_nn', 'alfa_svm', 'rand_svm', 'poison_svm']"
   ]
  },
  {
   "cell_type": "code",
   "execution_count": 9,
   "metadata": {},
   "outputs": [],
   "source": [
    "N_ITER_SEARCH = 100"
   ]
  },
  {
   "cell_type": "code",
   "execution_count": 10,
   "metadata": {},
   "outputs": [
    {
     "name": "stdout",
     "output_type": "stream",
     "text": [
      "0.0001\n"
     ]
    }
   ],
   "source": [
    "# Find parameter\n",
    "param = {'alpha': loguniform(1e-4, 10),}\n",
    "X = df[COLS_CM]\n",
    "y = df[COL_Y]\n",
    "regressor = linear_model.Ridge()\n",
    "param_search = RandomizedSearchCV(regressor, param_distributions=param, n_iter=N_ITER_SEARCH, n_jobs=-1)\n",
    "param_search.fit(X, y)\n",
    "\n",
    "best_estimator_ = param_search.best_estimator_.get_params()\n",
    "alpha = np.round(best_estimator_['alpha'], 4)\n",
    "print(alpha)"
   ]
  },
  {
   "cell_type": "code",
   "execution_count": 11,
   "metadata": {},
   "outputs": [],
   "source": [
    "N_FOLD = 5\n",
    "\n",
    "df['Prediction'] = 0.\n",
    "\n",
    "# Split by clean data\n",
    "idx_clean = df[df['Rate'] == 0].index\n",
    "kf = KFold(n_splits=N_FOLD, shuffle=True)\n",
    "for i_train, i_test in kf.split(idx_clean):\n",
    "    idx_train_clean = idx_clean[i_train]\n",
    "    idx_test_clean = idx_clean[i_test]\n",
    "\n",
    "    data_train = df.loc[idx_train_clean, 'Data.Base']\n",
    "    data_test = df.loc[idx_test_clean, 'Data.Base']\n",
    "\n",
    "    idx_train = df[df['Data.Base'].isin(data_train)].index\n",
    "    idx_test = df[df['Data.Base'].isin(data_test)].index\n",
    "    assert len(idx_train) + len(idx_test) == df.shape[0], f'{len(idx_train)} + {len(idx_test)} != {df.shape[0]}'\n",
    "\n",
    "    X_train = df.loc[idx_train, COLS_CM]\n",
    "    y_train = df.loc[idx_train, COL_Y]\n",
    "    X_test = df.loc[idx_test, COLS_CM]\n",
    "    y_test = df.loc[idx_test, COL_Y]\n",
    "\n",
    "    regressor = linear_model.Ridge(alpha=alpha)\n",
    "    regressor.fit(X_train, y_train)\n",
    "\n",
    "    df.loc[idx_test, 'Prediction'] = regressor.predict(X_test)\n",
    "\n",
    "# Apply clipping\n",
    "df['Prediction'] = np.amin([df['Prediction'].to_numpy(), np.ones(df.shape[0])], axis=0)"
   ]
  },
  {
   "cell_type": "code",
   "execution_count": 12,
   "metadata": {},
   "outputs": [],
   "source": [
    "df.to_csv(os.path.join(path_output, 'synth_01_pred.csv'), index=False)"
   ]
  },
  {
   "cell_type": "code",
   "execution_count": 13,
   "metadata": {},
   "outputs": [
    {
     "name": "stdout",
     "output_type": "stream",
     "text": [
      "RMSE test: 0.064\n"
     ]
    }
   ],
   "source": [
    "rmse = np.sqrt(mean_squared_error(df['Test.Poison'].to_numpy(), df['Prediction'].to_numpy()))\n",
    "print('RMSE test: {:.3f}'.format(rmse))"
   ]
  },
  {
   "cell_type": "code",
   "execution_count": 14,
   "metadata": {},
   "outputs": [],
   "source": [
    "FONTSIZE = 14\n",
    "FIGSIZE = (4, 4)\n",
    "COLORS = {\n",
    "    'Hard': '#d32f2f',\n",
    "    'Normal': '#1976d2',\n",
    "    'Easy': '#388e3c',\n",
    "}\n",
    "THRESHOLD = 0.05"
   ]
  },
  {
   "cell_type": "code",
   "execution_count": 15,
   "metadata": {},
   "outputs": [
    {
     "data": {
      "image/png": "[encoded data removed]",
      "text/plain": [
       "<Figure size 288x288 with 1 Axes>"
      ]
     },
     "metadata": {
      "needs_background": "light"
     },
     "output_type": "display_data"
    }
   ],
   "source": [
    "plt.rcParams[\"font.size\"] = FONTSIZE\n",
    "fig, ax = plt.subplots(figsize=FIGSIZE)\n",
    "plt.gca().set_aspect('equal')  # Fix to square\n",
    "\n",
    "for dif in DIF_LEVELS:\n",
    "    df_ = df[df['Difficulty'] == dif]\n",
    "    y_true_ = (df_['Rate'].to_numpy() > THRESHOLD).astype(int)\n",
    "    y_score_ = np.abs(df_['Prediction'] - df_['Train.Poison'])\n",
    "    fpr_, tpr_, _ = roc_curve(y_true_, y_score_)\n",
    "\n",
    "    data_ = {\n",
    "        'fpr': fpr_,\n",
    "        'tpr': tpr_,\n",
    "    }\n",
    "    df_res = pd.DataFrame(data_)\n",
    "    df_res.to_csv(os.path.join(path_output, f'synth_roc_{dif}.csv'), index=False)\n",
    "\n",
    "    roc_auc_ = auc(fpr_, tpr_)\n",
    "    roc_display = RocCurveDisplay(fpr=fpr_, tpr=tpr_, roc_auc=roc_auc_).plot(ax=ax, name=dif, c=COLORS[dif])\n",
    "ax.set_title('')\n",
    "\n",
    "plt.legend(fontsize=FONTSIZE-3, loc='lower right')\n",
    "plt.xticks(np.linspace(0, 1, num=5), fontsize=FONTSIZE-1)\n",
    "plt.yticks(np.linspace(0, 1, num=5), fontsize=FONTSIZE-1)\n",
    "plt.xlabel('False Positive Rate (FPR)', fontsize=FONTSIZE)\n",
    "plt.ylabel('True Positive Rate (TPR)', fontsize=FONTSIZE)\n",
    "plt.xlim(-0.03, 1.03)\n",
    "plt.ylim(-0.03, 1.03)\n",
    "plt.tight_layout()\n",
    "path_output = os.path.join(path_output, 'roc_synth.pdf')\n",
    "plt.savefig(path_output, dpi=300)\n",
    "# plt.show()"
   ]
  },
  {
   "cell_type": "code",
   "execution_count": null,
   "metadata": {},
   "outputs": [],
   "source": []
  }
 ],
 "metadata": {
  "interpreter": {
   "hash": "8bcff36e631da1ef6cb25b63542a3f56d2322f7e3d69a7432caaf86f390cdb5a"
  },
  "kernelspec": {
   "display_name": "Python 3.8.10 64-bit ('torch': venv)",
   "language": "python",
   "name": "python3"
  },
  "language_info": {
   "codemirror_mode": {
    "name": "ipython",
    "version": 3
   },
   "file_extension": ".py",
   "mimetype": "text/x-python",
   "name": "python",
   "nbconvert_exporter": "python",
   "pygments_lexer": "ipython3",
   "version": "3.8.10"
  },
  "orig_nbformat": 4
 },
 "nbformat": 4,
 "nbformat_minor": 2
}

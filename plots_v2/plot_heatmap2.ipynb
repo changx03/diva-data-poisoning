{
 "cells": [
  {
   "cell_type": "code",
   "execution_count": 1,
   "metadata": {},
   "outputs": [],
   "source": [
    "import os\n",
    "from glob import glob\n",
    "from pathlib import Path\n",
    "\n",
    "import matplotlib.pyplot as plt\n",
    "import numpy as np\n",
    "import pandas as pd\n",
    "import seaborn as sns\n",
    "from pandas.api.types import CategoricalDtype\n",
    "from sklearn import linear_model\n",
    "from sklearn.metrics import RocCurveDisplay, auc, mean_squared_error, roc_curve\n",
    "from sklearn.model_selection import KFold, RandomizedSearchCV\n",
    "from sklearn.utils.fixes import loguniform\n",
    "\n",
    "from label_flip_revised.utils import create_dir"
   ]
  },
  {
   "cell_type": "code",
   "execution_count": 2,
   "metadata": {},
   "outputs": [
    {
     "name": "stdout",
     "output_type": "stream",
     "text": [
      "/home/lukec/workspace/diva_01\n"
     ]
    }
   ],
   "source": [
    "PATH_ROOT = os.path.join(Path().absolute().parent)\n",
    "print(PATH_ROOT)"
   ]
  },
  {
   "cell_type": "code",
   "execution_count": 3,
   "metadata": {},
   "outputs": [
    {
     "name": "stdout",
     "output_type": "stream",
     "text": [
      "/home/lukec/workspace/diva_01/results_plot\n"
     ]
    }
   ],
   "source": [
    "path_output = os.path.join(PATH_ROOT, 'results_plot')\n",
    "print(path_output)\n",
    "create_dir(path_output)"
   ]
  },
  {
   "cell_type": "code",
   "execution_count": 4,
   "metadata": {},
   "outputs": [
    {
     "name": "stdout",
     "output_type": "stream",
     "text": [
      "(4050, 38)\n"
     ]
    }
   ],
   "source": [
    "df = pd.read_csv(os.path.join(PATH_ROOT, 'results', 'synth_noisy', 'synth_falfa_nn_db.csv'))\n",
    "print(df.shape)"
   ]
  },
  {
   "cell_type": "code",
   "execution_count": 5,
   "metadata": {},
   "outputs": [],
   "source": [
    "noise_rate = df['Data'].apply(lambda x: float(x.split('_')[6][2:]))\n",
    "df['Noise.Rate'] = noise_rate"
   ]
  },
  {
   "cell_type": "code",
   "execution_count": 6,
   "metadata": {},
   "outputs": [
    {
     "name": "stdout",
     "output_type": "stream",
     "text": [
      "Index(['Data', 'F1', 'F1 SD', 'F1v', 'F2', 'F3', 'F4', 'N1', 'N2', 'N2 SD',\n",
      "       'N3', 'N3 SD', 'N4', 'N4 SD', 'T1', 'T1 SD', 'LSC', 'L1', 'L2', 'L3',\n",
      "       'T2', 'T3', 'T4', 'C1', 'C2', 'Density', 'ClsCoef', 'Hubs', 'Hubs SD',\n",
      "       'Path.Train', 'Path.Poison', 'Path.Test', 'Rate', 'Train.Clean',\n",
      "       'Test.Clean', 'Train.Poison', 'Test.Poison', 'Data.Base', 'Noise.Rate'],\n",
      "      dtype='object')\n"
     ]
    }
   ],
   "source": [
    "print(df.columns)"
   ]
  },
  {
   "cell_type": "code",
   "execution_count": 7,
   "metadata": {},
   "outputs": [
    {
     "name": "stdout",
     "output_type": "stream",
     "text": [
      "28\n"
     ]
    }
   ],
   "source": [
    "COLS_CM = [\n",
    "    'F1', 'F1 SD', 'F1v', 'F2', 'F3', 'F4', 'N1', 'N2', 'N2 SD',\n",
    "    'N3', 'N3 SD', 'N4', 'N4 SD', 'T1', 'T1 SD', 'LSC', 'L1', 'L2', 'L3',\n",
    "    'T2', 'T3', 'T4', 'C1', 'C2', 'Density', 'ClsCoef', 'Hubs', 'Hubs SD',\n",
    "]\n",
    "COL_Y = 'Test.Poison'\n",
    "\n",
    "print(len(COLS_CM))"
   ]
  },
  {
   "cell_type": "code",
   "execution_count": 8,
   "metadata": {},
   "outputs": [
    {
     "name": "stdout",
     "output_type": "stream",
     "text": [
      "0.0074\n"
     ]
    }
   ],
   "source": [
    "N_ITER_SEARCH = 100\n",
    "\n",
    "# Find parameter\n",
    "param = {'alpha': loguniform(1e-4, 10),}\n",
    "X = df[COLS_CM]\n",
    "y = df[COL_Y]\n",
    "regressor = linear_model.Ridge()\n",
    "param_search = RandomizedSearchCV(regressor, param_distributions=param, n_iter=N_ITER_SEARCH, n_jobs=-1)\n",
    "param_search.fit(X, y)\n",
    "\n",
    "best_estimator_ = param_search.best_estimator_.get_params()\n",
    "alpha = np.round(best_estimator_['alpha'], 4)\n",
    "print(alpha)"
   ]
  },
  {
   "cell_type": "code",
   "execution_count": 9,
   "metadata": {},
   "outputs": [],
   "source": [
    "N_FOLD = 5\n",
    "\n",
    "df['Prediction'] = 0.\n",
    "\n",
    "# Split by clean data\n",
    "idx_clean = df[df['Rate'] == 0].index\n",
    "kf = KFold(n_splits=N_FOLD, shuffle=True)\n",
    "for i_train, i_test in kf.split(idx_clean):\n",
    "    idx_train_clean = idx_clean[i_train]\n",
    "    idx_test_clean = idx_clean[i_test]\n",
    "\n",
    "    data_train = df.loc[idx_train_clean, 'Data.Base']\n",
    "    data_test = df.loc[idx_test_clean, 'Data.Base']\n",
    "\n",
    "    idx_train = df[df['Data.Base'].isin(data_train)].index\n",
    "    idx_test = df[df['Data.Base'].isin(data_test)].index\n",
    "    assert len(idx_train) + len(idx_test) == df.shape[0], f'{len(idx_train)} + {len(idx_test)} != {df.shape[0]}'\n",
    "\n",
    "    X_train = df.loc[idx_train, COLS_CM]\n",
    "    y_train = df.loc[idx_train, COL_Y]\n",
    "    X_test = df.loc[idx_test, COLS_CM]\n",
    "    y_test = df.loc[idx_test, COL_Y]\n",
    "\n",
    "    regressor = linear_model.Ridge(alpha=alpha)\n",
    "    regressor.fit(X_train, y_train)\n",
    "\n",
    "    df.loc[idx_test, 'Prediction'] = regressor.predict(X_test)\n",
    "\n",
    "# Apply clipping\n",
    "df['Prediction'] = np.amin([df['Prediction'].to_numpy(), np.ones(df.shape[0])], axis=0)"
   ]
  },
  {
   "cell_type": "code",
   "execution_count": 10,
   "metadata": {},
   "outputs": [
    {
     "data": {
      "image/png": "[encoded data removed]",
      "text/plain": [
       "<Figure size 360x360 with 1 Axes>"
      ]
     },
     "metadata": {
      "needs_background": "light"
     },
     "output_type": "display_data"
    }
   ],
   "source": [
    "THRESHOLD = 0.0\n",
    "\n",
    "FONTSIZE = 14\n",
    "FIGSIZE = (5, 5)\n",
    "\n",
    "plt.rcParams[\"font.size\"] = FONTSIZE\n",
    "fig, ax = plt.subplots(figsize=FIGSIZE)\n",
    "y_true_ = (df['Rate'] > THRESHOLD).astype(int)\n",
    "y_score_ = df['Train.Poison'] - df['Prediction']\n",
    "fpr, tpr, thresholds = roc_curve(y_true_, y_score_)\n",
    "roc_auc_ = auc(fpr, tpr)\n",
    "roc_display = RocCurveDisplay(fpr=fpr, tpr=tpr, roc_auc=roc_auc_).plot(ax=ax)\n",
    "plt.tight_layout()\n",
    "plt.show()\n"
   ]
  },
  {
   "cell_type": "code",
   "execution_count": 11,
   "metadata": {},
   "outputs": [
    {
     "name": "stdout",
     "output_type": "stream",
     "text": [
      "-0.00347222222222221 0.7566025766009785\n",
      "threshold: 0.382914636666275\n"
     ]
    }
   ],
   "source": [
    "df_ = df[(df['Rate'] == 0) & (df['Noise.Rate'] == 0)]\n",
    "dif_00 = (df_['Train.Poison'] - df_['Prediction'])\n",
    "print(dif_00.min(), dif_00.max())\n",
    "\n",
    "threshold = np.quantile(dif_00, 0.95)\n",
    "\n",
    "print(f'threshold: {threshold}')"
   ]
  },
  {
   "cell_type": "code",
   "execution_count": 12,
   "metadata": {},
   "outputs": [
    {
     "data": {
      "text/plain": [
       "50"
      ]
     },
     "execution_count": 12,
     "metadata": {},
     "output_type": "execute_result"
    }
   ],
   "source": [
    "df[(df['Rate'] == 0) & (df['Noise.Rate'] == 0)].shape[0]"
   ]
  },
  {
   "cell_type": "code",
   "execution_count": 13,
   "metadata": {},
   "outputs": [
    {
     "data": {
      "text/html": [
       "<div>\n",
       "<style scoped>\n",
       "    .dataframe tbody tr th:only-of-type {\n",
       "        vertical-align: middle;\n",
       "    }\n",
       "\n",
       "    .dataframe tbody tr th {\n",
       "        vertical-align: top;\n",
       "    }\n",
       "\n",
       "    .dataframe thead th {\n",
       "        text-align: right;\n",
       "    }\n",
       "</style>\n",
       "<table border=\"1\" class=\"dataframe\">\n",
       "  <thead>\n",
       "    <tr style=\"text-align: right;\">\n",
       "      <th>Noise Label Rate</th>\n",
       "      <th>0.00</th>\n",
       "      <th>0.05</th>\n",
       "      <th>0.10</th>\n",
       "      <th>0.15</th>\n",
       "      <th>0.20</th>\n",
       "      <th>0.25</th>\n",
       "      <th>0.30</th>\n",
       "      <th>0.35</th>\n",
       "      <th>0.40</th>\n",
       "    </tr>\n",
       "    <tr>\n",
       "      <th>Poisoning Rate</th>\n",
       "      <th></th>\n",
       "      <th></th>\n",
       "      <th></th>\n",
       "      <th></th>\n",
       "      <th></th>\n",
       "      <th></th>\n",
       "      <th></th>\n",
       "      <th></th>\n",
       "      <th></th>\n",
       "    </tr>\n",
       "  </thead>\n",
       "  <tbody>\n",
       "    <tr>\n",
       "      <th>0.00</th>\n",
       "      <td>3</td>\n",
       "      <td>3</td>\n",
       "      <td>8</td>\n",
       "      <td>12</td>\n",
       "      <td>12</td>\n",
       "      <td>17</td>\n",
       "      <td>20</td>\n",
       "      <td>24</td>\n",
       "      <td>25</td>\n",
       "    </tr>\n",
       "    <tr>\n",
       "      <th>0.05</th>\n",
       "      <td>8</td>\n",
       "      <td>6</td>\n",
       "      <td>11</td>\n",
       "      <td>13</td>\n",
       "      <td>17</td>\n",
       "      <td>21</td>\n",
       "      <td>19</td>\n",
       "      <td>24</td>\n",
       "      <td>23</td>\n",
       "    </tr>\n",
       "    <tr>\n",
       "      <th>0.10</th>\n",
       "      <td>18</td>\n",
       "      <td>19</td>\n",
       "      <td>21</td>\n",
       "      <td>21</td>\n",
       "      <td>24</td>\n",
       "      <td>24</td>\n",
       "      <td>25</td>\n",
       "      <td>25</td>\n",
       "      <td>29</td>\n",
       "    </tr>\n",
       "    <tr>\n",
       "      <th>0.15</th>\n",
       "      <td>16</td>\n",
       "      <td>23</td>\n",
       "      <td>24</td>\n",
       "      <td>27</td>\n",
       "      <td>24</td>\n",
       "      <td>28</td>\n",
       "      <td>28</td>\n",
       "      <td>29</td>\n",
       "      <td>28</td>\n",
       "    </tr>\n",
       "    <tr>\n",
       "      <th>0.20</th>\n",
       "      <td>26</td>\n",
       "      <td>26</td>\n",
       "      <td>25</td>\n",
       "      <td>27</td>\n",
       "      <td>29</td>\n",
       "      <td>27</td>\n",
       "      <td>28</td>\n",
       "      <td>27</td>\n",
       "      <td>27</td>\n",
       "    </tr>\n",
       "    <tr>\n",
       "      <th>0.25</th>\n",
       "      <td>23</td>\n",
       "      <td>27</td>\n",
       "      <td>26</td>\n",
       "      <td>28</td>\n",
       "      <td>30</td>\n",
       "      <td>31</td>\n",
       "      <td>32</td>\n",
       "      <td>29</td>\n",
       "      <td>31</td>\n",
       "    </tr>\n",
       "    <tr>\n",
       "      <th>0.30</th>\n",
       "      <td>27</td>\n",
       "      <td>27</td>\n",
       "      <td>31</td>\n",
       "      <td>33</td>\n",
       "      <td>33</td>\n",
       "      <td>33</td>\n",
       "      <td>28</td>\n",
       "      <td>34</td>\n",
       "      <td>31</td>\n",
       "    </tr>\n",
       "    <tr>\n",
       "      <th>0.35</th>\n",
       "      <td>24</td>\n",
       "      <td>25</td>\n",
       "      <td>29</td>\n",
       "      <td>27</td>\n",
       "      <td>31</td>\n",
       "      <td>29</td>\n",
       "      <td>34</td>\n",
       "      <td>30</td>\n",
       "      <td>28</td>\n",
       "    </tr>\n",
       "    <tr>\n",
       "      <th>0.40</th>\n",
       "      <td>25</td>\n",
       "      <td>24</td>\n",
       "      <td>29</td>\n",
       "      <td>30</td>\n",
       "      <td>30</td>\n",
       "      <td>26</td>\n",
       "      <td>32</td>\n",
       "      <td>30</td>\n",
       "      <td>29</td>\n",
       "    </tr>\n",
       "  </tbody>\n",
       "</table>\n",
       "</div>"
      ],
      "text/plain": [
       "Noise Label Rate  0.00  0.05  0.10  0.15  0.20  0.25  0.30  0.35  0.40\n",
       "Poisoning Rate                                                        \n",
       "0.00                 3     3     8    12    12    17    20    24    25\n",
       "0.05                 8     6    11    13    17    21    19    24    23\n",
       "0.10                18    19    21    21    24    24    25    25    29\n",
       "0.15                16    23    24    27    24    28    28    29    28\n",
       "0.20                26    26    25    27    29    27    28    27    27\n",
       "0.25                23    27    26    28    30    31    32    29    31\n",
       "0.30                27    27    31    33    33    33    28    34    31\n",
       "0.35                24    25    29    27    31    29    34    30    28\n",
       "0.40                25    24    29    30    30    26    32    30    29"
      ]
     },
     "execution_count": 13,
     "metadata": {},
     "output_type": "execute_result"
    }
   ],
   "source": [
    "results = (df['Train.Poison'] - df['Prediction']) > threshold\n",
    "df_ = df[['Noise.Rate', 'Rate']].copy()\n",
    "df_['Prediction'] = results.astype(int)\n",
    "df_ = df_.rename(columns = {'Noise.Rate':'Noise Label Rate', 'Rate':'Poisoning Rate', 'Prediction': 'FPR'})\n",
    "df_grouped = df_.groupby(['Noise Label Rate', 'Poisoning Rate']).sum()\n",
    "df_grouped = df_grouped.reset_index()\n",
    "df_pivot = df_grouped.pivot('Poisoning Rate', 'Noise Label Rate', 'FPR')\n",
    "df_pivot"
   ]
  },
  {
   "cell_type": "code",
   "execution_count": 14,
   "metadata": {},
   "outputs": [
    {
     "data": {
      "image/png": "[encoded data removed]",
      "text/plain": [
       "<Figure size 360x288 with 2 Axes>"
      ]
     },
     "metadata": {
      "needs_background": "light"
     },
     "output_type": "display_data"
    }
   ],
   "source": [
    "FONTSIZE = 13\n",
    "FIGSIZE = (5, 4)\n",
    "\n",
    "plt.rcParams[\"font.size\"] = FONTSIZE\n",
    "fig, ax = plt.subplots(figsize=FIGSIZE)\n",
    "ax = sns.heatmap(df_pivot, ax=ax, annot=True, fmt='d', cmap=\"Greens\", vmin=0, vmax=50)\n",
    "plt.yticks(rotation=0)\n",
    "plt.xlabel('Label Noise Rate', fontsize=FONTSIZE+2)\n",
    "plt.ylabel('Poisoning Rate', fontsize=FONTSIZE+2)\n",
    "plt.tight_layout()\n",
    "plot_output = os.path.join(path_output, 'synth_heatmap_noise.pdf')\n",
    "plt.savefig(plot_output, dpi=300)"
   ]
  },
  {
   "cell_type": "code",
   "execution_count": null,
   "metadata": {},
   "outputs": [],
   "source": []
  }
 ],
 "metadata": {
  "interpreter": {
   "hash": "8bcff36e631da1ef6cb25b63542a3f56d2322f7e3d69a7432caaf86f390cdb5a"
  },
  "kernelspec": {
   "display_name": "Python 3.8.10 64-bit ('torch': venv)",
   "language": "python",
   "name": "python3"
  },
  "language_info": {
   "codemirror_mode": {
    "name": "ipython",
    "version": 3
   },
   "file_extension": ".py",
   "mimetype": "text/x-python",
   "name": "python",
   "nbconvert_exporter": "python",
   "pygments_lexer": "ipython3",
   "version": "3.8.10"
  },
  "orig_nbformat": 4
 },
 "nbformat": 4,
 "nbformat_minor": 2
}

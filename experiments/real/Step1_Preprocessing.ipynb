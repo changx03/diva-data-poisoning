{
 "cells": [
  {
   "cell_type": "markdown",
   "metadata": {},
   "source": [
    "# Preprocessing for real data sets\n",
    "\n",
    "## List of data sets:\n",
    "\n",
    "1. abalone\n",
    "1. australian\n",
    "1. banknote\n",
    "1. breastcancer\n",
    "1. cardiotocography\n",
    "1. cmc\n",
    "1. htru2\n",
    "1. phoneme\n",
    "1. ringnorm\n",
    "1. texture\n",
    "1. yeast"
   ]
  },
  {
   "cell_type": "code",
   "execution_count": null,
   "metadata": {},
   "outputs": [],
   "source": [
    "import os\n",
    "from pathlib import Path\n",
    "\n",
    "import pandas as pd\n",
    "from pandas.api.types import CategoricalDtype\n",
    "import numpy as np\n",
    "from sklearn.preprocessing import StandardScaler\n",
    "\n",
    "from label_flip_revised.utils import create_dir"
   ]
  },
  {
   "cell_type": "code",
   "execution_count": null,
   "metadata": {},
   "outputs": [],
   "source": [
    "PATH_DATA = os.path.join(Path(os.getcwd()).parent.parent, \"data\", \"raw\")\n",
    "abspath = Path(PATH_DATA).absolute()\n",
    "print(abspath)\n",
    "\n",
    "path_output_std = os.path.join(Path(os.getcwd()).parent.parent, \"data\", \"standard\")\n",
    "print(path_output_std)\n",
    "create_dir(path_output_std)"
   ]
  },
  {
   "cell_type": "markdown",
   "metadata": {},
   "source": [
    "## 1. Abalone\n",
    "\n",
    "Read from `./data/raw/abalone.dat`"
   ]
  },
  {
   "cell_type": "code",
   "execution_count": null,
   "metadata": {},
   "outputs": [],
   "source": [
    "path_data = os.path.join(abspath, \"abalone.dat\")\n",
    "cols = [\n",
    "    \"Sex\",\n",
    "    \"Length\",\n",
    "    \"Diameter\",\n",
    "    \"Height\",\n",
    "    \"Whole_weight\",\n",
    "    \"Shucked_weight\",\n",
    "    \"Viscera_weight\",\n",
    "    \"Shell_weight\",\n",
    "    \"Rings\",\n",
    "]\n",
    "df = pd.read_csv(path_data, skiprows=13, names=cols, index_col=None, header=None)\n",
    "print(df.shape)"
   ]
  },
  {
   "cell_type": "code",
   "execution_count": null,
   "metadata": {},
   "outputs": [],
   "source": [
    "print(df[\"Rings\"].nunique())\n",
    "\n",
    "print(len(df[df[\"Rings\"] >= 10]))\n",
    "print(len(df[df[\"Rings\"] < 10]))"
   ]
  },
  {
   "cell_type": "code",
   "execution_count": null,
   "metadata": {},
   "outputs": [],
   "source": [
    "# Assign # of rings greater and equal to 10 as 1, less than 10 as 0\n",
    "df[\"Class\"] = (\n",
    "    df[\"Rings\"].apply(lambda x: 0 if x < 10 else 1).astype(\"category\").cat.codes\n",
    ")\n",
    "df = df.drop([\"Rings\", \"Sex\"], axis=1)\n",
    "\n",
    "# Only keep Male and Female classes\n",
    "df = df[(df[\"Class\"] == 0) | (df[\"Class\"] == 1)]\n",
    "\n",
    "print(df.shape)\n",
    "df.head()"
   ]
  },
  {
   "cell_type": "code",
   "execution_count": null,
   "metadata": {},
   "outputs": [],
   "source": [
    "df[\"Class\"].value_counts().plot(kind=\"bar\")"
   ]
  },
  {
   "cell_type": "code",
   "execution_count": null,
   "metadata": {},
   "outputs": [],
   "source": [
    "df0 = df[df[\"Class\"] == 0].sample(1000, replace=False)\n",
    "df1 = df[df[\"Class\"] == 1].sample(1000, replace=False)\n",
    "df = pd.concat([df0, df1])\n",
    "\n",
    "df[\"Class\"].value_counts().plot(kind=\"bar\")"
   ]
  },
  {
   "cell_type": "code",
   "execution_count": null,
   "metadata": {},
   "outputs": [],
   "source": [
    "# Save data\n",
    "path_output = os.path.join(Path(abspath).parent, \"preprocessed\")\n",
    "create_dir(path_output)\n",
    "path_output = os.path.join(path_output, \"abalone_subset.csv\")\n",
    "print(f\"Save to: {path_output}\")\n",
    "df.to_csv(path_output, index=False)"
   ]
  },
  {
   "cell_type": "code",
   "execution_count": null,
   "metadata": {},
   "outputs": [],
   "source": [
    "df.head()"
   ]
  },
  {
   "cell_type": "code",
   "execution_count": null,
   "metadata": {},
   "outputs": [],
   "source": [
    "def preprocessing(df):\n",
    "    col_redundant = df.columns[df.nunique() == 1]\n",
    "    if len(col_redundant) > 0:\n",
    "        print(\"Remove:\", col_redundant)\n",
    "        df = df.drop(col_redundant, axis=1)\n",
    "\n",
    "    scaler = StandardScaler()\n",
    "    col_X = df.columns[~df.columns.isin([\"Class\"])]\n",
    "    df_preprocessing = pd.DataFrame(df)\n",
    "    df_preprocessing[col_X] = (\n",
    "        scaler.fit_transform(df[col_X]).round(6).astype(np.float32)\n",
    "    )\n",
    "    df_preprocessing[\"Class\"] = df_preprocessing[\"Class\"].astype(int)\n",
    "    return df_preprocessing"
   ]
  },
  {
   "cell_type": "code",
   "execution_count": null,
   "metadata": {},
   "outputs": [],
   "source": [
    "df_preprocess = preprocessing(df)\n",
    "df_preprocess.head()"
   ]
  },
  {
   "cell_type": "code",
   "execution_count": null,
   "metadata": {},
   "outputs": [],
   "source": [
    "df_preprocess.to_csv(\n",
    "    os.path.join(path_output_std, \"abalone_subset_std.csv\"), index=False\n",
    ")"
   ]
  },
  {
   "cell_type": "markdown",
   "metadata": {},
   "source": [
    "## 2. Australian\n",
    "\n",
    "Read from `./data/raw/australian.dat`"
   ]
  },
  {
   "cell_type": "code",
   "execution_count": null,
   "metadata": {},
   "outputs": [],
   "source": [
    "path_data = os.path.join(abspath, \"australian.dat\")\n",
    "col_names = [\"A{}\".format(i) for i in range(1, 15)] + [\"Class\"]\n",
    "print(col_names)\n",
    "df = pd.read_csv(path_data, sep=\"\\s+\", names=col_names, header=None)\n",
    "df[\"Class\"] = df[\"Class\"].astype(\"category\").cat.codes\n",
    "print(df.shape)\n",
    "df.head()"
   ]
  },
  {
   "cell_type": "code",
   "execution_count": null,
   "metadata": {},
   "outputs": [],
   "source": [
    "df[\"Class\"].value_counts().plot(kind=\"bar\")"
   ]
  },
  {
   "cell_type": "code",
   "execution_count": null,
   "metadata": {},
   "outputs": [],
   "source": [
    "path_output = os.path.join(Path(abspath).parent, \"preprocessed\", \"australian.csv\")\n",
    "print(f\"Save to: {path_output}\")\n",
    "df.to_csv(path_output, index=False)"
   ]
  },
  {
   "cell_type": "code",
   "execution_count": null,
   "metadata": {},
   "outputs": [],
   "source": [
    "df_preprocess = preprocessing(df)\n",
    "df_preprocess.head()"
   ]
  },
  {
   "cell_type": "code",
   "execution_count": null,
   "metadata": {},
   "outputs": [],
   "source": [
    "df_preprocess.to_csv(os.path.join(path_output_std, \"australian_std.csv\"), index=False)"
   ]
  },
  {
   "cell_type": "markdown",
   "metadata": {},
   "source": [
    "## 3. Banknote\n",
    "\n",
    "Read from `./data/raw/banknote.csv`"
   ]
  },
  {
   "cell_type": "code",
   "execution_count": null,
   "metadata": {},
   "outputs": [],
   "source": [
    "path_data = os.path.join(abspath, \"banknote.csv\")\n",
    "df = pd.read_csv(path_data)\n",
    "df[\"Class\"] = df[\"Class\"].astype(\"category\").cat.codes\n",
    "print(df.shape)\n",
    "df.head()"
   ]
  },
  {
   "cell_type": "code",
   "execution_count": null,
   "metadata": {},
   "outputs": [],
   "source": [
    "df[\"Class\"].value_counts().plot(kind=\"bar\")"
   ]
  },
  {
   "cell_type": "code",
   "execution_count": null,
   "metadata": {},
   "outputs": [],
   "source": [
    "path_output = os.path.join(Path(abspath).parent, \"preprocessed\", \"banknote.csv\")\n",
    "print(f\"Save to: {path_output}\")\n",
    "df.to_csv(path_output, index=False)"
   ]
  },
  {
   "cell_type": "code",
   "execution_count": null,
   "metadata": {},
   "outputs": [],
   "source": [
    "df_preprocess = preprocessing(df)\n",
    "df_preprocess.head()"
   ]
  },
  {
   "cell_type": "code",
   "execution_count": null,
   "metadata": {},
   "outputs": [],
   "source": [
    "df_preprocess.to_csv(os.path.join(path_output_std, \"banknote_std.csv\"), index=False)"
   ]
  },
  {
   "cell_type": "markdown",
   "metadata": {},
   "source": [
    "## 4. Breast Cancer\n",
    "\n",
    "Read data from `sklearn.datasets`"
   ]
  },
  {
   "cell_type": "code",
   "execution_count": null,
   "metadata": {},
   "outputs": [],
   "source": [
    "from sklearn.datasets import load_breast_cancer\n",
    "\n",
    "dataset = load_breast_cancer()\n",
    "X = dataset.data\n",
    "y = dataset.target\n",
    "col_names = dataset.feature_names\n",
    "\n",
    "df = pd.DataFrame(X, columns=col_names)\n",
    "df[\"Class\"] = pd.Series(y, dtype=\"category\").cat.codes\n",
    "\n",
    "print(df.shape)\n",
    "df.head()"
   ]
  },
  {
   "cell_type": "code",
   "execution_count": null,
   "metadata": {},
   "outputs": [],
   "source": [
    "df[\"Class\"].value_counts().plot(kind=\"bar\")"
   ]
  },
  {
   "cell_type": "code",
   "execution_count": null,
   "metadata": {},
   "outputs": [],
   "source": [
    "path_output = os.path.join(Path(abspath).parent, \"preprocessed\", \"breastcancer.csv\")\n",
    "print(f\"Save to: {path_output}\")\n",
    "df.to_csv(path_output, index=False)"
   ]
  },
  {
   "cell_type": "code",
   "execution_count": null,
   "metadata": {},
   "outputs": [],
   "source": [
    "df_preprocess = preprocessing(df)\n",
    "df_preprocess.head()"
   ]
  },
  {
   "cell_type": "code",
   "execution_count": null,
   "metadata": {},
   "outputs": [],
   "source": [
    "df_preprocess.to_csv(os.path.join(path_output_std, \"breastcancer_std.csv\"), index=False)"
   ]
  },
  {
   "cell_type": "markdown",
   "metadata": {},
   "source": [
    "## 6. CMC\n",
    "\n",
    "Read from: `./data/raw/cmc.data`"
   ]
  },
  {
   "cell_type": "code",
   "execution_count": null,
   "metadata": {},
   "outputs": [],
   "source": [
    "path_data = os.path.join(abspath, \"cmc.data\")\n",
    "col_names = [\n",
    "    \"W_age\",\n",
    "    \"W_edu\",\n",
    "    \"H_edu\",\n",
    "    \"Children\",\n",
    "    \"W_religion\",\n",
    "    \"W_work\",\n",
    "    \"H_occ\",\n",
    "    \"SoL\",\n",
    "    \"Media\",\n",
    "    \"Class\",\n",
    "]\n",
    "df = pd.read_csv(path_data, index_col=None, header=None, names=col_names)\n",
    "df[\"Class\"] = df[\"Class\"].astype(\"category\").cat.codes\n",
    "print(df.shape)\n",
    "df.head()"
   ]
  },
  {
   "cell_type": "code",
   "execution_count": null,
   "metadata": {},
   "outputs": [],
   "source": [
    "df[\"Class\"].value_counts().plot(kind=\"bar\")"
   ]
  },
  {
   "cell_type": "markdown",
   "metadata": {},
   "source": [
    "Class attributes is **Contraceptive method used**. (1=No-use, 2=Long-term, 3=Short-term).\n",
    "We merge 2 and 3."
   ]
  },
  {
   "cell_type": "code",
   "execution_count": null,
   "metadata": {},
   "outputs": [],
   "source": [
    "df[\"Class\"] = df[\"Class\"].apply(lambda x: 0 if x == 1 else 1)"
   ]
  },
  {
   "cell_type": "code",
   "execution_count": null,
   "metadata": {},
   "outputs": [],
   "source": [
    "df[\"Class\"].value_counts().plot(kind=\"bar\")"
   ]
  },
  {
   "cell_type": "code",
   "execution_count": null,
   "metadata": {},
   "outputs": [],
   "source": [
    "path_output = os.path.join(Path(abspath).parent, \"preprocessed\", \"cmc.csv\")\n",
    "print(f\"Save to: {path_output}\")\n",
    "df.to_csv(path_output, index=False)"
   ]
  },
  {
   "cell_type": "code",
   "execution_count": null,
   "metadata": {},
   "outputs": [],
   "source": [
    "df_preprocess = preprocessing(df)\n",
    "df_preprocess.head()"
   ]
  },
  {
   "cell_type": "code",
   "execution_count": null,
   "metadata": {},
   "outputs": [],
   "source": [
    "df_preprocess.to_csv(os.path.join(path_output_std, \"cmc_std.csv\"), index=False)"
   ]
  },
  {
   "cell_type": "markdown",
   "metadata": {
    "tags": []
   },
   "source": [
    "## 7. HTRU2\n",
    "\n",
    "Read from: `./data/raw/HTRU_2.csv`"
   ]
  },
  {
   "cell_type": "code",
   "execution_count": null,
   "metadata": {},
   "outputs": [],
   "source": [
    "path_data = os.path.join(abspath, \"HTRU_2.csv\")\n",
    "col_names = [\"A{}\".format(i) for i in range(1, 9)] + [\"Class\"]\n",
    "df = pd.read_csv(path_data, names=col_names, index_col=None, header=None)\n",
    "df[\"Class\"] = df[\"Class\"].astype(\"category\").cat.codes\n",
    "\n",
    "print(df.shape)\n",
    "df.head()"
   ]
  },
  {
   "cell_type": "code",
   "execution_count": null,
   "metadata": {},
   "outputs": [],
   "source": [
    "df[\"Class\"].value_counts().plot(kind=\"bar\")"
   ]
  },
  {
   "cell_type": "code",
   "execution_count": null,
   "metadata": {},
   "outputs": [],
   "source": [
    "df0 = df[df[\"Class\"] == 0].sample(1000, replace=False)\n",
    "df1 = df[df[\"Class\"] == 1].sample(1000, replace=False)\n",
    "df = pd.concat([df0, df1])\n",
    "\n",
    "df[\"Class\"].value_counts().plot(kind=\"bar\")"
   ]
  },
  {
   "cell_type": "code",
   "execution_count": null,
   "metadata": {},
   "outputs": [],
   "source": [
    "path_output = os.path.join(Path(abspath).parent, \"preprocessed\", \"htru2_subset.csv\")\n",
    "print(f\"Save to: {path_output}\")\n",
    "df.to_csv(path_output, index=False)"
   ]
  },
  {
   "cell_type": "code",
   "execution_count": null,
   "metadata": {},
   "outputs": [],
   "source": [
    "df_preprocess = preprocessing(df)\n",
    "df_preprocess.head()"
   ]
  },
  {
   "cell_type": "code",
   "execution_count": null,
   "metadata": {},
   "outputs": [],
   "source": [
    "df_preprocess.to_csv(os.path.join(path_output_std, \"htru2_subset_std.csv\"), index=False)"
   ]
  },
  {
   "cell_type": "markdown",
   "metadata": {
    "tags": []
   },
   "source": [
    "## 8. Phoneme\n",
    "\n",
    "Read from: `./data/raw/phoneme.csv`"
   ]
  },
  {
   "cell_type": "code",
   "execution_count": null,
   "metadata": {},
   "outputs": [],
   "source": [
    "path_data = os.path.join(abspath, \"phoneme.csv\")\n",
    "df = pd.read_csv(path_data, index_col=None)\n",
    "df[\"Class\"] = df[\"Class\"].astype(\"category\").cat.codes\n",
    "\n",
    "print(df.shape)\n",
    "df.head()"
   ]
  },
  {
   "cell_type": "code",
   "execution_count": null,
   "metadata": {},
   "outputs": [],
   "source": [
    "df[\"Class\"].value_counts().plot(kind=\"bar\")"
   ]
  },
  {
   "cell_type": "code",
   "execution_count": null,
   "metadata": {},
   "outputs": [],
   "source": [
    "df0 = df[df[\"Class\"] == 0].sample(1000, replace=False)\n",
    "df1 = df[df[\"Class\"] == 1].sample(1000, replace=False)\n",
    "df = pd.concat([df0, df1])\n",
    "\n",
    "df[\"Class\"].value_counts().plot(kind=\"bar\")"
   ]
  },
  {
   "cell_type": "code",
   "execution_count": null,
   "metadata": {},
   "outputs": [],
   "source": [
    "path_output = os.path.join(Path(abspath).parent, \"preprocessed\", \"phoneme_subset.csv\")\n",
    "print(f\"Save to: {path_output}\")\n",
    "df.to_csv(path_output, index=False)"
   ]
  },
  {
   "cell_type": "code",
   "execution_count": null,
   "metadata": {},
   "outputs": [],
   "source": [
    "df_preprocess = preprocessing(df)\n",
    "df_preprocess.head()"
   ]
  },
  {
   "cell_type": "code",
   "execution_count": null,
   "metadata": {},
   "outputs": [],
   "source": [
    "df_preprocess.to_csv(\n",
    "    os.path.join(path_output_std, \"phoneme_subset_std.csv\"), index=False\n",
    ")"
   ]
  },
  {
   "cell_type": "markdown",
   "metadata": {},
   "source": [
    "## 9. Ringnorm\n",
    "\n",
    "Read from: `./data/raw/ringnorm.dat`"
   ]
  },
  {
   "cell_type": "code",
   "execution_count": null,
   "metadata": {},
   "outputs": [],
   "source": [
    "path_data = os.path.join(abspath, \"ringnorm.dat\")\n",
    "col_names = [\"A{}\".format(i) for i in range(1, 21)] + [\"Class\"]\n",
    "df = pd.read_csv(path_data, skiprows=26, names=col_names, header=None, index_col=None)\n",
    "df[\"Class\"] = df[\"Class\"].astype(\"category\").cat.codes\n",
    "\n",
    "print(df.shape)\n",
    "df.head()"
   ]
  },
  {
   "cell_type": "code",
   "execution_count": null,
   "metadata": {},
   "outputs": [],
   "source": [
    "df[\"Class\"].value_counts().plot(kind=\"bar\")"
   ]
  },
  {
   "cell_type": "code",
   "execution_count": null,
   "metadata": {},
   "outputs": [],
   "source": [
    "df0 = df[df[\"Class\"] == 0].sample(1000, replace=False)\n",
    "df1 = df[df[\"Class\"] == 1].sample(1000, replace=False)\n",
    "df = pd.concat([df0, df1])\n",
    "\n",
    "df[\"Class\"].value_counts().plot(kind=\"bar\")"
   ]
  },
  {
   "cell_type": "code",
   "execution_count": null,
   "metadata": {},
   "outputs": [],
   "source": [
    "path_output = os.path.join(Path(abspath).parent, \"preprocessed\", \"ringnorm_subset.csv\")\n",
    "print(f\"Save to: {path_output}\")\n",
    "df.to_csv(path_output, index=False)"
   ]
  },
  {
   "cell_type": "code",
   "execution_count": null,
   "metadata": {},
   "outputs": [],
   "source": [
    "df_preprocess = preprocessing(df)\n",
    "df_preprocess.head()"
   ]
  },
  {
   "cell_type": "code",
   "execution_count": null,
   "metadata": {},
   "outputs": [],
   "source": [
    "df_preprocess.to_csv(\n",
    "    os.path.join(path_output_std, \"ringnorm_subset_std.csv\"), index=False\n",
    ")"
   ]
  },
  {
   "cell_type": "markdown",
   "metadata": {},
   "source": [
    "## 10. Texture\n",
    "\n",
    "Read from: `./data/raw/texture.dat`"
   ]
  },
  {
   "cell_type": "code",
   "execution_count": null,
   "metadata": {},
   "outputs": [],
   "source": [
    "path_data = os.path.join(abspath, \"texture.dat\")\n",
    "col_names = [\"A{}\".format(i) for i in range(1, 41)] + [\"Class\"]\n",
    "df = pd.read_csv(path_data, skiprows=45, names=col_names, header=None, index_col=None)\n",
    "df[\"Class\"] = df[\"Class\"].astype(\"category\").cat.codes\n",
    "\n",
    "print(df.shape)\n",
    "df.head()"
   ]
  },
  {
   "cell_type": "code",
   "execution_count": null,
   "metadata": {},
   "outputs": [],
   "source": [
    "df[\"Class\"].value_counts().plot(kind=\"bar\")"
   ]
  },
  {
   "cell_type": "markdown",
   "metadata": {},
   "source": [
    "To make it binary classification, only select class 3 and 9"
   ]
  },
  {
   "cell_type": "code",
   "execution_count": null,
   "metadata": {},
   "outputs": [],
   "source": [
    "df = df[(df[\"Class\"] == 3) | (df[\"Class\"] == 9)]\n",
    "\n",
    "# Remap classes\n",
    "cattype = CategoricalDtype(categories=[3, 9], ordered=True)\n",
    "df[\"Class\"] = df[\"Class\"].astype(cattype).cat.codes\n",
    "\n",
    "print(df.shape)\n",
    "df[\"Class\"].value_counts().plot(kind=\"bar\")"
   ]
  },
  {
   "cell_type": "code",
   "execution_count": null,
   "metadata": {},
   "outputs": [],
   "source": [
    "path_output = os.path.join(Path(abspath).parent, \"preprocessed\", \"texture.csv\")\n",
    "print(f\"Save to: {path_output}\")\n",
    "df.to_csv(path_output, index=False)"
   ]
  },
  {
   "cell_type": "code",
   "execution_count": null,
   "metadata": {},
   "outputs": [],
   "source": [
    "df_preprocess = preprocessing(df)\n",
    "df_preprocess.head()"
   ]
  },
  {
   "cell_type": "code",
   "execution_count": null,
   "metadata": {},
   "outputs": [],
   "source": [
    "df_preprocess.to_csv(\n",
    "    os.path.join(path_output_std, \"texture_subset_std.csv\"), index=False\n",
    ")"
   ]
  },
  {
   "cell_type": "markdown",
   "metadata": {},
   "source": [
    "## 11. Yeast\n",
    "\n",
    "Read from: `./data/raw/yeast.dat`"
   ]
  },
  {
   "cell_type": "code",
   "execution_count": null,
   "metadata": {},
   "outputs": [],
   "source": [
    "path_data = os.path.join(abspath, \"yeast.dat\")\n",
    "col_names = [\n",
    "    \"Mcg\",\n",
    "    \"Gvh\",\n",
    "    \"Alm\",\n",
    "    \"Mit\",\n",
    "    \"Erl\",\n",
    "    \"Pox\",\n",
    "    \"Vac\",\n",
    "    \"Nuc\",\n",
    "    \"Class\",\n",
    "]\n",
    "output_names = [\n",
    "    \"MIT\",\n",
    "    \"NUC\",\n",
    "    \"CYT\",\n",
    "    \"ME1\",\n",
    "    \"ME2\",\n",
    "    \"ME3\",\n",
    "    \"EXC\",\n",
    "    \"VAC\",\n",
    "    \"POX\",\n",
    "    \"ERL\",\n",
    "]\n",
    "df = pd.read_csv(path_data, skiprows=13, names=col_names, header=None, index_col=None)\n",
    "cattype = CategoricalDtype(categories=output_names, ordered=False)\n",
    "df[\"Class\"] = df[\"Class\"].astype(\"category\").cat.codes\n",
    "\n",
    "print(df.shape)\n",
    "df.head()"
   ]
  },
  {
   "cell_type": "code",
   "execution_count": null,
   "metadata": {},
   "outputs": [],
   "source": [
    "df[\"Class\"].value_counts().plot(kind=\"bar\")"
   ]
  },
  {
   "cell_type": "code",
   "execution_count": null,
   "metadata": {},
   "outputs": [],
   "source": [
    "# Only select the major classes\n",
    "df = df[(df[\"Class\"] == 0) | (df[\"Class\"] == 7)]\n",
    "\n",
    "# Remap classes\n",
    "cattype = CategoricalDtype(categories=[0, 7], ordered=True)\n",
    "df[\"Class\"] = df[\"Class\"].astype(cattype).cat.codes\n",
    "\n",
    "print(df.shape)\n",
    "df[\"Class\"].value_counts().plot(kind=\"bar\")"
   ]
  },
  {
   "cell_type": "code",
   "execution_count": null,
   "metadata": {},
   "outputs": [],
   "source": [
    "path_output = os.path.join(Path(abspath).parent, \"preprocessed\", \"yeast.csv\")\n",
    "print(f\"Save to: {path_output}\")\n",
    "df.to_csv(path_output, index=False)"
   ]
  },
  {
   "cell_type": "code",
   "execution_count": null,
   "metadata": {},
   "outputs": [],
   "source": [
    "df_preprocess = preprocessing(df)\n",
    "df_preprocess.head()"
   ]
  },
  {
   "cell_type": "code",
   "execution_count": null,
   "metadata": {},
   "outputs": [],
   "source": [
    "df_preprocess.to_csv(os.path.join(path_output_std, \"yeast_subset_std.csv\"), index=False)"
   ]
  },
  {
   "cell_type": "code",
   "execution_count": null,
   "metadata": {},
   "outputs": [],
   "source": []
  }
 ],
 "metadata": {
  "interpreter": {
   "hash": "767d51c1340bd893661ea55ea3124f6de3c7a262a8b4abca0554b478b1e2ff90"
  },
  "kernelspec": {
   "display_name": "Python 3 (ipykernel)",
   "language": "python",
   "name": "python3"
  },
  "language_info": {
   "codemirror_mode": {
    "name": "ipython",
    "version": 3
   },
   "file_extension": ".py",
   "mimetype": "text/x-python",
   "name": "python",
   "nbconvert_exporter": "python",
   "pygments_lexer": "ipython3",
   "version": "3.8.10"
  }
 },
 "nbformat": 4,
 "nbformat_minor": 4
}

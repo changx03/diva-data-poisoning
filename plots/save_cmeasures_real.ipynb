{
 "cells": [
  {
   "cell_type": "code",
   "execution_count": 1,
   "metadata": {},
   "outputs": [],
   "source": [
    "import os\n",
    "from pathlib import Path\n",
    "from glob import glob\n",
    "\n",
    "import numpy as np\n",
    "import pandas as pd\n",
    "import matplotlib.pyplot as plt\n",
    "import seaborn as sns\n",
    "\n",
    "from label_flip_revised.utils import open_csv, create_dir\n",
    "from label_flip_revised.simple_nn_model import SimpleModel\n",
    "from label_flip_revised.torch_utils import evaluate, train_model"
   ]
  },
  {
   "cell_type": "code",
   "execution_count": 2,
   "metadata": {},
   "outputs": [
    {
     "name": "stdout",
     "output_type": "stream",
     "text": [
      "/home/lukec/workspace/label_flip_revised\n"
     ]
    }
   ],
   "source": [
    "PATH_ROOT = Path(os.getcwd()).absolute().parent\n",
    "print(PATH_ROOT)"
   ]
  },
  {
   "cell_type": "code",
   "execution_count": 3,
   "metadata": {},
   "outputs": [],
   "source": [
    "DATANAMES = [\n",
    "    'abalone',\n",
    "    'australian',\n",
    "    'banknote',\n",
    "    'breastcancer',\n",
    "    'cmc',\n",
    "    'htru2',\n",
    "    'phoneme',\n",
    "    'ringnorm',\n",
    "    'texture',\n",
    "    'yeast'\n",
    "]\n",
    "\n",
    "DATAFILES = [\n",
    "    'abalone_subset_std',\n",
    "    'australian_std',\n",
    "    'banknote_std',\n",
    "    'breastcancer_std',\n",
    "    'cmc_std',\n",
    "    'htru2_subset_std',\n",
    "    'phoneme_subset_std',\n",
    "    'ringnorm_subset_std',\n",
    "    'texture_subset_std',\n",
    "    'yeast_subset_std',\n",
    "]"
   ]
  },
  {
   "cell_type": "code",
   "execution_count": 4,
   "metadata": {},
   "outputs": [
    {
     "name": "stdout",
     "output_type": "stream",
     "text": [
      "10\n",
      "['/home/lukec/workspace/label_flip_revised/results/real/abalone_subset_std_nn_flfa_score.csv'\n",
      " '/home/lukec/workspace/label_flip_revised/results/real/australian_std_nn_flfa_score.csv'\n",
      " '/home/lukec/workspace/label_flip_revised/results/real/banknote_std_nn_flfa_score.csv'\n",
      " '/home/lukec/workspace/label_flip_revised/results/real/breastcancer_std_nn_flfa_score.csv'\n",
      " '/home/lukec/workspace/label_flip_revised/results/real/cmc_std_nn_flfa_score.csv']\n"
     ]
    }
   ],
   "source": [
    "path_scores = np.sort(glob(os.path.join(PATH_ROOT, 'results', 'real', '*_nn_flfa_score.csv')))\n",
    "print(len(path_scores))\n",
    "print(path_scores[:5])"
   ]
  },
  {
   "cell_type": "code",
   "execution_count": 5,
   "metadata": {},
   "outputs": [],
   "source": [
    "def append_cm(dataname, datafilename, df, method='nn'):\n",
    "    print(dataname, datafilename)\n",
    "\n",
    "    if method == 'nn':\n",
    "        foldername = 'real_nn'\n",
    "        methodname = method\n",
    "    elif method == 'svm':\n",
    "        foldername = 'real_svm'\n",
    "        methodname = method\n",
    "    elif method == 'rand_nn' or method == 'rand_svm':\n",
    "        foldername = 'real_random'\n",
    "        methodname = 'random'\n",
    "    else:\n",
    "        raise ValueError('Unsupported method!')\n",
    "    df_cm = pd.read_csv(os.path.join(PATH_ROOT, 'results', foldername, f'{dataname}_{methodname}_poison.csv'))\n",
    "\n",
    "    # Add rates\n",
    "    rates = [float(Path(d).stem.split('_')[-1]) for d in df_cm['Data'].to_list()]\n",
    "    df_cm['Rate'] = rates\n",
    "    df_cm = df_cm[df_cm['Rate'] <= 0.41]\n",
    "\n",
    "    # Add file path\n",
    "    if method == 'nn':\n",
    "        foldername = 'alfa_nn'\n",
    "    elif method == 'svm':\n",
    "        foldername = 'alfa'\n",
    "    elif method == 'rand_nn' or method == 'rand_svm':\n",
    "        foldername = 'random'\n",
    "    else:\n",
    "        raise ValueError('Unsupported method!')\n",
    "    df_cm['Filepath'] = df_cm['Data'].apply(lambda x: os.path.join('data', 'output', foldername, x))\n",
    "\n",
    "    # Read clean\n",
    "    df_cm_clean = pd.read_csv(os.path.join(PATH_ROOT, 'results', 'real_cm_clean.csv'))\n",
    "    df_cm_clean['Rate'] = 0.\n",
    "    df_cm_clean = df_cm_clean[df_cm_clean['Data'] == f'{datafilename}_clean_train.csv']\n",
    "    df_cm_clean['Filepath'] = df_cm_clean['Data'].apply(lambda x: os.path.join('data', 'output', 'train', x))\n",
    "    df_cm = pd.concat([df_cm_clean, df_cm], ignore_index=True)\n",
    "\n",
    "    # Add data name\n",
    "    df_cm['Data'] = dataname\n",
    "\n",
    "    # Remove NA\n",
    "    cols_not_na = df_cm.columns[df_cm.notna().any()].tolist()\n",
    "    df_cm = df_cm[cols_not_na]\n",
    "    \n",
    "    # Add accuracy\n",
    "    if method == 'nn':\n",
    "        suffix = 'nn_flfa'\n",
    "    elif method == 'svm':\n",
    "        suffix = 'svm_alfa'\n",
    "    elif method == 'rand_nn':\n",
    "        suffix = 'nn_random'\n",
    "    elif method == 'rand_svm':\n",
    "        suffix = 'svm_random'\n",
    "    else:\n",
    "        raise ValueError('Unsupported method!')\n",
    "    path_score = os.path.join(PATH_ROOT, 'results', 'real', f'{datafilename}_{suffix}_score.csv')\n",
    "    df_score = pd.read_csv(path_score)\n",
    "    df_score = df_score.sort_values(['rate'], ignore_index=True)\n",
    "    df_cm['Train'] = df_score['train']\n",
    "    df_cm['Test'] = df_score['test']\n",
    "\n",
    "    # Rename columns\n",
    "    COL_NAMES = [   \n",
    "        'Data', \n",
    "        'F1', 'F1 SD', 'F1v', 'F2', 'F3', 'F4', 'N1', \n",
    "        'N2', 'N2 SD', 'N3 ', 'N3 SD', 'N4', 'N4 SD', 'T1', 'T1 SD', 'LSC', \n",
    "        'L1', 'L2', 'L3', 'T2', 'T3', 'T4', 'C1', 'C2', 'Density', 'ClsCoef', \n",
    "        'Hubs', 'HubsSD', \n",
    "        'Rate', 'Filepath', 'Train', 'Test',\n",
    "    ]\n",
    "    new_names_map = {df_cm.columns[i]:COL_NAMES[i] for i in range(len(COL_NAMES))}\n",
    "    df_cm = df_cm.rename(new_names_map, axis=1)\n",
    "\n",
    "    df = pd.concat([df, df_cm], ignore_index=True)\n",
    "    return df"
   ]
  },
  {
   "cell_type": "code",
   "execution_count": 6,
   "metadata": {},
   "outputs": [],
   "source": [
    "cols = [\n",
    "    'Data', 'Filepath', 'Rate',\n",
    "    'F1', 'F1 SD', 'F1v', 'F2', 'F3', 'F4', 'N1', 'N2', 'N2 SD',\n",
    "    'N3 ', 'N3 SD', 'N4', 'N4 SD', 'T1', 'T1 SD', 'LSC', 'L1', 'L2', 'L3',\n",
    "    'T2', 'T3', 'T4', 'C1', 'C2', 'Density', 'ClsCoef', 'Hubs', 'HubsSD',\n",
    "    'Train', 'Test'\n",
    "]"
   ]
  },
  {
   "cell_type": "code",
   "execution_count": 7,
   "metadata": {},
   "outputs": [
    {
     "name": "stdout",
     "output_type": "stream",
     "text": [
      "abalone abalone_subset_std\n",
      "australian australian_std\n",
      "banknote banknote_std\n",
      "breastcancer breastcancer_std\n",
      "cmc cmc_std\n",
      "htru2 htru2_subset_std\n",
      "phoneme phoneme_subset_std\n",
      "ringnorm ringnorm_subset_std\n",
      "texture texture_subset_std\n",
      "yeast yeast_subset_std\n"
     ]
    }
   ],
   "source": [
    "method = 'nn'\n",
    "df = pd.DataFrame()\n",
    "for data, filename in zip(DATANAMES, DATAFILES):\n",
    "    df = append_cm(data, filename, df, method=method)\n",
    "df = df[cols]\n",
    "path_output = os.path.join(PATH_ROOT, 'results', f'real_cmeasures_{method}.csv')\n",
    "df.to_csv(path_output, index=False)"
   ]
  },
  {
   "cell_type": "code",
   "execution_count": 8,
   "metadata": {},
   "outputs": [
    {
     "name": "stdout",
     "output_type": "stream",
     "text": [
      "abalone abalone_subset_std\n",
      "australian australian_std\n",
      "banknote banknote_std\n",
      "breastcancer breastcancer_std\n",
      "cmc cmc_std\n",
      "htru2 htru2_subset_std\n",
      "phoneme phoneme_subset_std\n",
      "ringnorm ringnorm_subset_std\n",
      "texture texture_subset_std\n",
      "yeast yeast_subset_std\n"
     ]
    }
   ],
   "source": [
    "method = 'svm'\n",
    "df = pd.DataFrame()\n",
    "for data, filename in zip(DATANAMES, DATAFILES):\n",
    "    df = append_cm(data, filename, df, method=method)\n",
    "df = df[cols]\n",
    "path_output = os.path.join(PATH_ROOT, 'results', f'real_cmeasures_{method}.csv')\n",
    "df.to_csv(path_output, index=False)"
   ]
  },
  {
   "cell_type": "code",
   "execution_count": 9,
   "metadata": {},
   "outputs": [
    {
     "name": "stdout",
     "output_type": "stream",
     "text": [
      "abalone abalone_subset_std\n",
      "australian australian_std\n",
      "banknote banknote_std\n",
      "breastcancer breastcancer_std\n",
      "cmc cmc_std\n",
      "htru2 htru2_subset_std\n",
      "phoneme phoneme_subset_std\n",
      "ringnorm ringnorm_subset_std\n",
      "texture texture_subset_std\n",
      "yeast yeast_subset_std\n"
     ]
    }
   ],
   "source": [
    "method = 'rand_nn'\n",
    "df = pd.DataFrame()\n",
    "for data, filename in zip(DATANAMES, DATAFILES):\n",
    "    df = append_cm(data, filename, df, method=method)\n",
    "df = df[cols]\n",
    "path_output = os.path.join(PATH_ROOT, 'results', f'real_cmeasures_{method}.csv')\n",
    "df.to_csv(path_output, index=False)"
   ]
  },
  {
   "cell_type": "code",
   "execution_count": 10,
   "metadata": {},
   "outputs": [
    {
     "name": "stdout",
     "output_type": "stream",
     "text": [
      "abalone abalone_subset_std\n",
      "australian australian_std\n",
      "banknote banknote_std\n",
      "breastcancer breastcancer_std\n",
      "cmc cmc_std\n",
      "htru2 htru2_subset_std\n",
      "phoneme phoneme_subset_std\n",
      "ringnorm ringnorm_subset_std\n",
      "texture texture_subset_std\n",
      "yeast yeast_subset_std\n"
     ]
    }
   ],
   "source": [
    "method = 'rand_svm'\n",
    "df = pd.DataFrame()\n",
    "for data, filename in zip(DATANAMES, DATAFILES):\n",
    "    df = append_cm(data, filename, df, method=method)\n",
    "df = df[cols]\n",
    "path_output = os.path.join(PATH_ROOT, 'results', f'real_cmeasures_{method}.csv')\n",
    "df.to_csv(path_output, index=False)"
   ]
  },
  {
   "cell_type": "code",
   "execution_count": null,
   "metadata": {},
   "outputs": [],
   "source": []
  }
 ],
 "metadata": {
  "interpreter": {
   "hash": "8bcff36e631da1ef6cb25b63542a3f56d2322f7e3d69a7432caaf86f390cdb5a"
  },
  "kernelspec": {
   "display_name": "Python 3.8.10 64-bit ('torch': venv)",
   "language": "python",
   "name": "python3"
  },
  "language_info": {
   "codemirror_mode": {
    "name": "ipython",
    "version": 3
   },
   "file_extension": ".py",
   "mimetype": "text/x-python",
   "name": "python",
   "nbconvert_exporter": "python",
   "pygments_lexer": "ipython3",
   "version": "3.8.10"
  },
  "orig_nbformat": 4
 },
 "nbformat": 4,
 "nbformat_minor": 2
}

{
 "cells": [
  {
   "attachments": {},
   "cell_type": "markdown",
   "metadata": {},
   "source": [
    "# Generate the data for the \"theoretical performance\" figure\n",
    "\n",
    "- Save table to './results_plot/fig_fake_acc.csv'"
   ]
  },
  {
   "cell_type": "code",
   "execution_count": 1,
   "metadata": {},
   "outputs": [],
   "source": [
    "import os\n",
    "from pathlib import Path\n",
    "\n",
    "import numpy as np\n",
    "import pandas as pd\n",
    "from scipy import interpolate\n",
    "\n",
    "from label_flip_revised.utils import create_dir"
   ]
  },
  {
   "cell_type": "code",
   "execution_count": 2,
   "metadata": {},
   "outputs": [
    {
     "name": "stdout",
     "output_type": "stream",
     "text": [
      "/home/lukec/workspace/diva_01\n"
     ]
    }
   ],
   "source": [
    "PATH_ROOT = Path(os.getcwd()).absolute().parent\n",
    "print(PATH_ROOT)\n"
   ]
  },
  {
   "cell_type": "code",
   "execution_count": 3,
   "metadata": {},
   "outputs": [
    {
     "name": "stdout",
     "output_type": "stream",
     "text": [
      "/home/lukec/workspace/diva_01/results_plot\n"
     ]
    }
   ],
   "source": [
    "PATH_OUTPUT = os.path.join(PATH_ROOT, \"results_plot\")\n",
    "print(PATH_OUTPUT)\n",
    "create_dir(PATH_OUTPUT)"
   ]
  },
  {
   "cell_type": "code",
   "execution_count": 4,
   "metadata": {},
   "outputs": [],
   "source": [
    "x = np.linspace(0, 40, num=10, endpoint=True)\n",
    "\n",
    "y1 = 100 * np.exp(-0.1 * (x + 8)) + 50\n",
    "f1 = interpolate.interp1d(x, y1, kind=\"quadratic\")\n",
    "\n",
    "y2 = -100 * np.exp(-0.1 * (x + 8)) + 95\n",
    "f2 = interpolate.interp1d(x, y2, kind=\"quadratic\")\n",
    "\n",
    "xx = np.linspace(0, 40, num=100, endpoint=True)\n",
    "\n",
    "y_train_1 = 95 * np.ones_like(xx)\n",
    "y_test_1 = f1(xx)\n",
    "\n",
    "y_train_2 = f2(xx)\n",
    "y_test_2 = 50 * np.ones_like(xx)"
   ]
  },
  {
   "cell_type": "code",
   "execution_count": 5,
   "metadata": {},
   "outputs": [],
   "source": [
    "data = {\n",
    "    'x': np.array(xx) / 100,\n",
    "    'y_train_a': y_train_1 / 100,\n",
    "    'y_test_a': y_test_1 / 100,\n",
    "    'y_train_b': y_train_2 / 100,\n",
    "    'y_test_b': y_test_2 / 100,\n",
    "}\n",
    "df = pd.DataFrame(data=data)\n",
    "df = df.round(3)"
   ]
  },
  {
   "cell_type": "code",
   "execution_count": 6,
   "metadata": {},
   "outputs": [
    {
     "data": {
      "text/html": [
       "<div>\n",
       "<style scoped>\n",
       "    .dataframe tbody tr th:only-of-type {\n",
       "        vertical-align: middle;\n",
       "    }\n",
       "\n",
       "    .dataframe tbody tr th {\n",
       "        vertical-align: top;\n",
       "    }\n",
       "\n",
       "    .dataframe thead th {\n",
       "        text-align: right;\n",
       "    }\n",
       "</style>\n",
       "<table border=\"1\" class=\"dataframe\">\n",
       "  <thead>\n",
       "    <tr style=\"text-align: right;\">\n",
       "      <th></th>\n",
       "      <th>x</th>\n",
       "      <th>y_train_a</th>\n",
       "      <th>y_test_a</th>\n",
       "      <th>y_train_b</th>\n",
       "      <th>y_test_b</th>\n",
       "    </tr>\n",
       "  </thead>\n",
       "  <tbody>\n",
       "    <tr>\n",
       "      <th>0</th>\n",
       "      <td>0.000</td>\n",
       "      <td>0.95</td>\n",
       "      <td>0.949</td>\n",
       "      <td>0.501</td>\n",
       "      <td>0.5</td>\n",
       "    </tr>\n",
       "    <tr>\n",
       "      <th>1</th>\n",
       "      <td>0.004</td>\n",
       "      <td>0.95</td>\n",
       "      <td>0.932</td>\n",
       "      <td>0.518</td>\n",
       "      <td>0.5</td>\n",
       "    </tr>\n",
       "    <tr>\n",
       "      <th>2</th>\n",
       "      <td>0.008</td>\n",
       "      <td>0.95</td>\n",
       "      <td>0.915</td>\n",
       "      <td>0.535</td>\n",
       "      <td>0.5</td>\n",
       "    </tr>\n",
       "    <tr>\n",
       "      <th>3</th>\n",
       "      <td>0.012</td>\n",
       "      <td>0.95</td>\n",
       "      <td>0.899</td>\n",
       "      <td>0.551</td>\n",
       "      <td>0.5</td>\n",
       "    </tr>\n",
       "    <tr>\n",
       "      <th>4</th>\n",
       "      <td>0.016</td>\n",
       "      <td>0.95</td>\n",
       "      <td>0.884</td>\n",
       "      <td>0.566</td>\n",
       "      <td>0.5</td>\n",
       "    </tr>\n",
       "    <tr>\n",
       "      <th>...</th>\n",
       "      <td>...</td>\n",
       "      <td>...</td>\n",
       "      <td>...</td>\n",
       "      <td>...</td>\n",
       "      <td>...</td>\n",
       "    </tr>\n",
       "    <tr>\n",
       "      <th>95</th>\n",
       "      <td>0.384</td>\n",
       "      <td>0.95</td>\n",
       "      <td>0.510</td>\n",
       "      <td>0.940</td>\n",
       "      <td>0.5</td>\n",
       "    </tr>\n",
       "    <tr>\n",
       "      <th>96</th>\n",
       "      <td>0.388</td>\n",
       "      <td>0.95</td>\n",
       "      <td>0.509</td>\n",
       "      <td>0.941</td>\n",
       "      <td>0.5</td>\n",
       "    </tr>\n",
       "    <tr>\n",
       "      <th>97</th>\n",
       "      <td>0.392</td>\n",
       "      <td>0.95</td>\n",
       "      <td>0.509</td>\n",
       "      <td>0.941</td>\n",
       "      <td>0.5</td>\n",
       "    </tr>\n",
       "    <tr>\n",
       "      <th>98</th>\n",
       "      <td>0.396</td>\n",
       "      <td>0.95</td>\n",
       "      <td>0.509</td>\n",
       "      <td>0.941</td>\n",
       "      <td>0.5</td>\n",
       "    </tr>\n",
       "    <tr>\n",
       "      <th>99</th>\n",
       "      <td>0.400</td>\n",
       "      <td>0.95</td>\n",
       "      <td>0.508</td>\n",
       "      <td>0.942</td>\n",
       "      <td>0.5</td>\n",
       "    </tr>\n",
       "  </tbody>\n",
       "</table>\n",
       "<p>100 rows × 5 columns</p>\n",
       "</div>"
      ],
      "text/plain": [
       "        x  y_train_a  y_test_a  y_train_b  y_test_b\n",
       "0   0.000       0.95     0.949      0.501       0.5\n",
       "1   0.004       0.95     0.932      0.518       0.5\n",
       "2   0.008       0.95     0.915      0.535       0.5\n",
       "3   0.012       0.95     0.899      0.551       0.5\n",
       "4   0.016       0.95     0.884      0.566       0.5\n",
       "..    ...        ...       ...        ...       ...\n",
       "95  0.384       0.95     0.510      0.940       0.5\n",
       "96  0.388       0.95     0.509      0.941       0.5\n",
       "97  0.392       0.95     0.509      0.941       0.5\n",
       "98  0.396       0.95     0.509      0.941       0.5\n",
       "99  0.400       0.95     0.508      0.942       0.5\n",
       "\n",
       "[100 rows x 5 columns]"
      ]
     },
     "execution_count": 6,
     "metadata": {},
     "output_type": "execute_result"
    }
   ],
   "source": [
    "df"
   ]
  },
  {
   "cell_type": "code",
   "execution_count": 7,
   "metadata": {},
   "outputs": [],
   "source": [
    "path_table = os.path.join(PATH_OUTPUT, 'fig_fake_acc.csv')\n",
    "df.to_csv(path_table, index=False)"
   ]
  },
  {
   "cell_type": "code",
   "execution_count": null,
   "metadata": {},
   "outputs": [],
   "source": []
  }
 ],
 "metadata": {
  "kernelspec": {
   "display_name": "venv",
   "language": "python",
   "name": "python3"
  },
  "language_info": {
   "codemirror_mode": {
    "name": "ipython",
    "version": 3
   },
   "file_extension": ".py",
   "mimetype": "text/x-python",
   "name": "python",
   "nbconvert_exporter": "python",
   "pygments_lexer": "ipython3",
   "version": "3.8.10"
  },
  "orig_nbformat": 4
 },
 "nbformat": 4,
 "nbformat_minor": 2
}

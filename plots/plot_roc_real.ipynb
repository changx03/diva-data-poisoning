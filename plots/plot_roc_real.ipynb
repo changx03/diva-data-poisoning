{
 "cells": [
  {
   "cell_type": "code",
   "execution_count": 1,
   "metadata": {},
   "outputs": [],
   "source": [
    "import os\n",
    "from glob import glob\n",
    "from pathlib import Path\n",
    "\n",
    "import matplotlib.pyplot as plt\n",
    "import numpy as np\n",
    "import pandas as pd\n",
    "import seaborn as sns\n",
    "from numpy.core.defchararray import find\n",
    "from pandas.api.types import CategoricalDtype\n",
    "from scipy import stats\n",
    "from sklearn import linear_model, preprocessing\n",
    "from sklearn.metrics import (RocCurveDisplay, auc, confusion_matrix,\n",
    "                             mean_squared_error, roc_curve)\n",
    "from sklearn.model_selection import KFold, RandomizedSearchCV, train_test_split\n",
    "from sklearn.svm import SVC\n",
    "from sklearn.utils.fixes import loguniform\n",
    "\n",
    "from label_flip_revised.simple_nn_model import SimpleModel\n",
    "from label_flip_revised.torch_utils import evaluate, train_model\n",
    "from label_flip_revised.utils import create_dir, open_csv\n"
   ]
  },
  {
   "cell_type": "code",
   "execution_count": 2,
   "metadata": {},
   "outputs": [
    {
     "name": "stdout",
     "output_type": "stream",
     "text": [
      "/home/lukec/workspace/label_flip_revised\n"
     ]
    }
   ],
   "source": [
    "PATH_ROOT = Path(os.getcwd()).absolute().parent\n",
    "print(PATH_ROOT)"
   ]
  },
  {
   "cell_type": "code",
   "execution_count": 3,
   "metadata": {},
   "outputs": [],
   "source": [
    "plt.rcParams[\"font.size\"] = 14"
   ]
  },
  {
   "cell_type": "code",
   "execution_count": 4,
   "metadata": {},
   "outputs": [],
   "source": [
    "DATANAMES = [\n",
    "    'abalone',\n",
    "    'australian',\n",
    "    'banknote',\n",
    "    'breastcancer',\n",
    "    'cmc',\n",
    "    'htru2',\n",
    "    'phoneme',\n",
    "    'ringnorm',\n",
    "    'texture',\n",
    "    'yeast'\n",
    "]"
   ]
  },
  {
   "cell_type": "code",
   "execution_count": 5,
   "metadata": {},
   "outputs": [],
   "source": [
    "df_cm_nn = pd.read_csv(os.path.join(PATH_ROOT, 'results', 'real_cmeasures_nn.csv'))\n",
    "df_cm_svm = pd.read_csv(os.path.join(PATH_ROOT, 'results', 'real_cmeasures_svm.csv'))\n",
    "df_cm_nn_rand = pd.read_csv(os.path.join(PATH_ROOT, 'results', 'real_cmeasures_rand_nn.csv'))\n",
    "df_cm_svm_rand = pd.read_csv(os.path.join(PATH_ROOT, 'results', 'real_cmeasures_rand_svm.csv'))"
   ]
  },
  {
   "cell_type": "code",
   "execution_count": 6,
   "metadata": {},
   "outputs": [
    {
     "data": {
      "text/plain": [
       "Index(['Data', 'Filepath', 'Rate', 'F1', 'F1 SD', 'F1v', 'F2', 'F3', 'F4',\n",
       "       'N1', 'N2', 'N2 SD', 'N3 ', 'N3 SD', 'N4', 'N4 SD', 'T1', 'T1 SD',\n",
       "       'LSC', 'L1', 'L2', 'L3', 'T2', 'T3', 'T4', 'C1', 'C2', 'Density',\n",
       "       'ClsCoef', 'Hubs', 'HubsSD', 'Train', 'Test'],\n",
       "      dtype='object')"
      ]
     },
     "execution_count": 6,
     "metadata": {},
     "output_type": "execute_result"
    }
   ],
   "source": [
    "df_cm_nn.columns"
   ]
  },
  {
   "cell_type": "code",
   "execution_count": 7,
   "metadata": {},
   "outputs": [
    {
     "data": {
      "text/plain": [
       "Index(['Data', 'Filepath', 'Rate', 'F1', 'F1 SD', 'F1v', 'F2', 'F3', 'F4',\n",
       "       'N1', 'N2', 'N2 SD', 'N3 ', 'N3 SD', 'N4', 'N4 SD', 'T1', 'T1 SD',\n",
       "       'LSC', 'L1', 'L2', 'L3', 'T2', 'T3', 'T4', 'C1', 'C2', 'Density',\n",
       "       'ClsCoef', 'Hubs', 'HubsSD', 'Train', 'Test'],\n",
       "      dtype='object')"
      ]
     },
     "execution_count": 7,
     "metadata": {},
     "output_type": "execute_result"
    }
   ],
   "source": [
    "df_cm_svm.columns"
   ]
  },
  {
   "cell_type": "code",
   "execution_count": 8,
   "metadata": {},
   "outputs": [],
   "source": [
    "col_X = [\n",
    "    'F1', 'F1 SD', 'F1v', 'F2', 'F3', 'F4',\n",
    "    'N1', 'N2', 'N2 SD', 'N3 ', 'N3 SD', 'N4', 'N4 SD', 'T1', 'T1 SD',\n",
    "    'LSC', 'L1', 'L2', 'L3', 'T2', 'T3', 'T4', 'C1', 'C2', 'Density',\n",
    "    'ClsCoef', 'Hubs', 'HubsSD'\n",
    "]\n",
    "col_y = 'Test'"
   ]
  },
  {
   "cell_type": "code",
   "execution_count": 9,
   "metadata": {},
   "outputs": [
    {
     "name": "stdout",
     "output_type": "stream",
     "text": [
      "Best params:\n",
      "{'alpha': 0.25050268374489204, 'copy_X': True, 'fit_intercept': True, 'max_iter': None, 'normalize': 'deprecated', 'positive': False, 'random_state': None, 'solver': 'auto', 'tol': 0.001}\n"
     ]
    }
   ],
   "source": [
    "N_ITER_SEARCH = 100\n",
    "\n",
    "regressor = linear_model.Ridge()\n",
    "param = {'alpha': loguniform(1e-4, 10),}\n",
    "param_search = RandomizedSearchCV(regressor, param_distributions=param, n_iter=N_ITER_SEARCH, n_jobs=-1)\n",
    "param_search.fit(df_cm_nn[col_X], df_cm_nn[col_y])\n",
    "\n",
    "best_param = param_search.best_estimator_.get_params()\n",
    "print('Best params:')\n",
    "print(best_param)"
   ]
  },
  {
   "cell_type": "code",
   "execution_count": 10,
   "metadata": {},
   "outputs": [],
   "source": [
    "alpha = 0.25"
   ]
  },
  {
   "cell_type": "code",
   "execution_count": 11,
   "metadata": {},
   "outputs": [],
   "source": [
    "predictions_nn = []\n",
    "predictions_svm = []\n",
    "predictions_rand = []\n",
    "\n",
    "for data_test in DATANAMES:\n",
    "    df_train_1 = df_cm_nn[df_cm_nn['Data'] != data_test]\n",
    "    df_train_2 = df_cm_nn_rand[df_cm_nn_rand['Data'] != data_test]\n",
    "\n",
    "    df_test_nn = df_cm_nn[df_cm_nn['Data'] == data_test]\n",
    "    df_test_svm = df_cm_svm[df_cm_svm['Data'] == data_test]\n",
    "    df_test_rand = df_cm_nn_rand[df_cm_nn_rand['Data'] == data_test]\n",
    "    \n",
    "    df_train = pd.concat([df_train_1, df_train_2], ignore_index=True)\n",
    "    X_train = df_train[col_X]\n",
    "    y_train = df_train[col_y]\n",
    "\n",
    "    regressor = linear_model.Ridge(alpha=alpha)\n",
    "    regressor.fit(X_train, y_train)\n",
    "\n",
    "    X_test_nn = df_test_nn[col_X]\n",
    "    X_test_svm = df_test_svm[col_X]\n",
    "    X_test_rand = df_test_rand[col_X]\n",
    "\n",
    "    pred = regressor.predict(X_test_nn)\n",
    "    predictions_nn += pred.tolist()\n",
    "\n",
    "    pred = regressor.predict(X_test_svm)\n",
    "    predictions_svm += pred.tolist()\n",
    "\n",
    "    pred = regressor.predict(X_test_rand)\n",
    "    predictions_rand += pred.tolist()\n",
    "\n",
    "predictions_nn = np.amin([predictions_nn, np.ones_like(predictions_nn)], axis=0)\n",
    "predictions_svm = np.amin([predictions_svm, np.ones_like(predictions_svm)], axis=0)\n",
    "predictions_rand = np.amin([predictions_rand, np.ones_like(predictions_rand)], axis=0)"
   ]
  },
  {
   "cell_type": "code",
   "execution_count": 12,
   "metadata": {},
   "outputs": [
    {
     "name": "stdout",
     "output_type": "stream",
     "text": [
      "[NN] RMSE test: 0.140\n",
      "[SVM] RMSE test: 0.146\n",
      "[RAND] RMSE test: 0.120\n"
     ]
    }
   ],
   "source": [
    "def get_err(pred, y_true):\n",
    "    abs_err = np.abs(y_true - pred)\n",
    "    rmse = np.sqrt(mean_squared_error(y_true, pred))\n",
    "    return abs_err, rmse\n",
    "\n",
    "abs_err_nn, rmse = get_err(predictions_nn, df_cm_nn['Test'].to_numpy())\n",
    "print(f'[NN] RMSE test: {rmse:.3f}')\n",
    "\n",
    "abs_err_svm, rmse = get_err(predictions_svm, df_cm_svm['Test'].to_numpy())\n",
    "print(f'[SVM] RMSE test: {rmse:.3f}')\n",
    "\n",
    "abs_err_rand, rmse = get_err(predictions_rand, df_cm_nn_rand['Test'].to_numpy())\n",
    "print(f'[RAND] RMSE test: {rmse:.3f}')"
   ]
  },
  {
   "cell_type": "code",
   "execution_count": 13,
   "metadata": {},
   "outputs": [],
   "source": [
    "THRESHOLD = 0.05\n",
    "\n",
    "df_pred = pd.DataFrame({\n",
    "    'Rate': df_cm_nn['Rate'],\n",
    "    'NN-FALFA': predictions_nn,\n",
    "    'SVM-ALFA': predictions_svm,\n",
    "    'NN-Rand': predictions_nn\n",
    "})\n",
    "df_train = pd.DataFrame({\n",
    "    'Rate': df_cm_nn['Rate'],\n",
    "    'NN-FALFA': df_cm_nn['Train'],\n",
    "    'SVM-ALFA': df_cm_svm['Train'],\n",
    "    'NN-Rand': df_cm_nn_rand['Train']\n",
    "})\n",
    "df_pred.to_csv(os.path.join(PATH_ROOT, 'results', 'real_pred_test.csv'))\n",
    "df_train.to_csv(os.path.join(PATH_ROOT, 'results', 'real_train.csv'))"
   ]
  },
  {
   "cell_type": "code",
   "execution_count": 14,
   "metadata": {},
   "outputs": [
    {
     "data": {
      "image/png": "[encoded data removed]",
      "text/plain": [
       "<Figure size 360x360 with 1 Axes>"
      ]
     },
     "metadata": {
      "needs_background": "light"
     },
     "output_type": "display_data"
    }
   ],
   "source": [
    "FIGSIZE = (5, 5)\n",
    "NAMES = [\n",
    "    'NN-FALFA',\n",
    "    'SVM-ALFA',\n",
    "    # 'NN-Rand',\n",
    "]\n",
    "# Save color as accuracy plot. [Blue, Red]\n",
    "COLORS = ['#1976d2', '#d32f2f']\n",
    "\n",
    "fig, ax = plt.subplots(figsize=FIGSIZE)\n",
    "for col, c in zip(NAMES, COLORS):\n",
    "    y_true = (df_pred['Rate'].to_numpy() > THRESHOLD).astype(int)\n",
    "    y_score = (df_train[col] - df_pred[col]).to_numpy()\n",
    "    fpr, tpr, thresholds = roc_curve(y_true, y_score)\n",
    "    data = {\n",
    "        'fpr': fpr,\n",
    "        'tpr': tpr\n",
    "    }\n",
    "    df = pd.DataFrame(data)\n",
    "    df.to_csv(os.path.join(PATH_ROOT, 'results', f'roc_real_{col}.csv'), index=False)\n",
    "    roc_auc = auc(fpr, tpr)\n",
    "    roc_display = RocCurveDisplay(fpr=fpr, tpr=tpr, roc_auc=roc_auc).plot(ax=ax, name=col, c=c)\n",
    "plt.tight_layout()\n",
    "path_output = os.path.join(PATH_ROOT, 'results', 'roc_real.pdf')\n",
    "plt.savefig(path_output, dpi=300)"
   ]
  },
  {
   "cell_type": "code",
   "execution_count": null,
   "metadata": {},
   "outputs": [],
   "source": []
  }
 ],
 "metadata": {
  "interpreter": {
   "hash": "8bcff36e631da1ef6cb25b63542a3f56d2322f7e3d69a7432caaf86f390cdb5a"
  },
  "kernelspec": {
   "display_name": "Python 3.8.10 64-bit ('torch': venv)",
   "language": "python",
   "name": "python3"
  },
  "language_info": {
   "codemirror_mode": {
    "name": "ipython",
    "version": 3
   },
   "file_extension": ".py",
   "mimetype": "text/x-python",
   "name": "python",
   "nbconvert_exporter": "python",
   "pygments_lexer": "ipython3",
   "version": "3.8.10"
  },
  "orig_nbformat": 4
 },
 "nbformat": 4,
 "nbformat_minor": 2
}

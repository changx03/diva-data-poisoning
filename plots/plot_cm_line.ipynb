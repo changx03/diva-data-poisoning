{
 "cells": [
  {
   "attachments": {},
   "cell_type": "markdown",
   "metadata": {},
   "source": [
    "# Plot \"cm_line\" figure\n",
    "\n",
    "- Load results from './results*plot/fig_cm_line*\\*.csv'\n",
    "- Requires 3 CSV files in total `['texture', 'australian', 'yeast']`\n",
    "- **[Warning]:** The font \"Times New Roman\" is only supported in Microsoft Windows OS!\n"
   ]
  },
  {
   "cell_type": "code",
   "execution_count": 1,
   "metadata": {},
   "outputs": [],
   "source": [
    "import os\n",
    "from pathlib import Path\n",
    "from glob import glob\n",
    "\n",
    "import numpy as np\n",
    "import pandas as pd\n",
    "import matplotlib.pyplot as plt\n",
    "from matplotlib.lines import Line2D\n",
    "import seaborn as sns\n"
   ]
  },
  {
   "cell_type": "code",
   "execution_count": 2,
   "metadata": {},
   "outputs": [
    {
     "name": "stdout",
     "output_type": "stream",
     "text": [
      "c:\\Users\\lukex\\workspace\\diva_01\n",
      "c:\\Users\\lukex\\workspace\\diva_01\\results_plot\n"
     ]
    }
   ],
   "source": [
    "PATH_ROOT = Path(os.getcwd()).absolute().parent\n",
    "print(PATH_ROOT)\n",
    "PATH_OUTPUT = os.path.join(PATH_ROOT, \"results_plot\")\n",
    "print(PATH_OUTPUT)\n"
   ]
  },
  {
   "cell_type": "code",
   "execution_count": 3,
   "metadata": {},
   "outputs": [],
   "source": [
    "FILE_FIG_DATA_NAMES = [f'fig_cm_line_{dataset}.csv' for dataset in ['texture', 'australian', 'yeast']]\n",
    "dfs = []\n",
    "for file_fig in FILE_FIG_DATA_NAMES:\n",
    "    _df = pd.read_csv(os.path.join(PATH_OUTPUT, file_fig))\n",
    "    dfs.append(_df)\n"
   ]
  },
  {
   "cell_type": "code",
   "execution_count": 4,
   "metadata": {},
   "outputs": [
    {
     "data": {
      "text/html": [
       "<div>\n",
       "<style scoped>\n",
       "    .dataframe tbody tr th:only-of-type {\n",
       "        vertical-align: middle;\n",
       "    }\n",
       "\n",
       "    .dataframe tbody tr th {\n",
       "        vertical-align: top;\n",
       "    }\n",
       "\n",
       "    .dataframe thead th {\n",
       "        text-align: right;\n",
       "    }\n",
       "</style>\n",
       "<table border=\"1\" class=\"dataframe\">\n",
       "  <thead>\n",
       "    <tr style=\"text-align: right;\">\n",
       "      <th></th>\n",
       "      <th>Rate</th>\n",
       "      <th>Measure</th>\n",
       "      <th>Value</th>\n",
       "    </tr>\n",
       "  </thead>\n",
       "  <tbody>\n",
       "    <tr>\n",
       "      <th>0</th>\n",
       "      <td>0.0</td>\n",
       "      <td>C1</td>\n",
       "      <td>0.999721</td>\n",
       "    </tr>\n",
       "    <tr>\n",
       "      <th>1</th>\n",
       "      <td>0.0</td>\n",
       "      <td>C2</td>\n",
       "      <td>0.000772</td>\n",
       "    </tr>\n",
       "    <tr>\n",
       "      <th>2</th>\n",
       "      <td>0.0</td>\n",
       "      <td>F1</td>\n",
       "      <td>0.573084</td>\n",
       "    </tr>\n",
       "    <tr>\n",
       "      <th>3</th>\n",
       "      <td>0.0</td>\n",
       "      <td>F3</td>\n",
       "      <td>0.000000</td>\n",
       "    </tr>\n",
       "    <tr>\n",
       "      <th>4</th>\n",
       "      <td>0.0</td>\n",
       "      <td>F4</td>\n",
       "      <td>0.000000</td>\n",
       "    </tr>\n",
       "    <tr>\n",
       "      <th>...</th>\n",
       "      <td>...</td>\n",
       "      <td>...</td>\n",
       "      <td>...</td>\n",
       "    </tr>\n",
       "    <tr>\n",
       "      <th>67</th>\n",
       "      <td>0.4</td>\n",
       "      <td>F3</td>\n",
       "      <td>0.706000</td>\n",
       "    </tr>\n",
       "    <tr>\n",
       "      <th>68</th>\n",
       "      <td>0.4</td>\n",
       "      <td>F4</td>\n",
       "      <td>0.253000</td>\n",
       "    </tr>\n",
       "    <tr>\n",
       "      <th>69</th>\n",
       "      <td>0.4</td>\n",
       "      <td>N4 SD</td>\n",
       "      <td>0.287957</td>\n",
       "    </tr>\n",
       "    <tr>\n",
       "      <th>70</th>\n",
       "      <td>0.4</td>\n",
       "      <td>Train</td>\n",
       "      <td>0.986500</td>\n",
       "    </tr>\n",
       "    <tr>\n",
       "      <th>71</th>\n",
       "      <td>0.4</td>\n",
       "      <td>Test</td>\n",
       "      <td>0.548000</td>\n",
       "    </tr>\n",
       "  </tbody>\n",
       "</table>\n",
       "<p>72 rows × 3 columns</p>\n",
       "</div>"
      ],
      "text/plain": [
       "    Rate Measure     Value\n",
       "0    0.0      C1  0.999721\n",
       "1    0.0      C2  0.000772\n",
       "2    0.0      F1  0.573084\n",
       "3    0.0      F3  0.000000\n",
       "4    0.0      F4  0.000000\n",
       "..   ...     ...       ...\n",
       "67   0.4      F3  0.706000\n",
       "68   0.4      F4  0.253000\n",
       "69   0.4   N4 SD  0.287957\n",
       "70   0.4   Train  0.986500\n",
       "71   0.4    Test  0.548000\n",
       "\n",
       "[72 rows x 3 columns]"
      ]
     },
     "execution_count": 4,
     "metadata": {},
     "output_type": "execute_result"
    }
   ],
   "source": [
    "dfs[0]\n"
   ]
  },
  {
   "cell_type": "code",
   "execution_count": 5,
   "metadata": {},
   "outputs": [],
   "source": [
    "color_dict = {\n",
    "    'Accuracy': 'darkgrey',\n",
    "    'C-Measures': 'darkgrey',\n",
    "    'C1': 'darkgrey',\n",
    "    'C2': 'darkgrey',\n",
    "    'F1': 'darkgrey',\n",
    "    'F1 SD': 'darkgrey',\n",
    "    'F1v': 'darkgrey',\n",
    "    'F3': 'darkgrey',\n",
    "    'F4': 'darkgrey',\n",
    "    'Hubs': 'darkgrey',\n",
    "    'L1': 'darkgrey',\n",
    "    'N4 SD': 'darkgrey',\n",
    "    'Test': '#2e7d32',\n",
    "    'Train': '#2e7d32',\n",
    "}\n",
    "sns.color_palette(list(color_dict.values()))\n",
    "\n",
    "# Custom colors\n",
    "keys1 = ['C1', 'C2', 'F1 SD', 'F1v', 'Hubs', 'L1', 'Train', 'Test']\n",
    "palette1 = sns.color_palette([color_dict[key] for key in keys1])\n",
    "\n",
    "keys2 = ['C1', 'C2', 'F1', 'F3', 'F4', 'N4 SD', 'Train', 'Test']\n",
    "palette2 = sns.color_palette([color_dict[key] for key in keys2])\n"
   ]
  },
  {
   "cell_type": "code",
   "execution_count": 6,
   "metadata": {},
   "outputs": [],
   "source": [
    "FONTSIZE = 13\n",
    "FIGSIZE = (9, 2.5)\n",
    "LINEWIDTH = 2.5\n",
    "TITLES = [\n",
    "    '(a) Texture (Easy)',\n",
    "    '(b) Australian (Normal)',\n",
    "    '(c) Yeast (Hard)'\n",
    "]\n",
    "LABELS = [\n",
    "    'C-Measures',\n",
    "    'Training Acc.',\n",
    "    'Testing Acc.',\n",
    "]\n",
    "COLOURS = {\n",
    "    'Train': '#2e7d32',\n",
    "    'Test': '#2e7d32',  # Both using Green indicates it's for ALFA\n",
    "}\n",
    "\n",
    "line_style = ['Accuracy' if a in ['Train', 'Test'] else 'C-Measures' for a in dfs[0]['Measure']]\n"
   ]
  },
  {
   "cell_type": "code",
   "execution_count": 7,
   "metadata": {},
   "outputs": [],
   "source": [
    "def get_linestyle(name):\n",
    "    if name == 'Train':\n",
    "        return 'dashed'\n",
    "    else:\n",
    "        return 'solid'\n",
    "\n",
    "\n",
    "def draw_subplot(df, dataname, ax):\n",
    "    # line_style = ['Accuracy' if a in ['Train', 'Test'] else 'C-Measures' for a in df_pivot['Measure']]\n",
    "    line_style = [get_linestyle(m) for m in df['Measure']]\n",
    "    sns.lineplot(data=df, x='Rate', y='Value', hue='Measure', ax=ax,\n",
    "                 style=line_style, alpha=0.9, legend='auto', palette=palette1, linewidth=LINEWIDTH)\n",
    "\n",
    "    ax.set(xlim=[-0.02, 0.42], ylim=[-0.05, 1.05])\n",
    "    ax.set_title(dataname, y=0, pad=-45, verticalalignment=\"top\")\n",
    "    ax.set_xlabel('Poisoning Rate')\n",
    "    ax.set_ylabel('Measure')\n",
    "    ax.set_xticks(np.linspace(0, 0.40, num=5, endpoint=True))\n",
    "    ax.set_yticks(np.linspace(0, 1, num=5, endpoint=True), fontsize=FONTSIZE - 1)\n",
    "    ax.get_legend().remove()\n"
   ]
  },
  {
   "cell_type": "code",
   "execution_count": 8,
   "metadata": {},
   "outputs": [
    {
     "name": "stdout",
     "output_type": "stream",
     "text": [
      "Save to: c:\\Users\\lukex\\workspace\\diva_01\\results_plot\\cm_line.pdf\n"
     ]
    },
    {
     "data": {
      "image/png": "[encoded data removed]",
      "text/plain": [
       "<Figure size 648x180 with 3 Axes>"
      ]
     },
     "metadata": {
      "needs_background": "light"
     },
     "output_type": "display_data"
    }
   ],
   "source": [
    "plt.rcParams[\"font.family\"] = \"Times New Roman\"\n",
    "plt.rcParams[\"font.size\"] = FONTSIZE\n",
    "fig, axes = plt.subplots(1, 3, sharex=True, sharey=True, figsize=FIGSIZE)\n",
    "# sns.set_style(style='ticks')\n",
    "\n",
    "\n",
    "for i in range(len(dfs)):\n",
    "    draw_subplot(dfs[i], TITLES[i], axes[i])\n",
    "\n",
    "label_dict = {}\n",
    "for i in range(3):\n",
    "    # Merge lines and labels\n",
    "    lines, labels = axes[i].get_legend_handles_labels()\n",
    "    for line, label in zip(lines, labels):\n",
    "        label_dict[label] = line\n",
    "\n",
    "custom_lines = [\n",
    "    Line2D([0], [0], color='darkgrey', lw=LINEWIDTH, label=LABELS[0]),\n",
    "    Line2D([0], [0], color=COLOURS['Train'], lw=LINEWIDTH, label=LABELS[1], linestyle='dashed'),\n",
    "    Line2D([0], [0], color=COLOURS['Test'], lw=LINEWIDTH, label=LABELS[2]),\n",
    "]\n",
    "fig.legend(handles=custom_lines, bbox_to_anchor=(1, 1), loc=\"upper left\", frameon=False)\n",
    "\n",
    "plt.tight_layout(pad=0.3)\n",
    "path_fig_out = os.path.join(PATH_OUTPUT, f'cm_line.pdf', )\n",
    "plt.savefig(path_fig_out, dpi=300, bbox_inches='tight')\n",
    "print(f'Save to: {path_fig_out}')\n"
   ]
  },
  {
   "cell_type": "code",
   "execution_count": null,
   "metadata": {},
   "outputs": [],
   "source": []
  }
 ],
 "metadata": {
  "interpreter": {
   "hash": "8bcff36e631da1ef6cb25b63542a3f56d2322f7e3d69a7432caaf86f390cdb5a"
  },
  "kernelspec": {
   "display_name": "Python 3.8.10 64-bit ('torch': venv)",
   "language": "python",
   "name": "python3"
  },
  "language_info": {
   "codemirror_mode": {
    "name": "ipython",
    "version": 3
   },
   "file_extension": ".py",
   "mimetype": "text/x-python",
   "name": "python",
   "nbconvert_exporter": "python",
   "pygments_lexer": "ipython3",
   "version": "3.8.16"
  },
  "orig_nbformat": 4
 },
 "nbformat": 4,
 "nbformat_minor": 2
}

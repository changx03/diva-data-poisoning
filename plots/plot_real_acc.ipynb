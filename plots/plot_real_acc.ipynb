{
 "cells": [
  {
   "cell_type": "code",
   "execution_count": 1,
   "metadata": {},
   "outputs": [],
   "source": [
    "import os\n",
    "from pathlib import Path\n",
    "from glob import glob\n",
    "\n",
    "import numpy as np\n",
    "import pandas as pd\n",
    "import matplotlib.pyplot as plt\n",
    "import seaborn as sns\n",
    "\n",
    "from matplotlib.lines import Line2D\n",
    "from matplotlib.patches import Patch\n",
    "\n",
    "#from label_flip_revised.utils import create_dir\n"
   ]
  },
  {
   "cell_type": "code",
   "execution_count": 2,
   "metadata": {},
   "outputs": [
    {
     "name": "stdout",
     "output_type": "stream",
     "text": [
      "/home/lukec/workspace/diva_01\n"
     ]
    }
   ],
   "source": [
    "PATH_ROOT = Path(os.getcwd()).absolute().parent\n",
    "print(PATH_ROOT)\n"
   ]
  },
  {
   "cell_type": "code",
   "execution_count": 3,
   "metadata": {},
   "outputs": [
    {
     "name": "stdout",
     "output_type": "stream",
     "text": [
      "/home/lukec/workspace/diva_01/results_plot\n"
     ]
    }
   ],
   "source": [
    "path_output = os.path.join(PATH_ROOT, 'results_plot')\n",
    "print(path_output)\n",
    "# create_dir(path_output)\n"
   ]
  },
  {
   "cell_type": "code",
   "execution_count": 4,
   "metadata": {
    "scrolled": true
   },
   "outputs": [
    {
     "name": "stdout",
     "output_type": "stream",
     "text": [
      "(90, 38)\n"
     ]
    },
    {
     "data": {
      "text/html": [
       "<div>\n",
       "<style scoped>\n",
       "    .dataframe tbody tr th:only-of-type {\n",
       "        vertical-align: middle;\n",
       "    }\n",
       "\n",
       "    .dataframe tbody tr th {\n",
       "        vertical-align: top;\n",
       "    }\n",
       "\n",
       "    .dataframe thead th {\n",
       "        text-align: right;\n",
       "    }\n",
       "</style>\n",
       "<table border=\"1\" class=\"dataframe\">\n",
       "  <thead>\n",
       "    <tr style=\"text-align: right;\">\n",
       "      <th></th>\n",
       "      <th>Data</th>\n",
       "      <th>F1</th>\n",
       "      <th>F1 SD</th>\n",
       "      <th>F1v</th>\n",
       "      <th>F2</th>\n",
       "      <th>F3</th>\n",
       "      <th>F4</th>\n",
       "      <th>N1</th>\n",
       "      <th>N2</th>\n",
       "      <th>N2 SD</th>\n",
       "      <th>...</th>\n",
       "      <th>Hubs SD</th>\n",
       "      <th>Path.Train</th>\n",
       "      <th>Path.Poison</th>\n",
       "      <th>Path.Test</th>\n",
       "      <th>Rate</th>\n",
       "      <th>Train.Clean</th>\n",
       "      <th>Test.Clean</th>\n",
       "      <th>Train.Poison</th>\n",
       "      <th>Test.Poison</th>\n",
       "      <th>Data.Base</th>\n",
       "    </tr>\n",
       "  </thead>\n",
       "  <tbody>\n",
       "    <tr>\n",
       "      <th>0</th>\n",
       "      <td>breastcancer_std_falfa_nn_0.00.csv</td>\n",
       "      <td>0.712464</td>\n",
       "      <td>0.215349</td>\n",
       "      <td>0.066235</td>\n",
       "      <td>6.264744e-11</td>\n",
       "      <td>0.485714</td>\n",
       "      <td>0.000000</td>\n",
       "      <td>0.074725</td>\n",
       "      <td>0.366983</td>\n",
       "      <td>0.074135</td>\n",
       "      <td>...</td>\n",
       "      <td>0.225796</td>\n",
       "      <td>/home/lukec/workspace/label_flip_revised_new/d...</td>\n",
       "      <td>/home/lukec/workspace/label_flip_revised_new/d...</td>\n",
       "      <td>/home/lukec/workspace/label_flip_revised_new/d...</td>\n",
       "      <td>0.00</td>\n",
       "      <td>0.986813</td>\n",
       "      <td>0.982456</td>\n",
       "      <td>0.986813</td>\n",
       "      <td>0.982456</td>\n",
       "      <td>breastcancer_std</td>\n",
       "    </tr>\n",
       "    <tr>\n",
       "      <th>1</th>\n",
       "      <td>breastcancer_std_falfa_nn_0.05.csv</td>\n",
       "      <td>0.859098</td>\n",
       "      <td>0.101038</td>\n",
       "      <td>0.133480</td>\n",
       "      <td>1.440449e-06</td>\n",
       "      <td>0.696703</td>\n",
       "      <td>0.000000</td>\n",
       "      <td>0.103297</td>\n",
       "      <td>0.382469</td>\n",
       "      <td>0.070786</td>\n",
       "      <td>...</td>\n",
       "      <td>0.283660</td>\n",
       "      <td>/home/lukec/workspace/label_flip_revised_new/d...</td>\n",
       "      <td>/home/lukec/workspace/label_flip_revised_new/d...</td>\n",
       "      <td>/home/lukec/workspace/label_flip_revised_new/d...</td>\n",
       "      <td>0.05</td>\n",
       "      <td>0.986813</td>\n",
       "      <td>0.982456</td>\n",
       "      <td>0.982418</td>\n",
       "      <td>0.956140</td>\n",
       "      <td>breastcancer_std</td>\n",
       "    </tr>\n",
       "    <tr>\n",
       "      <th>2</th>\n",
       "      <td>breastcancer_std_falfa_nn_0.10.csv</td>\n",
       "      <td>0.844907</td>\n",
       "      <td>0.108064</td>\n",
       "      <td>0.240749</td>\n",
       "      <td>2.910036e-09</td>\n",
       "      <td>0.753846</td>\n",
       "      <td>0.316484</td>\n",
       "      <td>0.191209</td>\n",
       "      <td>0.409176</td>\n",
       "      <td>0.076152</td>\n",
       "      <td>...</td>\n",
       "      <td>0.225717</td>\n",
       "      <td>/home/lukec/workspace/label_flip_revised_new/d...</td>\n",
       "      <td>/home/lukec/workspace/label_flip_revised_new/d...</td>\n",
       "      <td>/home/lukec/workspace/label_flip_revised_new/d...</td>\n",
       "      <td>0.10</td>\n",
       "      <td>0.986813</td>\n",
       "      <td>0.982456</td>\n",
       "      <td>0.964835</td>\n",
       "      <td>0.868421</td>\n",
       "      <td>breastcancer_std</td>\n",
       "    </tr>\n",
       "    <tr>\n",
       "      <th>3</th>\n",
       "      <td>breastcancer_std_falfa_nn_0.15.csv</td>\n",
       "      <td>0.948572</td>\n",
       "      <td>0.034941</td>\n",
       "      <td>0.258380</td>\n",
       "      <td>2.631059e-06</td>\n",
       "      <td>0.712088</td>\n",
       "      <td>0.048352</td>\n",
       "      <td>0.153846</td>\n",
       "      <td>0.396442</td>\n",
       "      <td>0.077667</td>\n",
       "      <td>...</td>\n",
       "      <td>0.181392</td>\n",
       "      <td>/home/lukec/workspace/label_flip_revised_new/d...</td>\n",
       "      <td>/home/lukec/workspace/label_flip_revised_new/d...</td>\n",
       "      <td>/home/lukec/workspace/label_flip_revised_new/d...</td>\n",
       "      <td>0.15</td>\n",
       "      <td>0.986813</td>\n",
       "      <td>0.982456</td>\n",
       "      <td>0.984615</td>\n",
       "      <td>0.824561</td>\n",
       "      <td>breastcancer_std</td>\n",
       "    </tr>\n",
       "    <tr>\n",
       "      <th>4</th>\n",
       "      <td>breastcancer_std_falfa_nn_0.20.csv</td>\n",
       "      <td>0.919837</td>\n",
       "      <td>0.052507</td>\n",
       "      <td>0.311281</td>\n",
       "      <td>6.912120e-10</td>\n",
       "      <td>0.723077</td>\n",
       "      <td>0.270330</td>\n",
       "      <td>0.217582</td>\n",
       "      <td>0.415749</td>\n",
       "      <td>0.075189</td>\n",
       "      <td>...</td>\n",
       "      <td>0.225626</td>\n",
       "      <td>/home/lukec/workspace/label_flip_revised_new/d...</td>\n",
       "      <td>/home/lukec/workspace/label_flip_revised_new/d...</td>\n",
       "      <td>/home/lukec/workspace/label_flip_revised_new/d...</td>\n",
       "      <td>0.20</td>\n",
       "      <td>0.986813</td>\n",
       "      <td>0.982456</td>\n",
       "      <td>0.971429</td>\n",
       "      <td>0.728070</td>\n",
       "      <td>breastcancer_std</td>\n",
       "    </tr>\n",
       "  </tbody>\n",
       "</table>\n",
       "<p>5 rows × 38 columns</p>\n",
       "</div>"
      ],
      "text/plain": [
       "                                 Data        F1     F1 SD       F1v  \\\n",
       "0  breastcancer_std_falfa_nn_0.00.csv  0.712464  0.215349  0.066235   \n",
       "1  breastcancer_std_falfa_nn_0.05.csv  0.859098  0.101038  0.133480   \n",
       "2  breastcancer_std_falfa_nn_0.10.csv  0.844907  0.108064  0.240749   \n",
       "3  breastcancer_std_falfa_nn_0.15.csv  0.948572  0.034941  0.258380   \n",
       "4  breastcancer_std_falfa_nn_0.20.csv  0.919837  0.052507  0.311281   \n",
       "\n",
       "             F2        F3        F4        N1        N2     N2 SD  ...  \\\n",
       "0  6.264744e-11  0.485714  0.000000  0.074725  0.366983  0.074135  ...   \n",
       "1  1.440449e-06  0.696703  0.000000  0.103297  0.382469  0.070786  ...   \n",
       "2  2.910036e-09  0.753846  0.316484  0.191209  0.409176  0.076152  ...   \n",
       "3  2.631059e-06  0.712088  0.048352  0.153846  0.396442  0.077667  ...   \n",
       "4  6.912120e-10  0.723077  0.270330  0.217582  0.415749  0.075189  ...   \n",
       "\n",
       "    Hubs SD                                         Path.Train  \\\n",
       "0  0.225796  /home/lukec/workspace/label_flip_revised_new/d...   \n",
       "1  0.283660  /home/lukec/workspace/label_flip_revised_new/d...   \n",
       "2  0.225717  /home/lukec/workspace/label_flip_revised_new/d...   \n",
       "3  0.181392  /home/lukec/workspace/label_flip_revised_new/d...   \n",
       "4  0.225626  /home/lukec/workspace/label_flip_revised_new/d...   \n",
       "\n",
       "                                         Path.Poison  \\\n",
       "0  /home/lukec/workspace/label_flip_revised_new/d...   \n",
       "1  /home/lukec/workspace/label_flip_revised_new/d...   \n",
       "2  /home/lukec/workspace/label_flip_revised_new/d...   \n",
       "3  /home/lukec/workspace/label_flip_revised_new/d...   \n",
       "4  /home/lukec/workspace/label_flip_revised_new/d...   \n",
       "\n",
       "                                           Path.Test  Rate  Train.Clean  \\\n",
       "0  /home/lukec/workspace/label_flip_revised_new/d...  0.00     0.986813   \n",
       "1  /home/lukec/workspace/label_flip_revised_new/d...  0.05     0.986813   \n",
       "2  /home/lukec/workspace/label_flip_revised_new/d...  0.10     0.986813   \n",
       "3  /home/lukec/workspace/label_flip_revised_new/d...  0.15     0.986813   \n",
       "4  /home/lukec/workspace/label_flip_revised_new/d...  0.20     0.986813   \n",
       "\n",
       "   Test.Clean  Train.Poison  Test.Poison         Data.Base  \n",
       "0    0.982456      0.986813     0.982456  breastcancer_std  \n",
       "1    0.982456      0.982418     0.956140  breastcancer_std  \n",
       "2    0.982456      0.964835     0.868421  breastcancer_std  \n",
       "3    0.982456      0.984615     0.824561  breastcancer_std  \n",
       "4    0.982456      0.971429     0.728070  breastcancer_std  \n",
       "\n",
       "[5 rows x 38 columns]"
      ]
     },
     "execution_count": 4,
     "metadata": {},
     "output_type": "execute_result"
    }
   ],
   "source": [
    "df_falfa_01 = pd.read_csv(os.path.join(PATH_ROOT, 'results', 'real', 'real_falfa_nn_db.csv'))\n",
    "print(df_falfa_01.shape)\n",
    "df_falfa_01.head()\n"
   ]
  },
  {
   "cell_type": "code",
   "execution_count": 5,
   "metadata": {},
   "outputs": [
    {
     "data": {
      "text/plain": [
       "Index(['Data', 'F1', 'F1 SD', 'F1v', 'F2', 'F3', 'F4', 'N1', 'N2', 'N2 SD',\n",
       "       'N3', 'N3 SD', 'N4', 'N4 SD', 'T1', 'T1 SD', 'LSC', 'L1', 'L2', 'L3',\n",
       "       'T2', 'T3', 'T4', 'C1', 'C2', 'Density', 'ClsCoef', 'Hubs', 'Hubs SD',\n",
       "       'Path.Train', 'Path.Poison', 'Path.Test', 'Rate', 'Train.Clean',\n",
       "       'Test.Clean', 'Train.Poison', 'Test.Poison', 'Data.Base'],\n",
       "      dtype='object')"
      ]
     },
     "execution_count": 5,
     "metadata": {},
     "output_type": "execute_result"
    }
   ],
   "source": [
    "df_falfa_01.columns\n"
   ]
  },
  {
   "cell_type": "code",
   "execution_count": 6,
   "metadata": {},
   "outputs": [
    {
     "name": "stdout",
     "output_type": "stream",
     "text": [
      "['abalone_subset_std' 'australian_std' 'banknote_std' 'breastcancer_std'\n",
      " 'cmc_std' 'htru2_subset_std' 'phoneme_subset_std' 'ringnorm_subset_std'\n",
      " 'texture_subset_std' 'yeast_subset_std']\n"
     ]
    }
   ],
   "source": [
    "datanames = np.sort(df_falfa_01['Data.Base'].unique())\n",
    "print(datanames)\n"
   ]
  },
  {
   "cell_type": "code",
   "execution_count": 7,
   "metadata": {},
   "outputs": [
    {
     "data": {
      "text/plain": [
       "['diva_01', 'diva_02', 'diva_03', 'diva_04', 'diva_05']"
      ]
     },
     "execution_count": 7,
     "metadata": {},
     "output_type": "execute_result"
    }
   ],
   "source": [
    "workspace_names = [f'diva_{i:02d}' for i in range(1, 6)]\n",
    "workspace_names\n"
   ]
  },
  {
   "cell_type": "code",
   "execution_count": 8,
   "metadata": {},
   "outputs": [
    {
     "data": {
      "text/plain": [
       "['rand_svm', 'alfa_svm', 'poison_svm', 'falfa_nn']"
      ]
     },
     "execution_count": 8,
     "metadata": {},
     "output_type": "execute_result"
    }
   ],
   "source": [
    "ATTACKS = ['rand_svm', 'alfa_svm', 'poison_svm', 'falfa_nn']\n",
    "ATTACKS\n"
   ]
  },
  {
   "cell_type": "code",
   "execution_count": 9,
   "metadata": {},
   "outputs": [],
   "source": [
    "score_dict = {}\n",
    "for dname in ATTACKS:\n",
    "    dfs = []\n",
    "    for wname in workspace_names:\n",
    "        df_ = pd.read_csv(os.path.join(PATH_ROOT.parent, wname, 'results', 'real', f'real_{dname}_db.csv'))\n",
    "        df_ = df_[['Data.Base', 'Rate', 'Train.Clean', 'Test.Clean', 'Train.Poison', 'Test.Poison']]\n",
    "        dfs.append(df_)\n",
    "    df = pd.concat(dfs, ignore_index=True).groupby(['Data.Base', 'Rate']).mean()\n",
    "    df.to_csv(os.path.join(path_output, f'real_score_mean_{dname}.csv'))\n"
   ]
  },
  {
   "cell_type": "code",
   "execution_count": 10,
   "metadata": {},
   "outputs": [
    {
     "data": {
      "text/html": [
       "<svg  width=\"220\" height=\"55\"><rect x=\"0\" y=\"0\" width=\"55\" height=\"55\" style=\"fill:#a9a9a9;stroke-width:2;stroke:rgb(255,255,255)\"/><rect x=\"55\" y=\"0\" width=\"55\" height=\"55\" style=\"fill:#2e7d32;stroke-width:2;stroke:rgb(255,255,255)\"/><rect x=\"110\" y=\"0\" width=\"55\" height=\"55\" style=\"fill:#1976d2;stroke-width:2;stroke:rgb(255,255,255)\"/><rect x=\"165\" y=\"0\" width=\"55\" height=\"55\" style=\"fill:#d32f2f;stroke-width:2;stroke:rgb(255,255,255)\"/></svg>"
      ],
      "text/plain": [
       "[(0.6627450980392157, 0.6627450980392157, 0.6627450980392157),\n",
       " (0.1803921568627451, 0.49019607843137253, 0.19607843137254902),\n",
       " (0.09803921568627451, 0.4627450980392157, 0.8235294117647058),\n",
       " (0.8274509803921568, 0.1843137254901961, 0.1843137254901961)]"
      ]
     },
     "execution_count": 10,
     "metadata": {},
     "output_type": "execute_result"
    }
   ],
   "source": [
    "COLOR_MAP = {\n",
    "    'rand_svm': 'darkgrey',\n",
    "    'alfa_svm': '#2e7d32',\n",
    "    'poison_svm': '#1976d2',\n",
    "    'falfa_nn': '#d32f2f',\n",
    "    #  'Train.Poison': '#1b1b1b',\n",
    "    #  'Test.Poison': '#1b1b1b',\n",
    "}\n",
    "\n",
    "my_palette = sns.color_palette(COLOR_MAP.values())\n",
    "my_palette\n"
   ]
  },
  {
   "cell_type": "code",
   "execution_count": 11,
   "metadata": {},
   "outputs": [],
   "source": [
    "datanames = ['abalone_subset_std', 'australian_std', 'banknote_std', 'breastcancer_std',\n",
    "             'cmc_std', 'htru2_subset_std', 'phoneme_subset_std', 'ringnorm_subset_std',\n",
    "             'texture_subset_std', 'yeast_subset_std']\n"
   ]
  },
  {
   "cell_type": "code",
   "execution_count": 12,
   "metadata": {},
   "outputs": [
    {
     "data": {
      "text/html": [
       "<div>\n",
       "<style scoped>\n",
       "    .dataframe tbody tr th:only-of-type {\n",
       "        vertical-align: middle;\n",
       "    }\n",
       "\n",
       "    .dataframe tbody tr th {\n",
       "        vertical-align: top;\n",
       "    }\n",
       "\n",
       "    .dataframe thead th {\n",
       "        text-align: right;\n",
       "    }\n",
       "</style>\n",
       "<table border=\"1\" class=\"dataframe\">\n",
       "  <thead>\n",
       "    <tr style=\"text-align: right;\">\n",
       "      <th></th>\n",
       "      <th>Data.Base</th>\n",
       "      <th>Rate</th>\n",
       "      <th>Train.Clean</th>\n",
       "      <th>Test.Clean</th>\n",
       "      <th>Train.Poison</th>\n",
       "      <th>Test.Poison</th>\n",
       "    </tr>\n",
       "  </thead>\n",
       "  <tbody>\n",
       "    <tr>\n",
       "      <th>0</th>\n",
       "      <td>abalone_subset_std</td>\n",
       "      <td>0.00</td>\n",
       "      <td>0.789125</td>\n",
       "      <td>0.7745</td>\n",
       "      <td>0.789125</td>\n",
       "      <td>0.7745</td>\n",
       "    </tr>\n",
       "    <tr>\n",
       "      <th>1</th>\n",
       "      <td>abalone_subset_std</td>\n",
       "      <td>0.05</td>\n",
       "      <td>0.789125</td>\n",
       "      <td>0.7745</td>\n",
       "      <td>0.780750</td>\n",
       "      <td>0.7560</td>\n",
       "    </tr>\n",
       "    <tr>\n",
       "      <th>2</th>\n",
       "      <td>abalone_subset_std</td>\n",
       "      <td>0.10</td>\n",
       "      <td>0.789125</td>\n",
       "      <td>0.7745</td>\n",
       "      <td>0.697000</td>\n",
       "      <td>0.6975</td>\n",
       "    </tr>\n",
       "    <tr>\n",
       "      <th>3</th>\n",
       "      <td>abalone_subset_std</td>\n",
       "      <td>0.15</td>\n",
       "      <td>0.789125</td>\n",
       "      <td>0.7745</td>\n",
       "      <td>0.792750</td>\n",
       "      <td>0.6400</td>\n",
       "    </tr>\n",
       "    <tr>\n",
       "      <th>4</th>\n",
       "      <td>abalone_subset_std</td>\n",
       "      <td>0.20</td>\n",
       "      <td>0.789125</td>\n",
       "      <td>0.7745</td>\n",
       "      <td>0.752500</td>\n",
       "      <td>0.6045</td>\n",
       "    </tr>\n",
       "  </tbody>\n",
       "</table>\n",
       "</div>"
      ],
      "text/plain": [
       "            Data.Base  Rate  Train.Clean  Test.Clean  Train.Poison  \\\n",
       "0  abalone_subset_std  0.00     0.789125      0.7745      0.789125   \n",
       "1  abalone_subset_std  0.05     0.789125      0.7745      0.780750   \n",
       "2  abalone_subset_std  0.10     0.789125      0.7745      0.697000   \n",
       "3  abalone_subset_std  0.15     0.789125      0.7745      0.792750   \n",
       "4  abalone_subset_std  0.20     0.789125      0.7745      0.752500   \n",
       "\n",
       "   Test.Poison  \n",
       "0       0.7745  \n",
       "1       0.7560  \n",
       "2       0.6975  \n",
       "3       0.6400  \n",
       "4       0.6045  "
      ]
     },
     "execution_count": 12,
     "metadata": {},
     "output_type": "execute_result"
    }
   ],
   "source": [
    "# Save results\n",
    "df_falfa = pd.read_csv(os.path.join(path_output, f'real_score_mean_falfa_nn.csv'))\n",
    "df_rand = pd.read_csv(os.path.join(path_output, f'real_score_mean_rand_svm.csv'))\n",
    "df_pois = pd.read_csv(os.path.join(path_output, f'real_score_mean_poison_svm.csv'))\n",
    "df_alfa = pd.read_csv(os.path.join(path_output, f'real_score_mean_alfa_svm.csv'))\n",
    "\n",
    "df_falfa.head()\n"
   ]
  },
  {
   "cell_type": "code",
   "execution_count": 13,
   "metadata": {},
   "outputs": [],
   "source": [
    "FONTSIZE = 13\n",
    "FIGSIZE = (9, 2.5)\n",
    "LINE_WIDTH = 3\n",
    "TITLES = [\n",
    "    '(a) Texture (Easy)',\n",
    "    '(b) Australian (Normal)',\n",
    "    '(c) Yeast (Hard)',\n",
    "]\n",
    "SELECTED_DATA = [\n",
    "    'texture_subset_std',\n",
    "    'australian_std',\n",
    "    'yeast_subset_std',\n",
    "]\n"
   ]
  },
  {
   "cell_type": "code",
   "execution_count": 14,
   "metadata": {},
   "outputs": [],
   "source": [
    "def draw_subplot(dfs, dataname, attacks, ax, linewidth=2):\n",
    "    df_table = pd.DataFrame()\n",
    "    for df_, att in zip(dfs, attacks):\n",
    "        df_ = df_ * 100\n",
    "        df_['Attack'] = att\n",
    "        df_ = df_[['Attack', 'Rate', 'Test.Poison', 'Train.Poison']]\n",
    "        df_ = df_.melt(id_vars=['Attack', 'Rate'], var_name='Set', value_name='Accuracy')\n",
    "        df_table = pd.concat([df_table, df_], ignore_index=True)\n",
    "\n",
    "    line_style = ['Train' if val == 'Train.Poison' else 'Test' for val in df_table['Set']]\n",
    "    sns.lineplot(data=df_table,\n",
    "                 x='Rate',\n",
    "                 y='Accuracy',\n",
    "                 hue='Attack',\n",
    "                 ax=ax,\n",
    "                 style=line_style,\n",
    "                 legend='brief',\n",
    "                 alpha=0.8,\n",
    "                 palette=my_palette,\n",
    "                 linewidth=linewidth,\n",
    "                 dashes=True)\n",
    "\n",
    "    ax.set(xlim=[-1, 41], ylim=[35, 105])\n",
    "    ax.set_title(dataname, fontsize=FONTSIZE + 2, y=0, pad=-45, verticalalignment=\"top\")\n",
    "    ax.set_xlabel('Poisoning Rate (%)', fontsize=FONTSIZE + 1)\n",
    "    ax.set_ylabel('Accuracy (%)', fontsize=FONTSIZE + 1)\n",
    "    ax.set_xticks(np.linspace(0, 40, num=5, endpoint=True), fontsize=FONTSIZE - 1)\n",
    "    ax.set_yticks(np.linspace(40, 100, num=5, endpoint=True), fontsize=FONTSIZE - 1)\n",
    "    ax.get_legend().remove()\n"
   ]
  },
  {
   "cell_type": "code",
   "execution_count": 15,
   "metadata": {},
   "outputs": [
    {
     "name": "stdout",
     "output_type": "stream",
     "text": [
      "Save plot to /home/lukec/workspace/diva_01/results_plot/flfa_acc.pdf\n"
     ]
    },
    {
     "data": {
      "image/png": "[encoded data removed]",
      "text/plain": [
       "<Figure size 648x180 with 3 Axes>"
      ]
     },
     "metadata": {
      "needs_background": "light"
     },
     "output_type": "display_data"
    }
   ],
   "source": [
    "plt.rcParams[\"font.size\"] = FONTSIZE\n",
    "fig, axs = plt.subplots(1, 3, sharey=True, sharex=True, figsize=FIGSIZE)\n",
    "_axs = []\n",
    "for i in range(3):\n",
    "    _axs.append(axs[i])\n",
    "\n",
    "for dataname, title, ax in zip(SELECTED_DATA, TITLES, _axs):\n",
    "    dfs = [\n",
    "        df_rand[df_rand['Data.Base'] == dataname],\n",
    "        df_alfa[df_alfa['Data.Base'] == dataname],\n",
    "        df_pois[df_pois['Data.Base'] == dataname],\n",
    "        df_falfa[df_falfa['Data.Base'] == dataname],\n",
    "    ]\n",
    "    draw_subplot(dfs, title, ATTACKS, ax)\n",
    "\n",
    "custom_lines = [\n",
    "    Line2D([0], [0], color='black', lw=LINE_WIDTH, label='Training Acc.', linestyle='dashed'),\n",
    "    Line2D([0], [0], color='black', lw=LINE_WIDTH, label='Testing Acc.'),\n",
    "    Patch(facecolor=COLOR_MAP['falfa_nn'], label='FALFA'),\n",
    "    Patch(facecolor=COLOR_MAP['alfa_svm'], label='ALFA'),\n",
    "    Patch(facecolor=COLOR_MAP['poison_svm'], label='PoisSVM'),\n",
    "    Patch(facecolor=COLOR_MAP['rand_svm'], label='Noise (SLN)')\n",
    "]\n",
    "\n",
    "# fig.legend(handles=custom_lines, loc='lower left', bbox_to_anchor=(0, 1, 1, 0), mode=\"expand\", ncol=6)\n",
    "fig.legend(handles=custom_lines, bbox_to_anchor=(1, 1), loc=\"upper left\")\n",
    "\n",
    "plt.tight_layout(pad=0.3)\n",
    "path_fig_out = os.path.join(path_output, 'flfa_acc.pdf', )\n",
    "plt.savefig(path_fig_out, dpi=300, bbox_inches='tight')\n",
    "print(f'Save plot to {path_fig_out}')\n"
   ]
  },
  {
   "cell_type": "code",
   "execution_count": null,
   "metadata": {},
   "outputs": [],
   "source": []
  }
 ],
 "metadata": {
  "interpreter": {
   "hash": "8bcff36e631da1ef6cb25b63542a3f56d2322f7e3d69a7432caaf86f390cdb5a"
  },
  "kernelspec": {
   "display_name": "Python 3 (ipykernel)",
   "language": "python",
   "name": "python3"
  },
  "language_info": {
   "codemirror_mode": {
    "name": "ipython",
    "version": 3
   },
   "file_extension": ".py",
   "mimetype": "text/x-python",
   "name": "python",
   "nbconvert_exporter": "python",
   "pygments_lexer": "ipython3",
   "version": "3.8.10"
  }
 },
 "nbformat": 4,
 "nbformat_minor": 2
}

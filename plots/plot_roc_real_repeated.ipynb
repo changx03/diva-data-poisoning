{
 "cells": [
  {
   "cell_type": "code",
   "execution_count": 1,
   "metadata": {},
   "outputs": [],
   "source": [
    "import os\n",
    "from glob import glob\n",
    "from pathlib import Path\n",
    "\n",
    "import matplotlib.pyplot as plt\n",
    "import numpy as np\n",
    "import pandas as pd\n",
    "import seaborn as sns\n",
    "from numpy.core.defchararray import find\n",
    "from pandas.api.types import CategoricalDtype\n",
    "from scipy import stats\n",
    "from sklearn import linear_model, preprocessing\n",
    "from sklearn.metrics import (RocCurveDisplay, auc, confusion_matrix,\n",
    "                             mean_squared_error, roc_curve)\n",
    "from sklearn.model_selection import KFold, RandomizedSearchCV, train_test_split\n",
    "from sklearn.svm import SVC\n",
    "from sklearn.utils.fixes import loguniform\n",
    "\n",
    "from label_flip_revised.simple_nn_model import SimpleModel\n",
    "from label_flip_revised.torch_utils import evaluate, train_model\n",
    "from label_flip_revised.utils import create_dir, open_csv\n"
   ]
  },
  {
   "cell_type": "code",
   "execution_count": 2,
   "metadata": {},
   "outputs": [
    {
     "name": "stdout",
     "output_type": "stream",
     "text": [
      "/home/lukec/workspace/label_flip_revised\n"
     ]
    }
   ],
   "source": [
    "PATH_ROOT = Path(os.getcwd()).absolute().parent\n",
    "print(PATH_ROOT)"
   ]
  },
  {
   "cell_type": "code",
   "execution_count": 3,
   "metadata": {},
   "outputs": [
    {
     "name": "stdout",
     "output_type": "stream",
     "text": [
      "['label_flip_revised', 'label_flip_revised_02', 'label_flip_revised_03', 'label_flip_revised_04', 'label_flip_revised_05']\n"
     ]
    }
   ],
   "source": [
    "workspace_names = ['label_flip_revised'] + [f'label_flip_revised_{i:02d}' for i in range(2, 6)]\n",
    "\n",
    "print(workspace_names)"
   ]
  },
  {
   "cell_type": "code",
   "execution_count": 4,
   "metadata": {},
   "outputs": [],
   "source": [
    "rocA = 'roc_real_NN-FALFA.csv'\n",
    "rocB = 'roc_real_SVM-ALFA.csv'"
   ]
  },
  {
   "cell_type": "code",
   "execution_count": 5,
   "metadata": {},
   "outputs": [
    {
     "data": {
      "image/png": "[encoded data removed]",
      "text/plain": [
       "<Figure size 360x360 with 1 Axes>"
      ]
     },
     "metadata": {
      "needs_background": "light"
     },
     "output_type": "display_data"
    }
   ],
   "source": [
    "FIGSIZE = (5, 5)\n",
    "NAMES = [\n",
    "    'NN-FALFA',\n",
    "    'SVM-ALFA',\n",
    "]\n",
    "# Save color as accuracy plot. [Blue, Red]\n",
    "COLORS = ['#1976d2', '#d32f2f']\n",
    "FONTSIZE = 14\n",
    "\n",
    "tprsA = []\n",
    "tprsB = []\n",
    "mean_fpr = np.linspace(0, 1, 100)\n",
    "\n",
    "def get_mean_roc(tprs, df):\n",
    "    tpr = df['tpr']\n",
    "    fpr = df['fpr']\n",
    "\n",
    "    interp_tpr = np.interp(mean_fpr, fpr, tpr)\n",
    "    interp_tpr[0] = 0.0\n",
    "    interp_tpr[-1] = 1.0\n",
    "\n",
    "    tprs.append(interp_tpr)\n",
    "\n",
    "for workspace in workspace_names:\n",
    "    dfA = pd.read_csv(os.path.join(PATH_ROOT.parent, workspace, 'results', rocA))\n",
    "    dfB = pd.read_csv(os.path.join(PATH_ROOT.parent, workspace, 'results', rocB))\n",
    "\n",
    "    get_mean_roc(tprsA, dfA)\n",
    "    get_mean_roc(tprsB, dfB)\n",
    "\n",
    "mean_tprA = np.mean(tprsA, axis=0)\n",
    "mean_tprA[-1] = 1.0\n",
    "aucA = auc(mean_fpr, mean_tprA)\n",
    "\n",
    "mean_tprB = np.mean(tprsB, axis=0)\n",
    "mean_tprB[-1] = 1.0\n",
    "aucB = auc(mean_fpr, mean_tprA)\n",
    "\n",
    "plt.rcParams[\"font.size\"] = 14\n",
    "fig, ax = plt.subplots(figsize=FIGSIZE)\n",
    "ax.plot(mean_fpr, mean_tprA, color=COLORS[0], label=f'{NAMES[0]} (AUC = {aucA:.2f})')\n",
    "ax.plot(mean_fpr, mean_tprB, color=COLORS[1], label=f'{NAMES[1]} (AUC = {aucB:.2f})')\n",
    "ax.set(xlim=[-0.05, 1.05], ylim=[-0.05, 1.05])\n",
    "ax.legend(loc=\"lower right\")\n",
    "ax.set_xlabel('False Positive Rate')\n",
    "ax.set_ylabel('True Positive Rate')\n",
    "plt.tight_layout()\n",
    "path_output = os.path.join(PATH_ROOT, 'results', 'roc_real_repeated.pdf')\n",
    "plt.savefig(path_output, dpi=300)"
   ]
  },
  {
   "cell_type": "code",
   "execution_count": null,
   "metadata": {},
   "outputs": [],
   "source": []
  }
 ],
 "metadata": {
  "interpreter": {
   "hash": "8bcff36e631da1ef6cb25b63542a3f56d2322f7e3d69a7432caaf86f390cdb5a"
  },
  "kernelspec": {
   "display_name": "Python 3.8.10 64-bit ('torch': venv)",
   "language": "python",
   "name": "python3"
  },
  "language_info": {
   "codemirror_mode": {
    "name": "ipython",
    "version": 3
   },
   "file_extension": ".py",
   "mimetype": "text/x-python",
   "name": "python",
   "nbconvert_exporter": "python",
   "pygments_lexer": "ipython3",
   "version": "3.8.10"
  },
  "orig_nbformat": 4
 },
 "nbformat": 4,
 "nbformat_minor": 2
}

{
 "cells": [
  {
   "cell_type": "code",
   "execution_count": 1,
   "metadata": {},
   "outputs": [],
   "source": [
    "import os\n",
    "from glob import glob\n",
    "from pathlib import Path\n",
    "\n",
    "import matplotlib.pyplot as plt\n",
    "import numpy as np\n",
    "import pandas as pd\n",
    "import seaborn as sns\n",
    "from sklearn import linear_model\n",
    "from sklearn.metrics import RocCurveDisplay, auc, mean_squared_error, roc_curve\n",
    "from sklearn.model_selection import RandomizedSearchCV\n",
    "from sklearn.utils.fixes import loguniform\n",
    "from scipy.interpolate import interp1d\n",
    "\n",
    "from label_flip_revised.utils import create_dir"
   ]
  },
  {
   "cell_type": "code",
   "execution_count": 2,
   "metadata": {},
   "outputs": [
    {
     "name": "stdout",
     "output_type": "stream",
     "text": [
      "/home/lukec/workspace/diva_01\n"
     ]
    }
   ],
   "source": [
    "PATH_ROOT = Path(os.getcwd()).absolute().parent\n",
    "print(PATH_ROOT)"
   ]
  },
  {
   "cell_type": "code",
   "execution_count": 3,
   "metadata": {},
   "outputs": [
    {
     "name": "stdout",
     "output_type": "stream",
     "text": [
      "/home/lukec/workspace/diva_01/results_plot\n"
     ]
    }
   ],
   "source": [
    "path_output = os.path.join(PATH_ROOT, 'results_plot')\n",
    "print(path_output)\n",
    "create_dir(path_output)"
   ]
  },
  {
   "cell_type": "code",
   "execution_count": 4,
   "metadata": {},
   "outputs": [
    {
     "name": "stdout",
     "output_type": "stream",
     "text": [
      "(90, 38)\n",
      "['breastcancer_std' 'texture_subset_std' 'ringnorm_subset_std'\n",
      " 'australian_std' 'cmc_std' 'yeast_subset_std' 'abalone_subset_std'\n",
      " 'phoneme_subset_std' 'banknote_std' 'htru2_subset_std']\n",
      "Index(['Data', 'F1', 'F1 SD', 'F1v', 'F2', 'F3', 'F4', 'N1', 'N2', 'N2 SD',\n",
      "       'N3', 'N3 SD', 'N4', 'N4 SD', 'T1', 'T1 SD', 'LSC', 'L1', 'L2', 'L3',\n",
      "       'T2', 'T3', 'T4', 'C1', 'C2', 'Density', 'ClsCoef', 'Hubs', 'Hubs SD',\n",
      "       'Path.Train', 'Path.Poison', 'Path.Test', 'Rate', 'Train.Clean',\n",
      "       'Test.Clean', 'Train.Poison', 'Test.Poison', 'Data.Base'],\n",
      "      dtype='object')\n"
     ]
    }
   ],
   "source": [
    "df = pd.read_csv(os.path.join(PATH_ROOT, 'results', 'real', 'real_falfa_nn_db.csv'))\n",
    "print(df.shape)\n",
    "\n",
    "datanames = df['Data.Base'].unique()\n",
    "print(datanames)\n",
    "\n",
    "columns = df.columns\n",
    "print(columns)"
   ]
  },
  {
   "cell_type": "code",
   "execution_count": 5,
   "metadata": {},
   "outputs": [
    {
     "name": "stdout",
     "output_type": "stream",
     "text": [
      "['diva_01', 'diva_02', 'diva_03', 'diva_04', 'diva_05']\n"
     ]
    }
   ],
   "source": [
    "workspace_names = [f'diva_{i:02d}' for i in range(1,6)]\n",
    "print(workspace_names)"
   ]
  },
  {
   "cell_type": "code",
   "execution_count": 6,
   "metadata": {},
   "outputs": [],
   "source": [
    "NAME_MAP = {\n",
    "    'abalone_subset_std': 'Abalone',\n",
    "    'australian_std': 'Australian',\n",
    "    'banknote_std': 'Banknote',\n",
    "    'breastcancer_std': 'Breastcancer',\n",
    "    'cmc_std': 'CMC',\n",
    "    'htru2_subset_std': 'HTRU2',\n",
    "    'phoneme_subset_std': 'Phoneme',\n",
    "    'ringnorm_subset_std': 'Ringnorm',\n",
    "    'texture_subset_std': 'Texture',\n",
    "    'yeast_subset_std': 'Yeast'\n",
    "}\n",
    "\n",
    "ATTACKS = ['falfa_nn', 'alfa_svm', 'rand_svm', 'poison_svm']"
   ]
  },
  {
   "cell_type": "code",
   "execution_count": 7,
   "metadata": {},
   "outputs": [],
   "source": [
    "RATE = 0.1\n",
    "\n",
    "tables = []\n",
    "for workspace in workspace_names:\n",
    "    for att in ATTACKS:\n",
    "        df_ = pd.read_csv(os.path.join(PATH_ROOT.parent, workspace, 'results', 'real', f'real_{att}_db.csv'))\n",
    "        subset_ =  df_[df_['Rate'] == RATE][['Data.Base', 'Train.Clean', 'Test.Clean', 'Train.Poison', 'Test.Poison']]\n",
    "        n_ = subset_.shape[0]\n",
    "\n",
    "        data = {\n",
    "            'Dataset': subset_['Data.Base'],\n",
    "            'Poisoning Rate': np.array([RATE] * n_),\n",
    "            'Attack': np.array([att] * n_),\n",
    "            'Train': (subset_['Train.Clean'] - subset_['Train.Poison']) * 100,\n",
    "            'Test': (subset_['Test.Clean'] - subset_['Test.Poison']) * 100,\n",
    "        }\n",
    "        tables.append(pd.DataFrame(data))\n",
    "results = pd.concat(tables, ignore_index=True)"
   ]
  },
  {
   "cell_type": "code",
   "execution_count": 8,
   "metadata": {},
   "outputs": [
    {
     "data": {
      "text/html": [
       "<div>\n",
       "<style scoped>\n",
       "    .dataframe tbody tr th:only-of-type {\n",
       "        vertical-align: middle;\n",
       "    }\n",
       "\n",
       "    .dataframe tbody tr th {\n",
       "        vertical-align: top;\n",
       "    }\n",
       "\n",
       "    .dataframe thead th {\n",
       "        text-align: right;\n",
       "    }\n",
       "</style>\n",
       "<table border=\"1\" class=\"dataframe\">\n",
       "  <thead>\n",
       "    <tr style=\"text-align: right;\">\n",
       "      <th></th>\n",
       "      <th>Dataset</th>\n",
       "      <th>Poisoning Rate</th>\n",
       "      <th>Attack</th>\n",
       "      <th>Train</th>\n",
       "      <th>Test</th>\n",
       "    </tr>\n",
       "  </thead>\n",
       "  <tbody>\n",
       "    <tr>\n",
       "      <th>0</th>\n",
       "      <td>breastcancer_std</td>\n",
       "      <td>0.1</td>\n",
       "      <td>falfa_nn</td>\n",
       "      <td>2.197802</td>\n",
       "      <td>11.403509</td>\n",
       "    </tr>\n",
       "    <tr>\n",
       "      <th>1</th>\n",
       "      <td>texture_subset_std</td>\n",
       "      <td>0.1</td>\n",
       "      <td>falfa_nn</td>\n",
       "      <td>6.750000</td>\n",
       "      <td>8.500000</td>\n",
       "    </tr>\n",
       "    <tr>\n",
       "      <th>2</th>\n",
       "      <td>ringnorm_subset_std</td>\n",
       "      <td>0.1</td>\n",
       "      <td>falfa_nn</td>\n",
       "      <td>10.625000</td>\n",
       "      <td>3.000000</td>\n",
       "    </tr>\n",
       "    <tr>\n",
       "      <th>3</th>\n",
       "      <td>australian_std</td>\n",
       "      <td>0.1</td>\n",
       "      <td>falfa_nn</td>\n",
       "      <td>6.159420</td>\n",
       "      <td>7.971014</td>\n",
       "    </tr>\n",
       "    <tr>\n",
       "      <th>4</th>\n",
       "      <td>cmc_std</td>\n",
       "      <td>0.1</td>\n",
       "      <td>falfa_nn</td>\n",
       "      <td>2.546689</td>\n",
       "      <td>3.050847</td>\n",
       "    </tr>\n",
       "    <tr>\n",
       "      <th>...</th>\n",
       "      <td>...</td>\n",
       "      <td>...</td>\n",
       "      <td>...</td>\n",
       "      <td>...</td>\n",
       "      <td>...</td>\n",
       "    </tr>\n",
       "    <tr>\n",
       "      <th>195</th>\n",
       "      <td>htru2_subset_std</td>\n",
       "      <td>0.1</td>\n",
       "      <td>poison_svm</td>\n",
       "      <td>4.345911</td>\n",
       "      <td>-0.250000</td>\n",
       "    </tr>\n",
       "    <tr>\n",
       "      <th>196</th>\n",
       "      <td>phoneme_subset_std</td>\n",
       "      <td>0.1</td>\n",
       "      <td>poison_svm</td>\n",
       "      <td>3.437500</td>\n",
       "      <td>0.750000</td>\n",
       "    </tr>\n",
       "    <tr>\n",
       "      <th>197</th>\n",
       "      <td>ringnorm_subset_std</td>\n",
       "      <td>0.1</td>\n",
       "      <td>poison_svm</td>\n",
       "      <td>3.458987</td>\n",
       "      <td>2.250000</td>\n",
       "    </tr>\n",
       "    <tr>\n",
       "      <th>198</th>\n",
       "      <td>texture_subset_std</td>\n",
       "      <td>0.1</td>\n",
       "      <td>poison_svm</td>\n",
       "      <td>1.173021</td>\n",
       "      <td>0.500000</td>\n",
       "    </tr>\n",
       "    <tr>\n",
       "      <th>199</th>\n",
       "      <td>yeast_subset_std</td>\n",
       "      <td>0.1</td>\n",
       "      <td>poison_svm</td>\n",
       "      <td>0.014763</td>\n",
       "      <td>3.351955</td>\n",
       "    </tr>\n",
       "  </tbody>\n",
       "</table>\n",
       "<p>200 rows × 5 columns</p>\n",
       "</div>"
      ],
      "text/plain": [
       "                 Dataset  Poisoning Rate      Attack      Train       Test\n",
       "0       breastcancer_std             0.1    falfa_nn   2.197802  11.403509\n",
       "1     texture_subset_std             0.1    falfa_nn   6.750000   8.500000\n",
       "2    ringnorm_subset_std             0.1    falfa_nn  10.625000   3.000000\n",
       "3         australian_std             0.1    falfa_nn   6.159420   7.971014\n",
       "4                cmc_std             0.1    falfa_nn   2.546689   3.050847\n",
       "..                   ...             ...         ...        ...        ...\n",
       "195     htru2_subset_std             0.1  poison_svm   4.345911  -0.250000\n",
       "196   phoneme_subset_std             0.1  poison_svm   3.437500   0.750000\n",
       "197  ringnorm_subset_std             0.1  poison_svm   3.458987   2.250000\n",
       "198   texture_subset_std             0.1  poison_svm   1.173021   0.500000\n",
       "199     yeast_subset_std             0.1  poison_svm   0.014763   3.351955\n",
       "\n",
       "[200 rows x 5 columns]"
      ]
     },
     "execution_count": 8,
     "metadata": {},
     "output_type": "execute_result"
    }
   ],
   "source": [
    "results"
   ]
  },
  {
   "cell_type": "code",
   "execution_count": 9,
   "metadata": {},
   "outputs": [],
   "source": [
    "def toPivot(table):\n",
    "    tab_pivot = table[table['Poisoning Rate'] == RATE].pivot(index='Dataset', columns=['Attack'], values=['Test']).round(1)\n",
    "    tab_pivot.columns = [c[-1] for c in tab_pivot.columns.to_flat_index()]\n",
    "    tab_pivot = tab_pivot.reset_index()\n",
    "    tab_pivot = tab_pivot[['Dataset', 'rand_svm', 'poison_svm', 'alfa_svm', 'falfa_nn']]\n",
    "    tab_pivot.columns = ['Dataset', 'Rand', 'PoisSVM', 'ALFA', 'FALFA']\n",
    "    tab_pivot['Dataset'] = tab_pivot['Dataset'].map(NAME_MAP)\n",
    "    return tab_pivot"
   ]
  },
  {
   "cell_type": "code",
   "execution_count": 10,
   "metadata": {},
   "outputs": [],
   "source": [
    "df_diff = results.groupby(['Dataset', 'Poisoning Rate', 'Attack']).mean().reset_index()\n",
    "df_diff_SD = results.groupby(['Dataset', 'Poisoning Rate', 'Attack']).std().reset_index()"
   ]
  },
  {
   "cell_type": "code",
   "execution_count": 11,
   "metadata": {},
   "outputs": [],
   "source": [
    "pivot_diff = toPivot(df_diff)\n",
    "pivot_sd = toPivot(df_diff_SD)"
   ]
  },
  {
   "cell_type": "code",
   "execution_count": 12,
   "metadata": {},
   "outputs": [
    {
     "name": "stdout",
     "output_type": "stream",
     "text": [
      "\\begin{tabular}{lllll}\n",
      "\\toprule\n",
      "     Dataset &         Rand &      PoisSVM &         ALFA &        FALFA \\\\\n",
      "\\midrule\n",
      "     Abalone &  $0.8\\pm0.7$ &  $1.8\\pm0.8$ &  $9.5\\pm1.9$ &  $7.7\\pm1.7$ \\\\\n",
      "  Australian &  $0.7\\pm0.5$ &  $4.5\\pm3.9$ &  $4.9\\pm4.0$ &  $8.3\\pm3.8$ \\\\\n",
      "    Banknote &  $1.4\\pm2.3$ &  $1.1\\pm1.1$ & $10.9\\pm2.5$ & $10.3\\pm2.9$ \\\\\n",
      "Breastcancer &  $2.5\\pm0.7$ &  $5.3\\pm4.6$ &  $7.2\\pm2.0$ &  $9.1\\pm2.7$ \\\\\n",
      "         CMC & $-0.2\\pm0.7$ & $15.1\\pm4.7$ &  $3.5\\pm3.0$ &  $5.7\\pm3.3$ \\\\\n",
      "       HTRU2 &  $0.7\\pm0.3$ &  $0.7\\pm1.3$ &  $9.2\\pm3.1$ &  $9.4\\pm2.4$ \\\\\n",
      "     Phoneme &  $3.5\\pm2.9$ &  $0.9\\pm2.1$ &  $6.8\\pm0.7$ & $11.6\\pm2.1$ \\\\\n",
      "    Ringnorm &  $0.1\\pm0.3$ &  $1.7\\pm0.5$ &  $3.2\\pm2.5$ &  $6.4\\pm2.9$ \\\\\n",
      "     Texture &  $0.5\\pm1.1$ &  $1.2\\pm0.8$ &  $7.9\\pm4.6$ &  $4.9\\pm3.9$ \\\\\n",
      "       Yeast & $-0.2\\pm1.6$ &  $1.9\\pm3.8$ & $10.4\\pm4.9$ &  $2.3\\pm4.6$ \\\\\n",
      "\\bottomrule\n",
      "\\end{tabular}\n",
      "\n"
     ]
    }
   ],
   "source": [
    "output_pivot = pd.DataFrame()\n",
    "output_pivot['Dataset'] = pivot_diff['Dataset']\n",
    "output_pivot[['Rand', 'PoisSVM', 'ALFA', 'FALFA']] = '$' + pivot_diff[['Rand', 'PoisSVM', 'ALFA', 'FALFA']].astype(str) + '\\pm' + pivot_sd[['Rand', 'PoisSVM', 'ALFA', 'FALFA']].astype(str) + '$'\n",
    "print(output_pivot.to_latex(index=False, float_format='%.1f', multicolumn=True, escape=False))"
   ]
  },
  {
   "cell_type": "code",
   "execution_count": null,
   "metadata": {},
   "outputs": [],
   "source": []
  }
 ],
 "metadata": {
  "interpreter": {
   "hash": "8bcff36e631da1ef6cb25b63542a3f56d2322f7e3d69a7432caaf86f390cdb5a"
  },
  "kernelspec": {
   "display_name": "Python 3.8.10 64-bit ('torch': venv)",
   "language": "python",
   "name": "python3"
  },
  "language_info": {
   "codemirror_mode": {
    "name": "ipython",
    "version": 3
   },
   "file_extension": ".py",
   "mimetype": "text/x-python",
   "name": "python",
   "nbconvert_exporter": "python",
   "pygments_lexer": "ipython3",
   "version": "3.8.10"
  },
  "orig_nbformat": 4
 },
 "nbformat": 4,
 "nbformat_minor": 2
}

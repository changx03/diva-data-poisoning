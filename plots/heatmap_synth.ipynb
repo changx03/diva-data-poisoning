{
 "cells": [
  {
   "cell_type": "code",
   "execution_count": 1,
   "metadata": {},
   "outputs": [],
   "source": [
    "import os\n",
    "from pathlib import Path\n",
    "\n",
    "import matplotlib.pyplot as plt\n",
    "import numpy as np\n",
    "import pandas as pd\n",
    "import seaborn as sns\n",
    "from sklearn import linear_model, preprocessing\n",
    "from sklearn.metrics import RocCurveDisplay, auc, roc_curve, confusion_matrix\n",
    "from sklearn.model_selection import KFold\n",
    "from prettytable import PrettyTable"
   ]
  },
  {
   "cell_type": "code",
   "execution_count": 2,
   "metadata": {},
   "outputs": [
    {
     "name": "stdout",
     "output_type": "stream",
     "text": [
      "/home/lukec/workspace/label_flip_revised\n"
     ]
    }
   ],
   "source": [
    "PATH_ROOT = os.path.join(Path().absolute().parent)\n",
    "print(PATH_ROOT)"
   ]
  },
  {
   "cell_type": "code",
   "execution_count": 3,
   "metadata": {},
   "outputs": [
    {
     "data": {
      "text/html": [
       "<div>\n",
       "<style scoped>\n",
       "    .dataframe tbody tr th:only-of-type {\n",
       "        vertical-align: middle;\n",
       "    }\n",
       "\n",
       "    .dataframe tbody tr th {\n",
       "        vertical-align: top;\n",
       "    }\n",
       "\n",
       "    .dataframe thead th {\n",
       "        text-align: right;\n",
       "    }\n",
       "</style>\n",
       "<table border=\"1\" class=\"dataframe\">\n",
       "  <thead>\n",
       "    <tr style=\"text-align: right;\">\n",
       "      <th></th>\n",
       "      <th>Data</th>\n",
       "      <th>F1</th>\n",
       "      <th>F1 SD</th>\n",
       "      <th>F1v</th>\n",
       "      <th>F2</th>\n",
       "      <th>F3</th>\n",
       "      <th>F4</th>\n",
       "      <th>N1</th>\n",
       "      <th>N2</th>\n",
       "      <th>N2 SD</th>\n",
       "      <th>...</th>\n",
       "      <th>C2</th>\n",
       "      <th>Density</th>\n",
       "      <th>ClsCoef</th>\n",
       "      <th>Hubs</th>\n",
       "      <th>HubsSD</th>\n",
       "      <th>Rate</th>\n",
       "      <th>Filepath</th>\n",
       "      <th>Testpath</th>\n",
       "      <th>Train</th>\n",
       "      <th>Test</th>\n",
       "    </tr>\n",
       "  </thead>\n",
       "  <tbody>\n",
       "    <tr>\n",
       "      <th>0</th>\n",
       "      <td>f04_i02_r00_c01_w6_1</td>\n",
       "      <td>0.810730</td>\n",
       "      <td>0.372452</td>\n",
       "      <td>0.054200</td>\n",
       "      <td>0.334868</td>\n",
       "      <td>0.504</td>\n",
       "      <td>0.4245</td>\n",
       "      <td>0.030</td>\n",
       "      <td>0.200008</td>\n",
       "      <td>0.109163</td>\n",
       "      <td>...</td>\n",
       "      <td>0.077664</td>\n",
       "      <td>0.848518</td>\n",
       "      <td>0.406686</td>\n",
       "      <td>0.766283</td>\n",
       "      <td>0.302880</td>\n",
       "      <td>0.00</td>\n",
       "      <td>data/synth/alfa_nn/f04_i02_r00_c01_w6_1_clean_...</td>\n",
       "      <td>data/synth/test/f04_i02_r00_c01_w6_1_clean_tes...</td>\n",
       "      <td>0.985</td>\n",
       "      <td>0.994</td>\n",
       "    </tr>\n",
       "    <tr>\n",
       "      <th>1</th>\n",
       "      <td>f04_i02_r00_c01_w6_1</td>\n",
       "      <td>0.871642</td>\n",
       "      <td>0.236221</td>\n",
       "      <td>0.157394</td>\n",
       "      <td>0.478438</td>\n",
       "      <td>0.762</td>\n",
       "      <td>0.6860</td>\n",
       "      <td>0.082</td>\n",
       "      <td>0.262551</td>\n",
       "      <td>0.115698</td>\n",
       "      <td>...</td>\n",
       "      <td>0.020594</td>\n",
       "      <td>0.862773</td>\n",
       "      <td>0.400181</td>\n",
       "      <td>0.770124</td>\n",
       "      <td>0.299065</td>\n",
       "      <td>0.05</td>\n",
       "      <td>data/synth/alfa_nn/f04_i02_r00_c01_w6_1_nn_ALF...</td>\n",
       "      <td>data/synth/test/f04_i02_r00_c01_w6_1_clean_tes...</td>\n",
       "      <td>0.934</td>\n",
       "      <td>0.994</td>\n",
       "    </tr>\n",
       "    <tr>\n",
       "      <th>2</th>\n",
       "      <td>f04_i02_r00_c01_w6_1</td>\n",
       "      <td>0.898315</td>\n",
       "      <td>0.188025</td>\n",
       "      <td>0.250773</td>\n",
       "      <td>0.565290</td>\n",
       "      <td>0.690</td>\n",
       "      <td>0.6360</td>\n",
       "      <td>0.126</td>\n",
       "      <td>0.264643</td>\n",
       "      <td>0.140696</td>\n",
       "      <td>...</td>\n",
       "      <td>0.278243</td>\n",
       "      <td>0.865011</td>\n",
       "      <td>0.415929</td>\n",
       "      <td>0.642544</td>\n",
       "      <td>0.312808</td>\n",
       "      <td>0.10</td>\n",
       "      <td>data/synth/alfa_nn/f04_i02_r00_c01_w6_1_nn_ALF...</td>\n",
       "      <td>data/synth/test/f04_i02_r00_c01_w6_1_clean_tes...</td>\n",
       "      <td>0.889</td>\n",
       "      <td>0.932</td>\n",
       "    </tr>\n",
       "    <tr>\n",
       "      <th>3</th>\n",
       "      <td>f04_i02_r00_c01_w6_1</td>\n",
       "      <td>0.924654</td>\n",
       "      <td>0.092116</td>\n",
       "      <td>0.302377</td>\n",
       "      <td>0.436307</td>\n",
       "      <td>0.690</td>\n",
       "      <td>0.6140</td>\n",
       "      <td>0.115</td>\n",
       "      <td>0.279178</td>\n",
       "      <td>0.123644</td>\n",
       "      <td>...</td>\n",
       "      <td>0.019025</td>\n",
       "      <td>0.870060</td>\n",
       "      <td>0.382698</td>\n",
       "      <td>0.761814</td>\n",
       "      <td>0.292958</td>\n",
       "      <td>0.15</td>\n",
       "      <td>data/synth/alfa_nn/f04_i02_r00_c01_w6_1_nn_ALF...</td>\n",
       "      <td>data/synth/test/f04_i02_r00_c01_w6_1_clean_tes...</td>\n",
       "      <td>0.881</td>\n",
       "      <td>0.895</td>\n",
       "    </tr>\n",
       "    <tr>\n",
       "      <th>4</th>\n",
       "      <td>f04_i02_r00_c01_w6_1</td>\n",
       "      <td>0.932818</td>\n",
       "      <td>0.088960</td>\n",
       "      <td>0.343645</td>\n",
       "      <td>0.512272</td>\n",
       "      <td>0.631</td>\n",
       "      <td>0.5850</td>\n",
       "      <td>0.107</td>\n",
       "      <td>0.261546</td>\n",
       "      <td>0.134748</td>\n",
       "      <td>...</td>\n",
       "      <td>0.532007</td>\n",
       "      <td>0.863499</td>\n",
       "      <td>0.437701</td>\n",
       "      <td>0.639688</td>\n",
       "      <td>0.248479</td>\n",
       "      <td>0.20</td>\n",
       "      <td>data/synth/alfa_nn/f04_i02_r00_c01_w6_1_nn_ALF...</td>\n",
       "      <td>data/synth/test/f04_i02_r00_c01_w6_1_clean_tes...</td>\n",
       "      <td>0.831</td>\n",
       "      <td>0.694</td>\n",
       "    </tr>\n",
       "  </tbody>\n",
       "</table>\n",
       "<p>5 rows × 34 columns</p>\n",
       "</div>"
      ],
      "text/plain": [
       "                   Data        F1     F1 SD       F1v        F2     F3  \\\n",
       "0  f04_i02_r00_c01_w6_1  0.810730  0.372452  0.054200  0.334868  0.504   \n",
       "1  f04_i02_r00_c01_w6_1  0.871642  0.236221  0.157394  0.478438  0.762   \n",
       "2  f04_i02_r00_c01_w6_1  0.898315  0.188025  0.250773  0.565290  0.690   \n",
       "3  f04_i02_r00_c01_w6_1  0.924654  0.092116  0.302377  0.436307  0.690   \n",
       "4  f04_i02_r00_c01_w6_1  0.932818  0.088960  0.343645  0.512272  0.631   \n",
       "\n",
       "       F4     N1        N2     N2 SD  ...        C2   Density   ClsCoef  \\\n",
       "0  0.4245  0.030  0.200008  0.109163  ...  0.077664  0.848518  0.406686   \n",
       "1  0.6860  0.082  0.262551  0.115698  ...  0.020594  0.862773  0.400181   \n",
       "2  0.6360  0.126  0.264643  0.140696  ...  0.278243  0.865011  0.415929   \n",
       "3  0.6140  0.115  0.279178  0.123644  ...  0.019025  0.870060  0.382698   \n",
       "4  0.5850  0.107  0.261546  0.134748  ...  0.532007  0.863499  0.437701   \n",
       "\n",
       "       Hubs    HubsSD  Rate  \\\n",
       "0  0.766283  0.302880  0.00   \n",
       "1  0.770124  0.299065  0.05   \n",
       "2  0.642544  0.312808  0.10   \n",
       "3  0.761814  0.292958  0.15   \n",
       "4  0.639688  0.248479  0.20   \n",
       "\n",
       "                                            Filepath  \\\n",
       "0  data/synth/alfa_nn/f04_i02_r00_c01_w6_1_clean_...   \n",
       "1  data/synth/alfa_nn/f04_i02_r00_c01_w6_1_nn_ALF...   \n",
       "2  data/synth/alfa_nn/f04_i02_r00_c01_w6_1_nn_ALF...   \n",
       "3  data/synth/alfa_nn/f04_i02_r00_c01_w6_1_nn_ALF...   \n",
       "4  data/synth/alfa_nn/f04_i02_r00_c01_w6_1_nn_ALF...   \n",
       "\n",
       "                                            Testpath  Train   Test  \n",
       "0  data/synth/test/f04_i02_r00_c01_w6_1_clean_tes...  0.985  0.994  \n",
       "1  data/synth/test/f04_i02_r00_c01_w6_1_clean_tes...  0.934  0.994  \n",
       "2  data/synth/test/f04_i02_r00_c01_w6_1_clean_tes...  0.889  0.932  \n",
       "3  data/synth/test/f04_i02_r00_c01_w6_1_clean_tes...  0.881  0.895  \n",
       "4  data/synth/test/f04_i02_r00_c01_w6_1_clean_tes...  0.831  0.694  \n",
       "\n",
       "[5 rows x 34 columns]"
      ]
     },
     "execution_count": 3,
     "metadata": {},
     "output_type": "execute_result"
    }
   ],
   "source": [
    "df_cm = pd.read_csv(os.path.join(PATH_ROOT, 'results', 'synth_cmeasures_nn.csv'))\n",
    "df_cm = df_cm.sort_values(by=['Data', 'Rate'], ignore_index=True)\n",
    "df_cm.head()"
   ]
  },
  {
   "cell_type": "code",
   "execution_count": 4,
   "metadata": {},
   "outputs": [
    {
     "name": "stdout",
     "output_type": "stream",
     "text": [
      "(2697, 34)\n",
      "Index(['Data', 'F1', 'F1 SD', 'F1v', 'F2', 'F3', 'F4', 'N1', 'N2', 'N2 SD',\n",
      "       'N3 ', 'N3 SD', 'N4', 'N4 SD', 'T1', 'T1 SD', 'LSC', 'L1', 'L2', 'L3',\n",
      "       'T2', 'T3', 'T4', 'C1', 'C2', 'Density', 'ClsCoef', 'Hubs', 'HubsSD',\n",
      "       'Rate', 'Filepath', 'Testpath', 'Train', 'Test'],\n",
      "      dtype='object')\n"
     ]
    }
   ],
   "source": [
    "print(df_cm.shape)\n",
    "print(df_cm.columns)"
   ]
  },
  {
   "cell_type": "code",
   "execution_count": 5,
   "metadata": {},
   "outputs": [
    {
     "name": "stdout",
     "output_type": "stream",
     "text": [
      "Convert test set accuracy into ordinal data:\n",
      "Hard in [0.490, 0.658)\n",
      "Normal in [0.658, 0.826)\n",
      "Easy in [0.826, 0.994)\n"
     ]
    }
   ],
   "source": [
    "# Split datasets into 3 difficulties\n",
    "DIF_LEVELS = ['Hard', 'Normal', 'Easy']\n",
    "N_BINS = len(DIF_LEVELS)\n",
    "difficulty_mapping = {0: DIF_LEVELS[0], 1: DIF_LEVELS[1], 2: DIF_LEVELS[2]}\n",
    "\n",
    "encoder = preprocessing.KBinsDiscretizer(n_bins=N_BINS, encode='ordinal', strategy='uniform')\n",
    "acc_test_clean = df_cm[df_cm['Rate'] == 0]['Test'].to_numpy()\n",
    "ordinal_clean = encoder.fit_transform(acc_test_clean.reshape([-1, 1])).flatten().astype(int)\n",
    "\n",
    "print('Convert test set accuracy into ordinal data:')\n",
    "for i in range(N_BINS):\n",
    "    start = encoder.bin_edges_[0][i]\n",
    "    end = encoder.bin_edges_[0][i+1]\n",
    "    print('{} in [{:.3f}, {:.3f})'.format(DIF_LEVELS[i], start, end))"
   ]
  },
  {
   "cell_type": "code",
   "execution_count": 6,
   "metadata": {},
   "outputs": [
    {
     "data": {
      "text/plain": [
       "array([0.  , 0.05, 0.1 , 0.15, 0.2 , 0.25, 0.3 , 0.35, 0.4 ])"
      ]
     },
     "execution_count": 6,
     "metadata": {},
     "output_type": "execute_result"
    }
   ],
   "source": [
    "POISON_LVLS = np.round(np.arange(0, 0.41, 0.05, dtype=float), 2)\n",
    "POISON_LVLS"
   ]
  },
  {
   "cell_type": "code",
   "execution_count": 7,
   "metadata": {},
   "outputs": [],
   "source": [
    "datanames = df_cm[df_cm['Rate'] == 0]['Data'].to_numpy()\n",
    "df_cm['Difficulty'] = 0\n",
    "for data, dif in zip(datanames, ordinal_clean):\n",
    "    idx = df_cm[df_cm['Data'] == data].index\n",
    "    df_cm.loc[idx, ['Difficulty']] = dif\n",
    "\n",
    "df_cm['Difficulty'] = df_cm['Difficulty'].replace(difficulty_mapping)"
   ]
  },
  {
   "cell_type": "code",
   "execution_count": 8,
   "metadata": {},
   "outputs": [],
   "source": [
    "col_X = [\n",
    "    'F1', 'F1 SD', 'F1v', 'F2', 'F3', 'F4', 'N1', 'N2', 'N2 SD',\n",
    "    'N3 ', 'N3 SD', 'N4', 'N4 SD', 'T1', 'T1 SD', 'LSC', 'L1', 'L2', 'L3',\n",
    "    'T2', 'T3', 'T4', 'C1', 'C2', 'Density', 'ClsCoef', 'Hubs', 'HubsSD'\n",
    "]\n",
    "col_y = 'Test'"
   ]
  },
  {
   "cell_type": "code",
   "execution_count": 9,
   "metadata": {},
   "outputs": [],
   "source": [
    "alpha = 0.03\n",
    "N_FOLD = 5\n",
    "\n",
    "df_cm['prediction'] = 0\n",
    "\n",
    "# Split by clean data\n",
    "indices_clean = df_cm[df_cm['Rate'] == 0].index\n",
    "kf = KFold(n_splits=N_FOLD, shuffle=True)\n",
    "for i_train, i_test in kf.split(indices_clean):\n",
    "    idx_train_clean = indices_clean[i_train]\n",
    "    idx_test_clean = indices_clean[i_test]\n",
    "\n",
    "    data_train = df_cm.loc[idx_train_clean, 'Data']\n",
    "    data_test = df_cm.loc[idx_test_clean, 'Data']\n",
    "\n",
    "    idx_train = df_cm[df_cm['Data'].isin(data_train)].index\n",
    "    idx_test = df_cm[df_cm['Data'].isin(data_test)].index\n",
    "    assert len(idx_train) + len(idx_test) == df_cm.shape[0]\n",
    "\n",
    "    X_train = df_cm.loc[idx_train, col_X]\n",
    "    y_train = df_cm.loc[idx_train, col_y]\n",
    "    X_test = df_cm.loc[idx_test, col_X]\n",
    "    y_test = df_cm.loc[idx_test, col_y]\n",
    "\n",
    "    regressor = linear_model.Ridge(alpha=alpha)\n",
    "    regressor.fit(X_train, y_train)\n",
    "\n",
    "    df_cm.loc[idx_test, 'prediction'] = regressor.predict(X_test)"
   ]
  },
  {
   "cell_type": "code",
   "execution_count": 10,
   "metadata": {},
   "outputs": [
    {
     "data": {
      "image/png": "[encoded data removed]",
      "text/plain": [
       "<Figure size 360x360 with 1 Axes>"
      ]
     },
     "metadata": {
      "needs_background": "light"
     },
     "output_type": "display_data"
    }
   ],
   "source": [
    "THRESHOLD = 0.00\n",
    "\n",
    "FONTSIZE = 14\n",
    "FIGSIZE = (5, 5)\n",
    "\n",
    "plt.rcParams[\"font.size\"] = FONTSIZE\n",
    "fig, ax = plt.subplots(figsize=FIGSIZE)\n",
    "y_true_ = (df_cm['Rate'] > THRESHOLD).astype(int)\n",
    "y_score_ = np.abs(df_cm['prediction'] - df_cm['Train'])\n",
    "fpr, tpr, thresholds = roc_curve(y_true_, y_score_)\n",
    "roc_auc_ = auc(fpr, tpr)\n",
    "idx_t = np.argmax(np.sqrt((1 - fpr)**2 + tpr**2))\n",
    "threshold = thresholds[idx_t]\n",
    "roc_display = RocCurveDisplay(fpr=fpr, tpr=tpr, roc_auc=roc_auc_).plot(ax=ax)\n",
    "ax.vlines(threshold, 0, 1, linestyles='dotted', label='threshold', colors='green')\n",
    "plt.tight_layout()\n",
    "plt.show()"
   ]
  },
  {
   "cell_type": "code",
   "execution_count": 11,
   "metadata": {},
   "outputs": [
    {
     "name": "stdout",
     "output_type": "stream",
     "text": [
      "C-Measure threshold: 0.08291806717480343\n"
     ]
    }
   ],
   "source": [
    "print('C-Measure threshold:', threshold)"
   ]
  },
  {
   "cell_type": "code",
   "execution_count": 12,
   "metadata": {},
   "outputs": [],
   "source": [
    "results = np.abs(df_cm['prediction'] - df_cm['Train']) > threshold"
   ]
  },
  {
   "cell_type": "code",
   "execution_count": 13,
   "metadata": {},
   "outputs": [],
   "source": [
    "y_true = (df_cm['Rate'] > THRESHOLD).astype(int)\n",
    "confusion_mat = confusion_matrix(y_true, results)"
   ]
  },
  {
   "cell_type": "code",
   "execution_count": 14,
   "metadata": {},
   "outputs": [
    {
     "name": "stdout",
     "output_type": "stream",
     "text": [
      "  Difficulty  Rate  Label  Prediction\n",
      "0       Easy  0.00      0           0\n",
      "1       Easy  0.05      1           0\n",
      "2       Easy  0.10      1           1\n",
      "3       Easy  0.15      1           0\n",
      "4       Easy  0.20      1           1\n"
     ]
    }
   ],
   "source": [
    "df_ = df_cm[['Difficulty', 'Rate']].copy()\n",
    "df_['Label'] = y_true\n",
    "df_['Prediction'] = results.astype(int)\n",
    "print(df_.head())\n",
    "\n",
    "res_ = []\n",
    "names_row2 = []\n",
    "for d in DIF_LEVELS:\n",
    "    for r in POISON_LVLS:\n",
    "        names_row2.append('{} {}'.format(d, r))\n",
    "        row = []\n",
    "        for p in [0, 1]:\n",
    "            condition = (df_['Difficulty'] == d) & (df_['Rate'] == r) & (df_['Prediction'] == p)\n",
    "            row.append(df_[condition].shape[0])\n",
    "        res_.append(row)\n",
    "res_ = np.array(res_)\n",
    "res2 = np.zeros((len(res_), 3))\n",
    "res2[:,0] = res_[:,0]\n",
    "res2[:,1] = res_[:,1]\n",
    "res2[:,2] = res_.sum(axis=1)\n",
    "\n",
    "res2[:,0] = res2[:,0] / res2[:,2]\n",
    "res2[:,1] = res2[:,1] / res2[:,2]\n",
    "res2[:,2] = res2[:,2] / res2[:,2]\n",
    "res2 = np.round(res2, 2)"
   ]
  },
  {
   "cell_type": "code",
   "execution_count": 15,
   "metadata": {},
   "outputs": [
    {
     "name": "stdout",
     "output_type": "stream",
     "text": [
      "+-------------+------------+---------------+-------+\n",
      "|             | Pred Clean | Pred Poisoned | Total |\n",
      "+-------------+------------+---------------+-------+\n",
      "| Hard 0.0    |       0.96 |          0.04 |   1.0 |\n",
      "| Hard 0.05   |       0.68 |          0.32 |   1.0 |\n",
      "| Hard 0.1    |       0.56 |          0.44 |   1.0 |\n",
      "| Hard 0.15   |       0.07 |          0.93 |   1.0 |\n",
      "| Hard 0.2    |       0.13 |          0.87 |   1.0 |\n",
      "| Hard 0.25   |        0.0 |           1.0 |   1.0 |\n",
      "| Hard 0.3    |        0.0 |           1.0 |   1.0 |\n",
      "| Hard 0.35   |        0.0 |           1.0 |   1.0 |\n",
      "| Hard 0.4    |        0.0 |           1.0 |   1.0 |\n",
      "| Normal 0.0  |       0.89 |          0.11 |   1.0 |\n",
      "| Normal 0.05 |       0.39 |          0.61 |   1.0 |\n",
      "| Normal 0.1  |       0.84 |          0.16 |   1.0 |\n",
      "| Normal 0.15 |       0.46 |          0.54 |   1.0 |\n",
      "| Normal 0.2  |       0.05 |          0.95 |   1.0 |\n",
      "| Normal 0.25 |       0.01 |          0.99 |   1.0 |\n",
      "| Normal 0.3  |       0.01 |          0.99 |   1.0 |\n",
      "| Normal 0.35 |        0.0 |           1.0 |   1.0 |\n",
      "| Normal 0.4  |        0.0 |           1.0 |   1.0 |\n",
      "| Easy 0.0    |       0.82 |          0.18 |   1.0 |\n",
      "| Easy 0.05   |       0.68 |          0.32 |   1.0 |\n",
      "| Easy 0.1    |        0.4 |           0.6 |   1.0 |\n",
      "| Easy 0.15   |       0.42 |          0.57 |   1.0 |\n",
      "| Easy 0.2    |       0.05 |          0.95 |   1.0 |\n",
      "| Easy 0.25   |       0.12 |          0.88 |   1.0 |\n",
      "| Easy 0.3    |        0.0 |           1.0 |   1.0 |\n",
      "| Easy 0.35   |        0.0 |           1.0 |   1.0 |\n",
      "| Easy 0.4    |        0.0 |           1.0 |   1.0 |\n",
      "+-------------+------------+---------------+-------+\n"
     ]
    }
   ],
   "source": [
    "table = PrettyTable()\n",
    "table.add_column(fieldname='', column=names_row2, align='l')\n",
    "table.add_column(fieldname='Pred Clean', column=res2[:,0], align='r')\n",
    "table.add_column(fieldname='Pred Poisoned', column=res2[:,1], align='r')\n",
    "table.add_column(fieldname='Total', column=res2[:, 2], align='r')\n",
    "print(table)"
   ]
  },
  {
   "cell_type": "code",
   "execution_count": 16,
   "metadata": {},
   "outputs": [
    {
     "data": {
      "text/html": [
       "<div>\n",
       "<style scoped>\n",
       "    .dataframe tbody tr th:only-of-type {\n",
       "        vertical-align: middle;\n",
       "    }\n",
       "\n",
       "    .dataframe tbody tr th {\n",
       "        vertical-align: top;\n",
       "    }\n",
       "\n",
       "    .dataframe thead th {\n",
       "        text-align: right;\n",
       "    }\n",
       "</style>\n",
       "<table border=\"1\" class=\"dataframe\">\n",
       "  <thead>\n",
       "    <tr style=\"text-align: right;\">\n",
       "      <th></th>\n",
       "      <th>Poisoning Rate</th>\n",
       "      <th>Dataset Difficulty</th>\n",
       "      <th>Precision (PPV)</th>\n",
       "    </tr>\n",
       "  </thead>\n",
       "  <tbody>\n",
       "    <tr>\n",
       "      <th>0</th>\n",
       "      <td>0.00</td>\n",
       "      <td>Hard</td>\n",
       "      <td>0.04</td>\n",
       "    </tr>\n",
       "    <tr>\n",
       "      <th>1</th>\n",
       "      <td>0.05</td>\n",
       "      <td>Hard</td>\n",
       "      <td>0.32</td>\n",
       "    </tr>\n",
       "    <tr>\n",
       "      <th>2</th>\n",
       "      <td>0.10</td>\n",
       "      <td>Hard</td>\n",
       "      <td>0.44</td>\n",
       "    </tr>\n",
       "    <tr>\n",
       "      <th>3</th>\n",
       "      <td>0.15</td>\n",
       "      <td>Hard</td>\n",
       "      <td>0.93</td>\n",
       "    </tr>\n",
       "    <tr>\n",
       "      <th>4</th>\n",
       "      <td>0.20</td>\n",
       "      <td>Hard</td>\n",
       "      <td>0.87</td>\n",
       "    </tr>\n",
       "    <tr>\n",
       "      <th>5</th>\n",
       "      <td>0.25</td>\n",
       "      <td>Hard</td>\n",
       "      <td>1.00</td>\n",
       "    </tr>\n",
       "    <tr>\n",
       "      <th>6</th>\n",
       "      <td>0.30</td>\n",
       "      <td>Hard</td>\n",
       "      <td>1.00</td>\n",
       "    </tr>\n",
       "    <tr>\n",
       "      <th>7</th>\n",
       "      <td>0.35</td>\n",
       "      <td>Hard</td>\n",
       "      <td>1.00</td>\n",
       "    </tr>\n",
       "    <tr>\n",
       "      <th>8</th>\n",
       "      <td>0.40</td>\n",
       "      <td>Hard</td>\n",
       "      <td>1.00</td>\n",
       "    </tr>\n",
       "    <tr>\n",
       "      <th>9</th>\n",
       "      <td>0.00</td>\n",
       "      <td>Normal</td>\n",
       "      <td>0.11</td>\n",
       "    </tr>\n",
       "    <tr>\n",
       "      <th>10</th>\n",
       "      <td>0.05</td>\n",
       "      <td>Normal</td>\n",
       "      <td>0.61</td>\n",
       "    </tr>\n",
       "    <tr>\n",
       "      <th>11</th>\n",
       "      <td>0.10</td>\n",
       "      <td>Normal</td>\n",
       "      <td>0.16</td>\n",
       "    </tr>\n",
       "    <tr>\n",
       "      <th>12</th>\n",
       "      <td>0.15</td>\n",
       "      <td>Normal</td>\n",
       "      <td>0.54</td>\n",
       "    </tr>\n",
       "    <tr>\n",
       "      <th>13</th>\n",
       "      <td>0.20</td>\n",
       "      <td>Normal</td>\n",
       "      <td>0.95</td>\n",
       "    </tr>\n",
       "    <tr>\n",
       "      <th>14</th>\n",
       "      <td>0.25</td>\n",
       "      <td>Normal</td>\n",
       "      <td>0.99</td>\n",
       "    </tr>\n",
       "    <tr>\n",
       "      <th>15</th>\n",
       "      <td>0.30</td>\n",
       "      <td>Normal</td>\n",
       "      <td>0.99</td>\n",
       "    </tr>\n",
       "    <tr>\n",
       "      <th>16</th>\n",
       "      <td>0.35</td>\n",
       "      <td>Normal</td>\n",
       "      <td>1.00</td>\n",
       "    </tr>\n",
       "    <tr>\n",
       "      <th>17</th>\n",
       "      <td>0.40</td>\n",
       "      <td>Normal</td>\n",
       "      <td>1.00</td>\n",
       "    </tr>\n",
       "    <tr>\n",
       "      <th>18</th>\n",
       "      <td>0.00</td>\n",
       "      <td>Easy</td>\n",
       "      <td>0.18</td>\n",
       "    </tr>\n",
       "    <tr>\n",
       "      <th>19</th>\n",
       "      <td>0.05</td>\n",
       "      <td>Easy</td>\n",
       "      <td>0.32</td>\n",
       "    </tr>\n",
       "    <tr>\n",
       "      <th>20</th>\n",
       "      <td>0.10</td>\n",
       "      <td>Easy</td>\n",
       "      <td>0.60</td>\n",
       "    </tr>\n",
       "    <tr>\n",
       "      <th>21</th>\n",
       "      <td>0.15</td>\n",
       "      <td>Easy</td>\n",
       "      <td>0.57</td>\n",
       "    </tr>\n",
       "    <tr>\n",
       "      <th>22</th>\n",
       "      <td>0.20</td>\n",
       "      <td>Easy</td>\n",
       "      <td>0.95</td>\n",
       "    </tr>\n",
       "    <tr>\n",
       "      <th>23</th>\n",
       "      <td>0.25</td>\n",
       "      <td>Easy</td>\n",
       "      <td>0.88</td>\n",
       "    </tr>\n",
       "    <tr>\n",
       "      <th>24</th>\n",
       "      <td>0.30</td>\n",
       "      <td>Easy</td>\n",
       "      <td>1.00</td>\n",
       "    </tr>\n",
       "    <tr>\n",
       "      <th>25</th>\n",
       "      <td>0.35</td>\n",
       "      <td>Easy</td>\n",
       "      <td>1.00</td>\n",
       "    </tr>\n",
       "    <tr>\n",
       "      <th>26</th>\n",
       "      <td>0.40</td>\n",
       "      <td>Easy</td>\n",
       "      <td>1.00</td>\n",
       "    </tr>\n",
       "  </tbody>\n",
       "</table>\n",
       "</div>"
      ],
      "text/plain": [
       "    Poisoning Rate Dataset Difficulty  Precision (PPV)\n",
       "0             0.00               Hard             0.04\n",
       "1             0.05               Hard             0.32\n",
       "2             0.10               Hard             0.44\n",
       "3             0.15               Hard             0.93\n",
       "4             0.20               Hard             0.87\n",
       "5             0.25               Hard             1.00\n",
       "6             0.30               Hard             1.00\n",
       "7             0.35               Hard             1.00\n",
       "8             0.40               Hard             1.00\n",
       "9             0.00             Normal             0.11\n",
       "10            0.05             Normal             0.61\n",
       "11            0.10             Normal             0.16\n",
       "12            0.15             Normal             0.54\n",
       "13            0.20             Normal             0.95\n",
       "14            0.25             Normal             0.99\n",
       "15            0.30             Normal             0.99\n",
       "16            0.35             Normal             1.00\n",
       "17            0.40             Normal             1.00\n",
       "18            0.00               Easy             0.18\n",
       "19            0.05               Easy             0.32\n",
       "20            0.10               Easy             0.60\n",
       "21            0.15               Easy             0.57\n",
       "22            0.20               Easy             0.95\n",
       "23            0.25               Easy             0.88\n",
       "24            0.30               Easy             1.00\n",
       "25            0.35               Easy             1.00\n",
       "26            0.40               Easy             1.00"
      ]
     },
     "execution_count": 16,
     "metadata": {},
     "output_type": "execute_result"
    }
   ],
   "source": [
    "rates = np.tile(POISON_LVLS, reps=len(DIF_LEVELS))\n",
    "difficulties = np.repeat(DIF_LEVELS, repeats=len(POISON_LVLS))\n",
    "precision = res2[:,1]\n",
    "df_confusion_mat = pd.DataFrame({\n",
    "    'Poisoning Rate': rates,\n",
    "    'Dataset Difficulty': difficulties,\n",
    "    'Precision (PPV)': precision,\n",
    "})\n",
    "path_confusionmat = os.path.join(PATH_ROOT, 'results', 'synth_heatmap.csv')\n",
    "df_confusion_mat.to_csv(path_confusionmat, index=False)\n",
    "\n",
    "df_confusion_mat"
   ]
  },
  {
   "cell_type": "code",
   "execution_count": 17,
   "metadata": {},
   "outputs": [],
   "source": [
    "FONTSIZE = 14\n",
    "FIGSIZE = (5, 4)"
   ]
  },
  {
   "cell_type": "code",
   "execution_count": 18,
   "metadata": {},
   "outputs": [
    {
     "data": {
      "image/png": "[encoded data removed]",
      "text/plain": [
       "<Figure size 360x288 with 2 Axes>"
      ]
     },
     "metadata": {
      "needs_background": "light"
     },
     "output_type": "display_data"
    }
   ],
   "source": [
    "plt.rcParams[\"font.size\"] = FONTSIZE\n",
    "fig, ax = plt.subplots(figsize=FIGSIZE)\n",
    "df_pivot = df_confusion_mat.pivot('Poisoning Rate', 'Dataset Difficulty', 'Precision (PPV)')\n",
    "ax = sns.heatmap(df_pivot, ax=ax, annot=True, fmt='.2f', cmap=\"YlGn\")\n",
    "plt.yticks(rotation=0)\n",
    "plt.tight_layout()\n",
    "plot_output = os.path.join(PATH_ROOT, 'results', 'synth_heatmap.pdf')\n",
    "plt.savefig(plot_output, dpi=300)"
   ]
  },
  {
   "cell_type": "code",
   "execution_count": 19,
   "metadata": {},
   "outputs": [
    {
     "data": {
      "text/plain": [
       "Index(['Poisoning Rate', 'Dataset Difficulty', 'Precision (PPV)'], dtype='object')"
      ]
     },
     "execution_count": 19,
     "metadata": {},
     "output_type": "execute_result"
    }
   ],
   "source": [
    "df_confusion_mat.columns"
   ]
  },
  {
   "cell_type": "code",
   "execution_count": 20,
   "metadata": {},
   "outputs": [],
   "source": [
    "## Load results from other workspaces\n",
    "# filename = 'synth_heatmap.csv'\n",
    "\n",
    "# workspace_names = [f'label_flip_revised_{i:02d}' for i in range(2, 6)]\n",
    "# dfs = [df_confusion_mat]\n",
    "# for w in workspace_names:\n",
    "#     df_temp = pd.read_csv(os.path.join(PATH_ROOT.parent, w, 'results', filename))\n",
    "#     dfs.append(df_temp)\n",
    "\n",
    "## Only test 2 experiments\n",
    "# workspace = 'label_flip_revised_02'\n",
    "# df_confusion_mat2 = pd.read_csv(os.path.join(PATH_ROOT.parent, workspace, 'results', filename))\n",
    "# dfs = [df_confusion_mat, df_confusion_mat2]\n",
    "\n",
    "# df = pd.concat(dfs)\n",
    "# df = df.groupby(['Poisoning Rate', 'Dataset Difficulty']).mean()\n",
    "# df = df.reset_index()\n",
    "\n",
    "# df"
   ]
  },
  {
   "cell_type": "code",
   "execution_count": 21,
   "metadata": {},
   "outputs": [],
   "source": [
    "# plt.rcParams[\"font.size\"] = FONTSIZE\n",
    "# fig, ax = plt.subplots(figsize=FIGSIZE)\n",
    "# df_pivot = df.pivot('Poisoning Rate', 'Dataset Difficulty', 'Precision (PPV)')\n",
    "# ax = sns.heatmap(df_pivot, ax=ax, annot=True, fmt='.2f', cmap=\"YlGn\")\n",
    "# plt.yticks(rotation=0)\n",
    "# plt.tight_layout()\n",
    "# plot_output = os.path.join(PATH_ROOT, 'results', 'synth_heatmap.pdf')\n",
    "# plt.savefig(plot_output, dpi=300)"
   ]
  }
 ],
 "metadata": {
  "interpreter": {
   "hash": "8bcff36e631da1ef6cb25b63542a3f56d2322f7e3d69a7432caaf86f390cdb5a"
  },
  "kernelspec": {
   "display_name": "Python 3.8.10 64-bit ('torch': venv)",
   "language": "python",
   "name": "python3"
  },
  "language_info": {
   "codemirror_mode": {
    "name": "ipython",
    "version": 3
   },
   "file_extension": ".py",
   "mimetype": "text/x-python",
   "name": "python",
   "nbconvert_exporter": "python",
   "pygments_lexer": "ipython3",
   "version": "3.8.10"
  },
  "orig_nbformat": 4
 },
 "nbformat": 4,
 "nbformat_minor": 2
}

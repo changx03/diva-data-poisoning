{
 "cells": [
  {
   "attachments": {},
   "cell_type": "markdown",
   "metadata": {},
   "source": [
    "# Plot \"flfa_acc\" figure\n",
    "\n",
    "- Load results from './results_plot/fig_flfa_acc_*.csv'\n",
    "- Requires 3 CSV files in total `['texture', 'australian', 'yeast']`\n",
    "- **[Warning]:** The font \"Times New Roman\" is only supported in Microsoft Windows OS!"
   ]
  },
  {
   "cell_type": "code",
   "execution_count": 1,
   "metadata": {},
   "outputs": [],
   "source": [
    "import os\n",
    "from pathlib import Path\n",
    "from glob import glob\n",
    "\n",
    "import numpy as np\n",
    "import pandas as pd\n",
    "import matplotlib.pyplot as plt\n",
    "import seaborn as sns\n",
    "\n",
    "from matplotlib.lines import Line2D\n",
    "from matplotlib.patches import Patch\n"
   ]
  },
  {
   "cell_type": "code",
   "execution_count": 2,
   "metadata": {},
   "outputs": [
    {
     "name": "stdout",
     "output_type": "stream",
     "text": [
      "c:\\Users\\lukex\\workspace\\diva_01\n",
      "c:\\Users\\lukex\\workspace\\diva_01\\results_plot\n"
     ]
    }
   ],
   "source": [
    "PATH_ROOT = Path(os.getcwd()).absolute().parent\n",
    "print(PATH_ROOT)\n",
    "PATH_OUTPUT = os.path.join(PATH_ROOT, \"results_plot\")\n",
    "print(PATH_OUTPUT)\n"
   ]
  },
  {
   "cell_type": "code",
   "execution_count": 3,
   "metadata": {},
   "outputs": [
    {
     "data": {
      "text/html": [
       "<div>\n",
       "<style scoped>\n",
       "    .dataframe tbody tr th:only-of-type {\n",
       "        vertical-align: middle;\n",
       "    }\n",
       "\n",
       "    .dataframe tbody tr th {\n",
       "        vertical-align: top;\n",
       "    }\n",
       "\n",
       "    .dataframe thead th {\n",
       "        text-align: right;\n",
       "    }\n",
       "</style>\n",
       "<table border=\"1\" class=\"dataframe\">\n",
       "  <thead>\n",
       "    <tr style=\"text-align: right;\">\n",
       "      <th></th>\n",
       "      <th>Attack</th>\n",
       "      <th>Rate</th>\n",
       "      <th>Set</th>\n",
       "      <th>Accuracy</th>\n",
       "    </tr>\n",
       "  </thead>\n",
       "  <tbody>\n",
       "    <tr>\n",
       "      <th>0</th>\n",
       "      <td>rand_svm</td>\n",
       "      <td>0.00</td>\n",
       "      <td>Test.Poison</td>\n",
       "      <td>1.00000</td>\n",
       "    </tr>\n",
       "    <tr>\n",
       "      <th>1</th>\n",
       "      <td>rand_svm</td>\n",
       "      <td>0.05</td>\n",
       "      <td>Test.Poison</td>\n",
       "      <td>0.99800</td>\n",
       "    </tr>\n",
       "    <tr>\n",
       "      <th>2</th>\n",
       "      <td>rand_svm</td>\n",
       "      <td>0.10</td>\n",
       "      <td>Test.Poison</td>\n",
       "      <td>0.99500</td>\n",
       "    </tr>\n",
       "    <tr>\n",
       "      <th>3</th>\n",
       "      <td>rand_svm</td>\n",
       "      <td>0.15</td>\n",
       "      <td>Test.Poison</td>\n",
       "      <td>0.98900</td>\n",
       "    </tr>\n",
       "    <tr>\n",
       "      <th>4</th>\n",
       "      <td>rand_svm</td>\n",
       "      <td>0.20</td>\n",
       "      <td>Test.Poison</td>\n",
       "      <td>0.97900</td>\n",
       "    </tr>\n",
       "    <tr>\n",
       "      <th>...</th>\n",
       "      <td>...</td>\n",
       "      <td>...</td>\n",
       "      <td>...</td>\n",
       "      <td>...</td>\n",
       "    </tr>\n",
       "    <tr>\n",
       "      <th>63</th>\n",
       "      <td>falfa_nn</td>\n",
       "      <td>0.20</td>\n",
       "      <td>Train.Poison</td>\n",
       "      <td>0.94350</td>\n",
       "    </tr>\n",
       "    <tr>\n",
       "      <th>64</th>\n",
       "      <td>falfa_nn</td>\n",
       "      <td>0.25</td>\n",
       "      <td>Train.Poison</td>\n",
       "      <td>0.96775</td>\n",
       "    </tr>\n",
       "    <tr>\n",
       "      <th>65</th>\n",
       "      <td>falfa_nn</td>\n",
       "      <td>0.30</td>\n",
       "      <td>Train.Poison</td>\n",
       "      <td>0.95150</td>\n",
       "    </tr>\n",
       "    <tr>\n",
       "      <th>66</th>\n",
       "      <td>falfa_nn</td>\n",
       "      <td>0.35</td>\n",
       "      <td>Train.Poison</td>\n",
       "      <td>0.98000</td>\n",
       "    </tr>\n",
       "    <tr>\n",
       "      <th>67</th>\n",
       "      <td>falfa_nn</td>\n",
       "      <td>0.40</td>\n",
       "      <td>Train.Poison</td>\n",
       "      <td>0.98125</td>\n",
       "    </tr>\n",
       "  </tbody>\n",
       "</table>\n",
       "<p>68 rows × 4 columns</p>\n",
       "</div>"
      ],
      "text/plain": [
       "      Attack  Rate           Set  Accuracy\n",
       "0   rand_svm  0.00   Test.Poison   1.00000\n",
       "1   rand_svm  0.05   Test.Poison   0.99800\n",
       "2   rand_svm  0.10   Test.Poison   0.99500\n",
       "3   rand_svm  0.15   Test.Poison   0.98900\n",
       "4   rand_svm  0.20   Test.Poison   0.97900\n",
       "..       ...   ...           ...       ...\n",
       "63  falfa_nn  0.20  Train.Poison   0.94350\n",
       "64  falfa_nn  0.25  Train.Poison   0.96775\n",
       "65  falfa_nn  0.30  Train.Poison   0.95150\n",
       "66  falfa_nn  0.35  Train.Poison   0.98000\n",
       "67  falfa_nn  0.40  Train.Poison   0.98125\n",
       "\n",
       "[68 rows x 4 columns]"
      ]
     },
     "execution_count": 3,
     "metadata": {},
     "output_type": "execute_result"
    }
   ],
   "source": [
    "# Load results\n",
    "file_names = [f'fig_flfa_acc_{data_name}.csv' for data_name in ['texture', 'australian', 'yeast']]\n",
    "dfs = []\n",
    "for file_name in file_names:\n",
    "    _df = pd.read_csv(os.path.join(PATH_OUTPUT, file_name))\n",
    "    dfs.append(_df)\n",
    "\n",
    "dfs[0]\n"
   ]
  },
  {
   "cell_type": "code",
   "execution_count": 4,
   "metadata": {},
   "outputs": [
    {
     "data": {
      "text/html": [
       "<svg  width=\"220\" height=\"55\"><rect x=\"0\" y=\"0\" width=\"55\" height=\"55\" style=\"fill:#a9a9a9;stroke-width:2;stroke:rgb(255,255,255)\"/><rect x=\"55\" y=\"0\" width=\"55\" height=\"55\" style=\"fill:#2e7d32;stroke-width:2;stroke:rgb(255,255,255)\"/><rect x=\"110\" y=\"0\" width=\"55\" height=\"55\" style=\"fill:#1976d2;stroke-width:2;stroke:rgb(255,255,255)\"/><rect x=\"165\" y=\"0\" width=\"55\" height=\"55\" style=\"fill:#d32f2f;stroke-width:2;stroke:rgb(255,255,255)\"/></svg>"
      ],
      "text/plain": [
       "[(0.6627450980392157, 0.6627450980392157, 0.6627450980392157),\n",
       " (0.1803921568627451, 0.49019607843137253, 0.19607843137254902),\n",
       " (0.09803921568627451, 0.4627450980392157, 0.8235294117647058),\n",
       " (0.8274509803921568, 0.1843137254901961, 0.1843137254901961)]"
      ]
     },
     "execution_count": 4,
     "metadata": {},
     "output_type": "execute_result"
    }
   ],
   "source": [
    "COLOR_MAP = {\n",
    "    'rand_svm': 'darkgrey',\n",
    "    'alfa_svm': '#2e7d32',\n",
    "    'poison_svm': '#1976d2',\n",
    "    'falfa_nn': '#d32f2f',\n",
    "    #  'Train.Poison': '#1b1b1b',\n",
    "    #  'Test.Poison': '#1b1b1b',\n",
    "}\n",
    "\n",
    "my_palette = sns.color_palette(COLOR_MAP.values())\n",
    "my_palette\n"
   ]
  },
  {
   "cell_type": "code",
   "execution_count": 5,
   "metadata": {},
   "outputs": [],
   "source": [
    "FONTSIZE = 13\n",
    "FIGSIZE = (9, 2.5)\n",
    "LINEWIDTH = 2.5\n",
    "TITLES = [\n",
    "    '(a) Texture (Easy)',\n",
    "    '(b) Australian (Normal)',\n",
    "    '(c) Yeast (Hard)',\n",
    "]\n",
    "ATTACKS = ['rand_svm', 'alfa_svm', 'poison_svm', 'falfa_nn']"
   ]
  },
  {
   "cell_type": "code",
   "execution_count": 6,
   "metadata": {},
   "outputs": [],
   "source": [
    "def draw_subplot(df_fig, title, ax):\n",
    "    line_style = ['Train' if val == 'Train.Poison' else 'Test' for val in df_fig['Set']]\n",
    "    sns.lineplot(data=df_fig,\n",
    "                 x='Rate',\n",
    "                 y='Accuracy',\n",
    "                 hue='Attack',\n",
    "                 ax=ax,\n",
    "                 style=line_style,\n",
    "                 legend='brief',\n",
    "                 alpha=0.8,\n",
    "                 palette=my_palette,\n",
    "                 linewidth=LINEWIDTH,\n",
    "                 dashes=True)\n",
    "\n",
    "    ax.set(xlim=[-0.02, 0.42], ylim=[0.35, 1.05])\n",
    "    ax.set_title(title, y=0, pad=-45, verticalalignment=\"top\")\n",
    "    ax.set_xlabel('Poisoning Rate')\n",
    "    ax.set_ylabel('Accuracy')\n",
    "    ax.set_xticks(np.linspace(0, 0.40, num=5, endpoint=True))\n",
    "    ax.set_yticks(np.linspace(0.40, 1.00, num=5, endpoint=True))\n",
    "    ax.get_legend().remove()\n"
   ]
  },
  {
   "cell_type": "code",
   "execution_count": 7,
   "metadata": {},
   "outputs": [
    {
     "name": "stdout",
     "output_type": "stream",
     "text": [
      "Save plot to c:\\Users\\lukex\\workspace\\diva_01\\results_plot\\flfa_acc.pdf\n"
     ]
    },
    {
     "data": {
      "image/png": "[encoded data removed]",
      "text/plain": [
       "<Figure size 648x180 with 3 Axes>"
      ]
     },
     "metadata": {
      "needs_background": "light"
     },
     "output_type": "display_data"
    }
   ],
   "source": [
    "plt.rcParams[\"font.family\"] = \"Times New Roman\"\n",
    "plt.rcParams[\"font.size\"] = FONTSIZE\n",
    "fig, axs = plt.subplots(1, 3, sharey=True, sharex=True, figsize=FIGSIZE)\n",
    "_axs = []\n",
    "for i in range(3):\n",
    "    _axs.append(axs[i])\n",
    "    df_fig = dfs[i]\n",
    "    title = TITLES[i]\n",
    "    draw_subplot(df_fig, title, axs[i])\n",
    "\n",
    "custom_lines = [\n",
    "    Line2D([0], [0], color='black', lw=LINEWIDTH, label='Training Acc.', linestyle='dashed'),\n",
    "    Line2D([0], [0], color='black', lw=LINEWIDTH, label='Testing Acc.'),\n",
    "    Patch(facecolor=COLOR_MAP['falfa_nn'], label='FALFA'),\n",
    "    Patch(facecolor=COLOR_MAP['alfa_svm'], label='ALFA'),\n",
    "    Patch(facecolor=COLOR_MAP['poison_svm'], label='PoisSVM'),\n",
    "    Patch(facecolor=COLOR_MAP['rand_svm'], label='Noise (SLN)')\n",
    "]\n",
    "\n",
    "fig.legend(handles=custom_lines, bbox_to_anchor=(1, 1), loc=\"upper left\", frameon=False)\n",
    "\n",
    "plt.tight_layout(pad=0.3)\n",
    "path_fig_out = os.path.join(PATH_OUTPUT, 'flfa_acc.pdf', )\n",
    "plt.savefig(path_fig_out, dpi=300, bbox_inches='tight')\n",
    "print(f'Save plot to {path_fig_out}')\n"
   ]
  },
  {
   "cell_type": "code",
   "execution_count": null,
   "metadata": {},
   "outputs": [],
   "source": []
  }
 ],
 "metadata": {
  "interpreter": {
   "hash": "8bcff36e631da1ef6cb25b63542a3f56d2322f7e3d69a7432caaf86f390cdb5a"
  },
  "kernelspec": {
   "display_name": "Python 3 (ipykernel)",
   "language": "python",
   "name": "python3"
  },
  "language_info": {
   "codemirror_mode": {
    "name": "ipython",
    "version": 3
   },
   "file_extension": ".py",
   "mimetype": "text/x-python",
   "name": "python",
   "nbconvert_exporter": "python",
   "pygments_lexer": "ipython3",
   "version": "3.8.16"
  }
 },
 "nbformat": 4,
 "nbformat_minor": 2
}

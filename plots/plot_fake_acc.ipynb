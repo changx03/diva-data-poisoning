{
 "cells": [
  {
   "attachments": {},
   "cell_type": "markdown",
   "metadata": {},
   "source": [
    "# Plot the \"theoretical performance\" figure\n",
    "\n",
    "- Load table from './results_plot/fig_fake_acc.csv'\n",
    "- **[Warning]:** The font \"Times New Roman\" is only supported in Microsoft Windows OS!"
   ]
  },
  {
   "cell_type": "code",
   "execution_count": 1,
   "metadata": {},
   "outputs": [],
   "source": [
    "import os\n",
    "from pathlib import Path\n",
    "\n",
    "import numpy as np\n",
    "import pandas as pd\n",
    "import matplotlib.pyplot as plt\n",
    "import seaborn as sns\n",
    "from scipy import interpolate\n",
    "\n",
    "from label_flip_revised.utils import create_dir\n"
   ]
  },
  {
   "cell_type": "code",
   "execution_count": 2,
   "metadata": {},
   "outputs": [
    {
     "name": "stdout",
     "output_type": "stream",
     "text": [
      "/home/lukec/workspace/diva_01\n"
     ]
    }
   ],
   "source": [
    "PATH_ROOT = Path(os.getcwd()).absolute().parent\n",
    "print(PATH_ROOT)\n"
   ]
  },
  {
   "cell_type": "code",
   "execution_count": 3,
   "metadata": {},
   "outputs": [
    {
     "name": "stdout",
     "output_type": "stream",
     "text": [
      "/home/lukec/workspace/diva_01/results_plot\n"
     ]
    }
   ],
   "source": [
    "PATH_OUTPUT = os.path.join(PATH_ROOT, \"results_plot\")\n",
    "print(PATH_OUTPUT)\n",
    "create_dir(PATH_OUTPUT)\n"
   ]
  },
  {
   "cell_type": "code",
   "execution_count": 4,
   "metadata": {},
   "outputs": [
    {
     "data": {
      "text/html": [
       "<div>\n",
       "<style scoped>\n",
       "    .dataframe tbody tr th:only-of-type {\n",
       "        vertical-align: middle;\n",
       "    }\n",
       "\n",
       "    .dataframe tbody tr th {\n",
       "        vertical-align: top;\n",
       "    }\n",
       "\n",
       "    .dataframe thead th {\n",
       "        text-align: right;\n",
       "    }\n",
       "</style>\n",
       "<table border=\"1\" class=\"dataframe\">\n",
       "  <thead>\n",
       "    <tr style=\"text-align: right;\">\n",
       "      <th></th>\n",
       "      <th>x</th>\n",
       "      <th>y_train_a</th>\n",
       "      <th>y_test_a</th>\n",
       "      <th>y_train_b</th>\n",
       "      <th>y_test_b</th>\n",
       "    </tr>\n",
       "  </thead>\n",
       "  <tbody>\n",
       "    <tr>\n",
       "      <th>0</th>\n",
       "      <td>0.000</td>\n",
       "      <td>0.95</td>\n",
       "      <td>0.949</td>\n",
       "      <td>0.501</td>\n",
       "      <td>0.5</td>\n",
       "    </tr>\n",
       "    <tr>\n",
       "      <th>1</th>\n",
       "      <td>0.004</td>\n",
       "      <td>0.95</td>\n",
       "      <td>0.932</td>\n",
       "      <td>0.518</td>\n",
       "      <td>0.5</td>\n",
       "    </tr>\n",
       "    <tr>\n",
       "      <th>2</th>\n",
       "      <td>0.008</td>\n",
       "      <td>0.95</td>\n",
       "      <td>0.915</td>\n",
       "      <td>0.535</td>\n",
       "      <td>0.5</td>\n",
       "    </tr>\n",
       "    <tr>\n",
       "      <th>3</th>\n",
       "      <td>0.012</td>\n",
       "      <td>0.95</td>\n",
       "      <td>0.899</td>\n",
       "      <td>0.551</td>\n",
       "      <td>0.5</td>\n",
       "    </tr>\n",
       "    <tr>\n",
       "      <th>4</th>\n",
       "      <td>0.016</td>\n",
       "      <td>0.95</td>\n",
       "      <td>0.884</td>\n",
       "      <td>0.566</td>\n",
       "      <td>0.5</td>\n",
       "    </tr>\n",
       "    <tr>\n",
       "      <th>...</th>\n",
       "      <td>...</td>\n",
       "      <td>...</td>\n",
       "      <td>...</td>\n",
       "      <td>...</td>\n",
       "      <td>...</td>\n",
       "    </tr>\n",
       "    <tr>\n",
       "      <th>95</th>\n",
       "      <td>0.384</td>\n",
       "      <td>0.95</td>\n",
       "      <td>0.510</td>\n",
       "      <td>0.940</td>\n",
       "      <td>0.5</td>\n",
       "    </tr>\n",
       "    <tr>\n",
       "      <th>96</th>\n",
       "      <td>0.388</td>\n",
       "      <td>0.95</td>\n",
       "      <td>0.509</td>\n",
       "      <td>0.941</td>\n",
       "      <td>0.5</td>\n",
       "    </tr>\n",
       "    <tr>\n",
       "      <th>97</th>\n",
       "      <td>0.392</td>\n",
       "      <td>0.95</td>\n",
       "      <td>0.509</td>\n",
       "      <td>0.941</td>\n",
       "      <td>0.5</td>\n",
       "    </tr>\n",
       "    <tr>\n",
       "      <th>98</th>\n",
       "      <td>0.396</td>\n",
       "      <td>0.95</td>\n",
       "      <td>0.509</td>\n",
       "      <td>0.941</td>\n",
       "      <td>0.5</td>\n",
       "    </tr>\n",
       "    <tr>\n",
       "      <th>99</th>\n",
       "      <td>0.400</td>\n",
       "      <td>0.95</td>\n",
       "      <td>0.508</td>\n",
       "      <td>0.942</td>\n",
       "      <td>0.5</td>\n",
       "    </tr>\n",
       "  </tbody>\n",
       "</table>\n",
       "<p>100 rows × 5 columns</p>\n",
       "</div>"
      ],
      "text/plain": [
       "        x  y_train_a  y_test_a  y_train_b  y_test_b\n",
       "0   0.000       0.95     0.949      0.501       0.5\n",
       "1   0.004       0.95     0.932      0.518       0.5\n",
       "2   0.008       0.95     0.915      0.535       0.5\n",
       "3   0.012       0.95     0.899      0.551       0.5\n",
       "4   0.016       0.95     0.884      0.566       0.5\n",
       "..    ...        ...       ...        ...       ...\n",
       "95  0.384       0.95     0.510      0.940       0.5\n",
       "96  0.388       0.95     0.509      0.941       0.5\n",
       "97  0.392       0.95     0.509      0.941       0.5\n",
       "98  0.396       0.95     0.509      0.941       0.5\n",
       "99  0.400       0.95     0.508      0.942       0.5\n",
       "\n",
       "[100 rows x 5 columns]"
      ]
     },
     "execution_count": 4,
     "metadata": {},
     "output_type": "execute_result"
    }
   ],
   "source": [
    "df = pd.read_csv(os.path.join(PATH_OUTPUT, 'fig_fake_acc.csv'))\n",
    "df"
   ]
  },
  {
   "cell_type": "code",
   "execution_count": 5,
   "metadata": {},
   "outputs": [],
   "source": [
    "FONTSIZE = 13 / 0.8\n",
    "FIGSIZE = (6, 2)\n",
    "LINEWIDTH = 2.5 / 0.8\n",
    "\n",
    "colors = {\n",
    "    \"red\": \"#d32f2f\",\n",
    "    \"blue\": \"#1976d2\",\n",
    "}\n",
    "\n",
    "def draw_lineplot(x_train, y_train, x_test, y_test, title, ax):\n",
    "    ax.plot(\n",
    "        x_train,\n",
    "        y_train,\n",
    "        label=\"Poisoned Train\",\n",
    "        linestyle=\"--\",\n",
    "        linewidth=LINEWIDTH,\n",
    "        c=colors[\"blue\"],\n",
    "    )\n",
    "    ax.plot(x_test, y_test, label=\"Clean Test\", linewidth=LINEWIDTH, c=colors[\"red\"])\n",
    "    ax.set(xlim=[-0.02, 0.42], ylim=[0.45, 1.05])\n",
    "    ax.set_xticks(np.linspace(0, 0.40, num=5, endpoint=True))\n",
    "    ax.set_yticks([0.50, 0.75, 1.00])\n",
    "    ax.axes.yaxis.set_ticklabels([])\n",
    "    ax.set_title(\n",
    "        title,\n",
    "        y=0, pad=-45, verticalalignment=\"top\"\n",
    "    )\n",
    "    ax.set_xlabel(\"Poisoning Rate\")"
   ]
  },
  {
   "cell_type": "code",
   "execution_count": 6,
   "metadata": {},
   "outputs": [
    {
     "name": "stderr",
     "output_type": "stream",
     "text": [
      "findfont: Font family ['Times New Roman'] not found. Falling back to DejaVu Sans.\n",
      "findfont: Font family ['Times New Roman'] not found. Falling back to DejaVu Sans.\n"
     ]
    },
    {
     "name": "stdout",
     "output_type": "stream",
     "text": [
      "Save to: /home/lukec/workspace/diva_01/fake_acc.pdf\n"
     ]
    },
    {
     "data": {
      "image/png": "[encoded data removed]",
      "text/plain": [
       "<Figure size 432x144 with 2 Axes>"
      ]
     },
     "metadata": {
      "needs_background": "light"
     },
     "output_type": "display_data"
    }
   ],
   "source": [
    "plt.rcParams[\"font.family\"] = \"Times New Roman\"\n",
    "plt.rcParams[\"font.size\"] = FONTSIZE\n",
    "fig, axs = plt.subplots(1, 2, sharey=True, sharex=True, figsize=FIGSIZE)\n",
    "\n",
    "axs[0].set_ylabel(\"Accuracy\")\n",
    "draw_lineplot(df['x'], df['y_train_a'], df['x'], df['y_test_a'], \"(a) Easy Dataset\", axs[0])\n",
    "draw_lineplot(df['x'], df['y_train_b'], df['x'], df['y_test_b'], \"(b) Hard Dataset\", axs[1])\n",
    "\n",
    "(lines, labels) = axs[0].get_legend_handles_labels()\n",
    "fig.legend(lines, labels, bbox_to_anchor=(1, 1), loc=\"upper left\", frameon=False)\n",
    "fig.tight_layout(pad=0.3, w_pad=3)\n",
    "\n",
    "path_fig = os.path.join(\n",
    "    PATH_ROOT,\n",
    "    \"fake_acc.pdf\",\n",
    ")\n",
    "plt.savefig(path_fig, dpi=300, bbox_inches=\"tight\")\n",
    "print(f\"Save to: {path_fig}\")"
   ]
  },
  {
   "cell_type": "code",
   "execution_count": null,
   "metadata": {},
   "outputs": [],
   "source": []
  }
 ],
 "metadata": {
  "kernelspec": {
   "display_name": "Python 3.8.10 ('venv': venv)",
   "language": "python",
   "name": "python3"
  },
  "language_info": {
   "codemirror_mode": {
    "name": "ipython",
    "version": 3
   },
   "file_extension": ".py",
   "mimetype": "text/x-python",
   "name": "python",
   "nbconvert_exporter": "python",
   "pygments_lexer": "ipython3",
   "version": "3.8.10"
  },
  "orig_nbformat": 4,
  "vscode": {
   "interpreter": {
    "hash": "14a78747280fbbbcd2c216d7ac55361a92dd2b0925fb158d072af80087748cfe"
   }
  }
 },
 "nbformat": 4,
 "nbformat_minor": 2
}

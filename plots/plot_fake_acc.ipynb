{
 "cells": [
  {
   "cell_type": "code",
   "execution_count": 1,
   "metadata": {},
   "outputs": [],
   "source": [
    "import os\n",
    "from pathlib import Path\n",
    "\n",
    "import numpy as np\n",
    "import pandas as pd\n",
    "import matplotlib.pyplot as plt\n",
    "import seaborn as sns\n",
    "from scipy import interpolate\n",
    "\n",
    "from label_flip_revised.utils import create_dir\n"
   ]
  },
  {
   "cell_type": "code",
   "execution_count": 2,
   "metadata": {},
   "outputs": [
    {
     "name": "stdout",
     "output_type": "stream",
     "text": [
      "c:\\Users\\lukex\\workspace\\diva-data-poisoning\n"
     ]
    }
   ],
   "source": [
    "PATH_ROOT = Path(os.getcwd()).absolute().parent\n",
    "print(PATH_ROOT)\n"
   ]
  },
  {
   "cell_type": "code",
   "execution_count": 3,
   "metadata": {},
   "outputs": [
    {
     "name": "stdout",
     "output_type": "stream",
     "text": [
      "c:\\Users\\lukex\\workspace\\diva-data-poisoning\\results_plot\n"
     ]
    }
   ],
   "source": [
    "path_output = os.path.join(PATH_ROOT, \"results_plot\")\n",
    "print(path_output)\n",
    "create_dir(path_output)\n"
   ]
  },
  {
   "cell_type": "code",
   "execution_count": 25,
   "metadata": {},
   "outputs": [
    {
     "name": "stdout",
     "output_type": "stream",
     "text": [
      "Save to: c:\\Users\\lukex\\workspace\\diva-data-poisoning\\results_plot\\fake_acc.pdf\n"
     ]
    },
    {
     "data": {
      "image/png": "[encoded data removed]",
      "text/plain": [
       "<Figure size 432x144 with 2 Axes>"
      ]
     },
     "metadata": {
      "needs_background": "light"
     },
     "output_type": "display_data"
    }
   ],
   "source": [
    "FONTSIZE = 13\n",
    "FIGSIZE = (6, 2)\n",
    "\n",
    "x = np.linspace(0, 40, num=10, endpoint=True)\n",
    "\n",
    "y1 = 100 * np.exp(-0.1 * (x + 8)) + 50\n",
    "f1 = interpolate.interp1d(x, y1, kind=\"quadratic\")\n",
    "\n",
    "y2 = -100 * np.exp(-0.1 * (x + 8)) + 95\n",
    "f2 = interpolate.interp1d(x, y2, kind=\"quadratic\")\n",
    "\n",
    "xx = np.linspace(0, 40, num=100, endpoint=True)\n",
    "\n",
    "colors = {\n",
    "    \"red\": \"#d32f2f\",\n",
    "    \"blue\": \"#1976d2\",\n",
    "}\n",
    "\n",
    "\n",
    "def draw_lineplot(x_train, y_train, x_test, y_test, title, ax):\n",
    "    ax.plot(\n",
    "        x_train,\n",
    "        y_train,\n",
    "        label=\"Poisoned Train\",\n",
    "        linestyle=\"--\",\n",
    "        linewidth=2.5,\n",
    "        c=colors[\"blue\"],\n",
    "    )\n",
    "    ax.plot(x_test, y_test, label=\"Clean Test\", linewidth=2.5, c=colors[\"red\"])\n",
    "    ax.set(xlim=[-2, 42], ylim=[40, 105])\n",
    "    ax.set_yticks([50, 75, 100])\n",
    "    ax.axes.yaxis.set_ticklabels([])\n",
    "    ax.set_title(\n",
    "        title,\n",
    "        fontsize=FONTSIZE+1,\n",
    "        y=0, pad=-45, verticalalignment=\"top\"\n",
    "    )\n",
    "    ax.set_xlabel(\"Poisoning Rate (%)\")\n",
    "\n",
    "plt.rcParams[\"font.size\"] = FONTSIZE\n",
    "fig, axs = plt.subplots(1, 2, sharey=True, sharex=True, figsize=FIGSIZE)\n",
    "\n",
    "axs[0].set_ylabel(\"Accuracy\", fontsize=FONTSIZE)\n",
    "draw_lineplot(xx, 95 * np.ones_like(xx), xx, f1(xx), \"(a) Easy Dataset\", axs[0])\n",
    "draw_lineplot(xx, f2(xx), xx, 50 * np.ones_like(xx), \"(b) Hard Dataset\", axs[1])\n",
    "\n",
    "(lines, labels) = axs[0].get_legend_handles_labels()\n",
    "# fig.legend(lines, labels, bbox_to_anchor=(0, 1, 1, 0), loc=\"lower center\", ncol=2)\n",
    "fig.legend(lines, labels, bbox_to_anchor=(1, 1), loc=\"upper left\")\n",
    "fig.tight_layout(pad=0.8, w_pad=2.5)\n",
    "\n",
    "path_fig = os.path.join(\n",
    "    path_output,\n",
    "    \"fake_acc.pdf\",\n",
    ")\n",
    "plt.savefig(path_fig, dpi=300, bbox_inches=\"tight\")\n",
    "print(f\"Save to: {path_fig}\")\n"
   ]
  },
  {
   "cell_type": "code",
   "execution_count": 16,
   "metadata": {},
   "outputs": [
    {
     "data": {
      "text/plain": [
       "array([432., 144.])"
      ]
     },
     "execution_count": 16,
     "metadata": {},
     "output_type": "execute_result"
    }
   ],
   "source": []
  }
 ],
 "metadata": {
  "kernelspec": {
   "display_name": "Python 3.8.10 ('venv': venv)",
   "language": "python",
   "name": "python3"
  },
  "language_info": {
   "codemirror_mode": {
    "name": "ipython",
    "version": 3
   },
   "file_extension": ".py",
   "mimetype": "text/x-python",
   "name": "python",
   "nbconvert_exporter": "python",
   "pygments_lexer": "ipython3",
   "version": "3.8.16"
  },
  "orig_nbformat": 4,
  "vscode": {
   "interpreter": {
    "hash": "14a78747280fbbbcd2c216d7ac55361a92dd2b0925fb158d072af80087748cfe"
   }
  }
 },
 "nbformat": 4,
 "nbformat_minor": 2
}

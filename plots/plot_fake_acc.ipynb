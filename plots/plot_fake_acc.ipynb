{
 "cells": [
  {
   "cell_type": "code",
   "execution_count": 1,
   "metadata": {},
   "outputs": [],
   "source": [
    "import os\n",
    "from pathlib import Path\n",
    "\n",
    "import numpy as np\n",
    "import pandas as pd\n",
    "import matplotlib.pyplot as plt\n",
    "import seaborn as sns\n",
    "from scipy import interpolate\n",
    "\n",
    "from label_flip_revised.utils import create_dir"
   ]
  },
  {
   "cell_type": "code",
   "execution_count": 2,
   "metadata": {},
   "outputs": [
    {
     "name": "stdout",
     "output_type": "stream",
     "text": [
      "/home/lukec/workspace/diva_01\n"
     ]
    }
   ],
   "source": [
    "PATH_ROOT = Path(os.getcwd()).absolute().parent\n",
    "print(PATH_ROOT)"
   ]
  },
  {
   "cell_type": "code",
   "execution_count": 3,
   "metadata": {},
   "outputs": [
    {
     "name": "stdout",
     "output_type": "stream",
     "text": [
      "/home/lukec/workspace/diva_01/results_plot\n"
     ]
    }
   ],
   "source": [
    "path_output = os.path.join(PATH_ROOT, 'results_plot')\n",
    "print(path_output)\n",
    "create_dir(path_output)"
   ]
  },
  {
   "cell_type": "code",
   "execution_count": 4,
   "metadata": {},
   "outputs": [
    {
     "name": "stdout",
     "output_type": "stream",
     "text": [
      "Save to: /home/lukec/workspace/diva_01/results_plot/fake_acc.pdf\n"
     ]
    },
    {
     "data": {
      "image/png": "[encoded data removed]",
      "text/plain": [
       "<Figure size 432x108 with 2 Axes>"
      ]
     },
     "metadata": {
      "needs_background": "light"
     },
     "output_type": "display_data"
    }
   ],
   "source": [
    "FONTSIZE = 13\n",
    "FIGSIZE = (6, 1.5)\n",
    "\n",
    "x = np.linspace(0, 40, num=10, endpoint=True)\n",
    "\n",
    "y1 = 100 * np.exp(-0.1 * (x + 8)) + 50\n",
    "f1 = interpolate.interp1d(x, y1, kind='quadratic')\n",
    "\n",
    "y2 = -100 * np.exp(-0.1 * (x + 8)) + 95\n",
    "f2 = interpolate.interp1d(x, y2, kind='quadratic')\n",
    "\n",
    "xx = np.linspace(0, 40, num=100, endpoint=True)\n",
    "\n",
    "colors = {\n",
    "    'red': '#d32f2f',\n",
    "    'blue': '#1976d2',\n",
    "}\n",
    "\n",
    "def draw_lineplot(x_train, y_train, x_test, y_test, title, ax):\n",
    "    ax.plot(x_train, y_train, label='Poisoned Train', linestyle='--', linewidth=2.5, c=colors['blue'])\n",
    "    ax.plot(x_test, y_test, label='Clean Test', linewidth=2.5, c=colors['red'])\n",
    "    ax.set(xlim=[-2, 42], ylim=[40, 105])\n",
    "    ax.set_yticks([50, 75, 100])\n",
    "    ax.set_title(title, fontsize=FONTSIZE)\n",
    "    ax.set_xlabel('Poisoning Rate (%)', fontsize=FONTSIZE)\n",
    "\n",
    "plt.rcParams['font.size'] = FONTSIZE\n",
    "fig, axs = plt.subplots(1, 2, sharey=True, sharex=True, figsize=FIGSIZE)\n",
    "axs[0].set_ylabel('Accuracy (%)', fontsize=FONTSIZE)\n",
    "draw_lineplot(xx, 95*np.ones_like(xx), xx, f1(xx), '(a) Easy Dataset', axs[0])\n",
    "draw_lineplot(xx, f2(xx), xx, 50*np.ones_like(xx), '(b) Hard Dataset', axs[1])\n",
    "\n",
    "(lines, labels) = axs[0].get_legend_handles_labels()\n",
    "# fig.legend(lines, labels, bbox_to_anchor=(0, 1, 1, 0), loc=\"lower center\", ncol=2)\n",
    "fig.legend(lines, labels, bbox_to_anchor=(1, 1), loc='upper left')\n",
    "fig.tight_layout(pad=0.8, w_pad=2.5)\n",
    "\n",
    "path_fig = os.path.join(path_output, 'fake_acc.pdf', )\n",
    "plt.savefig(path_fig, dpi=300, bbox_inches='tight')\n",
    "print(f'Save to: {path_fig}')\n"
   ]
  },
  {
   "cell_type": "code",
   "execution_count": null,
   "metadata": {},
   "outputs": [],
   "source": []
  }
 ],
 "metadata": {
  "kernelspec": {
   "display_name": "Python 3.8.10 ('venv': venv)",
   "language": "python",
   "name": "python3"
  },
  "language_info": {
   "codemirror_mode": {
    "name": "ipython",
    "version": 3
   },
   "file_extension": ".py",
   "mimetype": "text/x-python",
   "name": "python",
   "nbconvert_exporter": "python",
   "pygments_lexer": "ipython3",
   "version": "3.8.10"
  },
  "orig_nbformat": 4,
  "vscode": {
   "interpreter": {
    "hash": "14a78747280fbbbcd2c216d7ac55361a92dd2b0925fb158d072af80087748cfe"
   }
  }
 },
 "nbformat": 4,
 "nbformat_minor": 2
}

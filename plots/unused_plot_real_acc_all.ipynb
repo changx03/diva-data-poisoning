{
 "cells": [
  {
   "cell_type": "code",
   "execution_count": null,
   "metadata": {},
   "outputs": [],
   "source": [
    "import os\n",
    "from pathlib import Path\n",
    "from glob import glob\n",
    "\n",
    "import numpy as np\n",
    "import pandas as pd\n",
    "import matplotlib.pyplot as plt\n",
    "import seaborn as sns\n",
    "\n",
    "from matplotlib.lines import Line2D\n",
    "from matplotlib.patches import Patch\n",
    "\n",
    "#from label_flip_revised.utils import create_dir"
   ]
  },
  {
   "cell_type": "code",
   "execution_count": null,
   "metadata": {},
   "outputs": [],
   "source": [
    "PATH_ROOT = Path(os.getcwd()).absolute().parent\n",
    "print(PATH_ROOT)"
   ]
  },
  {
   "cell_type": "code",
   "execution_count": null,
   "metadata": {},
   "outputs": [],
   "source": [
    "path_output = os.path.join(PATH_ROOT, 'results_plot')\n",
    "print(path_output)\n",
    "#create_dir(path_output)"
   ]
  },
  {
   "cell_type": "code",
   "execution_count": null,
   "metadata": {
    "scrolled": true
   },
   "outputs": [],
   "source": [
    "df_falfa_01 = pd.read_csv(os.path.join(PATH_ROOT, 'results', 'real', 'real_falfa_nn_db.csv'))\n",
    "print(df_falfa_01.shape)\n",
    "df_falfa_01.head()"
   ]
  },
  {
   "cell_type": "code",
   "execution_count": null,
   "metadata": {},
   "outputs": [],
   "source": [
    "df_falfa_01.columns"
   ]
  },
  {
   "cell_type": "code",
   "execution_count": null,
   "metadata": {},
   "outputs": [],
   "source": [
    "datanames = np.sort(df_falfa_01['Data.Base'].unique())\n",
    "print(datanames)"
   ]
  },
  {
   "cell_type": "code",
   "execution_count": null,
   "metadata": {},
   "outputs": [],
   "source": [
    "workspace_names = [f'diva_{i:02d}' for i in range(1,6)]\n",
    "workspace_names"
   ]
  },
  {
   "cell_type": "code",
   "execution_count": null,
   "metadata": {},
   "outputs": [],
   "source": [
    "ATTACKS = ['rand_svm', 'alfa_svm', 'poison_svm', 'falfa_nn']\n",
    "ATTACKS\n"
   ]
  },
  {
   "cell_type": "code",
   "execution_count": null,
   "metadata": {},
   "outputs": [],
   "source": [
    "score_dict = {}\n",
    "for dname in ATTACKS:\n",
    "    dfs = []\n",
    "    for wname in workspace_names:\n",
    "        df_ = pd.read_csv(os.path.join(PATH_ROOT.parent, wname, 'results', 'real', f'real_{dname}_db.csv'))\n",
    "        df_ = df_[['Data.Base', 'Rate', 'Train.Clean', 'Test.Clean', 'Train.Poison', 'Test.Poison']]\n",
    "        dfs.append(df_)\n",
    "    df = pd.concat(dfs, ignore_index=True).groupby(['Data.Base','Rate']).mean()\n",
    "    df.to_csv(os.path.join(path_output, f'real_score_mean_{dname}.csv'))"
   ]
  },
  {
   "cell_type": "code",
   "execution_count": null,
   "metadata": {},
   "outputs": [],
   "source": [
    "COLOR_MAP = {\n",
    "    'rand_svm': 'darkgrey',\n",
    "    'alfa_svm': '#2e7d32',\n",
    "    'poison_svm': '#1976d2',\n",
    "    'falfa_nn': '#d32f2f',\n",
    "    #  'Train.Poison': '#1b1b1b', \n",
    "    #  'Test.Poison': '#1b1b1b',\n",
    "}\n",
    "\n",
    "my_palette = sns.color_palette(COLOR_MAP.values())\n",
    "my_palette\n"
   ]
  },
  {
   "cell_type": "code",
   "execution_count": null,
   "metadata": {},
   "outputs": [],
   "source": [
    "TITLES = [\n",
    "    'Abalone',\n",
    "    'Australian',\n",
    "    'Banknote',\n",
    "    'Breastcancer',\n",
    "    'CMC',\n",
    "    'HTRU2',\n",
    "    'Phoneme',\n",
    "    'Ringnorm',\n",
    "    'Texture',\n",
    "    'Yeast'\n",
    "]"
   ]
  },
  {
   "cell_type": "code",
   "execution_count": null,
   "metadata": {},
   "outputs": [],
   "source": [
    "datanames = ['abalone_subset_std', 'australian_std', 'banknote_std', 'breastcancer_std',\n",
    " 'cmc_std', 'htru2_subset_std', 'phoneme_subset_std', 'ringnorm_subset_std',\n",
    " 'texture_subset_std', 'yeast_subset_std']"
   ]
  },
  {
   "cell_type": "code",
   "execution_count": null,
   "metadata": {},
   "outputs": [],
   "source": [
    "# Save results\n",
    "df_falfa = pd.read_csv(os.path.join(path_output, f'real_score_mean_falfa_nn.csv'))\n",
    "df_rand = pd.read_csv(os.path.join(path_output, f'real_score_mean_rand_svm.csv'))\n",
    "df_pois = pd.read_csv(os.path.join(path_output, f'real_score_mean_poison_svm.csv'))\n",
    "df_alfa = pd.read_csv(os.path.join(path_output, f'real_score_mean_alfa_svm.csv'))\n",
    "\n",
    "df_falfa.head()"
   ]
  },
  {
   "cell_type": "code",
   "execution_count": null,
   "metadata": {},
   "outputs": [],
   "source": [
    "def draw_subplot(dfs, dataname, attacks, ax, linewidth=2.5, markers=True):\n",
    "    df_table = pd.DataFrame()\n",
    "    for df_, att in zip(dfs, attacks):\n",
    "        df_ = df_ * 100\n",
    "        df_['Attack'] = att\n",
    "        df_ = df_[['Attack', 'Rate', 'Test.Poison', 'Train.Poison']]\n",
    "        df_ = df_.melt(id_vars=['Attack', 'Rate'], var_name='Set', value_name='Accuracy')\n",
    "        df_table = pd.concat([df_table, df_], ignore_index=True)\n",
    "        \n",
    "    line_style = ['Train' if val == 'Train.Poison' else 'Test' for val in df_table['Set']]\n",
    "    sns.lineplot(data=df_table,\n",
    "                 x='Rate',\n",
    "                 y='Accuracy',\n",
    "                 hue='Attack',\n",
    "                 ax=ax,\n",
    "                 style=line_style,\n",
    "                 legend='brief',\n",
    "                 alpha=0.8,\n",
    "                 palette=my_palette,\n",
    "                 linewidth=linewidth,\n",
    "                 #markers=markers,\n",
    "                 dashes=True,\n",
    "    )\n",
    "\n",
    "    ax.set(xlim=[-1, 41], ylim=[35, 105])\n",
    "    ax.set_title(dataname, fontsize=FONTSIZE+1)\n",
    "    ax.set_xlabel('Poisoning Rate (%)', fontsize=FONTSIZE+1)\n",
    "    ax.set_ylabel('Accuracy (%)', fontsize=FONTSIZE+1)\n",
    "    ax.set_xticks(np.linspace(0, 40, num=5, endpoint=True), fontsize=FONTSIZE-1)\n",
    "    ax.set_yticks(np.linspace(40, 100, num=7, endpoint=True), fontsize=FONTSIZE-1)\n",
    "    ax.get_legend().remove()"
   ]
  },
  {
   "cell_type": "code",
   "execution_count": null,
   "metadata": {},
   "outputs": [],
   "source": [
    "FONTSIZE = 13\n",
    "FIGSIZE = (16, 5.5)\n",
    "LINE_WIDTH = 3\n",
    "\n",
    "plt.rcParams[\"font.size\"] = FONTSIZE\n",
    "fig, axs = plt.subplots(2, 5, sharey=True, sharex=True, figsize=FIGSIZE)\n",
    "_axs = []\n",
    "for i in range(2):\n",
    "    for j in range(5):\n",
    "        _axs.append(axs[i, j])\n",
    "for dataname, title, ax in zip(datanames, TITLES, _axs):\n",
    "    dfs = [\n",
    "        df_rand[df_rand['Data.Base'] == dataname],\n",
    "        df_alfa[df_alfa['Data.Base'] == dataname],\n",
    "        df_pois[df_pois['Data.Base'] == dataname],\n",
    "        df_falfa[df_falfa['Data.Base'] == dataname],\n",
    "    ]\n",
    "    draw_subplot(dfs, title, ATTACKS, ax, linewidth=2.5, markers=True)\n",
    "\n",
    "# Merge lines and labels\n",
    "# lines, labels = _axs[i].get_legend_handles_labels()\n",
    "# label_dict = {\n",
    "#     'rand_svm': 'SLN',\n",
    "#     'alfa_svm': 'ALFA',\n",
    "#     'poison_svm': 'PoisSVM',\n",
    "#     'falfa_nn': 'FALFA',\n",
    "#     'Train': 'Train',\n",
    "#     'Test': 'Test',\n",
    "# }\n",
    "\n",
    "custom_lines = [\n",
    "    Line2D([0], [0], color='black', lw=LINE_WIDTH, label='Training Acc.', linestyle='dashed'),\n",
    "    Line2D([0], [0], color='black', lw=LINE_WIDTH, label='Test Acc.'),\n",
    "    Patch(facecolor=COLOR_MAP['falfa_nn'], label='FALFA'),\n",
    "    Patch(facecolor=COLOR_MAP['alfa_svm'], label='ALFA'),\n",
    "    Patch(facecolor=COLOR_MAP['poison_svm'], label='PoisSVM'),\n",
    "    Patch(facecolor=COLOR_MAP['rand_svm'], label='Noise (SLN)')\n",
    "]\n",
    "\n",
    "# labels_new = []\n",
    "# for label in labels:\n",
    "#     labels_new.append(label_dict[label])\n",
    "fig.legend(handles=custom_lines, loc='lower left', bbox_to_anchor=(0, 1, 1, 0), mode=\"expand\", ncol=6)\n",
    "# fig.legend(lines, labels_new, bbox_to_anchor=(0, 1, 1, 0), loc=\"lower left\", mode=\"expand\", ncol=6)\n",
    "\n",
    "plt.tight_layout(pad=0.3)\n",
    "path_fig_out = os.path.join(path_output, 'flfa_acc_all.pdf', )\n",
    "plt.savefig(path_fig_out, dpi=300, bbox_inches='tight')\n",
    "print(f'Save plot to {path_fig_out}')"
   ]
  },
  {
   "cell_type": "code",
   "execution_count": null,
   "metadata": {},
   "outputs": [],
   "source": []
  }
 ],
 "metadata": {
  "kernelspec": {
   "display_name": "Python 3.8.10 ('venv': venv)",
   "language": "python",
   "name": "python3"
  },
  "language_info": {
   "codemirror_mode": {
    "name": "ipython",
    "version": 3
   },
   "file_extension": ".py",
   "mimetype": "text/x-python",
   "name": "python",
   "nbconvert_exporter": "python",
   "pygments_lexer": "ipython3",
   "version": "3.8.10"
  },
  "vscode": {
   "interpreter": {
    "hash": "14a78747280fbbbcd2c216d7ac55361a92dd2b0925fb158d072af80087748cfe"
   }
  }
 },
 "nbformat": 4,
 "nbformat_minor": 2
}

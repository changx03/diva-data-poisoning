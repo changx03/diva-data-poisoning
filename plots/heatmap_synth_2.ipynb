{
 "cells": [
  {
   "cell_type": "code",
   "execution_count": null,
   "metadata": {},
   "outputs": [],
   "source": [
    "import os\n",
    "from pathlib import Path\n",
    "\n",
    "import matplotlib.pyplot as plt\n",
    "import numpy as np\n",
    "import pandas as pd\n",
    "import seaborn as sns\n",
    "from sklearn import linear_model, preprocessing\n",
    "from sklearn.metrics import RocCurveDisplay, auc, roc_curve, confusion_matrix\n",
    "from sklearn.model_selection import KFold\n",
    "from prettytable import PrettyTable"
   ]
  },
  {
   "cell_type": "code",
   "execution_count": null,
   "metadata": {},
   "outputs": [],
   "source": [
    "PATH_ROOT = os.path.join(Path().absolute().parent)\n",
    "print(PATH_ROOT)"
   ]
  },
  {
   "cell_type": "code",
   "execution_count": null,
   "metadata": {},
   "outputs": [],
   "source": [
    "df_cm = pd.read_csv(os.path.join(PATH_ROOT, 'results', 'synth_cmeasures_nn.csv'))\n",
    "df_cm = df_cm.sort_values(by=['Data', 'Rate'], ignore_index=True)\n",
    "print(df_cm.shape)\n",
    "print(df_cm.columns)\n",
    "df_cm.head()"
   ]
  },
  {
   "cell_type": "code",
   "execution_count": null,
   "metadata": {},
   "outputs": [],
   "source": [
    "df_cm_rand = pd.read_csv(os.path.join(PATH_ROOT, 'results', 'synth_cmeasures_rand_nn.csv'))\n",
    "df_cm_rand = df_cm_rand.sort_values(by=['Data', 'Rate'], ignore_index=True)\n",
    "print(df_cm_rand.shape)\n",
    "df_cm_rand.head()"
   ]
  },
  {
   "cell_type": "code",
   "execution_count": null,
   "metadata": {},
   "outputs": [],
   "source": [
    "\n"
   ]
  },
  {
   "cell_type": "code",
   "execution_count": null,
   "metadata": {},
   "outputs": [],
   "source": [
    "# Split datasets into 3 difficulties\n",
    "DIF_LEVELS = ['Hard', 'Normal', 'Easy']\n",
    "N_BINS = len(DIF_LEVELS)\n",
    "difficulty_mapping = {0: DIF_LEVELS[0], 1: DIF_LEVELS[1], 2: DIF_LEVELS[2]}\n",
    "\n",
    "encoder = preprocessing.KBinsDiscretizer(n_bins=N_BINS, encode='ordinal', strategy='uniform')\n",
    "acc_test_clean = df_cm[df_cm['Rate'] == 0]['Test'].to_numpy()\n",
    "ordinal_clean = encoder.fit_transform(acc_test_clean.reshape([-1, 1])).flatten().astype(int)\n",
    "\n",
    "print('Convert test set accuracy into ordinal data:')\n",
    "for i in range(N_BINS):\n",
    "    start = encoder.bin_edges_[0][i]\n",
    "    end = encoder.bin_edges_[0][i+1]\n",
    "    print('{} in [{:.3f}, {:.3f})'.format(DIF_LEVELS[i], start, end))"
   ]
  },
  {
   "cell_type": "code",
   "execution_count": null,
   "metadata": {},
   "outputs": [],
   "source": [
    "POISON_LVLS = np.round(np.arange(0, 0.41, 0.05, dtype=float), 2)\n",
    "POISON_LVLS"
   ]
  },
  {
   "cell_type": "code",
   "execution_count": null,
   "metadata": {},
   "outputs": [],
   "source": [
    "datanames = df_cm[df_cm['Rate'] == 0]['Data'].to_numpy()\n",
    "df_cm['Difficulty'] = 0\n",
    "df_cm_rand\n",
    "for data, dif in zip(datanames, ordinal_clean):\n",
    "    idx = df_cm[df_cm['Data'] == data].index\n",
    "    df_cm.loc[idx, ['Difficulty']] = dif\n",
    "\n",
    "df_cm['Difficulty'] = df_cm['Difficulty'].replace(difficulty_mapping)\n",
    "df_cm_rand['Difficulty'] = df_cm['Difficulty']"
   ]
  },
  {
   "cell_type": "code",
   "execution_count": null,
   "metadata": {},
   "outputs": [],
   "source": [
    "col_X = [\n",
    "    'F1', 'F1 SD', 'F1v', 'F2', 'F3', 'F4', 'N1', 'N2', 'N2 SD',\n",
    "    'N3 ', 'N3 SD', 'N4', 'N4 SD', 'T1', 'T1 SD', 'LSC', 'L1', 'L2', 'L3',\n",
    "    'T2', 'T3', 'T4', 'C1', 'C2', 'Density', 'ClsCoef', 'Hubs', 'HubsSD'\n",
    "]\n",
    "col_y = 'Test'"
   ]
  },
  {
   "cell_type": "code",
   "execution_count": null,
   "metadata": {},
   "outputs": [],
   "source": [
    "alpha = 0.03\n",
    "N_FOLD = 5\n",
    "\n",
    "df_cm['prediction'] = 0\n",
    "df_cm_rand['prediction'] = 0\n",
    "\n",
    "# Split by clean data\n",
    "indices_clean = df_cm[df_cm['Rate'] == 0].index\n",
    "kf = KFold(n_splits=N_FOLD, shuffle=True)\n",
    "for i_train, i_test in kf.split(indices_clean):\n",
    "    idx_train_clean = indices_clean[i_train]\n",
    "    idx_test_clean = indices_clean[i_test]\n",
    "\n",
    "    data_train = df_cm.loc[idx_train_clean, 'Data']\n",
    "    data_test = df_cm.loc[idx_test_clean, 'Data']\n",
    "\n",
    "    idx_train = df_cm[df_cm['Data'].isin(data_train)].index\n",
    "    idx_test = df_cm[df_cm['Data'].isin(data_test)].index\n",
    "    assert len(idx_train) + len(idx_test) == df_cm.shape[0]\n",
    "\n",
    "    X_train = df_cm.loc[idx_train, col_X]\n",
    "    y_train = df_cm.loc[idx_train, col_y]\n",
    "    regressor = linear_model.Ridge(alpha=alpha)\n",
    "    regressor.fit(X_train, y_train)\n",
    "    \n",
    "    X_test = df_cm.loc[idx_test, col_X]\n",
    "    df_cm.loc[idx_test, 'prediction'] = regressor.predict(X_test)\n",
    "\n",
    "    # On Random noise\n",
    "    X_test_rand = df_cm_rand.loc[idx_test, col_X]\n",
    "    df_cm_rand.loc[idx_test, 'prediction'] = regressor.predict(X_test_rand)"
   ]
  },
  {
   "cell_type": "code",
   "execution_count": null,
   "metadata": {},
   "outputs": [],
   "source": [
    "THRESHOLD = 0.00\n",
    "\n",
    "FONTSIZE = 14\n",
    "FIGSIZE = (5, 5)\n",
    "\n",
    "plt.rcParams[\"font.size\"] = FONTSIZE\n",
    "fig, ax = plt.subplots(figsize=FIGSIZE)\n",
    "y_true_ = (df_cm['Rate'] > THRESHOLD).astype(int)\n",
    "y_score_ = np.abs(df_cm['prediction'] - df_cm['Train'])\n",
    "fpr, tpr, thresholds = roc_curve(y_true_, y_score_)\n",
    "roc_auc_ = auc(fpr, tpr)\n",
    "idx_t = np.argmax(np.sqrt((1 - fpr)**2 + tpr**2))\n",
    "threshold = thresholds[idx_t]\n",
    "roc_display = RocCurveDisplay(fpr=fpr, tpr=tpr, roc_auc=roc_auc_).plot(ax=ax)\n",
    "ax.vlines(threshold, 0, 1, linestyles='dotted', label='threshold', colors='green')\n",
    "plt.tight_layout()\n",
    "plt.show()"
   ]
  },
  {
   "cell_type": "code",
   "execution_count": null,
   "metadata": {},
   "outputs": [],
   "source": [
    "print('C-Measure threshold:', threshold)"
   ]
  },
  {
   "cell_type": "code",
   "execution_count": null,
   "metadata": {},
   "outputs": [],
   "source": [
    "def get_table(df, y_true, results):\n",
    "    df_ = df[['Difficulty', 'Rate']].copy()\n",
    "    df_['Label'] = y_true\n",
    "    df_['Prediction'] = results.astype(int)\n",
    "\n",
    "    res_ = []\n",
    "    names_row2 = []\n",
    "    for d in DIF_LEVELS:\n",
    "        for r in POISON_LVLS:\n",
    "            names_row2.append('{} {}'.format(d, r))\n",
    "            row = []\n",
    "            for p in [0, 1]:\n",
    "                condition = (df_['Difficulty'] == d) & (df_['Rate'] == r) & (df_['Prediction'] == p)\n",
    "                row.append(df_[condition].shape[0])\n",
    "            res_.append(row)\n",
    "    res_ = np.array(res_)\n",
    "    res2 = np.zeros((len(res_), 3))\n",
    "    res2[:,0] = res_[:,0]\n",
    "    res2[:,1] = res_[:,1]\n",
    "    res2[:,2] = res_.sum(axis=1)\n",
    "\n",
    "    res2[:,0] = res2[:,0] / res2[:,2]\n",
    "    res2[:,1] = res2[:,1] / res2[:,2]\n",
    "    res2[:,2] = res2[:,2] / res2[:,2]\n",
    "    res2 = np.round(res2, 2)\n",
    "\n",
    "    rates = np.tile(POISON_LVLS, reps=len(DIF_LEVELS))\n",
    "    difficulties = np.repeat(DIF_LEVELS, repeats=len(POISON_LVLS))\n",
    "    precision = res2[:,1]\n",
    "    df_confusion_mat = pd.DataFrame({\n",
    "        'Poisoning Rate': rates,\n",
    "        'Dataset Difficulty': difficulties,\n",
    "        'Precision (PPV)': precision,\n",
    "    })\n",
    "    return df_confusion_mat"
   ]
  },
  {
   "cell_type": "code",
   "execution_count": null,
   "metadata": {},
   "outputs": [],
   "source": [
    "results = (df_cm['Train'] - df_cm['prediction']) > threshold\n",
    "y_true = (df_cm['Rate'] > THRESHOLD).astype(int)\n",
    "df_confusion_mat = get_table(df_cm, y_true, results)\n",
    "path_confusionmat = os.path.join(PATH_ROOT, 'results', 'synth_heatmap.csv')\n",
    "df_confusion_mat.to_csv(path_confusionmat, index=False)"
   ]
  },
  {
   "cell_type": "code",
   "execution_count": null,
   "metadata": {},
   "outputs": [],
   "source": [
    "FONTSIZE = 13\n",
    "FIGSIZE = (5, 4)\n",
    "\n",
    "plt.rcParams[\"font.size\"] = FONTSIZE\n",
    "fig, ax = plt.subplots(figsize=FIGSIZE)\n",
    "df_pivot = df_confusion_mat.pivot('Poisoning Rate', 'Dataset Difficulty', 'Precision (PPV)')\n",
    "df_pivot = df_pivot[['Easy', 'Normal', 'Hard']]\n",
    "sns.heatmap(df_pivot, ax=ax, annot=True, fmt='.2f', cmap=\"RdYlGn\")\n",
    "plt.yticks(rotation=0)\n",
    "plt.tight_layout()\n",
    "plot_output = os.path.join(PATH_ROOT, 'results', 'synth_heatmap.svg')\n",
    "plt.savefig(plot_output, dpi=600)\n",
    "\n",
    "# This image require manually edit in Inkescape!"
   ]
  },
  {
   "cell_type": "code",
   "execution_count": null,
   "metadata": {},
   "outputs": [],
   "source": [
    "results = (df_cm_rand['Train'] - df_cm_rand['prediction']) > threshold\n",
    "y_true = np.zeros(df_cm_rand.shape[0])\n",
    "df_confusion_mat = get_table(df_cm_rand, y_true, results)"
   ]
  },
  {
   "cell_type": "code",
   "execution_count": null,
   "metadata": {},
   "outputs": [],
   "source": [
    "df_cm_rand"
   ]
  },
  {
   "cell_type": "code",
   "execution_count": null,
   "metadata": {},
   "outputs": [],
   "source": [
    "FONTSIZE = 13\n",
    "FIGSIZE = (5, 4)\n",
    "\n",
    "plt.rcParams[\"font.size\"] = FONTSIZE\n",
    "fig, ax = plt.subplots(figsize=FIGSIZE)\n",
    "df_pivot = df_confusion_mat.pivot('Poisoning Rate', 'Dataset Difficulty', 'Precision (PPV)')\n",
    "df_pivot = df_pivot[['Easy', 'Normal', 'Hard']]\n",
    "sns.heatmap(df_pivot, ax=ax, annot=True, fmt='.2f', cmap=\"RdYlGn\")\n",
    "plt.yticks(rotation=0)\n",
    "plt.tight_layout()\n",
    "# plot_output = os.path.join(PATH_ROOT, 'results', 'synth_heatmap.svg')\n",
    "# plt.savefig(plot_output, dpi=600)\n",
    "plt.show()"
   ]
  },
  {
   "cell_type": "code",
   "execution_count": null,
   "metadata": {},
   "outputs": [],
   "source": []
  }
 ],
 "metadata": {
  "interpreter": {
   "hash": "8bcff36e631da1ef6cb25b63542a3f56d2322f7e3d69a7432caaf86f390cdb5a"
  },
  "kernelspec": {
   "display_name": "Python 3.8.10 64-bit ('torch': venv)",
   "language": "python",
   "name": "python3"
  },
  "language_info": {
   "codemirror_mode": {
    "name": "ipython",
    "version": 3
   },
   "file_extension": ".py",
   "mimetype": "text/x-python",
   "name": "python",
   "nbconvert_exporter": "python",
   "pygments_lexer": "ipython3",
   "version": "3.8.10"
  },
  "orig_nbformat": 4
 },
 "nbformat": 4,
 "nbformat_minor": 2
}

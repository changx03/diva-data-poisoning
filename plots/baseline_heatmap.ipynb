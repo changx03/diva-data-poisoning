{
 "cells": [
  {
   "cell_type": "code",
   "execution_count": 7,
   "metadata": {},
   "outputs": [],
   "source": [
    "import os\n",
    "from glob import glob\n",
    "from pathlib import Path\n",
    "\n",
    "import matplotlib.pyplot as plt\n",
    "import numpy as np\n",
    "import pandas as pd\n",
    "import seaborn as sns\n",
    "from pandas.api.types import CategoricalDtype\n",
    "from sklearn.metrics import RocCurveDisplay, auc, mean_absolute_error, roc_curve\n",
    "\n",
    "from label_flip_revised.utils import create_dir"
   ]
  },
  {
   "cell_type": "code",
   "execution_count": 8,
   "metadata": {},
   "outputs": [
    {
     "name": "stdout",
     "output_type": "stream",
     "text": [
      "Root: /home/lukec/workspace/diva_01\n"
     ]
    }
   ],
   "source": [
    "PATH_ROOT = Path(os.getcwd()).absolute().parent\n",
    "print('Root:', PATH_ROOT)"
   ]
  },
  {
   "cell_type": "code",
   "execution_count": 9,
   "metadata": {},
   "outputs": [
    {
     "name": "stdout",
     "output_type": "stream",
     "text": [
      "Output: /home/lukec/workspace/diva_01/results_plot\n"
     ]
    }
   ],
   "source": [
    "path_output = os.path.join(PATH_ROOT, 'results_plot')\n",
    "print('Output:', path_output)\n",
    "create_dir(path_output)"
   ]
  },
  {
   "cell_type": "code",
   "execution_count": 10,
   "metadata": {},
   "outputs": [],
   "source": [
    "def get_pivot_by_difficulty(df: pd.DataFrame, threshold: float=None) -> pd.DataFrame: \n",
    "    df_ = df[['Difficulty', 'Rate', 'Similarity']]\n",
    "\n",
    "    if threshold is None:\n",
    "        for i in np.arange(0.05, 0.2, 0.01):\n",
    "            threshold = i\n",
    "            results = (1 - df_['Similarity']) >= threshold\n",
    "            df_['Prediction'] = results.astype(int)\n",
    "            count = df_['Prediction'][(df_['Rate'] == 0) & (df_['Difficulty'] == 'Easy')].sum()\n",
    "            if count == 0:\n",
    "                break\n",
    "    else:\n",
    "        results = (1 - df_['Similarity']) >= threshold\n",
    "        df_['Prediction'] = results.astype(int)\n",
    "    print('Threshold:', threshold)\n",
    "\n",
    "    df_ = df_.rename(columns = {'Difficulty':'Dataset Difficulty', 'Rate':'Poisoning Rate', 'Prediction': 'FPR'})\n",
    "    df_grouped = df_.groupby(['Dataset Difficulty', 'Poisoning Rate']).sum()\n",
    "    df_grouped = df_grouped.reset_index()\n",
    "    df_pivot = df_grouped.pivot('Poisoning Rate', 'Dataset Difficulty', 'FPR')\n",
    "    df_pivot = df_pivot[['Easy', 'Normal', 'Hard']]\n",
    "    return df_pivot"
   ]
  },
  {
   "cell_type": "code",
   "execution_count": 11,
   "metadata": {},
   "outputs": [
    {
     "name": "stdout",
     "output_type": "stream",
     "text": [
      "Threshold: 0.16000000000000003\n",
      "Dataset Difficulty  Easy  Normal  Hard\n",
      "Poisoning Rate                        \n",
      "0.00                   0      40    50\n",
      "0.05                  10      46    50\n",
      "0.10                  21      49    50\n",
      "0.15                  23      50    50\n",
      "0.20                  27      50    50\n",
      "0.25                  29      50    50\n",
      "0.30                  31      50    50\n",
      "0.35                  33      50    50\n",
      "0.40                  35      50    50\n",
      "Threshold: 0.16000000000000003\n",
      "Dataset Difficulty  Easy  Normal  Hard\n",
      "Poisoning Rate                        \n",
      "0.00                   0      40    50\n",
      "0.05                   4      46    50\n",
      "0.10                  21      49    50\n",
      "0.15                  25      50    50\n",
      "0.20                  36      50    50\n",
      "0.25                  31      49    50\n",
      "0.30                  38      50    50\n",
      "0.35                  29      49    50\n",
      "0.40                  33      48    50\n"
     ]
    }
   ],
   "source": [
    "paths = [] \n",
    "paths.append(os.path.join(PATH_ROOT, 'results', 'synth', 'baseline', 'synth_alfa_svm_knndefense.csv'))\n",
    "paths.append(os.path.join(PATH_ROOT, 'results', 'synth', 'baseline', 'synth_falfa_nn_knndefense.csv'))\n",
    "\n",
    "# Checking the threshold for each attack\n",
    "for p in paths:\n",
    "    df_ = pd.read_csv(p)\n",
    "    pivot_table = get_pivot_by_difficulty(df_)\n",
    "    print(pivot_table)"
   ]
  },
  {
   "cell_type": "code",
   "execution_count": 13,
   "metadata": {},
   "outputs": [
    {
     "name": "stdout",
     "output_type": "stream",
     "text": [
      "Threshold: 0.16\n",
      "Threshold: 0.16\n",
      "Dataset Difficulty  Easy  Normal   Hard\n",
      "Poisoning Rate                         \n",
      "0.00                 0.0    80.0  100.0\n",
      "0.05                14.0    92.0  100.0\n",
      "0.10                42.0    98.0  100.0\n",
      "0.15                48.0   100.0  100.0\n",
      "0.20                64.0   100.0  100.0\n",
      "0.25                60.0   100.0  100.0\n",
      "0.30                68.0   100.0  100.0\n",
      "0.35                62.0   100.0  100.0\n",
      "0.40                68.0    98.0  100.0\n"
     ]
    }
   ],
   "source": [
    "pivot_tables = []\n",
    "\n",
    "for att in ['falfa_nn', 'alfa_svm']:\n",
    "    df_ = pd.read_csv(os.path.join(PATH_ROOT, 'results', 'synth', 'baseline', f'synth_{att}_knndefense.csv'))\n",
    "    pivot_table = get_pivot_by_difficulty(df_, threshold=0.16)\n",
    "    pivot_table.to_csv(os.path.join(path_output, f'synth_pivot_baseline_difficulty_{att}.csv'))\n",
    "\n",
    "    pivot_table = pivot_table.reset_index()\n",
    "    pivot_tables.append(pivot_table)\n",
    "        \n",
    "pivot_1 = pd.concat(pivot_tables, ignore_index=True).groupby('Poisoning Rate').mean().round()\n",
    "pivot_1 = pivot_1 * 2\n",
    "\n",
    "print(pivot_1)"
   ]
  },
  {
   "cell_type": "code",
   "execution_count": null,
   "metadata": {},
   "outputs": [],
   "source": []
  }
 ],
 "metadata": {
  "kernelspec": {
   "display_name": "Python 3.9.13 ('venv': venv)",
   "language": "python",
   "name": "python3"
  },
  "language_info": {
   "codemirror_mode": {
    "name": "ipython",
    "version": 3
   },
   "file_extension": ".py",
   "mimetype": "text/x-python",
   "name": "python",
   "nbconvert_exporter": "python",
   "pygments_lexer": "ipython3",
   "version": "3.8.10"
  },
  "orig_nbformat": 4,
  "vscode": {
   "interpreter": {
    "hash": "14a78747280fbbbcd2c216d7ac55361a92dd2b0925fb158d072af80087748cfe"
   }
  }
 },
 "nbformat": 4,
 "nbformat_minor": 2
}

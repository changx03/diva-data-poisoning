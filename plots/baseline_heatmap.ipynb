{
 "cells": [
  {
   "cell_type": "code",
   "execution_count": 1,
   "metadata": {},
   "outputs": [],
   "source": [
    "import os\n",
    "from glob import glob\n",
    "from pathlib import Path\n",
    "\n",
    "import matplotlib.pyplot as plt\n",
    "import numpy as np\n",
    "import pandas as pd\n",
    "import seaborn as sns\n",
    "from pandas.api.types import CategoricalDtype\n",
    "from sklearn.metrics import RocCurveDisplay, auc, mean_absolute_error, roc_curve\n",
    "\n",
    "from label_flip_revised.utils import create_dir"
   ]
  },
  {
   "cell_type": "code",
   "execution_count": 2,
   "metadata": {},
   "outputs": [
    {
     "name": "stdout",
     "output_type": "stream",
     "text": [
      "Root: /home/lukec/workspace/diva_01\n"
     ]
    }
   ],
   "source": [
    "PATH_ROOT = Path(os.getcwd()).absolute().parent\n",
    "print('Root:', PATH_ROOT)"
   ]
  },
  {
   "cell_type": "code",
   "execution_count": 3,
   "metadata": {},
   "outputs": [
    {
     "name": "stdout",
     "output_type": "stream",
     "text": [
      "Output: /home/lukec/workspace/diva_01/results_plot\n"
     ]
    }
   ],
   "source": [
    "path_output = os.path.join(PATH_ROOT, 'results_plot')\n",
    "print('Output:', path_output)\n",
    "create_dir(path_output)"
   ]
  },
  {
   "cell_type": "code",
   "execution_count": 4,
   "metadata": {},
   "outputs": [],
   "source": [
    "def get_pivot_by_difficulty(df: pd.DataFrame, threshold: float=None) -> pd.DataFrame: \n",
    "    df_ = df[['Difficulty', 'Rate', 'Similarity']]\n",
    "\n",
    "    if threshold is None:\n",
    "        for i in np.arange(0.05, 0.5, 0.01):\n",
    "            threshold = i\n",
    "            results = (1 - df_['Similarity']) >= threshold\n",
    "            df_['Prediction'] = results.astype(int)\n",
    "            # count = df_['Prediction'][(df_['Rate'] == 0) & (df_['Difficulty'] == 'Easy')].sum()\n",
    "            # if count == 0:\n",
    "                # break\n",
    "            count = df_['Prediction'][(df_['Rate'] == 0) & (df_['Difficulty'] == 'Normal')].sum()\n",
    "            if count <= 1:\n",
    "                break\n",
    "    else:\n",
    "        results = (1 - df_['Similarity']) >= threshold\n",
    "        df_['Prediction'] = results.astype(int)\n",
    "    print('Threshold:', threshold)\n",
    "\n",
    "    df_ = df_.rename(columns = {'Difficulty':'Dataset Difficulty', 'Rate':'Poisoning Rate', 'Prediction': 'FPR'})\n",
    "    df_grouped = df_.groupby(['Dataset Difficulty', 'Poisoning Rate']).sum()\n",
    "    df_grouped = df_grouped.reset_index()\n",
    "    df_pivot = df_grouped.pivot('Poisoning Rate', 'Dataset Difficulty', 'FPR')\n",
    "    df_pivot = df_pivot[['Easy', 'Normal', 'Hard']]\n",
    "    return df_pivot"
   ]
  },
  {
   "cell_type": "code",
   "execution_count": 5,
   "metadata": {},
   "outputs": [
    {
     "name": "stdout",
     "output_type": "stream",
     "text": [
      "Threshold: 0.32000000000000006\n",
      "Dataset Difficulty  Easy  Normal  Hard\n",
      "Poisoning Rate                        \n",
      "0.00                   0       1    31\n",
      "0.05                   0      16    49\n",
      "0.10                   0      30    50\n",
      "0.15                   5      33    50\n",
      "0.20                   9      37    50\n",
      "0.25                  14      41    50\n",
      "0.30                  17      41    50\n",
      "0.35                  18      41    49\n",
      "0.40                  19      42    49\n",
      "Threshold: 0.32000000000000006\n",
      "Dataset Difficulty  Easy  Normal  Hard\n",
      "Poisoning Rate                        \n",
      "0.00                   0       1    31\n",
      "0.05                   0      16    48\n",
      "0.10                   0      31    50\n",
      "0.15                   0      34    50\n",
      "0.20                   0      38    50\n",
      "0.25                   0      36    50\n",
      "0.30                   1      37    50\n",
      "0.35                   0      24    47\n",
      "0.40                   0      16    38\n"
     ]
    }
   ],
   "source": [
    "paths = [] \n",
    "paths.append(os.path.join(PATH_ROOT, 'results', 'synth', 'baseline', 'synth_alfa_svm_knndefense.csv'))\n",
    "paths.append(os.path.join(PATH_ROOT, 'results', 'synth', 'baseline', 'synth_falfa_nn_knndefense.csv'))\n",
    "\n",
    "# Checking the threshold for each attack\n",
    "for p in paths:\n",
    "    df_ = pd.read_csv(p)\n",
    "    pivot_table = get_pivot_by_difficulty(df_)\n",
    "    print(pivot_table)"
   ]
  },
  {
   "cell_type": "code",
   "execution_count": 6,
   "metadata": {},
   "outputs": [
    {
     "name": "stdout",
     "output_type": "stream",
     "text": [
      "Threshold: 0.32\n",
      "Threshold: 0.32\n",
      "Dataset Difficulty  Easy  Normal   Hard\n",
      "Poisoning Rate                         \n",
      "0.00                 0.0     2.0   62.0\n",
      "0.05                 0.0    32.0   96.0\n",
      "0.10                 0.0    60.0  100.0\n",
      "0.15                 4.0    68.0  100.0\n",
      "0.20                 8.0    76.0  100.0\n",
      "0.25                14.0    76.0  100.0\n",
      "0.30                18.0    78.0  100.0\n",
      "0.35                18.0    64.0   96.0\n",
      "0.40                20.0    58.0   88.0\n"
     ]
    }
   ],
   "source": [
    "pivot_tables = []\n",
    "threshold = 0.32\n",
    "for att in ['falfa_nn', 'alfa_svm']:\n",
    "    df_ = pd.read_csv(os.path.join(PATH_ROOT, 'results', 'synth', 'baseline', f'synth_{att}_knndefense.csv'))\n",
    "    pivot_table = get_pivot_by_difficulty(df_, threshold)\n",
    "    pivot_table.to_csv(os.path.join(path_output, f'synth_pivot_baseline_difficulty_{att}.csv'))\n",
    "\n",
    "    pivot_table = pivot_table.reset_index()\n",
    "    pivot_tables.append(pivot_table)\n",
    "        \n",
    "pivot_1 = pd.concat(pivot_tables, ignore_index=True).groupby('Poisoning Rate').mean().round()\n",
    "pivot_1 = pivot_1 * 2\n",
    "\n",
    "print(pivot_1)"
   ]
  },
  {
   "cell_type": "code",
   "execution_count": 7,
   "metadata": {},
   "outputs": [],
   "source": [
    "def get_pivot_by_noise(df: pd.DataFrame, threshold: float=None) -> pd.DataFrame: \n",
    "    df_ = df[['Noise', 'Rate', 'Similarity']]\n",
    "\n",
    "    if threshold is None:\n",
    "        for i in np.arange(0.05, 0.5, 0.01):\n",
    "            threshold = i\n",
    "            results = (1 - df_['Similarity']) >= threshold\n",
    "            df_['Prediction'] = results.astype(int)\n",
    "\n",
    "            count = df_['Prediction'][(df_['Rate'] == 0) & (df_['Noise'] == 0.)].sum()\n",
    "            if count <= 1:\n",
    "                break\n",
    "    else:\n",
    "        results = (1 - df_['Similarity']) >= threshold\n",
    "        df_['Prediction'] = results.astype(int)\n",
    "    print('Threshold:', threshold)\n",
    "\n",
    "    df_ = df_.rename(columns = {'Noise':'Noise Label Rate', 'Rate':'Poisoning Rate', 'Prediction': 'FPR'})\n",
    "    df_grouped = df_.groupby(['Noise Label Rate', 'Poisoning Rate']).sum()\n",
    "    df_grouped = df_grouped.reset_index()\n",
    "    df_pivot = df_grouped.pivot('Poisoning Rate', 'Noise Label Rate', 'FPR')\n",
    "    return df_pivot"
   ]
  },
  {
   "cell_type": "code",
   "execution_count": 8,
   "metadata": {},
   "outputs": [
    {
     "name": "stdout",
     "output_type": "stream",
     "text": [
      "Threshold: 0.37000000000000005\n",
      "Noise Label Rate  0.00  0.05  0.10  0.15  0.20  0.25  0.30  0.35  0.40\n",
      "Poisoning Rate                                                        \n",
      "0.00                 1     2     3     6     6    13    16    24    27\n",
      "0.05                10    13    14    17    22    23    23    31    33\n",
      "0.10                17    20    20    22    27    26    28    34    33\n",
      "0.15                23    27    26    25    29    30    32    33    35\n",
      "0.20                27    31    27    24    33    30    33    34    35\n",
      "0.25                29    33    28    27    36    31    33    30    30\n",
      "0.30                28    33    28    26    33    27    27    27    26\n",
      "0.35                31    32    28    24    31    22    21    21    24\n",
      "0.40                31    31    22    21    28    18    19    20    21\n",
      "Threshold: 0.37000000000000005\n",
      "Noise Label Rate  0.00  0.05  0.10  0.15  0.20  0.25  0.30  0.35  0.40\n",
      "Poisoning Rate                                                        \n",
      "0.00                 1     2     3     6     6    13    16    24    27\n",
      "0.05                 4    10    11    14    21    25    29    36    37\n",
      "0.10                13    19    25    31    32    36    41    44    45\n",
      "0.15                17    22    30    34    38    37    42    44    47\n",
      "0.20                20    26    32    33    37    41    43    42    44\n",
      "0.25                15    20    28    31    34    34    40    43    44\n",
      "0.30                12    18    19    24    25    28    32    33    38\n",
      "0.35                 6     9     9    11    11    15    14    15    14\n",
      "0.40                 0     2     1     1     1     2     5     3     4\n"
     ]
    }
   ],
   "source": [
    "paths = [] \n",
    "paths.append(os.path.join(PATH_ROOT, 'results', 'synth_noisy', 'baseline', 'synth_alfa_svm_knndefense.csv'))\n",
    "paths.append(os.path.join(PATH_ROOT, 'results', 'synth_noisy', 'baseline', 'synth_falfa_nn_knndefense.csv'))\n",
    "\n",
    "# Checking the threshold for each attack\n",
    "for p in paths:\n",
    "    df_ = pd.read_csv(p)\n",
    "    pivot_table = get_pivot_by_noise(df_)\n",
    "    print(pivot_table)"
   ]
  },
  {
   "cell_type": "code",
   "execution_count": 9,
   "metadata": {},
   "outputs": [
    {
     "name": "stdout",
     "output_type": "stream",
     "text": [
      "Threshold: 0.37\n",
      "Threshold: 0.37\n",
      "Noise Label Rate   0.0  0.05   0.1  0.15   0.2  0.25   0.3  0.35   0.4\n",
      "Poisoning Rate                                                        \n",
      "0.00               2.0   4.0   6.0  12.0  12.0  26.0  32.0  48.0  54.0\n",
      "0.05              14.0  24.0  24.0  32.0  44.0  48.0  52.0  68.0  70.0\n",
      "0.10              30.0  40.0  44.0  52.0  60.0  62.0  70.0  78.0  78.0\n",
      "0.15              40.0  48.0  56.0  60.0  68.0  68.0  74.0  76.0  82.0\n",
      "0.20              48.0  56.0  60.0  56.0  70.0  72.0  76.0  76.0  80.0\n",
      "0.25              44.0  52.0  56.0  58.0  72.0  64.0  72.0  72.0  74.0\n",
      "0.30              40.0  52.0  48.0  52.0  58.0  56.0  60.0  60.0  64.0\n",
      "0.35              36.0  40.0  36.0  36.0  42.0  36.0  36.0  36.0  38.0\n",
      "0.40              32.0  32.0  24.0  22.0  28.0  20.0  24.0  24.0  24.0\n"
     ]
    }
   ],
   "source": [
    "pivot_tables = []\n",
    "threshold = 0.37\n",
    "for att in ['falfa_nn', 'alfa_svm']:\n",
    "    df_ = pd.read_csv(os.path.join(PATH_ROOT, 'results', 'synth_noisy', 'baseline', f'synth_{att}_knndefense.csv'))\n",
    "    pivot_table = get_pivot_by_noise(df_, threshold)\n",
    "    pivot_table.to_csv(os.path.join(path_output, f'synth_pivot_baseline_noisy_{att}.csv'))\n",
    "\n",
    "    pivot_table = pivot_table.reset_index()\n",
    "    pivot_tables.append(pivot_table)\n",
    "        \n",
    "pivot_2 = pd.concat(pivot_tables, ignore_index=True).groupby('Poisoning Rate').mean().round()\n",
    "pivot_2 = pivot_2 * 2\n",
    "\n",
    "print(pivot_2)"
   ]
  },
  {
   "cell_type": "code",
   "execution_count": 10,
   "metadata": {},
   "outputs": [],
   "source": [
    "# Invert the top row. The top row shows the True Negative now.\n",
    "pivot_1.loc[0.00] = 100. - pivot_1.loc[0.00]\n",
    "# Rename the top row.\n",
    "pivot_1 = pivot_1.rename(index={0.00: 'Clean'})\n",
    "\n",
    "# Same modification as Pivot Table 1\n",
    "pivot_2.loc[0.00] = 100. - pivot_2.loc[0.00]\n",
    "pivot_2 = pivot_2.rename(index={0.00: 'Clean'})"
   ]
  },
  {
   "cell_type": "code",
   "execution_count": 11,
   "metadata": {},
   "outputs": [
    {
     "name": "stdout",
     "output_type": "stream",
     "text": [
      "Save to: /home/lukec/workspace/diva_01/results_plot/synth_heatmap_baseline.svg\n"
     ]
    },
    {
     "data": {
      "image/png": "[encoded data removed]",
      "text/plain": [
       "<Figure size 576x288 with 3 Axes>"
      ]
     },
     "metadata": {
      "needs_background": "light"
     },
     "output_type": "display_data"
    }
   ],
   "source": [
    "# Baseline subfigures at top row\n",
    "# Keep subtitles, but remove X labels\n",
    "\n",
    "FONTSIZE = 13\n",
    "FIGSIZE = (8, 4)\n",
    "# X_LABELS = ['Dataset Difficulty', 'Label Noise Rate']\n",
    "TITLES = ['By Difficulties', 'By Label Noise Rates']\n",
    "CMAP = 'RdYlGn'\n",
    "\n",
    "plt.rcParams[\"font.size\"] = FONTSIZE\n",
    "fig, axes = plt.subplots(1, 2, sharey=True, figsize=FIGSIZE)\n",
    "\n",
    "sns.heatmap(pivot_1, ax=axes[0], annot=True, fmt='.0f', cmap=CMAP, vmin=0, vmax=100, cbar=False)\n",
    "axes[0].set_ylabel('Poisoning Rate', fontsize=FONTSIZE+1)\n",
    "\n",
    "sns.heatmap(pivot_2, ax=axes[1], annot=True, fmt='.0f', cmap=CMAP, vmin=0, vmax=100)\n",
    "axes[1].set_ylabel('')\n",
    "\n",
    "for i, ax in enumerate(axes):\n",
    "    # ax.set_xlabel(X_LABELS[i], fontsize=FONTSIZE+1)\n",
    "    ax.set(xlabel=None)\n",
    "    ax.set_title(TITLES[i], fontsize=FONTSIZE+2)\n",
    "\n",
    "plt.tight_layout(pad=0.6)\n",
    "plot_heatmap = os.path.join(path_output, 'synth_heatmap_baseline.svg')\n",
    "plt.savefig(plot_heatmap, dpi=300)\n",
    "print(f'Save to: {plot_heatmap}')"
   ]
  },
  {
   "cell_type": "code",
   "execution_count": null,
   "metadata": {},
   "outputs": [],
   "source": []
  }
 ],
 "metadata": {
  "kernelspec": {
   "display_name": "Python 3.9.13 ('venv': venv)",
   "language": "python",
   "name": "python3"
  },
  "language_info": {
   "codemirror_mode": {
    "name": "ipython",
    "version": 3
   },
   "file_extension": ".py",
   "mimetype": "text/x-python",
   "name": "python",
   "nbconvert_exporter": "python",
   "pygments_lexer": "ipython3",
   "version": "3.8.10"
  },
  "orig_nbformat": 4,
  "vscode": {
   "interpreter": {
    "hash": "14a78747280fbbbcd2c216d7ac55361a92dd2b0925fb158d072af80087748cfe"
   }
  }
 },
 "nbformat": 4,
 "nbformat_minor": 2
}

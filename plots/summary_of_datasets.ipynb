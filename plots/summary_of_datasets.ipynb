{
 "cells": [
  {
   "cell_type": "code",
   "execution_count": 1,
   "metadata": {},
   "outputs": [],
   "source": [
    "import os\n",
    "from pathlib import Path\n",
    "from glob import glob\n",
    "\n",
    "import numpy as np\n",
    "import pandas as pd\n",
    "\n",
    "from label_flip_revised.utils import open_csv"
   ]
  },
  {
   "cell_type": "code",
   "execution_count": 2,
   "metadata": {},
   "outputs": [
    {
     "name": "stdout",
     "output_type": "stream",
     "text": [
      "/home/lukec/workspace/label_flip_revised\n"
     ]
    }
   ],
   "source": [
    "PATH_ROOT = Path(os.getcwd()).absolute().parent\n",
    "print(PATH_ROOT)"
   ]
  },
  {
   "cell_type": "code",
   "execution_count": 3,
   "metadata": {},
   "outputs": [
    {
     "name": "stdout",
     "output_type": "stream",
     "text": [
      "10\n"
     ]
    }
   ],
   "source": [
    "datanames = [\n",
    "    'abalone_subset_std',\n",
    "    'australian_std',\n",
    "    'banknote_std',\n",
    "    'breastcancer_std',\n",
    "    'cmc_std',\n",
    "    'htru2_subset_std',\n",
    "    'phoneme_subset_std',\n",
    "    'ringnorm_subset_std',\n",
    "    'texture_subset_std',\n",
    "    'yeast_subset_std'\n",
    "]\n",
    "\n",
    "print(len(datanames))"
   ]
  },
  {
   "cell_type": "code",
   "execution_count": 4,
   "metadata": {},
   "outputs": [
    {
     "name": "stdout",
     "output_type": "stream",
     "text": [
      "10\n"
     ]
    }
   ],
   "source": [
    "path_train = os.path.join(PATH_ROOT, 'data', 'output', 'train')\n",
    "print(len(glob(os.path.join(path_train, '*.csv'))))"
   ]
  },
  {
   "cell_type": "code",
   "execution_count": 5,
   "metadata": {},
   "outputs": [
    {
     "name": "stdout",
     "output_type": "stream",
     "text": [
      "10\n"
     ]
    }
   ],
   "source": [
    "path_test = os.path.join(PATH_ROOT, 'data', 'output', 'test')\n",
    "print(len(glob(os.path.join(path_test, '*.csv'))))"
   ]
  },
  {
   "cell_type": "code",
   "execution_count": 6,
   "metadata": {},
   "outputs": [],
   "source": [
    "N_train = []\n",
    "N_test = []\n",
    "N_features = []\n",
    "Label_ratio_train = []\n",
    "Label_ratio_test = []\n",
    "\n",
    "for dataname in datanames:\n",
    "    X_train, y_train, _ = open_csv(os.path.join(path_train, f'{dataname}_clean_train.csv'))\n",
    "    n_train = len(y_train)\n",
    "\n",
    "    X_test, y_test, _ = open_csv(os.path.join(path_test, f'{dataname}_clean_test.csv'))\n",
    "    n_test = len(y_test)\n",
    "\n",
    "    n_features = X_train.shape[1]\n",
    "\n",
    "    label_ratio_train = np.sum(y_train[y_train == 1]) / n_train\n",
    "    label_ratio_test = np.sum(y_test[y_test == 1]) / n_test\n",
    "\n",
    "    N_train.append(n_train)\n",
    "    N_test.append(n_test)\n",
    "    N_features.append(n_features)\n",
    "    Label_ratio_train.append(label_ratio_train)\n",
    "    Label_ratio_test.append(label_ratio_test)\n"
   ]
  },
  {
   "cell_type": "code",
   "execution_count": 7,
   "metadata": {},
   "outputs": [
    {
     "data": {
      "text/html": [
       "<div>\n",
       "<style scoped>\n",
       "    .dataframe tbody tr th:only-of-type {\n",
       "        vertical-align: middle;\n",
       "    }\n",
       "\n",
       "    .dataframe tbody tr th {\n",
       "        vertical-align: top;\n",
       "    }\n",
       "\n",
       "    .dataframe thead th {\n",
       "        text-align: right;\n",
       "    }\n",
       "</style>\n",
       "<table border=\"1\" class=\"dataframe\">\n",
       "  <thead>\n",
       "    <tr style=\"text-align: right;\">\n",
       "      <th></th>\n",
       "      <th>Name</th>\n",
       "      <th># Features</th>\n",
       "      <th># Training Samples</th>\n",
       "      <th># Test Samples</th>\n",
       "      <th>Lbl Ratio Train</th>\n",
       "      <th>Lbl Ratio Test</th>\n",
       "    </tr>\n",
       "  </thead>\n",
       "  <tbody>\n",
       "    <tr>\n",
       "      <th>0</th>\n",
       "      <td>Abalone</td>\n",
       "      <td>7</td>\n",
       "      <td>1600</td>\n",
       "      <td>400</td>\n",
       "      <td>0.50</td>\n",
       "      <td>0.50</td>\n",
       "    </tr>\n",
       "    <tr>\n",
       "      <th>1</th>\n",
       "      <td>Australian</td>\n",
       "      <td>14</td>\n",
       "      <td>552</td>\n",
       "      <td>138</td>\n",
       "      <td>0.45</td>\n",
       "      <td>0.44</td>\n",
       "    </tr>\n",
       "    <tr>\n",
       "      <th>2</th>\n",
       "      <td>Banknote</td>\n",
       "      <td>4</td>\n",
       "      <td>1097</td>\n",
       "      <td>275</td>\n",
       "      <td>0.44</td>\n",
       "      <td>0.44</td>\n",
       "    </tr>\n",
       "    <tr>\n",
       "      <th>3</th>\n",
       "      <td>Breastcancer</td>\n",
       "      <td>30</td>\n",
       "      <td>455</td>\n",
       "      <td>114</td>\n",
       "      <td>0.63</td>\n",
       "      <td>0.63</td>\n",
       "    </tr>\n",
       "    <tr>\n",
       "      <th>4</th>\n",
       "      <td>CMC</td>\n",
       "      <td>9</td>\n",
       "      <td>1178</td>\n",
       "      <td>295</td>\n",
       "      <td>0.77</td>\n",
       "      <td>0.77</td>\n",
       "    </tr>\n",
       "    <tr>\n",
       "      <th>5</th>\n",
       "      <td>HTRU2</td>\n",
       "      <td>8</td>\n",
       "      <td>1600</td>\n",
       "      <td>400</td>\n",
       "      <td>0.50</td>\n",
       "      <td>0.50</td>\n",
       "    </tr>\n",
       "    <tr>\n",
       "      <th>6</th>\n",
       "      <td>Phoneme</td>\n",
       "      <td>5</td>\n",
       "      <td>1600</td>\n",
       "      <td>400</td>\n",
       "      <td>0.50</td>\n",
       "      <td>0.50</td>\n",
       "    </tr>\n",
       "    <tr>\n",
       "      <th>7</th>\n",
       "      <td>Ringnorm</td>\n",
       "      <td>20</td>\n",
       "      <td>1600</td>\n",
       "      <td>400</td>\n",
       "      <td>0.50</td>\n",
       "      <td>0.50</td>\n",
       "    </tr>\n",
       "    <tr>\n",
       "      <th>8</th>\n",
       "      <td>Texture</td>\n",
       "      <td>40</td>\n",
       "      <td>800</td>\n",
       "      <td>200</td>\n",
       "      <td>0.50</td>\n",
       "      <td>0.50</td>\n",
       "    </tr>\n",
       "    <tr>\n",
       "      <th>9</th>\n",
       "      <td>Yeast</td>\n",
       "      <td>8</td>\n",
       "      <td>713</td>\n",
       "      <td>179</td>\n",
       "      <td>0.48</td>\n",
       "      <td>0.48</td>\n",
       "    </tr>\n",
       "  </tbody>\n",
       "</table>\n",
       "</div>"
      ],
      "text/plain": [
       "           Name  # Features  # Training Samples  # Test Samples  \\\n",
       "0       Abalone           7                1600             400   \n",
       "1    Australian          14                 552             138   \n",
       "2      Banknote           4                1097             275   \n",
       "3  Breastcancer          30                 455             114   \n",
       "4           CMC           9                1178             295   \n",
       "5         HTRU2           8                1600             400   \n",
       "6       Phoneme           5                1600             400   \n",
       "7      Ringnorm          20                1600             400   \n",
       "8       Texture          40                 800             200   \n",
       "9         Yeast           8                 713             179   \n",
       "\n",
       "   Lbl Ratio Train  Lbl Ratio Test  \n",
       "0             0.50            0.50  \n",
       "1             0.45            0.44  \n",
       "2             0.44            0.44  \n",
       "3             0.63            0.63  \n",
       "4             0.77            0.77  \n",
       "5             0.50            0.50  \n",
       "6             0.50            0.50  \n",
       "7             0.50            0.50  \n",
       "8             0.50            0.50  \n",
       "9             0.48            0.48  "
      ]
     },
     "execution_count": 7,
     "metadata": {},
     "output_type": "execute_result"
    }
   ],
   "source": [
    "titlenames = [\n",
    "    'Abalone',\n",
    "    'Australian',\n",
    "    'Banknote',\n",
    "    'Breastcancer',\n",
    "    'CMC',\n",
    "    'HTRU2',\n",
    "    'Phoneme',\n",
    "    'Ringnorm',\n",
    "    'Texture',\n",
    "    'Yeast'\n",
    "]\n",
    "\n",
    "data = {\n",
    "    'Name': titlenames,\n",
    "    '# Features': N_features,\n",
    "    '# Training Samples': N_train,\n",
    "    '# Test Samples': N_test,\n",
    "    'Lbl Ratio Train': np.round(Label_ratio_train, 2),\n",
    "    'Lbl Ratio Test': np.round(Label_ratio_test, 2),\n",
    "}\n",
    "df = pd.DataFrame(data)\n",
    "df"
   ]
  },
  {
   "cell_type": "code",
   "execution_count": 8,
   "metadata": {},
   "outputs": [],
   "source": [
    "path_output = os.path.join(PATH_ROOT, 'results', 'SummaryOfDatasets.csv')\n",
    "df.to_csv(path_output, index=False)"
   ]
  }
 ],
 "metadata": {
  "interpreter": {
   "hash": "8bcff36e631da1ef6cb25b63542a3f56d2322f7e3d69a7432caaf86f390cdb5a"
  },
  "kernelspec": {
   "display_name": "Python 3.8.10 64-bit ('torch': venv)",
   "language": "python",
   "name": "python3"
  },
  "language_info": {
   "codemirror_mode": {
    "name": "ipython",
    "version": 3
   },
   "file_extension": ".py",
   "mimetype": "text/x-python",
   "name": "python",
   "nbconvert_exporter": "python",
   "pygments_lexer": "ipython3",
   "version": "3.8.10"
  },
  "orig_nbformat": 4
 },
 "nbformat": 4,
 "nbformat_minor": 2
}
